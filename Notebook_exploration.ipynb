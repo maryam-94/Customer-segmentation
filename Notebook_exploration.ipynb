{
 "cells": [
  {
   "cell_type": "markdown",
   "id": "4672fd4b",
   "metadata": {},
   "source": [
    "<h1><center><font color='green'>Segmentez des clients d'un site e-commerce</font></center></h1>"
   ]
  },
  {
   "cell_type": "markdown",
   "id": "aa0a6d27",
   "metadata": {},
   "source": [
    "# <font color='red'> Notebook exploratoire</font>"
   ]
  },
  {
   "cell_type": "markdown",
   "id": "088d184f",
   "metadata": {},
   "source": [
    "## Objectif :\n",
    "\n",
    "- Obtenir une segmentation de ses clients utilisable au quotidien par leur équipe marketing dans leurs campagnes de communication.\n",
    "- Comprendre les différents types d'utilisateurs grâce à leur comportement et à leurs données personnelles.\n",
    "- Fournir une analyse de la stabilité des segments au cours du temps (dans le but d'établir un contrat de maintenance)."
   ]
  },
  {
   "cell_type": "code",
   "execution_count": 1,
   "id": "b9746676",
   "metadata": {
    "ExecuteTime": {
     "end_time": "2022-08-29T22:52:35.649717Z",
     "start_time": "2022-08-29T22:52:31.209683Z"
    }
   },
   "outputs": [],
   "source": [
    "# importer les librairies \n",
    "import numpy as np\n",
    "import pandas as pd \n",
    "import matplotlib.pyplot as plt\n",
    "import seaborn as sns \n",
    "import csv"
   ]
  },
  {
   "cell_type": "code",
   "execution_count": 2,
   "id": "84443767",
   "metadata": {
    "ExecuteTime": {
     "end_time": "2022-08-29T22:52:37.052208Z",
     "start_time": "2022-08-29T22:52:35.650595Z"
    }
   },
   "outputs": [],
   "source": [
    "# Chargement des datasets\n",
    "df_customers = pd.read_csv (\"C:/Users/chouc/openclassrooms/projet 5/archive/olist_customers_dataset.csv\")\n",
    "df_geolocation = pd.read_csv (\"C:/Users/chouc/openclassrooms/projet 5/archive/olist_geolocation_dataset.csv\")\n",
    "df_order_items = pd.read_csv (\"C:/Users/chouc/openclassrooms/projet 5/archive/olist_order_items_dataset.csv\")\n",
    "df_order_payments = pd.read_csv (\"C:/Users/chouc/openclassrooms/projet 5/archive/olist_order_payments_dataset.csv\") \n",
    "df_order_reviews = pd.read_csv (\"C:/Users/chouc/openclassrooms/projet 5/archive/olist_order_reviews_dataset.csv\") \n",
    "df_orders = pd.read_csv (\"C:/Users/chouc/openclassrooms/projet 5/archive/olist_orders_dataset.csv\")\n",
    "df_products = pd.read_csv (\"C:/Users/chouc/openclassrooms/projet 5/archive/olist_products_dataset.csv\")\n",
    "df_sellers = pd.read_csv (\"C:/Users/chouc/openclassrooms/projet 5/archive/olist_sellers_dataset.csv\") \n",
    "df_category_name_translation = pd.read_csv (\"C:/Users/chouc/openclassrooms/projet 5/archive/product_category_name_translation.csv\")"
   ]
  },
  {
   "cell_type": "markdown",
   "id": "29ddce4a",
   "metadata": {},
   "source": [
    "### Merger les bases :"
   ]
  },
  {
   "cell_type": "code",
   "execution_count": 3,
   "id": "11115b5d",
   "metadata": {
    "ExecuteTime": {
     "end_time": "2022-08-29T22:52:37.067875Z",
     "start_time": "2022-08-29T22:52:37.053846Z"
    }
   },
   "outputs": [
    {
     "data": {
      "text/html": [
       "<div>\n",
       "<style scoped>\n",
       "    .dataframe tbody tr th:only-of-type {\n",
       "        vertical-align: middle;\n",
       "    }\n",
       "\n",
       "    .dataframe tbody tr th {\n",
       "        vertical-align: top;\n",
       "    }\n",
       "\n",
       "    .dataframe thead th {\n",
       "        text-align: right;\n",
       "    }\n",
       "</style>\n",
       "<table border=\"1\" class=\"dataframe\">\n",
       "  <thead>\n",
       "    <tr style=\"text-align: right;\">\n",
       "      <th></th>\n",
       "      <th>order_id</th>\n",
       "      <th>payment_sequential</th>\n",
       "      <th>payment_type</th>\n",
       "      <th>payment_installments</th>\n",
       "      <th>payment_value</th>\n",
       "    </tr>\n",
       "  </thead>\n",
       "  <tbody>\n",
       "    <tr>\n",
       "      <th>0</th>\n",
       "      <td>b81ef226f3fe1789b1e8b2acac839d17</td>\n",
       "      <td>1</td>\n",
       "      <td>credit_card</td>\n",
       "      <td>8</td>\n",
       "      <td>99.33</td>\n",
       "    </tr>\n",
       "    <tr>\n",
       "      <th>1</th>\n",
       "      <td>a9810da82917af2d9aefd1278f1dcfa0</td>\n",
       "      <td>1</td>\n",
       "      <td>credit_card</td>\n",
       "      <td>1</td>\n",
       "      <td>24.39</td>\n",
       "    </tr>\n",
       "    <tr>\n",
       "      <th>2</th>\n",
       "      <td>25e8ea4e93396b6fa0d3dd708e76c1bd</td>\n",
       "      <td>1</td>\n",
       "      <td>credit_card</td>\n",
       "      <td>1</td>\n",
       "      <td>65.71</td>\n",
       "    </tr>\n",
       "    <tr>\n",
       "      <th>3</th>\n",
       "      <td>ba78997921bbcdc1373bb41e913ab953</td>\n",
       "      <td>1</td>\n",
       "      <td>credit_card</td>\n",
       "      <td>8</td>\n",
       "      <td>107.78</td>\n",
       "    </tr>\n",
       "    <tr>\n",
       "      <th>4</th>\n",
       "      <td>42fdf880ba16b47b59251dd489d4441a</td>\n",
       "      <td>1</td>\n",
       "      <td>credit_card</td>\n",
       "      <td>2</td>\n",
       "      <td>128.45</td>\n",
       "    </tr>\n",
       "  </tbody>\n",
       "</table>\n",
       "</div>"
      ],
      "text/plain": [
       "                           order_id  payment_sequential payment_type  \\\n",
       "0  b81ef226f3fe1789b1e8b2acac839d17                   1  credit_card   \n",
       "1  a9810da82917af2d9aefd1278f1dcfa0                   1  credit_card   \n",
       "2  25e8ea4e93396b6fa0d3dd708e76c1bd                   1  credit_card   \n",
       "3  ba78997921bbcdc1373bb41e913ab953                   1  credit_card   \n",
       "4  42fdf880ba16b47b59251dd489d4441a                   1  credit_card   \n",
       "\n",
       "   payment_installments  payment_value  \n",
       "0                     8          99.33  \n",
       "1                     1          24.39  \n",
       "2                     1          65.71  \n",
       "3                     8         107.78  \n",
       "4                     2         128.45  "
      ]
     },
     "execution_count": 3,
     "metadata": {},
     "output_type": "execute_result"
    }
   ],
   "source": [
    "df_order_payments.head()"
   ]
  },
  {
   "cell_type": "code",
   "execution_count": 4,
   "id": "3f5c0330",
   "metadata": {
    "ExecuteTime": {
     "end_time": "2022-08-29T22:52:37.083876Z",
     "start_time": "2022-08-29T22:52:37.068875Z"
    }
   },
   "outputs": [
    {
     "data": {
      "text/html": [
       "<div>\n",
       "<style scoped>\n",
       "    .dataframe tbody tr th:only-of-type {\n",
       "        vertical-align: middle;\n",
       "    }\n",
       "\n",
       "    .dataframe tbody tr th {\n",
       "        vertical-align: top;\n",
       "    }\n",
       "\n",
       "    .dataframe thead th {\n",
       "        text-align: right;\n",
       "    }\n",
       "</style>\n",
       "<table border=\"1\" class=\"dataframe\">\n",
       "  <thead>\n",
       "    <tr style=\"text-align: right;\">\n",
       "      <th></th>\n",
       "      <th>product_id</th>\n",
       "      <th>product_category_name</th>\n",
       "      <th>product_name_lenght</th>\n",
       "      <th>product_description_lenght</th>\n",
       "      <th>product_photos_qty</th>\n",
       "      <th>product_weight_g</th>\n",
       "      <th>product_length_cm</th>\n",
       "      <th>product_height_cm</th>\n",
       "      <th>product_width_cm</th>\n",
       "    </tr>\n",
       "  </thead>\n",
       "  <tbody>\n",
       "    <tr>\n",
       "      <th>0</th>\n",
       "      <td>1e9e8ef04dbcff4541ed26657ea517e5</td>\n",
       "      <td>perfumaria</td>\n",
       "      <td>40.0</td>\n",
       "      <td>287.0</td>\n",
       "      <td>1.0</td>\n",
       "      <td>225.0</td>\n",
       "      <td>16.0</td>\n",
       "      <td>10.0</td>\n",
       "      <td>14.0</td>\n",
       "    </tr>\n",
       "    <tr>\n",
       "      <th>1</th>\n",
       "      <td>3aa071139cb16b67ca9e5dea641aaa2f</td>\n",
       "      <td>artes</td>\n",
       "      <td>44.0</td>\n",
       "      <td>276.0</td>\n",
       "      <td>1.0</td>\n",
       "      <td>1000.0</td>\n",
       "      <td>30.0</td>\n",
       "      <td>18.0</td>\n",
       "      <td>20.0</td>\n",
       "    </tr>\n",
       "    <tr>\n",
       "      <th>2</th>\n",
       "      <td>96bd76ec8810374ed1b65e291975717f</td>\n",
       "      <td>esporte_lazer</td>\n",
       "      <td>46.0</td>\n",
       "      <td>250.0</td>\n",
       "      <td>1.0</td>\n",
       "      <td>154.0</td>\n",
       "      <td>18.0</td>\n",
       "      <td>9.0</td>\n",
       "      <td>15.0</td>\n",
       "    </tr>\n",
       "    <tr>\n",
       "      <th>3</th>\n",
       "      <td>cef67bcfe19066a932b7673e239eb23d</td>\n",
       "      <td>bebes</td>\n",
       "      <td>27.0</td>\n",
       "      <td>261.0</td>\n",
       "      <td>1.0</td>\n",
       "      <td>371.0</td>\n",
       "      <td>26.0</td>\n",
       "      <td>4.0</td>\n",
       "      <td>26.0</td>\n",
       "    </tr>\n",
       "    <tr>\n",
       "      <th>4</th>\n",
       "      <td>9dc1a7de274444849c219cff195d0b71</td>\n",
       "      <td>utilidades_domesticas</td>\n",
       "      <td>37.0</td>\n",
       "      <td>402.0</td>\n",
       "      <td>4.0</td>\n",
       "      <td>625.0</td>\n",
       "      <td>20.0</td>\n",
       "      <td>17.0</td>\n",
       "      <td>13.0</td>\n",
       "    </tr>\n",
       "  </tbody>\n",
       "</table>\n",
       "</div>"
      ],
      "text/plain": [
       "                         product_id  product_category_name  \\\n",
       "0  1e9e8ef04dbcff4541ed26657ea517e5             perfumaria   \n",
       "1  3aa071139cb16b67ca9e5dea641aaa2f                  artes   \n",
       "2  96bd76ec8810374ed1b65e291975717f          esporte_lazer   \n",
       "3  cef67bcfe19066a932b7673e239eb23d                  bebes   \n",
       "4  9dc1a7de274444849c219cff195d0b71  utilidades_domesticas   \n",
       "\n",
       "   product_name_lenght  product_description_lenght  product_photos_qty  \\\n",
       "0                 40.0                       287.0                 1.0   \n",
       "1                 44.0                       276.0                 1.0   \n",
       "2                 46.0                       250.0                 1.0   \n",
       "3                 27.0                       261.0                 1.0   \n",
       "4                 37.0                       402.0                 4.0   \n",
       "\n",
       "   product_weight_g  product_length_cm  product_height_cm  product_width_cm  \n",
       "0             225.0               16.0               10.0              14.0  \n",
       "1            1000.0               30.0               18.0              20.0  \n",
       "2             154.0               18.0                9.0              15.0  \n",
       "3             371.0               26.0                4.0              26.0  \n",
       "4             625.0               20.0               17.0              13.0  "
      ]
     },
     "execution_count": 4,
     "metadata": {},
     "output_type": "execute_result"
    }
   ],
   "source": [
    "df_products.head()"
   ]
  },
  {
   "cell_type": "code",
   "execution_count": 5,
   "id": "4a88c42b",
   "metadata": {
    "ExecuteTime": {
     "end_time": "2022-08-29T22:52:37.099960Z",
     "start_time": "2022-08-29T22:52:37.084906Z"
    }
   },
   "outputs": [
    {
     "data": {
      "text/html": [
       "<div>\n",
       "<style scoped>\n",
       "    .dataframe tbody tr th:only-of-type {\n",
       "        vertical-align: middle;\n",
       "    }\n",
       "\n",
       "    .dataframe tbody tr th {\n",
       "        vertical-align: top;\n",
       "    }\n",
       "\n",
       "    .dataframe thead th {\n",
       "        text-align: right;\n",
       "    }\n",
       "</style>\n",
       "<table border=\"1\" class=\"dataframe\">\n",
       "  <thead>\n",
       "    <tr style=\"text-align: right;\">\n",
       "      <th></th>\n",
       "      <th>product_category_name</th>\n",
       "      <th>product_category_name_english</th>\n",
       "    </tr>\n",
       "  </thead>\n",
       "  <tbody>\n",
       "    <tr>\n",
       "      <th>0</th>\n",
       "      <td>beleza_saude</td>\n",
       "      <td>health_beauty</td>\n",
       "    </tr>\n",
       "    <tr>\n",
       "      <th>1</th>\n",
       "      <td>informatica_acessorios</td>\n",
       "      <td>computers_accessories</td>\n",
       "    </tr>\n",
       "    <tr>\n",
       "      <th>2</th>\n",
       "      <td>automotivo</td>\n",
       "      <td>auto</td>\n",
       "    </tr>\n",
       "    <tr>\n",
       "      <th>3</th>\n",
       "      <td>cama_mesa_banho</td>\n",
       "      <td>bed_bath_table</td>\n",
       "    </tr>\n",
       "    <tr>\n",
       "      <th>4</th>\n",
       "      <td>moveis_decoracao</td>\n",
       "      <td>furniture_decor</td>\n",
       "    </tr>\n",
       "  </tbody>\n",
       "</table>\n",
       "</div>"
      ],
      "text/plain": [
       "    product_category_name product_category_name_english\n",
       "0            beleza_saude                 health_beauty\n",
       "1  informatica_acessorios         computers_accessories\n",
       "2              automotivo                          auto\n",
       "3         cama_mesa_banho                bed_bath_table\n",
       "4        moveis_decoracao               furniture_decor"
      ]
     },
     "execution_count": 5,
     "metadata": {},
     "output_type": "execute_result"
    }
   ],
   "source": [
    "df_category_name_translation.head()"
   ]
  },
  {
   "cell_type": "markdown",
   "id": "2545f03f",
   "metadata": {},
   "source": [
    "#### Nous allons à présent créer des dataset plus complets en réalisant des jointures et supprimer les variables inutiles  :\n",
    "#### - Sur les produits et catégories :"
   ]
  },
  {
   "cell_type": "code",
   "execution_count": 6,
   "id": "aed8d9a9",
   "metadata": {
    "ExecuteTime": {
     "end_time": "2022-08-29T22:52:37.116092Z",
     "start_time": "2022-08-29T22:52:37.100887Z"
    }
   },
   "outputs": [],
   "source": [
    "df_products_translated = df_products.merge(df_category_name_translation, how= 'left')"
   ]
  },
  {
   "cell_type": "code",
   "execution_count": 7,
   "id": "c0831344",
   "metadata": {
    "ExecuteTime": {
     "end_time": "2022-08-29T22:52:37.131672Z",
     "start_time": "2022-08-29T22:52:37.117100Z"
    }
   },
   "outputs": [
    {
     "data": {
      "text/html": [
       "<div>\n",
       "<style scoped>\n",
       "    .dataframe tbody tr th:only-of-type {\n",
       "        vertical-align: middle;\n",
       "    }\n",
       "\n",
       "    .dataframe tbody tr th {\n",
       "        vertical-align: top;\n",
       "    }\n",
       "\n",
       "    .dataframe thead th {\n",
       "        text-align: right;\n",
       "    }\n",
       "</style>\n",
       "<table border=\"1\" class=\"dataframe\">\n",
       "  <thead>\n",
       "    <tr style=\"text-align: right;\">\n",
       "      <th></th>\n",
       "      <th>product_id</th>\n",
       "      <th>product_category_name</th>\n",
       "      <th>product_name_lenght</th>\n",
       "      <th>product_description_lenght</th>\n",
       "      <th>product_photos_qty</th>\n",
       "      <th>product_weight_g</th>\n",
       "      <th>product_length_cm</th>\n",
       "      <th>product_height_cm</th>\n",
       "      <th>product_width_cm</th>\n",
       "      <th>product_category_name_english</th>\n",
       "    </tr>\n",
       "  </thead>\n",
       "  <tbody>\n",
       "    <tr>\n",
       "      <th>0</th>\n",
       "      <td>1e9e8ef04dbcff4541ed26657ea517e5</td>\n",
       "      <td>perfumaria</td>\n",
       "      <td>40.0</td>\n",
       "      <td>287.0</td>\n",
       "      <td>1.0</td>\n",
       "      <td>225.0</td>\n",
       "      <td>16.0</td>\n",
       "      <td>10.0</td>\n",
       "      <td>14.0</td>\n",
       "      <td>perfumery</td>\n",
       "    </tr>\n",
       "    <tr>\n",
       "      <th>1</th>\n",
       "      <td>3aa071139cb16b67ca9e5dea641aaa2f</td>\n",
       "      <td>artes</td>\n",
       "      <td>44.0</td>\n",
       "      <td>276.0</td>\n",
       "      <td>1.0</td>\n",
       "      <td>1000.0</td>\n",
       "      <td>30.0</td>\n",
       "      <td>18.0</td>\n",
       "      <td>20.0</td>\n",
       "      <td>art</td>\n",
       "    </tr>\n",
       "    <tr>\n",
       "      <th>2</th>\n",
       "      <td>96bd76ec8810374ed1b65e291975717f</td>\n",
       "      <td>esporte_lazer</td>\n",
       "      <td>46.0</td>\n",
       "      <td>250.0</td>\n",
       "      <td>1.0</td>\n",
       "      <td>154.0</td>\n",
       "      <td>18.0</td>\n",
       "      <td>9.0</td>\n",
       "      <td>15.0</td>\n",
       "      <td>sports_leisure</td>\n",
       "    </tr>\n",
       "    <tr>\n",
       "      <th>3</th>\n",
       "      <td>cef67bcfe19066a932b7673e239eb23d</td>\n",
       "      <td>bebes</td>\n",
       "      <td>27.0</td>\n",
       "      <td>261.0</td>\n",
       "      <td>1.0</td>\n",
       "      <td>371.0</td>\n",
       "      <td>26.0</td>\n",
       "      <td>4.0</td>\n",
       "      <td>26.0</td>\n",
       "      <td>baby</td>\n",
       "    </tr>\n",
       "    <tr>\n",
       "      <th>4</th>\n",
       "      <td>9dc1a7de274444849c219cff195d0b71</td>\n",
       "      <td>utilidades_domesticas</td>\n",
       "      <td>37.0</td>\n",
       "      <td>402.0</td>\n",
       "      <td>4.0</td>\n",
       "      <td>625.0</td>\n",
       "      <td>20.0</td>\n",
       "      <td>17.0</td>\n",
       "      <td>13.0</td>\n",
       "      <td>housewares</td>\n",
       "    </tr>\n",
       "  </tbody>\n",
       "</table>\n",
       "</div>"
      ],
      "text/plain": [
       "                         product_id  product_category_name  \\\n",
       "0  1e9e8ef04dbcff4541ed26657ea517e5             perfumaria   \n",
       "1  3aa071139cb16b67ca9e5dea641aaa2f                  artes   \n",
       "2  96bd76ec8810374ed1b65e291975717f          esporte_lazer   \n",
       "3  cef67bcfe19066a932b7673e239eb23d                  bebes   \n",
       "4  9dc1a7de274444849c219cff195d0b71  utilidades_domesticas   \n",
       "\n",
       "   product_name_lenght  product_description_lenght  product_photos_qty  \\\n",
       "0                 40.0                       287.0                 1.0   \n",
       "1                 44.0                       276.0                 1.0   \n",
       "2                 46.0                       250.0                 1.0   \n",
       "3                 27.0                       261.0                 1.0   \n",
       "4                 37.0                       402.0                 4.0   \n",
       "\n",
       "   product_weight_g  product_length_cm  product_height_cm  product_width_cm  \\\n",
       "0             225.0               16.0               10.0              14.0   \n",
       "1            1000.0               30.0               18.0              20.0   \n",
       "2             154.0               18.0                9.0              15.0   \n",
       "3             371.0               26.0                4.0              26.0   \n",
       "4             625.0               20.0               17.0              13.0   \n",
       "\n",
       "  product_category_name_english  \n",
       "0                     perfumery  \n",
       "1                           art  \n",
       "2                sports_leisure  \n",
       "3                          baby  \n",
       "4                    housewares  "
      ]
     },
     "execution_count": 7,
     "metadata": {},
     "output_type": "execute_result"
    }
   ],
   "source": [
    "df_products_translated.head()"
   ]
  },
  {
   "cell_type": "code",
   "execution_count": 8,
   "id": "8d723a6e",
   "metadata": {
    "ExecuteTime": {
     "end_time": "2022-08-29T22:52:37.146906Z",
     "start_time": "2022-08-29T22:52:37.132661Z"
    }
   },
   "outputs": [],
   "source": [
    "df_products_translated.drop(columns='product_category_name', inplace= True)"
   ]
  },
  {
   "cell_type": "markdown",
   "id": "a0e0a4a2",
   "metadata": {},
   "source": [
    "#### - Commandes et produits :"
   ]
  },
  {
   "cell_type": "code",
   "execution_count": 9,
   "id": "6e87fd93",
   "metadata": {
    "ExecuteTime": {
     "end_time": "2022-08-29T22:52:37.237915Z",
     "start_time": "2022-08-29T22:52:37.148916Z"
    }
   },
   "outputs": [],
   "source": [
    "df_order_final = df_orders.merge(df_order_items, how= 'left', on= 'order_id')"
   ]
  },
  {
   "cell_type": "code",
   "execution_count": 10,
   "id": "410bc425",
   "metadata": {
    "ExecuteTime": {
     "end_time": "2022-08-29T22:52:37.252914Z",
     "start_time": "2022-08-29T22:52:37.239915Z"
    }
   },
   "outputs": [
    {
     "data": {
      "text/html": [
       "<div>\n",
       "<style scoped>\n",
       "    .dataframe tbody tr th:only-of-type {\n",
       "        vertical-align: middle;\n",
       "    }\n",
       "\n",
       "    .dataframe tbody tr th {\n",
       "        vertical-align: top;\n",
       "    }\n",
       "\n",
       "    .dataframe thead th {\n",
       "        text-align: right;\n",
       "    }\n",
       "</style>\n",
       "<table border=\"1\" class=\"dataframe\">\n",
       "  <thead>\n",
       "    <tr style=\"text-align: right;\">\n",
       "      <th></th>\n",
       "      <th>order_id</th>\n",
       "      <th>customer_id</th>\n",
       "      <th>order_status</th>\n",
       "      <th>order_purchase_timestamp</th>\n",
       "      <th>order_approved_at</th>\n",
       "      <th>order_delivered_carrier_date</th>\n",
       "      <th>order_delivered_customer_date</th>\n",
       "      <th>order_estimated_delivery_date</th>\n",
       "      <th>order_item_id</th>\n",
       "      <th>product_id</th>\n",
       "      <th>seller_id</th>\n",
       "      <th>shipping_limit_date</th>\n",
       "      <th>price</th>\n",
       "      <th>freight_value</th>\n",
       "    </tr>\n",
       "  </thead>\n",
       "  <tbody>\n",
       "    <tr>\n",
       "      <th>0</th>\n",
       "      <td>e481f51cbdc54678b7cc49136f2d6af7</td>\n",
       "      <td>9ef432eb6251297304e76186b10a928d</td>\n",
       "      <td>delivered</td>\n",
       "      <td>2017-10-02 10:56:33</td>\n",
       "      <td>2017-10-02 11:07:15</td>\n",
       "      <td>2017-10-04 19:55:00</td>\n",
       "      <td>2017-10-10 21:25:13</td>\n",
       "      <td>2017-10-18 00:00:00</td>\n",
       "      <td>1.0</td>\n",
       "      <td>87285b34884572647811a353c7ac498a</td>\n",
       "      <td>3504c0cb71d7fa48d967e0e4c94d59d9</td>\n",
       "      <td>2017-10-06 11:07:15</td>\n",
       "      <td>29.99</td>\n",
       "      <td>8.72</td>\n",
       "    </tr>\n",
       "    <tr>\n",
       "      <th>1</th>\n",
       "      <td>53cdb2fc8bc7dce0b6741e2150273451</td>\n",
       "      <td>b0830fb4747a6c6d20dea0b8c802d7ef</td>\n",
       "      <td>delivered</td>\n",
       "      <td>2018-07-24 20:41:37</td>\n",
       "      <td>2018-07-26 03:24:27</td>\n",
       "      <td>2018-07-26 14:31:00</td>\n",
       "      <td>2018-08-07 15:27:45</td>\n",
       "      <td>2018-08-13 00:00:00</td>\n",
       "      <td>1.0</td>\n",
       "      <td>595fac2a385ac33a80bd5114aec74eb8</td>\n",
       "      <td>289cdb325fb7e7f891c38608bf9e0962</td>\n",
       "      <td>2018-07-30 03:24:27</td>\n",
       "      <td>118.70</td>\n",
       "      <td>22.76</td>\n",
       "    </tr>\n",
       "    <tr>\n",
       "      <th>2</th>\n",
       "      <td>47770eb9100c2d0c44946d9cf07ec65d</td>\n",
       "      <td>41ce2a54c0b03bf3443c3d931a367089</td>\n",
       "      <td>delivered</td>\n",
       "      <td>2018-08-08 08:38:49</td>\n",
       "      <td>2018-08-08 08:55:23</td>\n",
       "      <td>2018-08-08 13:50:00</td>\n",
       "      <td>2018-08-17 18:06:29</td>\n",
       "      <td>2018-09-04 00:00:00</td>\n",
       "      <td>1.0</td>\n",
       "      <td>aa4383b373c6aca5d8797843e5594415</td>\n",
       "      <td>4869f7a5dfa277a7dca6462dcf3b52b2</td>\n",
       "      <td>2018-08-13 08:55:23</td>\n",
       "      <td>159.90</td>\n",
       "      <td>19.22</td>\n",
       "    </tr>\n",
       "    <tr>\n",
       "      <th>3</th>\n",
       "      <td>949d5b44dbf5de918fe9c16f97b45f8a</td>\n",
       "      <td>f88197465ea7920adcdbec7375364d82</td>\n",
       "      <td>delivered</td>\n",
       "      <td>2017-11-18 19:28:06</td>\n",
       "      <td>2017-11-18 19:45:59</td>\n",
       "      <td>2017-11-22 13:39:59</td>\n",
       "      <td>2017-12-02 00:28:42</td>\n",
       "      <td>2017-12-15 00:00:00</td>\n",
       "      <td>1.0</td>\n",
       "      <td>d0b61bfb1de832b15ba9d266ca96e5b0</td>\n",
       "      <td>66922902710d126a0e7d26b0e3805106</td>\n",
       "      <td>2017-11-23 19:45:59</td>\n",
       "      <td>45.00</td>\n",
       "      <td>27.20</td>\n",
       "    </tr>\n",
       "    <tr>\n",
       "      <th>4</th>\n",
       "      <td>ad21c59c0840e6cb83a9ceb5573f8159</td>\n",
       "      <td>8ab97904e6daea8866dbdbc4fb7aad2c</td>\n",
       "      <td>delivered</td>\n",
       "      <td>2018-02-13 21:18:39</td>\n",
       "      <td>2018-02-13 22:20:29</td>\n",
       "      <td>2018-02-14 19:46:34</td>\n",
       "      <td>2018-02-16 18:17:02</td>\n",
       "      <td>2018-02-26 00:00:00</td>\n",
       "      <td>1.0</td>\n",
       "      <td>65266b2da20d04dbe00c5c2d3bb7859e</td>\n",
       "      <td>2c9e548be18521d1c43cde1c582c6de8</td>\n",
       "      <td>2018-02-19 20:31:37</td>\n",
       "      <td>19.90</td>\n",
       "      <td>8.72</td>\n",
       "    </tr>\n",
       "  </tbody>\n",
       "</table>\n",
       "</div>"
      ],
      "text/plain": [
       "                           order_id                       customer_id  \\\n",
       "0  e481f51cbdc54678b7cc49136f2d6af7  9ef432eb6251297304e76186b10a928d   \n",
       "1  53cdb2fc8bc7dce0b6741e2150273451  b0830fb4747a6c6d20dea0b8c802d7ef   \n",
       "2  47770eb9100c2d0c44946d9cf07ec65d  41ce2a54c0b03bf3443c3d931a367089   \n",
       "3  949d5b44dbf5de918fe9c16f97b45f8a  f88197465ea7920adcdbec7375364d82   \n",
       "4  ad21c59c0840e6cb83a9ceb5573f8159  8ab97904e6daea8866dbdbc4fb7aad2c   \n",
       "\n",
       "  order_status order_purchase_timestamp    order_approved_at  \\\n",
       "0    delivered      2017-10-02 10:56:33  2017-10-02 11:07:15   \n",
       "1    delivered      2018-07-24 20:41:37  2018-07-26 03:24:27   \n",
       "2    delivered      2018-08-08 08:38:49  2018-08-08 08:55:23   \n",
       "3    delivered      2017-11-18 19:28:06  2017-11-18 19:45:59   \n",
       "4    delivered      2018-02-13 21:18:39  2018-02-13 22:20:29   \n",
       "\n",
       "  order_delivered_carrier_date order_delivered_customer_date  \\\n",
       "0          2017-10-04 19:55:00           2017-10-10 21:25:13   \n",
       "1          2018-07-26 14:31:00           2018-08-07 15:27:45   \n",
       "2          2018-08-08 13:50:00           2018-08-17 18:06:29   \n",
       "3          2017-11-22 13:39:59           2017-12-02 00:28:42   \n",
       "4          2018-02-14 19:46:34           2018-02-16 18:17:02   \n",
       "\n",
       "  order_estimated_delivery_date  order_item_id  \\\n",
       "0           2017-10-18 00:00:00            1.0   \n",
       "1           2018-08-13 00:00:00            1.0   \n",
       "2           2018-09-04 00:00:00            1.0   \n",
       "3           2017-12-15 00:00:00            1.0   \n",
       "4           2018-02-26 00:00:00            1.0   \n",
       "\n",
       "                         product_id                         seller_id  \\\n",
       "0  87285b34884572647811a353c7ac498a  3504c0cb71d7fa48d967e0e4c94d59d9   \n",
       "1  595fac2a385ac33a80bd5114aec74eb8  289cdb325fb7e7f891c38608bf9e0962   \n",
       "2  aa4383b373c6aca5d8797843e5594415  4869f7a5dfa277a7dca6462dcf3b52b2   \n",
       "3  d0b61bfb1de832b15ba9d266ca96e5b0  66922902710d126a0e7d26b0e3805106   \n",
       "4  65266b2da20d04dbe00c5c2d3bb7859e  2c9e548be18521d1c43cde1c582c6de8   \n",
       "\n",
       "   shipping_limit_date   price  freight_value  \n",
       "0  2017-10-06 11:07:15   29.99           8.72  \n",
       "1  2018-07-30 03:24:27  118.70          22.76  \n",
       "2  2018-08-13 08:55:23  159.90          19.22  \n",
       "3  2017-11-23 19:45:59   45.00          27.20  \n",
       "4  2018-02-19 20:31:37   19.90           8.72  "
      ]
     },
     "execution_count": 10,
     "metadata": {},
     "output_type": "execute_result"
    }
   ],
   "source": [
    "df_order_final.head()"
   ]
  },
  {
   "cell_type": "code",
   "execution_count": 11,
   "id": "39271e19",
   "metadata": {
    "ExecuteTime": {
     "end_time": "2022-08-29T22:52:37.313921Z",
     "start_time": "2022-08-29T22:52:37.254915Z"
    }
   },
   "outputs": [],
   "source": [
    "df_order_final.drop(columns=['shipping_limit_date','order_approved_at','order_delivered_carrier_date','order_estimated_delivery_date'], inplace= True)"
   ]
  },
  {
   "cell_type": "code",
   "execution_count": 12,
   "id": "da3db79d",
   "metadata": {
    "ExecuteTime": {
     "end_time": "2022-08-29T22:52:37.329465Z",
     "start_time": "2022-08-29T22:52:37.315447Z"
    }
   },
   "outputs": [
    {
     "data": {
      "text/html": [
       "<div>\n",
       "<style scoped>\n",
       "    .dataframe tbody tr th:only-of-type {\n",
       "        vertical-align: middle;\n",
       "    }\n",
       "\n",
       "    .dataframe tbody tr th {\n",
       "        vertical-align: top;\n",
       "    }\n",
       "\n",
       "    .dataframe thead th {\n",
       "        text-align: right;\n",
       "    }\n",
       "</style>\n",
       "<table border=\"1\" class=\"dataframe\">\n",
       "  <thead>\n",
       "    <tr style=\"text-align: right;\">\n",
       "      <th></th>\n",
       "      <th>order_id</th>\n",
       "      <th>order_item_id</th>\n",
       "      <th>product_id</th>\n",
       "      <th>seller_id</th>\n",
       "      <th>shipping_limit_date</th>\n",
       "      <th>price</th>\n",
       "      <th>freight_value</th>\n",
       "    </tr>\n",
       "  </thead>\n",
       "  <tbody>\n",
       "    <tr>\n",
       "      <th>0</th>\n",
       "      <td>00010242fe8c5a6d1ba2dd792cb16214</td>\n",
       "      <td>1</td>\n",
       "      <td>4244733e06e7ecb4970a6e2683c13e61</td>\n",
       "      <td>48436dade18ac8b2bce089ec2a041202</td>\n",
       "      <td>2017-09-19 09:45:35</td>\n",
       "      <td>58.90</td>\n",
       "      <td>13.29</td>\n",
       "    </tr>\n",
       "    <tr>\n",
       "      <th>1</th>\n",
       "      <td>00018f77f2f0320c557190d7a144bdd3</td>\n",
       "      <td>1</td>\n",
       "      <td>e5f2d52b802189ee658865ca93d83a8f</td>\n",
       "      <td>dd7ddc04e1b6c2c614352b383efe2d36</td>\n",
       "      <td>2017-05-03 11:05:13</td>\n",
       "      <td>239.90</td>\n",
       "      <td>19.93</td>\n",
       "    </tr>\n",
       "    <tr>\n",
       "      <th>2</th>\n",
       "      <td>000229ec398224ef6ca0657da4fc703e</td>\n",
       "      <td>1</td>\n",
       "      <td>c777355d18b72b67abbeef9df44fd0fd</td>\n",
       "      <td>5b51032eddd242adc84c38acab88f23d</td>\n",
       "      <td>2018-01-18 14:48:30</td>\n",
       "      <td>199.00</td>\n",
       "      <td>17.87</td>\n",
       "    </tr>\n",
       "    <tr>\n",
       "      <th>3</th>\n",
       "      <td>00024acbcdf0a6daa1e931b038114c75</td>\n",
       "      <td>1</td>\n",
       "      <td>7634da152a4610f1595efa32f14722fc</td>\n",
       "      <td>9d7a1d34a5052409006425275ba1c2b4</td>\n",
       "      <td>2018-08-15 10:10:18</td>\n",
       "      <td>12.99</td>\n",
       "      <td>12.79</td>\n",
       "    </tr>\n",
       "    <tr>\n",
       "      <th>4</th>\n",
       "      <td>00042b26cf59d7ce69dfabb4e55b4fd9</td>\n",
       "      <td>1</td>\n",
       "      <td>ac6c3623068f30de03045865e4e10089</td>\n",
       "      <td>df560393f3a51e74553ab94004ba5c87</td>\n",
       "      <td>2017-02-13 13:57:51</td>\n",
       "      <td>199.90</td>\n",
       "      <td>18.14</td>\n",
       "    </tr>\n",
       "  </tbody>\n",
       "</table>\n",
       "</div>"
      ],
      "text/plain": [
       "                           order_id  order_item_id  \\\n",
       "0  00010242fe8c5a6d1ba2dd792cb16214              1   \n",
       "1  00018f77f2f0320c557190d7a144bdd3              1   \n",
       "2  000229ec398224ef6ca0657da4fc703e              1   \n",
       "3  00024acbcdf0a6daa1e931b038114c75              1   \n",
       "4  00042b26cf59d7ce69dfabb4e55b4fd9              1   \n",
       "\n",
       "                         product_id                         seller_id  \\\n",
       "0  4244733e06e7ecb4970a6e2683c13e61  48436dade18ac8b2bce089ec2a041202   \n",
       "1  e5f2d52b802189ee658865ca93d83a8f  dd7ddc04e1b6c2c614352b383efe2d36   \n",
       "2  c777355d18b72b67abbeef9df44fd0fd  5b51032eddd242adc84c38acab88f23d   \n",
       "3  7634da152a4610f1595efa32f14722fc  9d7a1d34a5052409006425275ba1c2b4   \n",
       "4  ac6c3623068f30de03045865e4e10089  df560393f3a51e74553ab94004ba5c87   \n",
       "\n",
       "   shipping_limit_date   price  freight_value  \n",
       "0  2017-09-19 09:45:35   58.90          13.29  \n",
       "1  2017-05-03 11:05:13  239.90          19.93  \n",
       "2  2018-01-18 14:48:30  199.00          17.87  \n",
       "3  2018-08-15 10:10:18   12.99          12.79  \n",
       "4  2017-02-13 13:57:51  199.90          18.14  "
      ]
     },
     "execution_count": 12,
     "metadata": {},
     "output_type": "execute_result"
    }
   ],
   "source": [
    "df_order_items.head()"
   ]
  },
  {
   "cell_type": "code",
   "execution_count": 13,
   "id": "854355e7",
   "metadata": {
    "ExecuteTime": {
     "end_time": "2022-08-29T22:52:37.345459Z",
     "start_time": "2022-08-29T22:52:37.331448Z"
    }
   },
   "outputs": [
    {
     "data": {
      "text/html": [
       "<div>\n",
       "<style scoped>\n",
       "    .dataframe tbody tr th:only-of-type {\n",
       "        vertical-align: middle;\n",
       "    }\n",
       "\n",
       "    .dataframe tbody tr th {\n",
       "        vertical-align: top;\n",
       "    }\n",
       "\n",
       "    .dataframe thead th {\n",
       "        text-align: right;\n",
       "    }\n",
       "</style>\n",
       "<table border=\"1\" class=\"dataframe\">\n",
       "  <thead>\n",
       "    <tr style=\"text-align: right;\">\n",
       "      <th></th>\n",
       "      <th>customer_id</th>\n",
       "      <th>customer_unique_id</th>\n",
       "      <th>customer_zip_code_prefix</th>\n",
       "      <th>customer_city</th>\n",
       "      <th>customer_state</th>\n",
       "    </tr>\n",
       "  </thead>\n",
       "  <tbody>\n",
       "    <tr>\n",
       "      <th>0</th>\n",
       "      <td>06b8999e2fba1a1fbc88172c00ba8bc7</td>\n",
       "      <td>861eff4711a542e4b93843c6dd7febb0</td>\n",
       "      <td>14409</td>\n",
       "      <td>franca</td>\n",
       "      <td>SP</td>\n",
       "    </tr>\n",
       "    <tr>\n",
       "      <th>1</th>\n",
       "      <td>18955e83d337fd6b2def6b18a428ac77</td>\n",
       "      <td>290c77bc529b7ac935b93aa66c333dc3</td>\n",
       "      <td>9790</td>\n",
       "      <td>sao bernardo do campo</td>\n",
       "      <td>SP</td>\n",
       "    </tr>\n",
       "    <tr>\n",
       "      <th>2</th>\n",
       "      <td>4e7b3e00288586ebd08712fdd0374a03</td>\n",
       "      <td>060e732b5b29e8181a18229c7b0b2b5e</td>\n",
       "      <td>1151</td>\n",
       "      <td>sao paulo</td>\n",
       "      <td>SP</td>\n",
       "    </tr>\n",
       "    <tr>\n",
       "      <th>3</th>\n",
       "      <td>b2b6027bc5c5109e529d4dc6358b12c3</td>\n",
       "      <td>259dac757896d24d7702b9acbbff3f3c</td>\n",
       "      <td>8775</td>\n",
       "      <td>mogi das cruzes</td>\n",
       "      <td>SP</td>\n",
       "    </tr>\n",
       "    <tr>\n",
       "      <th>4</th>\n",
       "      <td>4f2d8ab171c80ec8364f7c12e35b23ad</td>\n",
       "      <td>345ecd01c38d18a9036ed96c73b8d066</td>\n",
       "      <td>13056</td>\n",
       "      <td>campinas</td>\n",
       "      <td>SP</td>\n",
       "    </tr>\n",
       "  </tbody>\n",
       "</table>\n",
       "</div>"
      ],
      "text/plain": [
       "                        customer_id                customer_unique_id  \\\n",
       "0  06b8999e2fba1a1fbc88172c00ba8bc7  861eff4711a542e4b93843c6dd7febb0   \n",
       "1  18955e83d337fd6b2def6b18a428ac77  290c77bc529b7ac935b93aa66c333dc3   \n",
       "2  4e7b3e00288586ebd08712fdd0374a03  060e732b5b29e8181a18229c7b0b2b5e   \n",
       "3  b2b6027bc5c5109e529d4dc6358b12c3  259dac757896d24d7702b9acbbff3f3c   \n",
       "4  4f2d8ab171c80ec8364f7c12e35b23ad  345ecd01c38d18a9036ed96c73b8d066   \n",
       "\n",
       "   customer_zip_code_prefix          customer_city customer_state  \n",
       "0                     14409                 franca             SP  \n",
       "1                      9790  sao bernardo do campo             SP  \n",
       "2                      1151              sao paulo             SP  \n",
       "3                      8775        mogi das cruzes             SP  \n",
       "4                     13056               campinas             SP  "
      ]
     },
     "execution_count": 13,
     "metadata": {},
     "output_type": "execute_result"
    }
   ],
   "source": [
    "df_customers.head()"
   ]
  },
  {
   "cell_type": "markdown",
   "id": "446ed4e9",
   "metadata": {},
   "source": [
    "#### - clients et commandes : "
   ]
  },
  {
   "cell_type": "code",
   "execution_count": 14,
   "id": "3beb65d3",
   "metadata": {
    "ExecuteTime": {
     "end_time": "2022-08-29T22:52:37.440504Z",
     "start_time": "2022-08-29T22:52:37.346447Z"
    }
   },
   "outputs": [],
   "source": [
    "df_costumers_order = df_order_final.merge(df_customers, how='left', on= 'customer_id')"
   ]
  },
  {
   "cell_type": "code",
   "execution_count": 15,
   "id": "623a20c5",
   "metadata": {
    "ExecuteTime": {
     "end_time": "2022-08-29T22:52:37.455501Z",
     "start_time": "2022-08-29T22:52:37.442548Z"
    }
   },
   "outputs": [
    {
     "data": {
      "text/html": [
       "<div>\n",
       "<style scoped>\n",
       "    .dataframe tbody tr th:only-of-type {\n",
       "        vertical-align: middle;\n",
       "    }\n",
       "\n",
       "    .dataframe tbody tr th {\n",
       "        vertical-align: top;\n",
       "    }\n",
       "\n",
       "    .dataframe thead th {\n",
       "        text-align: right;\n",
       "    }\n",
       "</style>\n",
       "<table border=\"1\" class=\"dataframe\">\n",
       "  <thead>\n",
       "    <tr style=\"text-align: right;\">\n",
       "      <th></th>\n",
       "      <th>order_id</th>\n",
       "      <th>customer_id</th>\n",
       "      <th>order_status</th>\n",
       "      <th>order_purchase_timestamp</th>\n",
       "      <th>order_delivered_customer_date</th>\n",
       "      <th>order_item_id</th>\n",
       "      <th>product_id</th>\n",
       "      <th>seller_id</th>\n",
       "      <th>price</th>\n",
       "      <th>freight_value</th>\n",
       "      <th>customer_unique_id</th>\n",
       "      <th>customer_zip_code_prefix</th>\n",
       "      <th>customer_city</th>\n",
       "      <th>customer_state</th>\n",
       "    </tr>\n",
       "  </thead>\n",
       "  <tbody>\n",
       "    <tr>\n",
       "      <th>0</th>\n",
       "      <td>e481f51cbdc54678b7cc49136f2d6af7</td>\n",
       "      <td>9ef432eb6251297304e76186b10a928d</td>\n",
       "      <td>delivered</td>\n",
       "      <td>2017-10-02 10:56:33</td>\n",
       "      <td>2017-10-10 21:25:13</td>\n",
       "      <td>1.0</td>\n",
       "      <td>87285b34884572647811a353c7ac498a</td>\n",
       "      <td>3504c0cb71d7fa48d967e0e4c94d59d9</td>\n",
       "      <td>29.99</td>\n",
       "      <td>8.72</td>\n",
       "      <td>7c396fd4830fd04220f754e42b4e5bff</td>\n",
       "      <td>3149</td>\n",
       "      <td>sao paulo</td>\n",
       "      <td>SP</td>\n",
       "    </tr>\n",
       "    <tr>\n",
       "      <th>1</th>\n",
       "      <td>53cdb2fc8bc7dce0b6741e2150273451</td>\n",
       "      <td>b0830fb4747a6c6d20dea0b8c802d7ef</td>\n",
       "      <td>delivered</td>\n",
       "      <td>2018-07-24 20:41:37</td>\n",
       "      <td>2018-08-07 15:27:45</td>\n",
       "      <td>1.0</td>\n",
       "      <td>595fac2a385ac33a80bd5114aec74eb8</td>\n",
       "      <td>289cdb325fb7e7f891c38608bf9e0962</td>\n",
       "      <td>118.70</td>\n",
       "      <td>22.76</td>\n",
       "      <td>af07308b275d755c9edb36a90c618231</td>\n",
       "      <td>47813</td>\n",
       "      <td>barreiras</td>\n",
       "      <td>BA</td>\n",
       "    </tr>\n",
       "    <tr>\n",
       "      <th>2</th>\n",
       "      <td>47770eb9100c2d0c44946d9cf07ec65d</td>\n",
       "      <td>41ce2a54c0b03bf3443c3d931a367089</td>\n",
       "      <td>delivered</td>\n",
       "      <td>2018-08-08 08:38:49</td>\n",
       "      <td>2018-08-17 18:06:29</td>\n",
       "      <td>1.0</td>\n",
       "      <td>aa4383b373c6aca5d8797843e5594415</td>\n",
       "      <td>4869f7a5dfa277a7dca6462dcf3b52b2</td>\n",
       "      <td>159.90</td>\n",
       "      <td>19.22</td>\n",
       "      <td>3a653a41f6f9fc3d2a113cf8398680e8</td>\n",
       "      <td>75265</td>\n",
       "      <td>vianopolis</td>\n",
       "      <td>GO</td>\n",
       "    </tr>\n",
       "    <tr>\n",
       "      <th>3</th>\n",
       "      <td>949d5b44dbf5de918fe9c16f97b45f8a</td>\n",
       "      <td>f88197465ea7920adcdbec7375364d82</td>\n",
       "      <td>delivered</td>\n",
       "      <td>2017-11-18 19:28:06</td>\n",
       "      <td>2017-12-02 00:28:42</td>\n",
       "      <td>1.0</td>\n",
       "      <td>d0b61bfb1de832b15ba9d266ca96e5b0</td>\n",
       "      <td>66922902710d126a0e7d26b0e3805106</td>\n",
       "      <td>45.00</td>\n",
       "      <td>27.20</td>\n",
       "      <td>7c142cf63193a1473d2e66489a9ae977</td>\n",
       "      <td>59296</td>\n",
       "      <td>sao goncalo do amarante</td>\n",
       "      <td>RN</td>\n",
       "    </tr>\n",
       "    <tr>\n",
       "      <th>4</th>\n",
       "      <td>ad21c59c0840e6cb83a9ceb5573f8159</td>\n",
       "      <td>8ab97904e6daea8866dbdbc4fb7aad2c</td>\n",
       "      <td>delivered</td>\n",
       "      <td>2018-02-13 21:18:39</td>\n",
       "      <td>2018-02-16 18:17:02</td>\n",
       "      <td>1.0</td>\n",
       "      <td>65266b2da20d04dbe00c5c2d3bb7859e</td>\n",
       "      <td>2c9e548be18521d1c43cde1c582c6de8</td>\n",
       "      <td>19.90</td>\n",
       "      <td>8.72</td>\n",
       "      <td>72632f0f9dd73dfee390c9b22eb56dd6</td>\n",
       "      <td>9195</td>\n",
       "      <td>santo andre</td>\n",
       "      <td>SP</td>\n",
       "    </tr>\n",
       "  </tbody>\n",
       "</table>\n",
       "</div>"
      ],
      "text/plain": [
       "                           order_id                       customer_id  \\\n",
       "0  e481f51cbdc54678b7cc49136f2d6af7  9ef432eb6251297304e76186b10a928d   \n",
       "1  53cdb2fc8bc7dce0b6741e2150273451  b0830fb4747a6c6d20dea0b8c802d7ef   \n",
       "2  47770eb9100c2d0c44946d9cf07ec65d  41ce2a54c0b03bf3443c3d931a367089   \n",
       "3  949d5b44dbf5de918fe9c16f97b45f8a  f88197465ea7920adcdbec7375364d82   \n",
       "4  ad21c59c0840e6cb83a9ceb5573f8159  8ab97904e6daea8866dbdbc4fb7aad2c   \n",
       "\n",
       "  order_status order_purchase_timestamp order_delivered_customer_date  \\\n",
       "0    delivered      2017-10-02 10:56:33           2017-10-10 21:25:13   \n",
       "1    delivered      2018-07-24 20:41:37           2018-08-07 15:27:45   \n",
       "2    delivered      2018-08-08 08:38:49           2018-08-17 18:06:29   \n",
       "3    delivered      2017-11-18 19:28:06           2017-12-02 00:28:42   \n",
       "4    delivered      2018-02-13 21:18:39           2018-02-16 18:17:02   \n",
       "\n",
       "   order_item_id                        product_id  \\\n",
       "0            1.0  87285b34884572647811a353c7ac498a   \n",
       "1            1.0  595fac2a385ac33a80bd5114aec74eb8   \n",
       "2            1.0  aa4383b373c6aca5d8797843e5594415   \n",
       "3            1.0  d0b61bfb1de832b15ba9d266ca96e5b0   \n",
       "4            1.0  65266b2da20d04dbe00c5c2d3bb7859e   \n",
       "\n",
       "                          seller_id   price  freight_value  \\\n",
       "0  3504c0cb71d7fa48d967e0e4c94d59d9   29.99           8.72   \n",
       "1  289cdb325fb7e7f891c38608bf9e0962  118.70          22.76   \n",
       "2  4869f7a5dfa277a7dca6462dcf3b52b2  159.90          19.22   \n",
       "3  66922902710d126a0e7d26b0e3805106   45.00          27.20   \n",
       "4  2c9e548be18521d1c43cde1c582c6de8   19.90           8.72   \n",
       "\n",
       "                 customer_unique_id  customer_zip_code_prefix  \\\n",
       "0  7c396fd4830fd04220f754e42b4e5bff                      3149   \n",
       "1  af07308b275d755c9edb36a90c618231                     47813   \n",
       "2  3a653a41f6f9fc3d2a113cf8398680e8                     75265   \n",
       "3  7c142cf63193a1473d2e66489a9ae977                     59296   \n",
       "4  72632f0f9dd73dfee390c9b22eb56dd6                      9195   \n",
       "\n",
       "             customer_city customer_state  \n",
       "0                sao paulo             SP  \n",
       "1                barreiras             BA  \n",
       "2               vianopolis             GO  \n",
       "3  sao goncalo do amarante             RN  \n",
       "4              santo andre             SP  "
      ]
     },
     "execution_count": 15,
     "metadata": {},
     "output_type": "execute_result"
    }
   ],
   "source": [
    "df_costumers_order.head()"
   ]
  },
  {
   "cell_type": "code",
   "execution_count": 16,
   "id": "b03048d4",
   "metadata": {
    "ExecuteTime": {
     "end_time": "2022-08-29T22:52:37.470501Z",
     "start_time": "2022-08-29T22:52:37.457501Z"
    }
   },
   "outputs": [
    {
     "data": {
      "text/html": [
       "<div>\n",
       "<style scoped>\n",
       "    .dataframe tbody tr th:only-of-type {\n",
       "        vertical-align: middle;\n",
       "    }\n",
       "\n",
       "    .dataframe tbody tr th {\n",
       "        vertical-align: top;\n",
       "    }\n",
       "\n",
       "    .dataframe thead th {\n",
       "        text-align: right;\n",
       "    }\n",
       "</style>\n",
       "<table border=\"1\" class=\"dataframe\">\n",
       "  <thead>\n",
       "    <tr style=\"text-align: right;\">\n",
       "      <th></th>\n",
       "      <th>product_id</th>\n",
       "      <th>product_name_lenght</th>\n",
       "      <th>product_description_lenght</th>\n",
       "      <th>product_photos_qty</th>\n",
       "      <th>product_weight_g</th>\n",
       "      <th>product_length_cm</th>\n",
       "      <th>product_height_cm</th>\n",
       "      <th>product_width_cm</th>\n",
       "      <th>product_category_name_english</th>\n",
       "    </tr>\n",
       "  </thead>\n",
       "  <tbody>\n",
       "    <tr>\n",
       "      <th>0</th>\n",
       "      <td>1e9e8ef04dbcff4541ed26657ea517e5</td>\n",
       "      <td>40.0</td>\n",
       "      <td>287.0</td>\n",
       "      <td>1.0</td>\n",
       "      <td>225.0</td>\n",
       "      <td>16.0</td>\n",
       "      <td>10.0</td>\n",
       "      <td>14.0</td>\n",
       "      <td>perfumery</td>\n",
       "    </tr>\n",
       "    <tr>\n",
       "      <th>1</th>\n",
       "      <td>3aa071139cb16b67ca9e5dea641aaa2f</td>\n",
       "      <td>44.0</td>\n",
       "      <td>276.0</td>\n",
       "      <td>1.0</td>\n",
       "      <td>1000.0</td>\n",
       "      <td>30.0</td>\n",
       "      <td>18.0</td>\n",
       "      <td>20.0</td>\n",
       "      <td>art</td>\n",
       "    </tr>\n",
       "    <tr>\n",
       "      <th>2</th>\n",
       "      <td>96bd76ec8810374ed1b65e291975717f</td>\n",
       "      <td>46.0</td>\n",
       "      <td>250.0</td>\n",
       "      <td>1.0</td>\n",
       "      <td>154.0</td>\n",
       "      <td>18.0</td>\n",
       "      <td>9.0</td>\n",
       "      <td>15.0</td>\n",
       "      <td>sports_leisure</td>\n",
       "    </tr>\n",
       "    <tr>\n",
       "      <th>3</th>\n",
       "      <td>cef67bcfe19066a932b7673e239eb23d</td>\n",
       "      <td>27.0</td>\n",
       "      <td>261.0</td>\n",
       "      <td>1.0</td>\n",
       "      <td>371.0</td>\n",
       "      <td>26.0</td>\n",
       "      <td>4.0</td>\n",
       "      <td>26.0</td>\n",
       "      <td>baby</td>\n",
       "    </tr>\n",
       "    <tr>\n",
       "      <th>4</th>\n",
       "      <td>9dc1a7de274444849c219cff195d0b71</td>\n",
       "      <td>37.0</td>\n",
       "      <td>402.0</td>\n",
       "      <td>4.0</td>\n",
       "      <td>625.0</td>\n",
       "      <td>20.0</td>\n",
       "      <td>17.0</td>\n",
       "      <td>13.0</td>\n",
       "      <td>housewares</td>\n",
       "    </tr>\n",
       "  </tbody>\n",
       "</table>\n",
       "</div>"
      ],
      "text/plain": [
       "                         product_id  product_name_lenght  \\\n",
       "0  1e9e8ef04dbcff4541ed26657ea517e5                 40.0   \n",
       "1  3aa071139cb16b67ca9e5dea641aaa2f                 44.0   \n",
       "2  96bd76ec8810374ed1b65e291975717f                 46.0   \n",
       "3  cef67bcfe19066a932b7673e239eb23d                 27.0   \n",
       "4  9dc1a7de274444849c219cff195d0b71                 37.0   \n",
       "\n",
       "   product_description_lenght  product_photos_qty  product_weight_g  \\\n",
       "0                       287.0                 1.0             225.0   \n",
       "1                       276.0                 1.0            1000.0   \n",
       "2                       250.0                 1.0             154.0   \n",
       "3                       261.0                 1.0             371.0   \n",
       "4                       402.0                 4.0             625.0   \n",
       "\n",
       "   product_length_cm  product_height_cm  product_width_cm  \\\n",
       "0               16.0               10.0              14.0   \n",
       "1               30.0               18.0              20.0   \n",
       "2               18.0                9.0              15.0   \n",
       "3               26.0                4.0              26.0   \n",
       "4               20.0               17.0              13.0   \n",
       "\n",
       "  product_category_name_english  \n",
       "0                     perfumery  \n",
       "1                           art  \n",
       "2                sports_leisure  \n",
       "3                          baby  \n",
       "4                    housewares  "
      ]
     },
     "execution_count": 16,
     "metadata": {},
     "output_type": "execute_result"
    }
   ],
   "source": [
    "df_products_translated.head()"
   ]
  },
  {
   "cell_type": "markdown",
   "id": "2182bce0",
   "metadata": {},
   "source": [
    "#### - commandes, produits et clients :"
   ]
  },
  {
   "cell_type": "code",
   "execution_count": 17,
   "id": "a4ca0dab",
   "metadata": {
    "ExecuteTime": {
     "end_time": "2022-08-29T22:52:37.547515Z",
     "start_time": "2022-08-29T22:52:37.472501Z"
    }
   },
   "outputs": [],
   "source": [
    "data = df_costumers_order.merge(df_products_translated, how= 'left', on= 'product_id')"
   ]
  },
  {
   "cell_type": "code",
   "execution_count": 18,
   "id": "e7517c30",
   "metadata": {
    "ExecuteTime": {
     "end_time": "2022-08-29T22:52:37.577774Z",
     "start_time": "2022-08-29T22:52:37.548557Z"
    }
   },
   "outputs": [
    {
     "data": {
      "text/html": [
       "<div>\n",
       "<style scoped>\n",
       "    .dataframe tbody tr th:only-of-type {\n",
       "        vertical-align: middle;\n",
       "    }\n",
       "\n",
       "    .dataframe tbody tr th {\n",
       "        vertical-align: top;\n",
       "    }\n",
       "\n",
       "    .dataframe thead th {\n",
       "        text-align: right;\n",
       "    }\n",
       "</style>\n",
       "<table border=\"1\" class=\"dataframe\">\n",
       "  <thead>\n",
       "    <tr style=\"text-align: right;\">\n",
       "      <th></th>\n",
       "      <th>order_id</th>\n",
       "      <th>customer_id</th>\n",
       "      <th>order_status</th>\n",
       "      <th>order_purchase_timestamp</th>\n",
       "      <th>order_delivered_customer_date</th>\n",
       "      <th>order_item_id</th>\n",
       "      <th>product_id</th>\n",
       "      <th>seller_id</th>\n",
       "      <th>price</th>\n",
       "      <th>freight_value</th>\n",
       "      <th>...</th>\n",
       "      <th>customer_city</th>\n",
       "      <th>customer_state</th>\n",
       "      <th>product_name_lenght</th>\n",
       "      <th>product_description_lenght</th>\n",
       "      <th>product_photos_qty</th>\n",
       "      <th>product_weight_g</th>\n",
       "      <th>product_length_cm</th>\n",
       "      <th>product_height_cm</th>\n",
       "      <th>product_width_cm</th>\n",
       "      <th>product_category_name_english</th>\n",
       "    </tr>\n",
       "  </thead>\n",
       "  <tbody>\n",
       "    <tr>\n",
       "      <th>0</th>\n",
       "      <td>e481f51cbdc54678b7cc49136f2d6af7</td>\n",
       "      <td>9ef432eb6251297304e76186b10a928d</td>\n",
       "      <td>delivered</td>\n",
       "      <td>2017-10-02 10:56:33</td>\n",
       "      <td>2017-10-10 21:25:13</td>\n",
       "      <td>1.0</td>\n",
       "      <td>87285b34884572647811a353c7ac498a</td>\n",
       "      <td>3504c0cb71d7fa48d967e0e4c94d59d9</td>\n",
       "      <td>29.99</td>\n",
       "      <td>8.72</td>\n",
       "      <td>...</td>\n",
       "      <td>sao paulo</td>\n",
       "      <td>SP</td>\n",
       "      <td>40.0</td>\n",
       "      <td>268.0</td>\n",
       "      <td>4.0</td>\n",
       "      <td>500.0</td>\n",
       "      <td>19.0</td>\n",
       "      <td>8.0</td>\n",
       "      <td>13.0</td>\n",
       "      <td>housewares</td>\n",
       "    </tr>\n",
       "    <tr>\n",
       "      <th>1</th>\n",
       "      <td>53cdb2fc8bc7dce0b6741e2150273451</td>\n",
       "      <td>b0830fb4747a6c6d20dea0b8c802d7ef</td>\n",
       "      <td>delivered</td>\n",
       "      <td>2018-07-24 20:41:37</td>\n",
       "      <td>2018-08-07 15:27:45</td>\n",
       "      <td>1.0</td>\n",
       "      <td>595fac2a385ac33a80bd5114aec74eb8</td>\n",
       "      <td>289cdb325fb7e7f891c38608bf9e0962</td>\n",
       "      <td>118.70</td>\n",
       "      <td>22.76</td>\n",
       "      <td>...</td>\n",
       "      <td>barreiras</td>\n",
       "      <td>BA</td>\n",
       "      <td>29.0</td>\n",
       "      <td>178.0</td>\n",
       "      <td>1.0</td>\n",
       "      <td>400.0</td>\n",
       "      <td>19.0</td>\n",
       "      <td>13.0</td>\n",
       "      <td>19.0</td>\n",
       "      <td>perfumery</td>\n",
       "    </tr>\n",
       "    <tr>\n",
       "      <th>2</th>\n",
       "      <td>47770eb9100c2d0c44946d9cf07ec65d</td>\n",
       "      <td>41ce2a54c0b03bf3443c3d931a367089</td>\n",
       "      <td>delivered</td>\n",
       "      <td>2018-08-08 08:38:49</td>\n",
       "      <td>2018-08-17 18:06:29</td>\n",
       "      <td>1.0</td>\n",
       "      <td>aa4383b373c6aca5d8797843e5594415</td>\n",
       "      <td>4869f7a5dfa277a7dca6462dcf3b52b2</td>\n",
       "      <td>159.90</td>\n",
       "      <td>19.22</td>\n",
       "      <td>...</td>\n",
       "      <td>vianopolis</td>\n",
       "      <td>GO</td>\n",
       "      <td>46.0</td>\n",
       "      <td>232.0</td>\n",
       "      <td>1.0</td>\n",
       "      <td>420.0</td>\n",
       "      <td>24.0</td>\n",
       "      <td>19.0</td>\n",
       "      <td>21.0</td>\n",
       "      <td>auto</td>\n",
       "    </tr>\n",
       "    <tr>\n",
       "      <th>3</th>\n",
       "      <td>949d5b44dbf5de918fe9c16f97b45f8a</td>\n",
       "      <td>f88197465ea7920adcdbec7375364d82</td>\n",
       "      <td>delivered</td>\n",
       "      <td>2017-11-18 19:28:06</td>\n",
       "      <td>2017-12-02 00:28:42</td>\n",
       "      <td>1.0</td>\n",
       "      <td>d0b61bfb1de832b15ba9d266ca96e5b0</td>\n",
       "      <td>66922902710d126a0e7d26b0e3805106</td>\n",
       "      <td>45.00</td>\n",
       "      <td>27.20</td>\n",
       "      <td>...</td>\n",
       "      <td>sao goncalo do amarante</td>\n",
       "      <td>RN</td>\n",
       "      <td>59.0</td>\n",
       "      <td>468.0</td>\n",
       "      <td>3.0</td>\n",
       "      <td>450.0</td>\n",
       "      <td>30.0</td>\n",
       "      <td>10.0</td>\n",
       "      <td>20.0</td>\n",
       "      <td>pet_shop</td>\n",
       "    </tr>\n",
       "    <tr>\n",
       "      <th>4</th>\n",
       "      <td>ad21c59c0840e6cb83a9ceb5573f8159</td>\n",
       "      <td>8ab97904e6daea8866dbdbc4fb7aad2c</td>\n",
       "      <td>delivered</td>\n",
       "      <td>2018-02-13 21:18:39</td>\n",
       "      <td>2018-02-16 18:17:02</td>\n",
       "      <td>1.0</td>\n",
       "      <td>65266b2da20d04dbe00c5c2d3bb7859e</td>\n",
       "      <td>2c9e548be18521d1c43cde1c582c6de8</td>\n",
       "      <td>19.90</td>\n",
       "      <td>8.72</td>\n",
       "      <td>...</td>\n",
       "      <td>santo andre</td>\n",
       "      <td>SP</td>\n",
       "      <td>38.0</td>\n",
       "      <td>316.0</td>\n",
       "      <td>4.0</td>\n",
       "      <td>250.0</td>\n",
       "      <td>51.0</td>\n",
       "      <td>15.0</td>\n",
       "      <td>15.0</td>\n",
       "      <td>stationery</td>\n",
       "    </tr>\n",
       "  </tbody>\n",
       "</table>\n",
       "<p>5 rows × 22 columns</p>\n",
       "</div>"
      ],
      "text/plain": [
       "                           order_id                       customer_id  \\\n",
       "0  e481f51cbdc54678b7cc49136f2d6af7  9ef432eb6251297304e76186b10a928d   \n",
       "1  53cdb2fc8bc7dce0b6741e2150273451  b0830fb4747a6c6d20dea0b8c802d7ef   \n",
       "2  47770eb9100c2d0c44946d9cf07ec65d  41ce2a54c0b03bf3443c3d931a367089   \n",
       "3  949d5b44dbf5de918fe9c16f97b45f8a  f88197465ea7920adcdbec7375364d82   \n",
       "4  ad21c59c0840e6cb83a9ceb5573f8159  8ab97904e6daea8866dbdbc4fb7aad2c   \n",
       "\n",
       "  order_status order_purchase_timestamp order_delivered_customer_date  \\\n",
       "0    delivered      2017-10-02 10:56:33           2017-10-10 21:25:13   \n",
       "1    delivered      2018-07-24 20:41:37           2018-08-07 15:27:45   \n",
       "2    delivered      2018-08-08 08:38:49           2018-08-17 18:06:29   \n",
       "3    delivered      2017-11-18 19:28:06           2017-12-02 00:28:42   \n",
       "4    delivered      2018-02-13 21:18:39           2018-02-16 18:17:02   \n",
       "\n",
       "   order_item_id                        product_id  \\\n",
       "0            1.0  87285b34884572647811a353c7ac498a   \n",
       "1            1.0  595fac2a385ac33a80bd5114aec74eb8   \n",
       "2            1.0  aa4383b373c6aca5d8797843e5594415   \n",
       "3            1.0  d0b61bfb1de832b15ba9d266ca96e5b0   \n",
       "4            1.0  65266b2da20d04dbe00c5c2d3bb7859e   \n",
       "\n",
       "                          seller_id   price  freight_value  ...  \\\n",
       "0  3504c0cb71d7fa48d967e0e4c94d59d9   29.99           8.72  ...   \n",
       "1  289cdb325fb7e7f891c38608bf9e0962  118.70          22.76  ...   \n",
       "2  4869f7a5dfa277a7dca6462dcf3b52b2  159.90          19.22  ...   \n",
       "3  66922902710d126a0e7d26b0e3805106   45.00          27.20  ...   \n",
       "4  2c9e548be18521d1c43cde1c582c6de8   19.90           8.72  ...   \n",
       "\n",
       "             customer_city  customer_state product_name_lenght  \\\n",
       "0                sao paulo              SP                40.0   \n",
       "1                barreiras              BA                29.0   \n",
       "2               vianopolis              GO                46.0   \n",
       "3  sao goncalo do amarante              RN                59.0   \n",
       "4              santo andre              SP                38.0   \n",
       "\n",
       "  product_description_lenght  product_photos_qty  product_weight_g  \\\n",
       "0                      268.0                 4.0             500.0   \n",
       "1                      178.0                 1.0             400.0   \n",
       "2                      232.0                 1.0             420.0   \n",
       "3                      468.0                 3.0             450.0   \n",
       "4                      316.0                 4.0             250.0   \n",
       "\n",
       "   product_length_cm  product_height_cm  product_width_cm  \\\n",
       "0               19.0                8.0              13.0   \n",
       "1               19.0               13.0              19.0   \n",
       "2               24.0               19.0              21.0   \n",
       "3               30.0               10.0              20.0   \n",
       "4               51.0               15.0              15.0   \n",
       "\n",
       "   product_category_name_english  \n",
       "0                     housewares  \n",
       "1                      perfumery  \n",
       "2                           auto  \n",
       "3                       pet_shop  \n",
       "4                     stationery  \n",
       "\n",
       "[5 rows x 22 columns]"
      ]
     },
     "execution_count": 18,
     "metadata": {},
     "output_type": "execute_result"
    }
   ],
   "source": [
    "data.head()"
   ]
  },
  {
   "cell_type": "markdown",
   "id": "eb5abdeb",
   "metadata": {},
   "source": [
    "#### - moyens de paiement et commandes :"
   ]
  },
  {
   "cell_type": "code",
   "execution_count": 19,
   "id": "3a919e14",
   "metadata": {
    "ExecuteTime": {
     "end_time": "2022-08-29T22:52:37.685332Z",
     "start_time": "2022-08-29T22:52:37.578906Z"
    }
   },
   "outputs": [],
   "source": [
    "data = data.merge(df_order_payments, how='left', on='order_id')"
   ]
  },
  {
   "cell_type": "code",
   "execution_count": 20,
   "id": "fa654105",
   "metadata": {
    "ExecuteTime": {
     "end_time": "2022-08-29T22:52:37.716423Z",
     "start_time": "2022-08-29T22:52:37.686453Z"
    }
   },
   "outputs": [
    {
     "data": {
      "text/html": [
       "<div>\n",
       "<style scoped>\n",
       "    .dataframe tbody tr th:only-of-type {\n",
       "        vertical-align: middle;\n",
       "    }\n",
       "\n",
       "    .dataframe tbody tr th {\n",
       "        vertical-align: top;\n",
       "    }\n",
       "\n",
       "    .dataframe thead th {\n",
       "        text-align: right;\n",
       "    }\n",
       "</style>\n",
       "<table border=\"1\" class=\"dataframe\">\n",
       "  <thead>\n",
       "    <tr style=\"text-align: right;\">\n",
       "      <th></th>\n",
       "      <th>order_id</th>\n",
       "      <th>customer_id</th>\n",
       "      <th>order_status</th>\n",
       "      <th>order_purchase_timestamp</th>\n",
       "      <th>order_delivered_customer_date</th>\n",
       "      <th>order_item_id</th>\n",
       "      <th>product_id</th>\n",
       "      <th>seller_id</th>\n",
       "      <th>price</th>\n",
       "      <th>freight_value</th>\n",
       "      <th>...</th>\n",
       "      <th>product_photos_qty</th>\n",
       "      <th>product_weight_g</th>\n",
       "      <th>product_length_cm</th>\n",
       "      <th>product_height_cm</th>\n",
       "      <th>product_width_cm</th>\n",
       "      <th>product_category_name_english</th>\n",
       "      <th>payment_sequential</th>\n",
       "      <th>payment_type</th>\n",
       "      <th>payment_installments</th>\n",
       "      <th>payment_value</th>\n",
       "    </tr>\n",
       "  </thead>\n",
       "  <tbody>\n",
       "    <tr>\n",
       "      <th>0</th>\n",
       "      <td>e481f51cbdc54678b7cc49136f2d6af7</td>\n",
       "      <td>9ef432eb6251297304e76186b10a928d</td>\n",
       "      <td>delivered</td>\n",
       "      <td>2017-10-02 10:56:33</td>\n",
       "      <td>2017-10-10 21:25:13</td>\n",
       "      <td>1.0</td>\n",
       "      <td>87285b34884572647811a353c7ac498a</td>\n",
       "      <td>3504c0cb71d7fa48d967e0e4c94d59d9</td>\n",
       "      <td>29.99</td>\n",
       "      <td>8.72</td>\n",
       "      <td>...</td>\n",
       "      <td>4.0</td>\n",
       "      <td>500.0</td>\n",
       "      <td>19.0</td>\n",
       "      <td>8.0</td>\n",
       "      <td>13.0</td>\n",
       "      <td>housewares</td>\n",
       "      <td>1.0</td>\n",
       "      <td>credit_card</td>\n",
       "      <td>1.0</td>\n",
       "      <td>18.12</td>\n",
       "    </tr>\n",
       "    <tr>\n",
       "      <th>1</th>\n",
       "      <td>e481f51cbdc54678b7cc49136f2d6af7</td>\n",
       "      <td>9ef432eb6251297304e76186b10a928d</td>\n",
       "      <td>delivered</td>\n",
       "      <td>2017-10-02 10:56:33</td>\n",
       "      <td>2017-10-10 21:25:13</td>\n",
       "      <td>1.0</td>\n",
       "      <td>87285b34884572647811a353c7ac498a</td>\n",
       "      <td>3504c0cb71d7fa48d967e0e4c94d59d9</td>\n",
       "      <td>29.99</td>\n",
       "      <td>8.72</td>\n",
       "      <td>...</td>\n",
       "      <td>4.0</td>\n",
       "      <td>500.0</td>\n",
       "      <td>19.0</td>\n",
       "      <td>8.0</td>\n",
       "      <td>13.0</td>\n",
       "      <td>housewares</td>\n",
       "      <td>3.0</td>\n",
       "      <td>voucher</td>\n",
       "      <td>1.0</td>\n",
       "      <td>2.00</td>\n",
       "    </tr>\n",
       "    <tr>\n",
       "      <th>2</th>\n",
       "      <td>e481f51cbdc54678b7cc49136f2d6af7</td>\n",
       "      <td>9ef432eb6251297304e76186b10a928d</td>\n",
       "      <td>delivered</td>\n",
       "      <td>2017-10-02 10:56:33</td>\n",
       "      <td>2017-10-10 21:25:13</td>\n",
       "      <td>1.0</td>\n",
       "      <td>87285b34884572647811a353c7ac498a</td>\n",
       "      <td>3504c0cb71d7fa48d967e0e4c94d59d9</td>\n",
       "      <td>29.99</td>\n",
       "      <td>8.72</td>\n",
       "      <td>...</td>\n",
       "      <td>4.0</td>\n",
       "      <td>500.0</td>\n",
       "      <td>19.0</td>\n",
       "      <td>8.0</td>\n",
       "      <td>13.0</td>\n",
       "      <td>housewares</td>\n",
       "      <td>2.0</td>\n",
       "      <td>voucher</td>\n",
       "      <td>1.0</td>\n",
       "      <td>18.59</td>\n",
       "    </tr>\n",
       "    <tr>\n",
       "      <th>3</th>\n",
       "      <td>53cdb2fc8bc7dce0b6741e2150273451</td>\n",
       "      <td>b0830fb4747a6c6d20dea0b8c802d7ef</td>\n",
       "      <td>delivered</td>\n",
       "      <td>2018-07-24 20:41:37</td>\n",
       "      <td>2018-08-07 15:27:45</td>\n",
       "      <td>1.0</td>\n",
       "      <td>595fac2a385ac33a80bd5114aec74eb8</td>\n",
       "      <td>289cdb325fb7e7f891c38608bf9e0962</td>\n",
       "      <td>118.70</td>\n",
       "      <td>22.76</td>\n",
       "      <td>...</td>\n",
       "      <td>1.0</td>\n",
       "      <td>400.0</td>\n",
       "      <td>19.0</td>\n",
       "      <td>13.0</td>\n",
       "      <td>19.0</td>\n",
       "      <td>perfumery</td>\n",
       "      <td>1.0</td>\n",
       "      <td>boleto</td>\n",
       "      <td>1.0</td>\n",
       "      <td>141.46</td>\n",
       "    </tr>\n",
       "    <tr>\n",
       "      <th>4</th>\n",
       "      <td>47770eb9100c2d0c44946d9cf07ec65d</td>\n",
       "      <td>41ce2a54c0b03bf3443c3d931a367089</td>\n",
       "      <td>delivered</td>\n",
       "      <td>2018-08-08 08:38:49</td>\n",
       "      <td>2018-08-17 18:06:29</td>\n",
       "      <td>1.0</td>\n",
       "      <td>aa4383b373c6aca5d8797843e5594415</td>\n",
       "      <td>4869f7a5dfa277a7dca6462dcf3b52b2</td>\n",
       "      <td>159.90</td>\n",
       "      <td>19.22</td>\n",
       "      <td>...</td>\n",
       "      <td>1.0</td>\n",
       "      <td>420.0</td>\n",
       "      <td>24.0</td>\n",
       "      <td>19.0</td>\n",
       "      <td>21.0</td>\n",
       "      <td>auto</td>\n",
       "      <td>1.0</td>\n",
       "      <td>credit_card</td>\n",
       "      <td>3.0</td>\n",
       "      <td>179.12</td>\n",
       "    </tr>\n",
       "  </tbody>\n",
       "</table>\n",
       "<p>5 rows × 26 columns</p>\n",
       "</div>"
      ],
      "text/plain": [
       "                           order_id                       customer_id  \\\n",
       "0  e481f51cbdc54678b7cc49136f2d6af7  9ef432eb6251297304e76186b10a928d   \n",
       "1  e481f51cbdc54678b7cc49136f2d6af7  9ef432eb6251297304e76186b10a928d   \n",
       "2  e481f51cbdc54678b7cc49136f2d6af7  9ef432eb6251297304e76186b10a928d   \n",
       "3  53cdb2fc8bc7dce0b6741e2150273451  b0830fb4747a6c6d20dea0b8c802d7ef   \n",
       "4  47770eb9100c2d0c44946d9cf07ec65d  41ce2a54c0b03bf3443c3d931a367089   \n",
       "\n",
       "  order_status order_purchase_timestamp order_delivered_customer_date  \\\n",
       "0    delivered      2017-10-02 10:56:33           2017-10-10 21:25:13   \n",
       "1    delivered      2017-10-02 10:56:33           2017-10-10 21:25:13   \n",
       "2    delivered      2017-10-02 10:56:33           2017-10-10 21:25:13   \n",
       "3    delivered      2018-07-24 20:41:37           2018-08-07 15:27:45   \n",
       "4    delivered      2018-08-08 08:38:49           2018-08-17 18:06:29   \n",
       "\n",
       "   order_item_id                        product_id  \\\n",
       "0            1.0  87285b34884572647811a353c7ac498a   \n",
       "1            1.0  87285b34884572647811a353c7ac498a   \n",
       "2            1.0  87285b34884572647811a353c7ac498a   \n",
       "3            1.0  595fac2a385ac33a80bd5114aec74eb8   \n",
       "4            1.0  aa4383b373c6aca5d8797843e5594415   \n",
       "\n",
       "                          seller_id   price  freight_value  ...  \\\n",
       "0  3504c0cb71d7fa48d967e0e4c94d59d9   29.99           8.72  ...   \n",
       "1  3504c0cb71d7fa48d967e0e4c94d59d9   29.99           8.72  ...   \n",
       "2  3504c0cb71d7fa48d967e0e4c94d59d9   29.99           8.72  ...   \n",
       "3  289cdb325fb7e7f891c38608bf9e0962  118.70          22.76  ...   \n",
       "4  4869f7a5dfa277a7dca6462dcf3b52b2  159.90          19.22  ...   \n",
       "\n",
       "  product_photos_qty  product_weight_g product_length_cm product_height_cm  \\\n",
       "0                4.0             500.0              19.0               8.0   \n",
       "1                4.0             500.0              19.0               8.0   \n",
       "2                4.0             500.0              19.0               8.0   \n",
       "3                1.0             400.0              19.0              13.0   \n",
       "4                1.0             420.0              24.0              19.0   \n",
       "\n",
       "   product_width_cm  product_category_name_english  payment_sequential  \\\n",
       "0              13.0                     housewares                 1.0   \n",
       "1              13.0                     housewares                 3.0   \n",
       "2              13.0                     housewares                 2.0   \n",
       "3              19.0                      perfumery                 1.0   \n",
       "4              21.0                           auto                 1.0   \n",
       "\n",
       "   payment_type  payment_installments  payment_value  \n",
       "0   credit_card                   1.0          18.12  \n",
       "1       voucher                   1.0           2.00  \n",
       "2       voucher                   1.0          18.59  \n",
       "3        boleto                   1.0         141.46  \n",
       "4   credit_card                   3.0         179.12  \n",
       "\n",
       "[5 rows x 26 columns]"
      ]
     },
     "execution_count": 20,
     "metadata": {},
     "output_type": "execute_result"
    }
   ],
   "source": [
    "data.head()"
   ]
  },
  {
   "cell_type": "code",
   "execution_count": 21,
   "id": "d94d7728",
   "metadata": {
    "ExecuteTime": {
     "end_time": "2022-08-29T22:52:37.732327Z",
     "start_time": "2022-08-29T22:52:37.717324Z"
    }
   },
   "outputs": [
    {
     "data": {
      "text/html": [
       "<div>\n",
       "<style scoped>\n",
       "    .dataframe tbody tr th:only-of-type {\n",
       "        vertical-align: middle;\n",
       "    }\n",
       "\n",
       "    .dataframe tbody tr th {\n",
       "        vertical-align: top;\n",
       "    }\n",
       "\n",
       "    .dataframe thead th {\n",
       "        text-align: right;\n",
       "    }\n",
       "</style>\n",
       "<table border=\"1\" class=\"dataframe\">\n",
       "  <thead>\n",
       "    <tr style=\"text-align: right;\">\n",
       "      <th></th>\n",
       "      <th>seller_id</th>\n",
       "      <th>seller_zip_code_prefix</th>\n",
       "      <th>seller_city</th>\n",
       "      <th>seller_state</th>\n",
       "    </tr>\n",
       "  </thead>\n",
       "  <tbody>\n",
       "    <tr>\n",
       "      <th>0</th>\n",
       "      <td>3442f8959a84dea7ee197c632cb2df15</td>\n",
       "      <td>13023</td>\n",
       "      <td>campinas</td>\n",
       "      <td>SP</td>\n",
       "    </tr>\n",
       "    <tr>\n",
       "      <th>1</th>\n",
       "      <td>d1b65fc7debc3361ea86b5f14c68d2e2</td>\n",
       "      <td>13844</td>\n",
       "      <td>mogi guacu</td>\n",
       "      <td>SP</td>\n",
       "    </tr>\n",
       "    <tr>\n",
       "      <th>2</th>\n",
       "      <td>ce3ad9de960102d0677a81f5d0bb7b2d</td>\n",
       "      <td>20031</td>\n",
       "      <td>rio de janeiro</td>\n",
       "      <td>RJ</td>\n",
       "    </tr>\n",
       "    <tr>\n",
       "      <th>3</th>\n",
       "      <td>c0f3eea2e14555b6faeea3dd58c1b1c3</td>\n",
       "      <td>4195</td>\n",
       "      <td>sao paulo</td>\n",
       "      <td>SP</td>\n",
       "    </tr>\n",
       "    <tr>\n",
       "      <th>4</th>\n",
       "      <td>51a04a8a6bdcb23deccc82b0b80742cf</td>\n",
       "      <td>12914</td>\n",
       "      <td>braganca paulista</td>\n",
       "      <td>SP</td>\n",
       "    </tr>\n",
       "  </tbody>\n",
       "</table>\n",
       "</div>"
      ],
      "text/plain": [
       "                          seller_id  seller_zip_code_prefix  \\\n",
       "0  3442f8959a84dea7ee197c632cb2df15                   13023   \n",
       "1  d1b65fc7debc3361ea86b5f14c68d2e2                   13844   \n",
       "2  ce3ad9de960102d0677a81f5d0bb7b2d                   20031   \n",
       "3  c0f3eea2e14555b6faeea3dd58c1b1c3                    4195   \n",
       "4  51a04a8a6bdcb23deccc82b0b80742cf                   12914   \n",
       "\n",
       "         seller_city seller_state  \n",
       "0           campinas           SP  \n",
       "1         mogi guacu           SP  \n",
       "2     rio de janeiro           RJ  \n",
       "3          sao paulo           SP  \n",
       "4  braganca paulista           SP  "
      ]
     },
     "execution_count": 21,
     "metadata": {},
     "output_type": "execute_result"
    }
   ],
   "source": [
    "df_sellers.head()"
   ]
  },
  {
   "cell_type": "markdown",
   "id": "2d87f5af",
   "metadata": {},
   "source": [
    "#### - Les vendeurs :"
   ]
  },
  {
   "cell_type": "code",
   "execution_count": 22,
   "id": "d4e71ba3",
   "metadata": {
    "ExecuteTime": {
     "end_time": "2022-08-29T22:52:37.811903Z",
     "start_time": "2022-08-29T22:52:37.734327Z"
    }
   },
   "outputs": [],
   "source": [
    "data_sellers = data.merge(df_sellers, how='left', on='seller_id')"
   ]
  },
  {
   "cell_type": "code",
   "execution_count": 23,
   "id": "8c09ef20",
   "metadata": {
    "ExecuteTime": {
     "end_time": "2022-08-29T22:52:37.843110Z",
     "start_time": "2022-08-29T22:52:37.812904Z"
    }
   },
   "outputs": [
    {
     "data": {
      "text/html": [
       "<div>\n",
       "<style scoped>\n",
       "    .dataframe tbody tr th:only-of-type {\n",
       "        vertical-align: middle;\n",
       "    }\n",
       "\n",
       "    .dataframe tbody tr th {\n",
       "        vertical-align: top;\n",
       "    }\n",
       "\n",
       "    .dataframe thead th {\n",
       "        text-align: right;\n",
       "    }\n",
       "</style>\n",
       "<table border=\"1\" class=\"dataframe\">\n",
       "  <thead>\n",
       "    <tr style=\"text-align: right;\">\n",
       "      <th></th>\n",
       "      <th>order_id</th>\n",
       "      <th>customer_id</th>\n",
       "      <th>order_status</th>\n",
       "      <th>order_purchase_timestamp</th>\n",
       "      <th>order_delivered_customer_date</th>\n",
       "      <th>order_item_id</th>\n",
       "      <th>product_id</th>\n",
       "      <th>seller_id</th>\n",
       "      <th>price</th>\n",
       "      <th>freight_value</th>\n",
       "      <th>...</th>\n",
       "      <th>product_height_cm</th>\n",
       "      <th>product_width_cm</th>\n",
       "      <th>product_category_name_english</th>\n",
       "      <th>payment_sequential</th>\n",
       "      <th>payment_type</th>\n",
       "      <th>payment_installments</th>\n",
       "      <th>payment_value</th>\n",
       "      <th>seller_zip_code_prefix</th>\n",
       "      <th>seller_city</th>\n",
       "      <th>seller_state</th>\n",
       "    </tr>\n",
       "  </thead>\n",
       "  <tbody>\n",
       "    <tr>\n",
       "      <th>0</th>\n",
       "      <td>e481f51cbdc54678b7cc49136f2d6af7</td>\n",
       "      <td>9ef432eb6251297304e76186b10a928d</td>\n",
       "      <td>delivered</td>\n",
       "      <td>2017-10-02 10:56:33</td>\n",
       "      <td>2017-10-10 21:25:13</td>\n",
       "      <td>1.0</td>\n",
       "      <td>87285b34884572647811a353c7ac498a</td>\n",
       "      <td>3504c0cb71d7fa48d967e0e4c94d59d9</td>\n",
       "      <td>29.99</td>\n",
       "      <td>8.72</td>\n",
       "      <td>...</td>\n",
       "      <td>8.0</td>\n",
       "      <td>13.0</td>\n",
       "      <td>housewares</td>\n",
       "      <td>1.0</td>\n",
       "      <td>credit_card</td>\n",
       "      <td>1.0</td>\n",
       "      <td>18.12</td>\n",
       "      <td>9350.0</td>\n",
       "      <td>maua</td>\n",
       "      <td>SP</td>\n",
       "    </tr>\n",
       "    <tr>\n",
       "      <th>1</th>\n",
       "      <td>e481f51cbdc54678b7cc49136f2d6af7</td>\n",
       "      <td>9ef432eb6251297304e76186b10a928d</td>\n",
       "      <td>delivered</td>\n",
       "      <td>2017-10-02 10:56:33</td>\n",
       "      <td>2017-10-10 21:25:13</td>\n",
       "      <td>1.0</td>\n",
       "      <td>87285b34884572647811a353c7ac498a</td>\n",
       "      <td>3504c0cb71d7fa48d967e0e4c94d59d9</td>\n",
       "      <td>29.99</td>\n",
       "      <td>8.72</td>\n",
       "      <td>...</td>\n",
       "      <td>8.0</td>\n",
       "      <td>13.0</td>\n",
       "      <td>housewares</td>\n",
       "      <td>3.0</td>\n",
       "      <td>voucher</td>\n",
       "      <td>1.0</td>\n",
       "      <td>2.00</td>\n",
       "      <td>9350.0</td>\n",
       "      <td>maua</td>\n",
       "      <td>SP</td>\n",
       "    </tr>\n",
       "    <tr>\n",
       "      <th>2</th>\n",
       "      <td>e481f51cbdc54678b7cc49136f2d6af7</td>\n",
       "      <td>9ef432eb6251297304e76186b10a928d</td>\n",
       "      <td>delivered</td>\n",
       "      <td>2017-10-02 10:56:33</td>\n",
       "      <td>2017-10-10 21:25:13</td>\n",
       "      <td>1.0</td>\n",
       "      <td>87285b34884572647811a353c7ac498a</td>\n",
       "      <td>3504c0cb71d7fa48d967e0e4c94d59d9</td>\n",
       "      <td>29.99</td>\n",
       "      <td>8.72</td>\n",
       "      <td>...</td>\n",
       "      <td>8.0</td>\n",
       "      <td>13.0</td>\n",
       "      <td>housewares</td>\n",
       "      <td>2.0</td>\n",
       "      <td>voucher</td>\n",
       "      <td>1.0</td>\n",
       "      <td>18.59</td>\n",
       "      <td>9350.0</td>\n",
       "      <td>maua</td>\n",
       "      <td>SP</td>\n",
       "    </tr>\n",
       "    <tr>\n",
       "      <th>3</th>\n",
       "      <td>53cdb2fc8bc7dce0b6741e2150273451</td>\n",
       "      <td>b0830fb4747a6c6d20dea0b8c802d7ef</td>\n",
       "      <td>delivered</td>\n",
       "      <td>2018-07-24 20:41:37</td>\n",
       "      <td>2018-08-07 15:27:45</td>\n",
       "      <td>1.0</td>\n",
       "      <td>595fac2a385ac33a80bd5114aec74eb8</td>\n",
       "      <td>289cdb325fb7e7f891c38608bf9e0962</td>\n",
       "      <td>118.70</td>\n",
       "      <td>22.76</td>\n",
       "      <td>...</td>\n",
       "      <td>13.0</td>\n",
       "      <td>19.0</td>\n",
       "      <td>perfumery</td>\n",
       "      <td>1.0</td>\n",
       "      <td>boleto</td>\n",
       "      <td>1.0</td>\n",
       "      <td>141.46</td>\n",
       "      <td>31570.0</td>\n",
       "      <td>belo horizonte</td>\n",
       "      <td>SP</td>\n",
       "    </tr>\n",
       "    <tr>\n",
       "      <th>4</th>\n",
       "      <td>47770eb9100c2d0c44946d9cf07ec65d</td>\n",
       "      <td>41ce2a54c0b03bf3443c3d931a367089</td>\n",
       "      <td>delivered</td>\n",
       "      <td>2018-08-08 08:38:49</td>\n",
       "      <td>2018-08-17 18:06:29</td>\n",
       "      <td>1.0</td>\n",
       "      <td>aa4383b373c6aca5d8797843e5594415</td>\n",
       "      <td>4869f7a5dfa277a7dca6462dcf3b52b2</td>\n",
       "      <td>159.90</td>\n",
       "      <td>19.22</td>\n",
       "      <td>...</td>\n",
       "      <td>19.0</td>\n",
       "      <td>21.0</td>\n",
       "      <td>auto</td>\n",
       "      <td>1.0</td>\n",
       "      <td>credit_card</td>\n",
       "      <td>3.0</td>\n",
       "      <td>179.12</td>\n",
       "      <td>14840.0</td>\n",
       "      <td>guariba</td>\n",
       "      <td>SP</td>\n",
       "    </tr>\n",
       "  </tbody>\n",
       "</table>\n",
       "<p>5 rows × 29 columns</p>\n",
       "</div>"
      ],
      "text/plain": [
       "                           order_id                       customer_id  \\\n",
       "0  e481f51cbdc54678b7cc49136f2d6af7  9ef432eb6251297304e76186b10a928d   \n",
       "1  e481f51cbdc54678b7cc49136f2d6af7  9ef432eb6251297304e76186b10a928d   \n",
       "2  e481f51cbdc54678b7cc49136f2d6af7  9ef432eb6251297304e76186b10a928d   \n",
       "3  53cdb2fc8bc7dce0b6741e2150273451  b0830fb4747a6c6d20dea0b8c802d7ef   \n",
       "4  47770eb9100c2d0c44946d9cf07ec65d  41ce2a54c0b03bf3443c3d931a367089   \n",
       "\n",
       "  order_status order_purchase_timestamp order_delivered_customer_date  \\\n",
       "0    delivered      2017-10-02 10:56:33           2017-10-10 21:25:13   \n",
       "1    delivered      2017-10-02 10:56:33           2017-10-10 21:25:13   \n",
       "2    delivered      2017-10-02 10:56:33           2017-10-10 21:25:13   \n",
       "3    delivered      2018-07-24 20:41:37           2018-08-07 15:27:45   \n",
       "4    delivered      2018-08-08 08:38:49           2018-08-17 18:06:29   \n",
       "\n",
       "   order_item_id                        product_id  \\\n",
       "0            1.0  87285b34884572647811a353c7ac498a   \n",
       "1            1.0  87285b34884572647811a353c7ac498a   \n",
       "2            1.0  87285b34884572647811a353c7ac498a   \n",
       "3            1.0  595fac2a385ac33a80bd5114aec74eb8   \n",
       "4            1.0  aa4383b373c6aca5d8797843e5594415   \n",
       "\n",
       "                          seller_id   price  freight_value  ...  \\\n",
       "0  3504c0cb71d7fa48d967e0e4c94d59d9   29.99           8.72  ...   \n",
       "1  3504c0cb71d7fa48d967e0e4c94d59d9   29.99           8.72  ...   \n",
       "2  3504c0cb71d7fa48d967e0e4c94d59d9   29.99           8.72  ...   \n",
       "3  289cdb325fb7e7f891c38608bf9e0962  118.70          22.76  ...   \n",
       "4  4869f7a5dfa277a7dca6462dcf3b52b2  159.90          19.22  ...   \n",
       "\n",
       "  product_height_cm  product_width_cm product_category_name_english  \\\n",
       "0               8.0              13.0                    housewares   \n",
       "1               8.0              13.0                    housewares   \n",
       "2               8.0              13.0                    housewares   \n",
       "3              13.0              19.0                     perfumery   \n",
       "4              19.0              21.0                          auto   \n",
       "\n",
       "  payment_sequential  payment_type  payment_installments  payment_value  \\\n",
       "0                1.0   credit_card                   1.0          18.12   \n",
       "1                3.0       voucher                   1.0           2.00   \n",
       "2                2.0       voucher                   1.0          18.59   \n",
       "3                1.0        boleto                   1.0         141.46   \n",
       "4                1.0   credit_card                   3.0         179.12   \n",
       "\n",
       "   seller_zip_code_prefix     seller_city  seller_state  \n",
       "0                  9350.0            maua            SP  \n",
       "1                  9350.0            maua            SP  \n",
       "2                  9350.0            maua            SP  \n",
       "3                 31570.0  belo horizonte            SP  \n",
       "4                 14840.0         guariba            SP  \n",
       "\n",
       "[5 rows x 29 columns]"
      ]
     },
     "execution_count": 23,
     "metadata": {},
     "output_type": "execute_result"
    }
   ],
   "source": [
    "data_sellers.head()"
   ]
  },
  {
   "cell_type": "code",
   "execution_count": 24,
   "id": "7bc22e19",
   "metadata": {
    "ExecuteTime": {
     "end_time": "2022-08-29T22:52:37.858048Z",
     "start_time": "2022-08-29T22:52:37.844157Z"
    }
   },
   "outputs": [
    {
     "data": {
      "text/html": [
       "<div>\n",
       "<style scoped>\n",
       "    .dataframe tbody tr th:only-of-type {\n",
       "        vertical-align: middle;\n",
       "    }\n",
       "\n",
       "    .dataframe tbody tr th {\n",
       "        vertical-align: top;\n",
       "    }\n",
       "\n",
       "    .dataframe thead th {\n",
       "        text-align: right;\n",
       "    }\n",
       "</style>\n",
       "<table border=\"1\" class=\"dataframe\">\n",
       "  <thead>\n",
       "    <tr style=\"text-align: right;\">\n",
       "      <th></th>\n",
       "      <th>review_id</th>\n",
       "      <th>order_id</th>\n",
       "      <th>review_score</th>\n",
       "      <th>review_comment_title</th>\n",
       "      <th>review_comment_message</th>\n",
       "      <th>review_creation_date</th>\n",
       "      <th>review_answer_timestamp</th>\n",
       "    </tr>\n",
       "  </thead>\n",
       "  <tbody>\n",
       "    <tr>\n",
       "      <th>0</th>\n",
       "      <td>7bc2406110b926393aa56f80a40eba40</td>\n",
       "      <td>73fc7af87114b39712e6da79b0a377eb</td>\n",
       "      <td>4</td>\n",
       "      <td>NaN</td>\n",
       "      <td>NaN</td>\n",
       "      <td>2018-01-18 00:00:00</td>\n",
       "      <td>2018-01-18 21:46:59</td>\n",
       "    </tr>\n",
       "    <tr>\n",
       "      <th>1</th>\n",
       "      <td>80e641a11e56f04c1ad469d5645fdfde</td>\n",
       "      <td>a548910a1c6147796b98fdf73dbeba33</td>\n",
       "      <td>5</td>\n",
       "      <td>NaN</td>\n",
       "      <td>NaN</td>\n",
       "      <td>2018-03-10 00:00:00</td>\n",
       "      <td>2018-03-11 03:05:13</td>\n",
       "    </tr>\n",
       "    <tr>\n",
       "      <th>2</th>\n",
       "      <td>228ce5500dc1d8e020d8d1322874b6f0</td>\n",
       "      <td>f9e4b658b201a9f2ecdecbb34bed034b</td>\n",
       "      <td>5</td>\n",
       "      <td>NaN</td>\n",
       "      <td>NaN</td>\n",
       "      <td>2018-02-17 00:00:00</td>\n",
       "      <td>2018-02-18 14:36:24</td>\n",
       "    </tr>\n",
       "    <tr>\n",
       "      <th>3</th>\n",
       "      <td>e64fb393e7b32834bb789ff8bb30750e</td>\n",
       "      <td>658677c97b385a9be170737859d3511b</td>\n",
       "      <td>5</td>\n",
       "      <td>NaN</td>\n",
       "      <td>Recebi bem antes do prazo estipulado.</td>\n",
       "      <td>2017-04-21 00:00:00</td>\n",
       "      <td>2017-04-21 22:02:06</td>\n",
       "    </tr>\n",
       "    <tr>\n",
       "      <th>4</th>\n",
       "      <td>f7c4243c7fe1938f181bec41a392bdeb</td>\n",
       "      <td>8e6bfb81e283fa7e4f11123a3fb894f1</td>\n",
       "      <td>5</td>\n",
       "      <td>NaN</td>\n",
       "      <td>Parabéns lojas lannister adorei comprar pela I...</td>\n",
       "      <td>2018-03-01 00:00:00</td>\n",
       "      <td>2018-03-02 10:26:53</td>\n",
       "    </tr>\n",
       "  </tbody>\n",
       "</table>\n",
       "</div>"
      ],
      "text/plain": [
       "                          review_id                          order_id  \\\n",
       "0  7bc2406110b926393aa56f80a40eba40  73fc7af87114b39712e6da79b0a377eb   \n",
       "1  80e641a11e56f04c1ad469d5645fdfde  a548910a1c6147796b98fdf73dbeba33   \n",
       "2  228ce5500dc1d8e020d8d1322874b6f0  f9e4b658b201a9f2ecdecbb34bed034b   \n",
       "3  e64fb393e7b32834bb789ff8bb30750e  658677c97b385a9be170737859d3511b   \n",
       "4  f7c4243c7fe1938f181bec41a392bdeb  8e6bfb81e283fa7e4f11123a3fb894f1   \n",
       "\n",
       "   review_score review_comment_title  \\\n",
       "0             4                  NaN   \n",
       "1             5                  NaN   \n",
       "2             5                  NaN   \n",
       "3             5                  NaN   \n",
       "4             5                  NaN   \n",
       "\n",
       "                              review_comment_message review_creation_date  \\\n",
       "0                                                NaN  2018-01-18 00:00:00   \n",
       "1                                                NaN  2018-03-10 00:00:00   \n",
       "2                                                NaN  2018-02-17 00:00:00   \n",
       "3              Recebi bem antes do prazo estipulado.  2017-04-21 00:00:00   \n",
       "4  Parabéns lojas lannister adorei comprar pela I...  2018-03-01 00:00:00   \n",
       "\n",
       "  review_answer_timestamp  \n",
       "0     2018-01-18 21:46:59  \n",
       "1     2018-03-11 03:05:13  \n",
       "2     2018-02-18 14:36:24  \n",
       "3     2017-04-21 22:02:06  \n",
       "4     2018-03-02 10:26:53  "
      ]
     },
     "execution_count": 24,
     "metadata": {},
     "output_type": "execute_result"
    }
   ],
   "source": [
    "df_order_reviews.head()"
   ]
  },
  {
   "cell_type": "code",
   "execution_count": 25,
   "id": "5e028533",
   "metadata": {
    "ExecuteTime": {
     "end_time": "2022-08-29T22:52:37.873653Z",
     "start_time": "2022-08-29T22:52:37.859048Z"
    }
   },
   "outputs": [],
   "source": [
    "df_order_reviews.drop(columns=['review_id','review_comment_title','review_creation_date','review_answer_timestamp'], inplace=True)"
   ]
  },
  {
   "cell_type": "markdown",
   "id": "619c7f1c",
   "metadata": {},
   "source": [
    "#### - Les avis des clients :"
   ]
  },
  {
   "cell_type": "code",
   "execution_count": 26,
   "id": "11944df6",
   "metadata": {
    "ExecuteTime": {
     "end_time": "2022-08-29T22:52:37.984693Z",
     "start_time": "2022-08-29T22:52:37.874686Z"
    }
   },
   "outputs": [],
   "source": [
    "data = data_sellers.merge(df_order_reviews, how='left', on='order_id')"
   ]
  },
  {
   "cell_type": "code",
   "execution_count": 27,
   "id": "c1594422",
   "metadata": {
    "ExecuteTime": {
     "end_time": "2022-08-29T22:52:37.999422Z",
     "start_time": "2022-08-29T22:52:37.989737Z"
    },
    "scrolled": false
   },
   "outputs": [
    {
     "data": {
      "text/plain": [
       "Index(['order_id', 'customer_id', 'order_status', 'order_purchase_timestamp',\n",
       "       'order_delivered_customer_date', 'order_item_id', 'product_id',\n",
       "       'seller_id', 'price', 'freight_value', 'customer_unique_id',\n",
       "       'customer_zip_code_prefix', 'customer_city', 'customer_state',\n",
       "       'product_name_lenght', 'product_description_lenght',\n",
       "       'product_photos_qty', 'product_weight_g', 'product_length_cm',\n",
       "       'product_height_cm', 'product_width_cm',\n",
       "       'product_category_name_english', 'payment_sequential', 'payment_type',\n",
       "       'payment_installments', 'payment_value', 'seller_zip_code_prefix',\n",
       "       'seller_city', 'seller_state', 'review_score',\n",
       "       'review_comment_message'],\n",
       "      dtype='object')"
      ]
     },
     "execution_count": 27,
     "metadata": {},
     "output_type": "execute_result"
    }
   ],
   "source": [
    "data.columns "
   ]
  },
  {
   "cell_type": "markdown",
   "id": "609a14e0",
   "metadata": {},
   "source": [
    "### Eliminer les colonnes unitiles :"
   ]
  },
  {
   "cell_type": "code",
   "execution_count": 28,
   "id": "29e81da3",
   "metadata": {
    "ExecuteTime": {
     "end_time": "2022-08-29T22:52:38.074094Z",
     "start_time": "2022-08-29T22:52:38.000421Z"
    }
   },
   "outputs": [],
   "source": [
    "data_costumers = data.drop(columns=['seller_id','customer_zip_code_prefix','product_name_lenght','product_description_lenght','product_photos_qty','seller_zip_code_prefix', 'seller_city', 'seller_state','review_comment_message'])"
   ]
  },
  {
   "cell_type": "code",
   "execution_count": 29,
   "id": "814588f2",
   "metadata": {
    "ExecuteTime": {
     "end_time": "2022-08-29T22:52:38.089999Z",
     "start_time": "2022-08-29T22:52:38.075107Z"
    }
   },
   "outputs": [
    {
     "data": {
      "text/plain": [
       "Index(['order_id', 'customer_id', 'order_status', 'order_purchase_timestamp',\n",
       "       'order_delivered_customer_date', 'order_item_id', 'product_id', 'price',\n",
       "       'freight_value', 'customer_unique_id', 'customer_city',\n",
       "       'customer_state', 'product_weight_g', 'product_length_cm',\n",
       "       'product_height_cm', 'product_width_cm',\n",
       "       'product_category_name_english', 'payment_sequential', 'payment_type',\n",
       "       'payment_installments', 'payment_value', 'review_score'],\n",
       "      dtype='object')"
      ]
     },
     "execution_count": 29,
     "metadata": {},
     "output_type": "execute_result"
    }
   ],
   "source": [
    "data_costumers.columns"
   ]
  },
  {
   "cell_type": "code",
   "execution_count": 30,
   "id": "3eb9e2ff",
   "metadata": {
    "ExecuteTime": {
     "end_time": "2022-08-29T22:52:38.104966Z",
     "start_time": "2022-08-29T22:52:38.090730Z"
    }
   },
   "outputs": [
    {
     "data": {
      "text/plain": [
       "order_id                          object\n",
       "customer_id                       object\n",
       "order_status                      object\n",
       "order_purchase_timestamp          object\n",
       "order_delivered_customer_date     object\n",
       "order_item_id                    float64\n",
       "product_id                        object\n",
       "price                            float64\n",
       "freight_value                    float64\n",
       "customer_unique_id                object\n",
       "customer_city                     object\n",
       "customer_state                    object\n",
       "product_weight_g                 float64\n",
       "product_length_cm                float64\n",
       "product_height_cm                float64\n",
       "product_width_cm                 float64\n",
       "product_category_name_english     object\n",
       "payment_sequential               float64\n",
       "payment_type                      object\n",
       "payment_installments             float64\n",
       "payment_value                    float64\n",
       "review_score                     float64\n",
       "dtype: object"
      ]
     },
     "execution_count": 30,
     "metadata": {},
     "output_type": "execute_result"
    }
   ],
   "source": [
    "data_costumers.dtypes"
   ]
  },
  {
   "cell_type": "markdown",
   "id": "f6d90a6b",
   "metadata": {},
   "source": [
    "### Identification des valeurs manquantes :"
   ]
  },
  {
   "cell_type": "code",
   "execution_count": 31,
   "id": "a65d1fde",
   "metadata": {
    "ExecuteTime": {
     "end_time": "2022-08-29T22:52:38.260257Z",
     "start_time": "2022-08-29T22:52:38.105971Z"
    }
   },
   "outputs": [
    {
     "name": "stdout",
     "output_type": "stream",
     "text": [
      "order_id                         0.000000\n",
      "customer_id                      0.000000\n",
      "order_status                     0.000000\n",
      "order_purchase_timestamp         0.000000\n",
      "order_delivered_customer_date    2.871339\n",
      "order_item_id                    0.699160\n",
      "product_id                       0.699160\n",
      "price                            0.699160\n",
      "freight_value                    0.699160\n",
      "customer_unique_id               0.000000\n",
      "customer_city                    0.000000\n",
      "customer_state                   0.000000\n",
      "product_weight_g                 0.715946\n",
      "product_length_cm                0.715946\n",
      "product_height_cm                0.715946\n",
      "product_width_cm                 0.715946\n",
      "product_category_name_english    2.154554\n",
      "payment_sequential               0.002518\n",
      "payment_type                     0.002518\n",
      "payment_installments             0.002518\n",
      "payment_value                    0.002518\n",
      "review_score                     0.836810\n",
      "dtype: float64\n"
     ]
    }
   ],
   "source": [
    "# somme des valeurs nulles de chaque variable\n",
    "print((data_costumers.isnull().sum()/len(data_costumers))*100)"
   ]
  },
  {
   "cell_type": "code",
   "execution_count": 32,
   "id": "2ad2c3aa",
   "metadata": {
    "ExecuteTime": {
     "end_time": "2022-08-29T22:52:38.276260Z",
     "start_time": "2022-08-29T22:52:38.261256Z"
    }
   },
   "outputs": [
    {
     "data": {
      "text/plain": [
       "array([ 1.,  3.,  6., 10.,  4.,  2.,  8.,  9.,  7.,  5., 13., 12., 15.,\n",
       "       14., 21., 18., 24., 17., 11., 20., 23., 16., nan, 22.,  0.])"
      ]
     },
     "execution_count": 32,
     "metadata": {},
     "output_type": "execute_result"
    }
   ],
   "source": [
    "# versements échelonnés\n",
    "data_costumers['payment_installments'].unique()\n"
   ]
  },
  {
   "cell_type": "code",
   "execution_count": 33,
   "id": "38e11710",
   "metadata": {
    "ExecuteTime": {
     "end_time": "2022-08-29T22:52:38.292361Z",
     "start_time": "2022-08-29T22:52:38.277289Z"
    }
   },
   "outputs": [
    {
     "data": {
      "text/plain": [
       "array([ 1.,  3.,  2.,  4.,  8.,  5.,  7.,  9.,  6., 14., 17., 22., 11.,\n",
       "       16., 13., 18., 12., 19., 21., 20., 10., 15., 27., 25., 29., 28.,\n",
       "       26., 23., 24., nan])"
      ]
     },
     "execution_count": 33,
     "metadata": {},
     "output_type": "execute_result"
    }
   ],
   "source": [
    "data_costumers['payment_sequential'].unique()\n",
    "\n"
   ]
  },
  {
   "cell_type": "code",
   "execution_count": 34,
   "id": "fe52667e",
   "metadata": {
    "ExecuteTime": {
     "end_time": "2022-08-29T22:52:40.828355Z",
     "start_time": "2022-08-29T22:52:38.294370Z"
    }
   },
   "outputs": [
    {
     "data": {
      "text/plain": [
       "<AxesSubplot:>"
      ]
     },
     "execution_count": 34,
     "metadata": {},
     "output_type": "execute_result"
    },
    {
     "data": {
      "image/png": "[encoded data removed]",
      "text/plain": [
       "<Figure size 1440x720 with 1 Axes>"
      ]
     },
     "metadata": {
      "needs_background": "light"
     },
     "output_type": "display_data"
    }
   ],
   "source": [
    "# Pour visualiser la destribution des valeurs manquantes \n",
    "plt.figure(figsize=(20,10))\n",
    "sns.heatmap(data_costumers.isna(), cbar=False)"
   ]
  },
  {
   "cell_type": "markdown",
   "id": "28b6dbec",
   "metadata": {},
   "source": [
    "### Supprimer les doublons :"
   ]
  },
  {
   "cell_type": "code",
   "execution_count": 35,
   "id": "4cef9ef8",
   "metadata": {
    "ExecuteTime": {
     "end_time": "2022-08-29T22:52:41.017942Z",
     "start_time": "2022-08-29T22:52:40.829357Z"
    }
   },
   "outputs": [
    {
     "data": {
      "text/plain": [
       "421"
      ]
     },
     "execution_count": 35,
     "metadata": {},
     "output_type": "execute_result"
    }
   ],
   "source": [
    "data_costumers.duplicated().sum()"
   ]
  },
  {
   "cell_type": "code",
   "execution_count": 36,
   "id": "306db4aa",
   "metadata": {
    "ExecuteTime": {
     "end_time": "2022-08-29T22:52:41.238404Z",
     "start_time": "2022-08-29T22:52:41.019959Z"
    }
   },
   "outputs": [],
   "source": [
    "data_costumers.drop_duplicates(keep='first', inplace=True)"
   ]
  },
  {
   "cell_type": "markdown",
   "id": "0d5a9517",
   "metadata": {},
   "source": [
    "### Traitement des valeurs manquantes : "
   ]
  },
  {
   "cell_type": "code",
   "execution_count": 37,
   "id": "88321337",
   "metadata": {
    "ExecuteTime": {
     "end_time": "2022-08-29T22:52:41.253628Z",
     "start_time": "2022-08-29T22:52:41.239409Z"
    }
   },
   "outputs": [],
   "source": [
    "null = ['price','freight_value','product_weight_g','product_length_cm','product_width_cm']"
   ]
  },
  {
   "cell_type": "code",
   "execution_count": 38,
   "id": "4da9f9af",
   "metadata": {
    "ExecuteTime": {
     "end_time": "2022-08-29T22:52:41.269632Z",
     "start_time": "2022-08-29T22:52:41.255630Z"
    }
   },
   "outputs": [
    {
     "name": "stdout",
     "output_type": "stream",
     "text": [
      "skewness( price ) : 7.89\n",
      "skewness( freight_value ) : 5.544\n",
      "skewness( product_weight_g ) : 3.581\n",
      "skewness( product_length_cm ) : 1.747\n",
      "skewness( product_width_cm ) : 1.709\n"
     ]
    }
   ],
   "source": [
    "# calcul de coéficient d'asymétrie \n",
    "for c in null:\n",
    "    skew= round(data_costumers[c].skew(),3)\n",
    "    print( 'skewness(',c,') : {}'.format(skew))"
   ]
  },
  {
   "cell_type": "markdown",
   "id": "989b268a",
   "metadata": {},
   "source": [
    "Du point de vu numérique, on remarque une importante asymétrie."
   ]
  },
  {
   "cell_type": "code",
   "execution_count": 39,
   "id": "4d4e00da",
   "metadata": {
    "ExecuteTime": {
     "end_time": "2022-08-29T22:52:41.285628Z",
     "start_time": "2022-08-29T22:52:41.270629Z"
    }
   },
   "outputs": [
    {
     "name": "stdout",
     "output_type": "stream",
     "text": [
      "kurtosis( price ) : 119.039\n",
      "kurtosis( freight_value ) : 57.618\n",
      "kurtosis( product_weight_g ) : 16.002\n",
      "kurtosis( product_length_cm ) : 3.685\n",
      "kurtosis( product_width_cm ) : 4.567\n"
     ]
    }
   ],
   "source": [
    "# calcul du coefficient d'aplatissement :\n",
    "for c in null:\n",
    "    kurt= round(data_costumers[c].kurtosis(),3)\n",
    "    print( 'kurtosis(',c,') : {}'.format(kurt))"
   ]
  },
  {
   "cell_type": "markdown",
   "id": "0382337c",
   "metadata": {},
   "source": [
    "Les valeurs du kurtosis sont trés grandes et trés loin de 0 donc l'aplatissement n'est pas normal"
   ]
  },
  {
   "cell_type": "code",
   "execution_count": 40,
   "id": "e4b783ad",
   "metadata": {
    "ExecuteTime": {
     "end_time": "2022-08-29T22:52:41.331828Z",
     "start_time": "2022-08-29T22:52:41.287630Z"
    }
   },
   "outputs": [
    {
     "name": "stdout",
     "output_type": "stream",
     "text": [
      "price\n",
      "dispresion par unité de moyenne : 153%\n",
      "freight_value\n",
      "dispresion par unité de moyenne : 79%\n",
      "product_weight_g\n",
      "dispresion par unité de moyenne : 179%\n",
      "product_length_cm\n",
      "dispresion par unité de moyenne : 54%\n",
      "product_width_cm\n",
      "dispresion par unité de moyenne : 51%\n"
     ]
    }
   ],
   "source": [
    "# calcul du coeficient de variation \n",
    "for c in null:\n",
    "    cv = data_costumers[c].describe().loc['std']/data_costumers[c].describe().loc['mean']\n",
    "    print(c)\n",
    "    print('dispresion par unité de moyenne : {}%'.format(round (cv*100)))"
   ]
  },
  {
   "cell_type": "markdown",
   "id": "a90f1162",
   "metadata": {},
   "source": [
    "Les variabilités internes des variables sont jugées trop élevées (CV > 20%). L'imputation par la moyenne est abandonnée."
   ]
  },
  {
   "cell_type": "code",
   "execution_count": 41,
   "id": "681f0329",
   "metadata": {
    "ExecuteTime": {
     "end_time": "2022-08-29T22:52:41.362607Z",
     "start_time": "2022-08-29T22:52:41.332498Z"
    }
   },
   "outputs": [],
   "source": [
    "data_costumers.dropna(subset=['review_score','payment_value','price','freight_value','product_weight_g','product_length_cm','product_width_cm'], inplace= True)"
   ]
  },
  {
   "cell_type": "code",
   "execution_count": 42,
   "id": "de4db938",
   "metadata": {
    "ExecuteTime": {
     "end_time": "2022-08-29T22:52:41.501407Z",
     "start_time": "2022-08-29T22:52:41.364234Z"
    }
   },
   "outputs": [
    {
     "name": "stdout",
     "output_type": "stream",
     "text": [
      "order_id                         0.000000\n",
      "customer_id                      0.000000\n",
      "order_status                     0.000000\n",
      "order_purchase_timestamp         0.000000\n",
      "order_delivered_customer_date    2.107109\n",
      "order_item_id                    0.000000\n",
      "product_id                       0.000000\n",
      "price                            0.000000\n",
      "freight_value                    0.000000\n",
      "customer_unique_id               0.000000\n",
      "customer_city                    0.000000\n",
      "customer_state                   0.000000\n",
      "product_weight_g                 0.000000\n",
      "product_length_cm                0.000000\n",
      "product_height_cm                0.000000\n",
      "product_width_cm                 0.000000\n",
      "product_category_name_english    1.450081\n",
      "payment_sequential               0.000000\n",
      "payment_type                     0.000000\n",
      "payment_installments             0.000000\n",
      "payment_value                    0.000000\n",
      "review_score                     0.000000\n",
      "dtype: float64\n"
     ]
    }
   ],
   "source": [
    "print((data_costumers.isnull().sum()/len(data_costumers))*100)"
   ]
  },
  {
   "cell_type": "markdown",
   "id": "e6200e99",
   "metadata": {},
   "source": [
    "#### Imputation des valeurs manquantes des colonnes catégorielles :"
   ]
  },
  {
   "cell_type": "code",
   "execution_count": 43,
   "id": "578bc7cd",
   "metadata": {
    "ExecuteTime": {
     "end_time": "2022-08-29T22:52:42.241044Z",
     "start_time": "2022-08-29T22:52:41.503449Z"
    }
   },
   "outputs": [],
   "source": [
    "from sklearn.impute import SimpleImputer\n",
    "imp_mean = SimpleImputer(strategy='most_frequent') \n",
    "data_costumers['product_category_name_english'] = imp_mean.fit_transform(np.array(data_costumers['product_category_name_english']).reshape(-1,1))\n",
    "data_costumers['order_delivered_customer_date'] = imp_mean.fit_transform(np.array(data_costumers['order_delivered_customer_date']).reshape(-1,1))\n",
    "\n"
   ]
  },
  {
   "cell_type": "code",
   "execution_count": 44,
   "id": "6ba8f322",
   "metadata": {
    "ExecuteTime": {
     "end_time": "2022-08-29T22:52:42.383875Z",
     "start_time": "2022-08-29T22:52:42.241943Z"
    }
   },
   "outputs": [
    {
     "name": "stdout",
     "output_type": "stream",
     "text": [
      "order_id                         0.0\n",
      "customer_id                      0.0\n",
      "order_status                     0.0\n",
      "order_purchase_timestamp         0.0\n",
      "order_delivered_customer_date    0.0\n",
      "order_item_id                    0.0\n",
      "product_id                       0.0\n",
      "price                            0.0\n",
      "freight_value                    0.0\n",
      "customer_unique_id               0.0\n",
      "customer_city                    0.0\n",
      "customer_state                   0.0\n",
      "product_weight_g                 0.0\n",
      "product_length_cm                0.0\n",
      "product_height_cm                0.0\n",
      "product_width_cm                 0.0\n",
      "product_category_name_english    0.0\n",
      "payment_sequential               0.0\n",
      "payment_type                     0.0\n",
      "payment_installments             0.0\n",
      "payment_value                    0.0\n",
      "review_score                     0.0\n",
      "dtype: float64\n"
     ]
    }
   ],
   "source": [
    "print((data_costumers.isnull().sum()/len(data_costumers))*100)"
   ]
  },
  {
   "cell_type": "markdown",
   "id": "626021dd",
   "metadata": {},
   "source": [
    "### Visualisation :"
   ]
  },
  {
   "cell_type": "code",
   "execution_count": 45,
   "id": "268e3b23",
   "metadata": {
    "ExecuteTime": {
     "end_time": "2022-08-29T22:52:42.399675Z",
     "start_time": "2022-08-29T22:52:42.384986Z"
    }
   },
   "outputs": [],
   "source": [
    "# catégories des produits :"
   ]
  },
  {
   "cell_type": "code",
   "execution_count": 46,
   "id": "8dcba470",
   "metadata": {
    "ExecuteTime": {
     "end_time": "2022-08-29T22:52:42.567422Z",
     "start_time": "2022-08-29T22:52:42.400685Z"
    }
   },
   "outputs": [
    {
     "data": {
      "text/plain": [
       "<AxesSubplot:ylabel='product_category_name_english'>"
      ]
     },
     "execution_count": 46,
     "metadata": {},
     "output_type": "execute_result"
    },
    {
     "data": {
      "image/png": "[encoded data removed]",
      "text/plain": [
       "<Figure size 720x720 with 1 Axes>"
      ]
     },
     "metadata": {},
     "output_type": "display_data"
    }
   ],
   "source": [
    "plt.figure(figsize=(10,10))\n",
    "data_costumers['product_category_name_english'].value_counts().sort_values(ascending= False)[1:20].plot.pie()"
   ]
  },
  {
   "cell_type": "markdown",
   "id": "3b7dc3e2",
   "metadata": {},
   "source": [
    "- On remarque que les produits sont répartis sur plusieurs catégories, les plus représentés sont : health and beauty, sports, furniture decor, housewares, computers_accesories..."
   ]
  },
  {
   "cell_type": "code",
   "execution_count": 47,
   "id": "d6427310",
   "metadata": {
    "ExecuteTime": {
     "end_time": "2022-08-29T22:52:42.582940Z",
     "start_time": "2022-08-29T22:52:42.569423Z"
    }
   },
   "outputs": [],
   "source": [
    "# type de payement"
   ]
  },
  {
   "cell_type": "code",
   "execution_count": 48,
   "id": "8175c617",
   "metadata": {
    "ExecuteTime": {
     "end_time": "2022-08-29T22:52:42.722645Z",
     "start_time": "2022-08-29T22:52:42.584058Z"
    }
   },
   "outputs": [
    {
     "data": {
      "image/png": "[encoded data removed]",
      "text/plain": [
       "<Figure size 864x576 with 1 Axes>"
      ]
     },
     "metadata": {
      "needs_background": "light"
     },
     "output_type": "display_data"
    }
   ],
   "source": [
    "fig = plt.figure(figsize=(12,8))\n",
    "ax = sns.histplot(data=data_costumers, x='payment_type')\n",
    "ax.set_xlabel(\"type de payement\")\n",
    "plt.show()"
   ]
  },
  {
   "cell_type": "markdown",
   "id": "30b41716",
   "metadata": {},
   "source": [
    "\n",
    "- On remarque que 80% des paiements environ sont réalisés en carte bancaire. Nous ne prendrons donc pas en considération cette variable dans nos explorations."
   ]
  },
  {
   "cell_type": "code",
   "execution_count": 49,
   "id": "1d23878c",
   "metadata": {
    "ExecuteTime": {
     "end_time": "2022-08-29T22:52:42.738133Z",
     "start_time": "2022-08-29T22:52:42.723564Z"
    }
   },
   "outputs": [],
   "source": [
    "# review score\n",
    "# Répartition des scores "
   ]
  },
  {
   "cell_type": "code",
   "execution_count": 50,
   "id": "fcf89f74",
   "metadata": {
    "ExecuteTime": {
     "end_time": "2022-08-29T22:52:42.986376Z",
     "start_time": "2022-08-29T22:52:42.739132Z"
    }
   },
   "outputs": [
    {
     "data": {
      "image/png": "[encoded data removed]",
      "text/plain": [
       "<Figure size 864x576 with 1 Axes>"
      ]
     },
     "metadata": {
      "needs_background": "light"
     },
     "output_type": "display_data"
    }
   ],
   "source": [
    "fig = plt.figure(figsize=(12,8))\n",
    "ax = sns.histplot(data=data_costumers, x='review_score')\n",
    "ax.set_xlabel(\"score\")\n",
    "plt.show()"
   ]
  },
  {
   "cell_type": "markdown",
   "id": "3d9eb9c6",
   "metadata": {},
   "source": [
    "- On remarque que la majorité des clients ont donné un score de 5"
   ]
  },
  {
   "cell_type": "code",
   "execution_count": 51,
   "id": "18f5a0b2",
   "metadata": {
    "ExecuteTime": {
     "end_time": "2022-08-29T22:52:43.002410Z",
     "start_time": "2022-08-29T22:52:42.988376Z"
    }
   },
   "outputs": [],
   "source": [
    "# state"
   ]
  },
  {
   "cell_type": "code",
   "execution_count": 52,
   "id": "19bd162a",
   "metadata": {
    "ExecuteTime": {
     "end_time": "2022-08-29T22:52:43.203760Z",
     "start_time": "2022-08-29T22:52:43.003418Z"
    }
   },
   "outputs": [
    {
     "data": {
      "image/png": "[encoded data removed]",
      "text/plain": [
       "<Figure size 864x576 with 1 Axes>"
      ]
     },
     "metadata": {
      "needs_background": "light"
     },
     "output_type": "display_data"
    }
   ],
   "source": [
    "fig = plt.figure(figsize=(12,8))\n",
    "ax = sns.histplot(data=data_costumers, x='customer_state')\n",
    "ax.set_xlabel(\"state\")\n",
    "plt.show()"
   ]
  },
  {
   "cell_type": "markdown",
   "id": "b0197917",
   "metadata": {},
   "source": [
    "    - On remarque que l'état dans laquelle les clients ont effectué le plus grand nombre d'achats est São Paulo."
   ]
  },
  {
   "cell_type": "code",
   "execution_count": 53,
   "id": "c5c3bc79",
   "metadata": {
    "ExecuteTime": {
     "end_time": "2022-08-29T22:52:43.219711Z",
     "start_time": "2022-08-29T22:52:43.204723Z"
    }
   },
   "outputs": [],
   "source": [
    "# statut de la commande"
   ]
  },
  {
   "cell_type": "code",
   "execution_count": 54,
   "id": "29d8c29c",
   "metadata": {
    "ExecuteTime": {
     "end_time": "2022-08-29T22:52:43.363715Z",
     "start_time": "2022-08-29T22:52:43.220710Z"
    }
   },
   "outputs": [
    {
     "data": {
      "image/png": "[encoded data removed]",
      "text/plain": [
       "<Figure size 864x576 with 1 Axes>"
      ]
     },
     "metadata": {
      "needs_background": "light"
     },
     "output_type": "display_data"
    }
   ],
   "source": [
    "fig = plt.figure(figsize=(12,8))\n",
    "ax = sns.histplot(data=data_costumers, x='order_status')\n",
    "ax.set_xlabel(\"statut de la commande\")\n",
    "plt.show()"
   ]
  },
  {
   "cell_type": "markdown",
   "id": "e5515988",
   "metadata": {},
   "source": [
    "- La majorité des commandes ont été délivrées."
   ]
  },
  {
   "cell_type": "markdown",
   "id": "41c70f65",
   "metadata": {},
   "source": [
    " #### La répartition du nombre de commandes par mois, jour de la semaine ou heure de la journée"
   ]
  },
  {
   "cell_type": "code",
   "execution_count": 55,
   "id": "d61528b0",
   "metadata": {
    "ExecuteTime": {
     "end_time": "2022-08-29T22:52:43.379727Z",
     "start_time": "2022-08-29T22:52:43.364973Z"
    }
   },
   "outputs": [],
   "source": [
    "# Mettre la colonne 'order_delivered_customer_date' sous la forme datetime."
   ]
  },
  {
   "cell_type": "code",
   "execution_count": 56,
   "id": "06ba5b39",
   "metadata": {
    "ExecuteTime": {
     "end_time": "2022-08-29T22:52:43.443337Z",
     "start_time": "2022-08-29T22:52:43.381323Z"
    }
   },
   "outputs": [],
   "source": [
    "data_costumers['order_delivered_customer_date'] = pd.to_datetime(data_costumers['order_delivered_customer_date'], errors='coerce')"
   ]
  },
  {
   "cell_type": "code",
   "execution_count": 57,
   "id": "66afcdb1",
   "metadata": {
    "ExecuteTime": {
     "end_time": "2022-08-29T22:52:43.458560Z",
     "start_time": "2022-08-29T22:52:43.444325Z"
    }
   },
   "outputs": [],
   "source": [
    "# Mettre la colonne 'order_purchase_timestamp' sous la forme datetime."
   ]
  },
  {
   "cell_type": "code",
   "execution_count": 58,
   "id": "d828aed9",
   "metadata": {
    "ExecuteTime": {
     "end_time": "2022-08-29T22:52:43.535964Z",
     "start_time": "2022-08-29T22:52:43.459548Z"
    }
   },
   "outputs": [],
   "source": [
    "data_costumers['order_purchase_timestamp'] = pd.to_datetime(data_costumers['order_purchase_timestamp'], errors='coerce')"
   ]
  },
  {
   "cell_type": "code",
   "execution_count": 59,
   "id": "3e6b10a1",
   "metadata": {
    "ExecuteTime": {
     "end_time": "2022-08-29T22:52:43.551403Z",
     "start_time": "2022-08-29T22:52:43.537977Z"
    }
   },
   "outputs": [],
   "source": [
    "# order purchase day :\n",
    "data_costumers['order_purchase_day'] = data_costumers['order_purchase_timestamp'].dt.day"
   ]
  },
  {
   "cell_type": "code",
   "execution_count": 60,
   "id": "2e27b68d",
   "metadata": {
    "ExecuteTime": {
     "end_time": "2022-08-29T22:52:43.566878Z",
     "start_time": "2022-08-29T22:52:43.553412Z"
    }
   },
   "outputs": [],
   "source": [
    "# order purchase month :\n",
    "data_costumers['order_purchase_month'] = data_costumers['order_purchase_timestamp'].dt.month"
   ]
  },
  {
   "cell_type": "code",
   "execution_count": 61,
   "id": "4394e3ed",
   "metadata": {
    "ExecuteTime": {
     "end_time": "2022-08-29T22:52:43.582097Z",
     "start_time": "2022-08-29T22:52:43.568894Z"
    }
   },
   "outputs": [],
   "source": [
    "# order purchase year :\n",
    "data_costumers['order_purchase_year'] = data_costumers['order_purchase_timestamp'].dt.year"
   ]
  },
  {
   "cell_type": "code",
   "execution_count": 62,
   "id": "1f75dc6a",
   "metadata": {
    "ExecuteTime": {
     "end_time": "2022-08-29T22:52:43.598131Z",
     "start_time": "2022-08-29T22:52:43.583090Z"
    }
   },
   "outputs": [],
   "source": [
    "# order purchase hour :\n",
    "data_costumers['order_purchase_hour'] = data_costumers['order_purchase_timestamp'].dt.hour"
   ]
  },
  {
   "cell_type": "code",
   "execution_count": 63,
   "id": "9dde2a32",
   "metadata": {
    "ExecuteTime": {
     "end_time": "2022-08-29T22:52:43.772089Z",
     "start_time": "2022-08-29T22:52:43.599118Z"
    }
   },
   "outputs": [
    {
     "data": {
      "image/png": "[encoded data removed]",
      "text/plain": [
       "<Figure size 864x576 with 1 Axes>"
      ]
     },
     "metadata": {
      "needs_background": "light"
     },
     "output_type": "display_data"
    }
   ],
   "source": [
    "fig = plt.figure(figsize=(12,8))\n",
    "ax = sns.histplot(data=data_costumers, x='order_purchase_year')\n",
    "ax.set_xlabel(\"Répartition des commandes par année\")\n",
    "plt.show()"
   ]
  },
  {
   "cell_type": "code",
   "execution_count": 64,
   "id": "dccd0c79",
   "metadata": {
    "ExecuteTime": {
     "end_time": "2022-08-29T22:52:43.928220Z",
     "start_time": "2022-08-29T22:52:43.773051Z"
    }
   },
   "outputs": [
    {
     "data": {
      "image/png": "[encoded data removed]",
      "text/plain": [
       "<Figure size 864x576 with 1 Axes>"
      ]
     },
     "metadata": {
      "needs_background": "light"
     },
     "output_type": "display_data"
    }
   ],
   "source": [
    "fig = plt.figure(figsize=(12,8))\n",
    "ax = sns.histplot(data=data_costumers, x='order_purchase_month')\n",
    "ax.set_xlabel(\"Répartition des commandes par mois\")\n",
    "plt.show()"
   ]
  },
  {
   "cell_type": "code",
   "execution_count": 65,
   "id": "884213eb",
   "metadata": {
    "ExecuteTime": {
     "end_time": "2022-08-29T22:52:44.101689Z",
     "start_time": "2022-08-29T22:52:43.930225Z"
    }
   },
   "outputs": [
    {
     "data": {
      "image/png": "[encoded data removed]",
      "text/plain": [
       "<Figure size 864x576 with 1 Axes>"
      ]
     },
     "metadata": {
      "needs_background": "light"
     },
     "output_type": "display_data"
    }
   ],
   "source": [
    "fig = plt.figure(figsize=(12,8))\n",
    "ax = sns.histplot(data=data_costumers, x='order_purchase_day')\n",
    "ax.set_xlabel('Répartition des commandes par jour')\n",
    "plt.show()"
   ]
  },
  {
   "cell_type": "code",
   "execution_count": 66,
   "id": "242d23dc",
   "metadata": {
    "ExecuteTime": {
     "end_time": "2022-08-29T22:52:44.241132Z",
     "start_time": "2022-08-29T22:52:44.103606Z"
    }
   },
   "outputs": [
    {
     "data": {
      "image/png": "[encoded data removed]",
      "text/plain": [
       "<Figure size 864x576 with 1 Axes>"
      ]
     },
     "metadata": {
      "needs_background": "light"
     },
     "output_type": "display_data"
    }
   ],
   "source": [
    "fig = plt.figure(figsize=(12,8))\n",
    "ax = sns.histplot(data=data_costumers, x='order_purchase_hour', stat=\"percent\", discrete=True)\n",
    "ax.set_xlabel('Répartition des commandes par heure dans la journée')\n",
    "plt.show()"
   ]
  },
  {
   "cell_type": "code",
   "execution_count": 67,
   "id": "695931be",
   "metadata": {
    "ExecuteTime": {
     "end_time": "2022-08-29T22:52:44.444241Z",
     "start_time": "2022-08-29T22:52:44.242134Z"
    }
   },
   "outputs": [
    {
     "data": {
      "text/plain": [
       "Text(0.5, 0, 'Répartition des commandes par année')"
      ]
     },
     "execution_count": 67,
     "metadata": {},
     "output_type": "execute_result"
    },
    {
     "data": {
      "image/png": "[encoded data removed]",
      "text/plain": [
       "<Figure size 1080x360 with 2 Axes>"
      ]
     },
     "metadata": {
      "needs_background": "light"
     },
     "output_type": "display_data"
    }
   ],
   "source": [
    "plt.figure(figsize=(15,5))\n",
    "plt.subplot(1,2,1)\n",
    "plt.hist(x ='order_purchase_month', bins=10, color='blue', histtype= 'bar', rwidth=0.3, data=data_costumers)\n",
    "plt.xlabel('Répartition des commandes par mois')\n",
    "\n",
    "plt.subplot(1,2,2)\n",
    "plt.hist(x= 'order_purchase_year', bins=10, color='blue', histtype= 'bar', rwidth=0.3, data=data_costumers)\n",
    "plt.xlabel('Répartition des commandes par année')\n"
   ]
  },
  {
   "cell_type": "markdown",
   "id": "209047e5",
   "metadata": {},
   "source": [
    "- On remarque les plus gros écart sur les données mensuelles. Vérifions les variances de chiffre d'affaire sur les mois de l'années"
   ]
  },
  {
   "cell_type": "code",
   "execution_count": 68,
   "id": "3b321018",
   "metadata": {
    "ExecuteTime": {
     "end_time": "2022-08-29T22:52:44.460283Z",
     "start_time": "2022-08-29T22:52:44.446241Z"
    }
   },
   "outputs": [],
   "source": [
    "### Chiffre d'affaire sur les mois :"
   ]
  },
  {
   "cell_type": "code",
   "execution_count": 69,
   "id": "1786c58d",
   "metadata": {
    "ExecuteTime": {
     "end_time": "2022-08-29T22:52:44.792584Z",
     "start_time": "2022-08-29T22:52:44.461248Z"
    }
   },
   "outputs": [
    {
     "data": {
      "image/png": "[encoded data removed]",
      "text/plain": [
       "<Figure size 864x576 with 1 Axes>"
      ]
     },
     "metadata": {
      "needs_background": "light"
     },
     "output_type": "display_data"
    }
   ],
   "source": [
    "data_costumers[\"sale_month\"] = data_costumers['order_purchase_timestamp'].dt.month\n",
    "fig = plt.figure(figsize=(12,8))\n",
    "sns.boxplot(data=data_costumers[data_costumers.price < 500], x=\"sale_month\", y=\"price\")\n",
    "plt.title(\"Distribution du C.A. sur les mois de l'année\", fontsize=18, color=\"b\")\n",
    "plt.show()"
   ]
  },
  {
   "cell_type": "markdown",
   "id": "7ce3ea0a",
   "metadata": {},
   "source": [
    "- Les médianes et variances restent très proche sur les différents mois de l'année. "
   ]
  },
  {
   "cell_type": "markdown",
   "id": "6336f125",
   "metadata": {},
   "source": [
    "### Feature engineering"
   ]
  },
  {
   "cell_type": "markdown",
   "id": "ea09ef95",
   "metadata": {
    "ExecuteTime": {
     "end_time": "2022-08-28T09:40:20.487688Z",
     "start_time": "2022-08-28T09:40:20.474018Z"
    }
   },
   "source": [
    "#### Delais de livraison "
   ]
  },
  {
   "cell_type": "code",
   "execution_count": 70,
   "id": "8783b348",
   "metadata": {
    "ExecuteTime": {
     "end_time": "2022-08-29T22:52:44.807597Z",
     "start_time": "2022-08-29T22:52:44.794508Z"
    }
   },
   "outputs": [],
   "source": [
    "data_costumers['delais_de_livraison'] = data_costumers['order_delivered_customer_date'] - data_costumers['order_purchase_timestamp']"
   ]
  },
  {
   "cell_type": "code",
   "execution_count": 71,
   "id": "62c2ac91",
   "metadata": {
    "ExecuteTime": {
     "end_time": "2022-08-29T22:52:44.823582Z",
     "start_time": "2022-08-29T22:52:44.809508Z"
    }
   },
   "outputs": [
    {
     "data": {
      "text/plain": [
       "0         8 days 10:28:40\n",
       "1         8 days 10:28:40\n",
       "2         8 days 10:28:40\n",
       "3        13 days 18:46:08\n",
       "4         9 days 09:27:40\n",
       "               ...       \n",
       "119138   22 days 04:38:58\n",
       "119139   24 days 20:37:34\n",
       "119140   17 days 02:04:27\n",
       "119141   17 days 02:04:27\n",
       "119142    7 days 16:11:00\n",
       "Name: delais_de_livraison, Length: 116890, dtype: timedelta64[ns]"
      ]
     },
     "execution_count": 71,
     "metadata": {},
     "output_type": "execute_result"
    }
   ],
   "source": [
    "data_costumers['delais_de_livraison']"
   ]
  },
  {
   "cell_type": "code",
   "execution_count": 72,
   "id": "b1f98b27",
   "metadata": {
    "ExecuteTime": {
     "end_time": "2022-08-29T22:52:46.057169Z",
     "start_time": "2022-08-29T22:52:44.825585Z"
    }
   },
   "outputs": [
    {
     "name": "stderr",
     "output_type": "stream",
     "text": [
      "C:\\Users\\chouc\\anaconda3\\lib\\site-packages\\seaborn\\distributions.py:1699: FutureWarning: The `bw` parameter is deprecated in favor of `bw_method` and `bw_adjust`. Using 0.3 for `bw_method`, but please see the docs for the new parameters and update your code.\n",
      "  warnings.warn(msg, FutureWarning)\n"
     ]
    },
    {
     "data": {
      "image/png": "[encoded data removed]",
      "text/plain": [
       "<Figure size 864x576 with 1 Axes>"
      ]
     },
     "metadata": {
      "needs_background": "light"
     },
     "output_type": "display_data"
    }
   ],
   "source": [
    "fig = plt.figure(figsize=(12,8))\n",
    "# sns.set_style('whitegrid')\n",
    "ax = sns.kdeplot(np.array(data_costumers[data_costumers['delais_de_livraison'].dt.days> 0 ]['delais_de_livraison'].dt.days), bw=0.3, cut= 3)\n",
    "plt.title(f\"Répartition des délais de livraison moyens\\n\")\n",
    "plt.show()"
   ]
  },
  {
   "cell_type": "markdown",
   "id": "62e2c35e",
   "metadata": {},
   "source": [
    "                                       -------------------------------------"
   ]
  },
  {
   "cell_type": "markdown",
   "id": "f0848ab0",
   "metadata": {},
   "source": [
    "- Autre variable à créer, la catégorie de produit . En effet, le jeu de données compte plus de 70 catégories différentes (ce qui peut poser problème pour un encodage lors des preprocessing). Nous allons donc devoir regrouper plusieurs de ces catégorie dans une autre catégorie .\n",
    "\n",
    "Pour cela, nous allons nous baser sur les catégories principales des sites de vente en ligne en 2017, disponibles sur le site http://statista.com :\n",
    "\n",
    "Fashion, clothing and accessories\n",
    "Health and Beauty\n",
    "Toys and baby equipment\n",
    "Books, CDs and other physical media\n",
    "Groceries, food and drink\n",
    "Technology (including phones and computers)\n",
    "Home and furniture\n",
    "Flowers and gifts\n",
    "Other"
   ]
  },
  {
   "cell_type": "code",
   "execution_count": 73,
   "id": "6ab0ed90",
   "metadata": {
    "ExecuteTime": {
     "end_time": "2022-08-29T22:52:46.072963Z",
     "start_time": "2022-08-29T22:52:46.058817Z"
    }
   },
   "outputs": [
    {
     "data": {
      "text/plain": [
       "array(['housewares', 'perfumery', 'auto', 'pet_shop', 'stationery',\n",
       "       'bed_bath_table', 'furniture_decor', 'office_furniture',\n",
       "       'garden_tools', 'computers_accessories', 'toys', 'telephony',\n",
       "       'health_beauty', 'electronics', 'baby', 'cool_stuff',\n",
       "       'watches_gifts', 'air_conditioning', 'sports_leisure',\n",
       "       'books_general_interest', 'construction_tools_construction',\n",
       "       'small_appliances', 'food', 'luggage_accessories',\n",
       "       'fashion_underwear_beach', 'christmas_supplies',\n",
       "       'fashion_bags_accessories', 'musical_instruments',\n",
       "       'construction_tools_lights', 'books_technical',\n",
       "       'costruction_tools_garden', 'home_appliances', 'market_place',\n",
       "       'agro_industry_and_commerce', 'party_supplies', 'home_confort',\n",
       "       'cds_dvds_musicals', 'industry_commerce_and_business',\n",
       "       'consoles_games', 'furniture_bedroom', 'construction_tools_safety',\n",
       "       'fixed_telephony', 'drinks',\n",
       "       'kitchen_dining_laundry_garden_furniture', 'fashion_shoes',\n",
       "       'home_construction', 'audio', 'home_appliances_2',\n",
       "       'fashion_male_clothing', 'cine_photo', 'furniture_living_room',\n",
       "       'art', 'food_drink', 'tablets_printing_image', 'fashion_sport',\n",
       "       'la_cuisine', 'flowers', 'computers', 'home_comfort_2',\n",
       "       'small_appliances_home_oven_and_coffee', 'dvds_blu_ray',\n",
       "       'costruction_tools_tools', 'fashio_female_clothing',\n",
       "       'furniture_mattress_and_upholstery', 'signaling_and_security',\n",
       "       'diapers_and_hygiene', 'books_imported',\n",
       "       'fashion_childrens_clothes', 'music', 'arts_and_craftmanship',\n",
       "       'security_and_services'], dtype=object)"
      ]
     },
     "execution_count": 73,
     "metadata": {},
     "output_type": "execute_result"
    }
   ],
   "source": [
    "data_costumers['product_category_name_english'].unique()"
   ]
  },
  {
   "cell_type": "code",
   "execution_count": 74,
   "id": "f266afe9",
   "metadata": {
    "ExecuteTime": {
     "end_time": "2022-08-29T22:52:46.088888Z",
     "start_time": "2022-08-29T22:52:46.073888Z"
    }
   },
   "outputs": [],
   "source": [
    "# 'Fashion, clothing and accesories' : ['watches_gifts','luggage_accessories','fashion_underwear_beach','fashion_bags_accessories','fashion_shoes','fashion_male_clothing','fashion_sport','fashio_female_clothing','fashion_childrens_clothes']\n",
    "# 'Health and beauty' : ['perfumery','health_beauty','diapers_and_hygiene']\n",
    "# 'Toys and baby equipment' : ['toys','baby']\n",
    "# 'Books, CDs and other physical media' : ['stationery','office_furniture','computers_accessories','books_general_interest','books_technical','cds_dvds_musicals','art','tablets_printing_image','dvds_blu_ray','cine_photo','books_imported','music','arts_and_craftmanship']\n",
    "# 'Groceries, food and drink' :['food','agro_industry_and_commerce','drinks','food_drink']\n",
    "# 'Technology' : ['telephony','electronics','air_conditioning','small_appliances','consoles_games','fixed_telephony','audio','computers']\n",
    "# 'Home and furniture' : ['housewares', 'bed_bath_table','furniture_decor','garden_tools','construction_tools_construction','construction_tools_lights','costruction_tools_garden','home_appliances','home_confort','furniture_bedroom','kitchen_dining_laundry_garden_furniture','home_appliances_2','furniture_living_room','la_cuisine','home_comfort_2','small_appliances_home_oven_and_coffee','furniture_mattress_and_upholstery']\n",
    "\n",
    "# 'Flowres and gifts' : ['flowers']\n",
    "# 'Other' : ['auto','pet_shop','cool_stuff','sports_leisure','christmas_supplies','musical_instruments','market_place','party_supplies','industry_commerce_and_business','construction_tools_safety','home_construction','costruction_tools_tools','signaling_and_security','security_and_services']"
   ]
  },
  {
   "cell_type": "code",
   "execution_count": 75,
   "id": "e8e9312e",
   "metadata": {
    "ExecuteTime": {
     "end_time": "2022-08-29T22:52:46.120916Z",
     "start_time": "2022-08-29T22:52:46.089888Z"
    }
   },
   "outputs": [],
   "source": [
    "data_costumers['product_category_name_english'].replace(to_replace=['watches_gifts','luggage_accessories','fashion_underwear_beach','fashion_bags_accessories','fashion_shoes','fashion_male_clothing','fashion_sport','fashio_female_clothing','fashion_childrens_clothes'], value = 'Fashion, clothing and accesories', inplace = True)"
   ]
  },
  {
   "cell_type": "code",
   "execution_count": 76,
   "id": "6be13757",
   "metadata": {
    "ExecuteTime": {
     "end_time": "2022-08-29T22:52:46.136481Z",
     "start_time": "2022-08-29T22:52:46.121963Z"
    }
   },
   "outputs": [],
   "source": [
    "data_costumers['product_category_name_english'].replace(to_replace=['perfumery','health_beauty','diapers_and_hygiene'], value = 'Health and beauty', inplace = True)"
   ]
  },
  {
   "cell_type": "code",
   "execution_count": 77,
   "id": "8e5851be",
   "metadata": {
    "ExecuteTime": {
     "end_time": "2022-08-29T22:52:46.184696Z",
     "start_time": "2022-08-29T22:52:46.138437Z"
    }
   },
   "outputs": [],
   "source": [
    "data_costumers['product_category_name_english'].replace(to_replace=['stationery','office_furniture','computers_accessories','books_general_interest','books_technical','cds_dvds_musicals','art','tablets_printing_image','dvds_blu_ray','cine_photo','books_imported','music','arts_and_craftmanship'], value = 'Toys and baby equipment', inplace = True)"
   ]
  },
  {
   "cell_type": "code",
   "execution_count": 78,
   "id": "f39cbb1e",
   "metadata": {
    "ExecuteTime": {
     "end_time": "2022-08-29T22:52:46.199808Z",
     "start_time": "2022-08-29T22:52:46.185703Z"
    }
   },
   "outputs": [],
   "source": [
    "data_costumers['product_category_name_english'].replace(to_replace=['toys','baby'], value = 'Books, CDs and other physical media', inplace = True)"
   ]
  },
  {
   "cell_type": "code",
   "execution_count": 79,
   "id": "3d848bad",
   "metadata": {
    "ExecuteTime": {
     "end_time": "2022-08-29T22:52:46.230625Z",
     "start_time": "2022-08-29T22:52:46.200700Z"
    }
   },
   "outputs": [],
   "source": [
    "data_costumers['product_category_name_english'].replace(to_replace=['food','agro_industry_and_commerce','drinks','food_drink'], value = 'Groceries, food and drink', inplace = True)"
   ]
  },
  {
   "cell_type": "code",
   "execution_count": 80,
   "id": "e52e494d",
   "metadata": {
    "ExecuteTime": {
     "end_time": "2022-08-29T22:52:46.275361Z",
     "start_time": "2022-08-29T22:52:46.231625Z"
    }
   },
   "outputs": [],
   "source": [
    "data_costumers['product_category_name_english'].replace(to_replace=['telephony','electronics','air_conditioning','small_appliances','consoles_games','fixed_telephony','audio','computers'], value = 'Technology', inplace = True)"
   ]
  },
  {
   "cell_type": "code",
   "execution_count": 81,
   "id": "bb90b873",
   "metadata": {
    "ExecuteTime": {
     "end_time": "2022-08-29T22:52:46.335397Z",
     "start_time": "2022-08-29T22:52:46.282285Z"
    }
   },
   "outputs": [],
   "source": [
    "data_costumers['product_category_name_english'].replace(to_replace=['housewares', 'bed_bath_table','furniture_decor','garden_tools','construction_tools_construction','construction_tools_lights','costruction_tools_garden','home_appliances','home_confort','furniture_bedroom','kitchen_dining_laundry_garden_furniture','home_appliances_2','furniture_living_room','la_cuisine','home_comfort_2','small_appliances_home_oven_and_coffee','furniture_mattress_and_upholstery'], value = 'Home and furniture', inplace = True)"
   ]
  },
  {
   "cell_type": "code",
   "execution_count": 82,
   "id": "d58a1e3b",
   "metadata": {
    "ExecuteTime": {
     "end_time": "2022-08-29T22:52:46.350533Z",
     "start_time": "2022-08-29T22:52:46.337397Z"
    }
   },
   "outputs": [],
   "source": [
    "data_costumers['product_category_name_english'].replace(to_replace=['flowers'], value = 'Flowres and gifts', inplace = True)"
   ]
  },
  {
   "cell_type": "code",
   "execution_count": 83,
   "id": "6da8c049",
   "metadata": {
    "ExecuteTime": {
     "end_time": "2022-08-29T22:52:46.397622Z",
     "start_time": "2022-08-29T22:52:46.351544Z"
    }
   },
   "outputs": [],
   "source": [
    "data_costumers['product_category_name_english'].replace(to_replace=['auto','pet_shop','cool_stuff','sports_leisure','christmas_supplies','musical_instruments','market_place','party_supplies','industry_commerce_and_business','construction_tools_safety','home_construction','costruction_tools_tools','signaling_and_security','security_and_services'], value = 'Other', inplace = True)"
   ]
  },
  {
   "cell_type": "code",
   "execution_count": 84,
   "id": "5a9d50c2",
   "metadata": {
    "ExecuteTime": {
     "end_time": "2022-08-29T22:52:46.413171Z",
     "start_time": "2022-08-29T22:52:46.398545Z"
    }
   },
   "outputs": [
    {
     "data": {
      "text/plain": [
       "9"
      ]
     },
     "execution_count": 84,
     "metadata": {},
     "output_type": "execute_result"
    }
   ],
   "source": [
    "len(data_costumers['product_category_name_english'].unique())"
   ]
  },
  {
   "cell_type": "code",
   "execution_count": 85,
   "id": "de26c069",
   "metadata": {
    "ExecuteTime": {
     "end_time": "2022-08-29T22:52:46.614637Z",
     "start_time": "2022-08-29T22:52:46.414160Z"
    }
   },
   "outputs": [
    {
     "data": {
      "image/png": "[encoded data removed]",
      "text/plain": [
       "<Figure size 864x432 with 1 Axes>"
      ]
     },
     "metadata": {
      "needs_background": "light"
     },
     "output_type": "display_data"
    }
   ],
   "source": [
    "# Plot categories count in dataset\n",
    "fig = plt.figure(figsize=(12, 6))\n",
    "sns.countplot(data=data_costumers, x='product_category_name_english',\n",
    "              edgecolor=\"black\",\n",
    "              color=\"#00d994\", alpha=0.7)\n",
    "plt.xticks(range(0, data_costumers['product_category_name_english'].nunique()),\n",
    "           data_costumers['product_category_name_english'].unique(),\n",
    "           rotation=90)\n",
    "plt.title(f\"Les nouvelles catégories produits les plus représentées\\n\")\n",
    "plt.show()"
   ]
  },
  {
   "cell_type": "markdown",
   "id": "e4f24a5f",
   "metadata": {},
   "source": [
    "#### Dépense totale d'un client "
   ]
  },
  {
   "cell_type": "code",
   "execution_count": 97,
   "id": "59da36a1",
   "metadata": {
    "ExecuteTime": {
     "end_time": "2022-08-29T22:56:20.704298Z",
     "start_time": "2022-08-29T22:56:20.593894Z"
    }
   },
   "outputs": [],
   "source": [
    "data_costumers.groupby(['customer_unique_id']).payment_value.sum().reset_index()"
   ]
  },
  {
   "cell_type": "markdown",
   "id": "49655ba1",
   "metadata": {},
   "source": [
    "#### Nombre moyen d'articles achetés par client "
   ]
  },
  {
   "cell_type": "code",
   "execution_count": 87,
   "id": "5cd424a1",
   "metadata": {
    "ExecuteTime": {
     "end_time": "2022-08-29T22:52:46.905740Z",
     "start_time": "2022-08-29T22:52:46.754703Z"
    }
   },
   "outputs": [
    {
     "data": {
      "text/html": [
       "<div>\n",
       "<style scoped>\n",
       "    .dataframe tbody tr th:only-of-type {\n",
       "        vertical-align: middle;\n",
       "    }\n",
       "\n",
       "    .dataframe tbody tr th {\n",
       "        vertical-align: top;\n",
       "    }\n",
       "\n",
       "    .dataframe thead th {\n",
       "        text-align: right;\n",
       "    }\n",
       "</style>\n",
       "<table border=\"1\" class=\"dataframe\">\n",
       "  <thead>\n",
       "    <tr style=\"text-align: right;\">\n",
       "      <th></th>\n",
       "      <th>customer_unique_id</th>\n",
       "      <th>product_id</th>\n",
       "    </tr>\n",
       "  </thead>\n",
       "  <tbody>\n",
       "    <tr>\n",
       "      <th>0</th>\n",
       "      <td>0000366f3b9a7992bf8c76cfdf3221e2</td>\n",
       "      <td>1</td>\n",
       "    </tr>\n",
       "    <tr>\n",
       "      <th>1</th>\n",
       "      <td>0000b849f77a49e4a4ce2b2a4ca5be3f</td>\n",
       "      <td>1</td>\n",
       "    </tr>\n",
       "    <tr>\n",
       "      <th>2</th>\n",
       "      <td>0000f46a3911fa3c0805444483337064</td>\n",
       "      <td>1</td>\n",
       "    </tr>\n",
       "    <tr>\n",
       "      <th>3</th>\n",
       "      <td>0000f6ccb0745a6a4b88665a16c9f078</td>\n",
       "      <td>1</td>\n",
       "    </tr>\n",
       "    <tr>\n",
       "      <th>4</th>\n",
       "      <td>0004aac84e0df4da2b147fca70cf8255</td>\n",
       "      <td>1</td>\n",
       "    </tr>\n",
       "    <tr>\n",
       "      <th>...</th>\n",
       "      <td>...</td>\n",
       "      <td>...</td>\n",
       "    </tr>\n",
       "    <tr>\n",
       "      <th>94702</th>\n",
       "      <td>fffcf5a5ff07b0908bd4e2dbc735a684</td>\n",
       "      <td>2</td>\n",
       "    </tr>\n",
       "    <tr>\n",
       "      <th>94703</th>\n",
       "      <td>fffea47cd6d3cc0a88bd621562a9d061</td>\n",
       "      <td>1</td>\n",
       "    </tr>\n",
       "    <tr>\n",
       "      <th>94704</th>\n",
       "      <td>ffff371b4d645b6ecea244b27531430a</td>\n",
       "      <td>1</td>\n",
       "    </tr>\n",
       "    <tr>\n",
       "      <th>94705</th>\n",
       "      <td>ffff5962728ec6157033ef9805bacc48</td>\n",
       "      <td>1</td>\n",
       "    </tr>\n",
       "    <tr>\n",
       "      <th>94706</th>\n",
       "      <td>ffffd2657e2aad2907e67c3e9daecbeb</td>\n",
       "      <td>1</td>\n",
       "    </tr>\n",
       "  </tbody>\n",
       "</table>\n",
       "<p>94707 rows × 2 columns</p>\n",
       "</div>"
      ],
      "text/plain": [
       "                     customer_unique_id  product_id\n",
       "0      0000366f3b9a7992bf8c76cfdf3221e2           1\n",
       "1      0000b849f77a49e4a4ce2b2a4ca5be3f           1\n",
       "2      0000f46a3911fa3c0805444483337064           1\n",
       "3      0000f6ccb0745a6a4b88665a16c9f078           1\n",
       "4      0004aac84e0df4da2b147fca70cf8255           1\n",
       "...                                 ...         ...\n",
       "94702  fffcf5a5ff07b0908bd4e2dbc735a684           2\n",
       "94703  fffea47cd6d3cc0a88bd621562a9d061           1\n",
       "94704  ffff371b4d645b6ecea244b27531430a           1\n",
       "94705  ffff5962728ec6157033ef9805bacc48           1\n",
       "94706  ffffd2657e2aad2907e67c3e9daecbeb           1\n",
       "\n",
       "[94707 rows x 2 columns]"
      ]
     },
     "execution_count": 87,
     "metadata": {},
     "output_type": "execute_result"
    }
   ],
   "source": [
    "data_costumers.groupby(['customer_unique_id']).product_id.count().reset_index()"
   ]
  },
  {
   "cell_type": "markdown",
   "id": "b7fdd3b3",
   "metadata": {},
   "source": [
    "#### Nombre total d'articles par commande "
   ]
  },
  {
   "cell_type": "code",
   "execution_count": 88,
   "id": "a74b19bd",
   "metadata": {
    "ExecuteTime": {
     "end_time": "2022-08-29T22:52:47.028067Z",
     "start_time": "2022-08-29T22:52:46.906741Z"
    }
   },
   "outputs": [
    {
     "data": {
      "text/html": [
       "<div>\n",
       "<style scoped>\n",
       "    .dataframe tbody tr th:only-of-type {\n",
       "        vertical-align: middle;\n",
       "    }\n",
       "\n",
       "    .dataframe tbody tr th {\n",
       "        vertical-align: top;\n",
       "    }\n",
       "\n",
       "    .dataframe thead th {\n",
       "        text-align: right;\n",
       "    }\n",
       "</style>\n",
       "<table border=\"1\" class=\"dataframe\">\n",
       "  <thead>\n",
       "    <tr style=\"text-align: right;\">\n",
       "      <th></th>\n",
       "      <th>order_id</th>\n",
       "      <th>product_id</th>\n",
       "    </tr>\n",
       "  </thead>\n",
       "  <tbody>\n",
       "    <tr>\n",
       "      <th>0</th>\n",
       "      <td>00010242fe8c5a6d1ba2dd792cb16214</td>\n",
       "      <td>1</td>\n",
       "    </tr>\n",
       "    <tr>\n",
       "      <th>1</th>\n",
       "      <td>00018f77f2f0320c557190d7a144bdd3</td>\n",
       "      <td>1</td>\n",
       "    </tr>\n",
       "    <tr>\n",
       "      <th>2</th>\n",
       "      <td>000229ec398224ef6ca0657da4fc703e</td>\n",
       "      <td>1</td>\n",
       "    </tr>\n",
       "    <tr>\n",
       "      <th>3</th>\n",
       "      <td>00024acbcdf0a6daa1e931b038114c75</td>\n",
       "      <td>1</td>\n",
       "    </tr>\n",
       "    <tr>\n",
       "      <th>4</th>\n",
       "      <td>00042b26cf59d7ce69dfabb4e55b4fd9</td>\n",
       "      <td>1</td>\n",
       "    </tr>\n",
       "    <tr>\n",
       "      <th>...</th>\n",
       "      <td>...</td>\n",
       "      <td>...</td>\n",
       "    </tr>\n",
       "    <tr>\n",
       "      <th>97895</th>\n",
       "      <td>fffc94f6ce00a00581880bf54a75a037</td>\n",
       "      <td>1</td>\n",
       "    </tr>\n",
       "    <tr>\n",
       "      <th>97896</th>\n",
       "      <td>fffcd46ef2263f404302a634eb57f7eb</td>\n",
       "      <td>1</td>\n",
       "    </tr>\n",
       "    <tr>\n",
       "      <th>97897</th>\n",
       "      <td>fffce4705a9662cd70adb13d4a31832d</td>\n",
       "      <td>1</td>\n",
       "    </tr>\n",
       "    <tr>\n",
       "      <th>97898</th>\n",
       "      <td>fffe18544ffabc95dfada21779c9644f</td>\n",
       "      <td>1</td>\n",
       "    </tr>\n",
       "    <tr>\n",
       "      <th>97899</th>\n",
       "      <td>fffe41c64501cc87c801fd61db3f6244</td>\n",
       "      <td>1</td>\n",
       "    </tr>\n",
       "  </tbody>\n",
       "</table>\n",
       "<p>97900 rows × 2 columns</p>\n",
       "</div>"
      ],
      "text/plain": [
       "                               order_id  product_id\n",
       "0      00010242fe8c5a6d1ba2dd792cb16214           1\n",
       "1      00018f77f2f0320c557190d7a144bdd3           1\n",
       "2      000229ec398224ef6ca0657da4fc703e           1\n",
       "3      00024acbcdf0a6daa1e931b038114c75           1\n",
       "4      00042b26cf59d7ce69dfabb4e55b4fd9           1\n",
       "...                                 ...         ...\n",
       "97895  fffc94f6ce00a00581880bf54a75a037           1\n",
       "97896  fffcd46ef2263f404302a634eb57f7eb           1\n",
       "97897  fffce4705a9662cd70adb13d4a31832d           1\n",
       "97898  fffe18544ffabc95dfada21779c9644f           1\n",
       "97899  fffe41c64501cc87c801fd61db3f6244           1\n",
       "\n",
       "[97900 rows x 2 columns]"
      ]
     },
     "execution_count": 88,
     "metadata": {},
     "output_type": "execute_result"
    }
   ],
   "source": [
    "data_costumers.groupby(['order_id']).product_id.count().reset_index()"
   ]
  },
  {
   "cell_type": "markdown",
   "id": "46b81daf",
   "metadata": {},
   "source": [
    "#### Score moyen par client "
   ]
  },
  {
   "cell_type": "code",
   "execution_count": 89,
   "id": "82d3a51b",
   "metadata": {
    "ExecuteTime": {
     "end_time": "2022-08-29T22:52:47.168018Z",
     "start_time": "2022-08-29T22:52:47.029071Z"
    }
   },
   "outputs": [
    {
     "data": {
      "text/html": [
       "<div>\n",
       "<style scoped>\n",
       "    .dataframe tbody tr th:only-of-type {\n",
       "        vertical-align: middle;\n",
       "    }\n",
       "\n",
       "    .dataframe tbody tr th {\n",
       "        vertical-align: top;\n",
       "    }\n",
       "\n",
       "    .dataframe thead th {\n",
       "        text-align: right;\n",
       "    }\n",
       "</style>\n",
       "<table border=\"1\" class=\"dataframe\">\n",
       "  <thead>\n",
       "    <tr style=\"text-align: right;\">\n",
       "      <th></th>\n",
       "      <th>customer_unique_id</th>\n",
       "      <th>review_score</th>\n",
       "    </tr>\n",
       "  </thead>\n",
       "  <tbody>\n",
       "    <tr>\n",
       "      <th>0</th>\n",
       "      <td>0000366f3b9a7992bf8c76cfdf3221e2</td>\n",
       "      <td>5.0</td>\n",
       "    </tr>\n",
       "    <tr>\n",
       "      <th>1</th>\n",
       "      <td>0000b849f77a49e4a4ce2b2a4ca5be3f</td>\n",
       "      <td>4.0</td>\n",
       "    </tr>\n",
       "    <tr>\n",
       "      <th>2</th>\n",
       "      <td>0000f46a3911fa3c0805444483337064</td>\n",
       "      <td>3.0</td>\n",
       "    </tr>\n",
       "    <tr>\n",
       "      <th>3</th>\n",
       "      <td>0000f6ccb0745a6a4b88665a16c9f078</td>\n",
       "      <td>4.0</td>\n",
       "    </tr>\n",
       "    <tr>\n",
       "      <th>4</th>\n",
       "      <td>0004aac84e0df4da2b147fca70cf8255</td>\n",
       "      <td>5.0</td>\n",
       "    </tr>\n",
       "    <tr>\n",
       "      <th>...</th>\n",
       "      <td>...</td>\n",
       "      <td>...</td>\n",
       "    </tr>\n",
       "    <tr>\n",
       "      <th>94702</th>\n",
       "      <td>fffcf5a5ff07b0908bd4e2dbc735a684</td>\n",
       "      <td>5.0</td>\n",
       "    </tr>\n",
       "    <tr>\n",
       "      <th>94703</th>\n",
       "      <td>fffea47cd6d3cc0a88bd621562a9d061</td>\n",
       "      <td>4.0</td>\n",
       "    </tr>\n",
       "    <tr>\n",
       "      <th>94704</th>\n",
       "      <td>ffff371b4d645b6ecea244b27531430a</td>\n",
       "      <td>5.0</td>\n",
       "    </tr>\n",
       "    <tr>\n",
       "      <th>94705</th>\n",
       "      <td>ffff5962728ec6157033ef9805bacc48</td>\n",
       "      <td>5.0</td>\n",
       "    </tr>\n",
       "    <tr>\n",
       "      <th>94706</th>\n",
       "      <td>ffffd2657e2aad2907e67c3e9daecbeb</td>\n",
       "      <td>5.0</td>\n",
       "    </tr>\n",
       "  </tbody>\n",
       "</table>\n",
       "<p>94707 rows × 2 columns</p>\n",
       "</div>"
      ],
      "text/plain": [
       "                     customer_unique_id  review_score\n",
       "0      0000366f3b9a7992bf8c76cfdf3221e2           5.0\n",
       "1      0000b849f77a49e4a4ce2b2a4ca5be3f           4.0\n",
       "2      0000f46a3911fa3c0805444483337064           3.0\n",
       "3      0000f6ccb0745a6a4b88665a16c9f078           4.0\n",
       "4      0004aac84e0df4da2b147fca70cf8255           5.0\n",
       "...                                 ...           ...\n",
       "94702  fffcf5a5ff07b0908bd4e2dbc735a684           5.0\n",
       "94703  fffea47cd6d3cc0a88bd621562a9d061           4.0\n",
       "94704  ffff371b4d645b6ecea244b27531430a           5.0\n",
       "94705  ffff5962728ec6157033ef9805bacc48           5.0\n",
       "94706  ffffd2657e2aad2907e67c3e9daecbeb           5.0\n",
       "\n",
       "[94707 rows x 2 columns]"
      ]
     },
     "execution_count": 89,
     "metadata": {},
     "output_type": "execute_result"
    }
   ],
   "source": [
    "data_costumers.groupby(['customer_unique_id']).review_score.mean().reset_index()"
   ]
  },
  {
   "cell_type": "markdown",
   "id": "069b477f",
   "metadata": {},
   "source": [
    "#### haversine_distances"
   ]
  },
  {
   "cell_type": "code",
   "execution_count": 90,
   "id": "d8ca9017",
   "metadata": {
    "ExecuteTime": {
     "end_time": "2022-08-29T22:52:47.374826Z",
     "start_time": "2022-08-29T22:52:47.169924Z"
    }
   },
   "outputs": [
    {
     "data": {
      "image/png": "[encoded data removed]",
      "text/plain": [
       "<Figure size 864x432 with 1 Axes>"
      ]
     },
     "metadata": {
      "needs_background": "light"
     },
     "output_type": "display_data"
    }
   ],
   "source": [
    "# Countplot of states repartition\n",
    "fig = plt.figure(figsize=(12, 6))\n",
    "sns.countplot(data=data_costumers, x=\"customer_state\",\n",
    "              edgecolor=\"black\",\n",
    "              color=\"#00d994\", alpha=0.7)\n",
    "plt.xticks(range(0, data_costumers[\"customer_state\"].nunique()),\n",
    "           data_costumers[\"customer_state\"].unique(),\n",
    "           rotation=90)\n",
    "plt.title(f\"Les états Brésiliens les plus représentées\\n\")\n",
    "plt.show()"
   ]
  },
  {
   "cell_type": "markdown",
   "id": "61a56065",
   "metadata": {},
   "source": [
    "- Afin d'utiliser une variable de localisation encodable sans impact négatif sur nos modélisation, nous allons calculer la distance Haversine entre l'état du client (moyenne des latitudes et longitudes de l'état) et le siège de Olist :"
   ]
  },
  {
   "cell_type": "code",
   "execution_count": 99,
   "id": "656ff475",
   "metadata": {
    "ExecuteTime": {
     "end_time": "2022-08-29T22:58:21.510801Z",
     "start_time": "2022-08-29T22:58:21.324286Z"
    }
   },
   "outputs": [
    {
     "name": "stdout",
     "output_type": "stream",
     "text": [
      "geolocation_zip_code_prefix    0.0\n",
      "geolocation_lat                0.0\n",
      "geolocation_lng                0.0\n",
      "geolocation_city               0.0\n",
      "geolocation_state              0.0\n",
      "dtype: float64\n"
     ]
    }
   ],
   "source": [
    "print((df_geolocation.isnull().sum()/len(df_geolocation))*100)"
   ]
  },
  {
   "cell_type": "code",
   "execution_count": 100,
   "id": "19a0b492",
   "metadata": {
    "ExecuteTime": {
     "end_time": "2022-08-29T22:58:21.837109Z",
     "start_time": "2022-08-29T22:58:21.739809Z"
    }
   },
   "outputs": [],
   "source": [
    "df_geolocation_unique = df_geolocation.drop_duplicates(subset=['geolocation_city']).reset_index()"
   ]
  },
  {
   "cell_type": "code",
   "execution_count": 101,
   "id": "0f111ae1",
   "metadata": {
    "ExecuteTime": {
     "end_time": "2022-08-29T22:58:22.316038Z",
     "start_time": "2022-08-29T22:58:22.293116Z"
    }
   },
   "outputs": [
    {
     "data": {
      "text/html": [
       "<div>\n",
       "<style scoped>\n",
       "    .dataframe tbody tr th:only-of-type {\n",
       "        vertical-align: middle;\n",
       "    }\n",
       "\n",
       "    .dataframe tbody tr th {\n",
       "        vertical-align: top;\n",
       "    }\n",
       "\n",
       "    .dataframe thead th {\n",
       "        text-align: right;\n",
       "    }\n",
       "</style>\n",
       "<table border=\"1\" class=\"dataframe\">\n",
       "  <thead>\n",
       "    <tr style=\"text-align: right;\">\n",
       "      <th></th>\n",
       "      <th>index</th>\n",
       "      <th>geolocation_zip_code_prefix</th>\n",
       "      <th>geolocation_lat</th>\n",
       "      <th>geolocation_lng</th>\n",
       "      <th>geolocation_city</th>\n",
       "      <th>geolocation_state</th>\n",
       "    </tr>\n",
       "  </thead>\n",
       "  <tbody>\n",
       "    <tr>\n",
       "      <th>0</th>\n",
       "      <td>0</td>\n",
       "      <td>1037</td>\n",
       "      <td>-23.545621</td>\n",
       "      <td>-46.639292</td>\n",
       "      <td>sao paulo</td>\n",
       "      <td>SP</td>\n",
       "    </tr>\n",
       "    <tr>\n",
       "      <th>1</th>\n",
       "      <td>5</td>\n",
       "      <td>1012</td>\n",
       "      <td>-23.547762</td>\n",
       "      <td>-46.635361</td>\n",
       "      <td>são paulo</td>\n",
       "      <td>SP</td>\n",
       "    </tr>\n",
       "    <tr>\n",
       "      <th>2</th>\n",
       "      <td>10166</td>\n",
       "      <td>1307</td>\n",
       "      <td>-23.556812</td>\n",
       "      <td>-46.657135</td>\n",
       "      <td>sao bernardo do campo</td>\n",
       "      <td>SP</td>\n",
       "    </tr>\n",
       "    <tr>\n",
       "      <th>3</th>\n",
       "      <td>50999</td>\n",
       "      <td>3203</td>\n",
       "      <td>-23.216648</td>\n",
       "      <td>-46.861371</td>\n",
       "      <td>jundiaí</td>\n",
       "      <td>SP</td>\n",
       "    </tr>\n",
       "    <tr>\n",
       "      <th>4</th>\n",
       "      <td>71908</td>\n",
       "      <td>4004</td>\n",
       "      <td>-23.574798</td>\n",
       "      <td>-46.650106</td>\n",
       "      <td>taboão da serra</td>\n",
       "      <td>SP</td>\n",
       "    </tr>\n",
       "    <tr>\n",
       "      <th>...</th>\n",
       "      <td>...</td>\n",
       "      <td>...</td>\n",
       "      <td>...</td>\n",
       "      <td>...</td>\n",
       "      <td>...</td>\n",
       "      <td>...</td>\n",
       "    </tr>\n",
       "    <tr>\n",
       "      <th>8006</th>\n",
       "      <td>999806</td>\n",
       "      <td>99940</td>\n",
       "      <td>-28.053148</td>\n",
       "      <td>-51.861135</td>\n",
       "      <td>ibiaçá</td>\n",
       "      <td>RS</td>\n",
       "    </tr>\n",
       "    <tr>\n",
       "      <th>8007</th>\n",
       "      <td>999846</td>\n",
       "      <td>99952</td>\n",
       "      <td>-28.160371</td>\n",
       "      <td>-51.936922</td>\n",
       "      <td>santa cecilia do sul</td>\n",
       "      <td>RS</td>\n",
       "    </tr>\n",
       "    <tr>\n",
       "      <th>8008</th>\n",
       "      <td>999867</td>\n",
       "      <td>99970</td>\n",
       "      <td>-28.342325</td>\n",
       "      <td>-51.876023</td>\n",
       "      <td>ciríaco</td>\n",
       "      <td>RS</td>\n",
       "    </tr>\n",
       "    <tr>\n",
       "      <th>8009</th>\n",
       "      <td>999891</td>\n",
       "      <td>99930</td>\n",
       "      <td>-27.921611</td>\n",
       "      <td>-52.264586</td>\n",
       "      <td>estação</td>\n",
       "      <td>RS</td>\n",
       "    </tr>\n",
       "    <tr>\n",
       "      <th>8010</th>\n",
       "      <td>1000046</td>\n",
       "      <td>99955</td>\n",
       "      <td>-28.107588</td>\n",
       "      <td>-52.144019</td>\n",
       "      <td>vila lângaro</td>\n",
       "      <td>RS</td>\n",
       "    </tr>\n",
       "  </tbody>\n",
       "</table>\n",
       "<p>8011 rows × 6 columns</p>\n",
       "</div>"
      ],
      "text/plain": [
       "        index  geolocation_zip_code_prefix  geolocation_lat  geolocation_lng  \\\n",
       "0           0                         1037       -23.545621       -46.639292   \n",
       "1           5                         1012       -23.547762       -46.635361   \n",
       "2       10166                         1307       -23.556812       -46.657135   \n",
       "3       50999                         3203       -23.216648       -46.861371   \n",
       "4       71908                         4004       -23.574798       -46.650106   \n",
       "...       ...                          ...              ...              ...   \n",
       "8006   999806                        99940       -28.053148       -51.861135   \n",
       "8007   999846                        99952       -28.160371       -51.936922   \n",
       "8008   999867                        99970       -28.342325       -51.876023   \n",
       "8009   999891                        99930       -27.921611       -52.264586   \n",
       "8010  1000046                        99955       -28.107588       -52.144019   \n",
       "\n",
       "           geolocation_city geolocation_state  \n",
       "0                 sao paulo                SP  \n",
       "1                 são paulo                SP  \n",
       "2     sao bernardo do campo                SP  \n",
       "3                   jundiaí                SP  \n",
       "4           taboão da serra                SP  \n",
       "...                     ...               ...  \n",
       "8006                 ibiaçá                RS  \n",
       "8007   santa cecilia do sul                RS  \n",
       "8008                ciríaco                RS  \n",
       "8009                estação                RS  \n",
       "8010           vila lângaro                RS  \n",
       "\n",
       "[8011 rows x 6 columns]"
      ]
     },
     "execution_count": 101,
     "metadata": {},
     "output_type": "execute_result"
    }
   ],
   "source": [
    "df_geolocation_unique"
   ]
  },
  {
   "cell_type": "code",
   "execution_count": 102,
   "id": "3cdb67c4",
   "metadata": {
    "ExecuteTime": {
     "end_time": "2022-08-29T22:58:22.828181Z",
     "start_time": "2022-08-29T22:58:22.790180Z"
    }
   },
   "outputs": [
    {
     "data": {
      "text/plain": [
       "array(['SP', 'RN', 'AC', 'RJ', 'ES', 'MG', 'BA', 'SE', 'PE', 'AL', 'PB',\n",
       "       'CE', 'PI', 'MA', 'PA', 'AP', 'AM', 'RR', 'DF', 'GO', 'RO', 'TO',\n",
       "       'MT', 'MS', 'RS', 'PR', 'SC'], dtype=object)"
      ]
     },
     "execution_count": 102,
     "metadata": {},
     "output_type": "execute_result"
    }
   ],
   "source": [
    "df_geolocation['geolocation_state'].unique()"
   ]
  },
  {
   "cell_type": "code",
   "execution_count": 103,
   "id": "4cc3c132",
   "metadata": {
    "ExecuteTime": {
     "end_time": "2022-08-29T22:58:24.099943Z",
     "start_time": "2022-08-29T22:58:23.705153Z"
    }
   },
   "outputs": [
    {
     "data": {
      "text/html": [
       "<div>\n",
       "<style scoped>\n",
       "    .dataframe tbody tr th:only-of-type {\n",
       "        vertical-align: middle;\n",
       "    }\n",
       "\n",
       "    .dataframe tbody tr th {\n",
       "        vertical-align: top;\n",
       "    }\n",
       "\n",
       "    .dataframe thead th {\n",
       "        text-align: right;\n",
       "    }\n",
       "</style>\n",
       "<table border=\"1\" class=\"dataframe\">\n",
       "  <thead>\n",
       "    <tr style=\"text-align: right;\">\n",
       "      <th></th>\n",
       "      <th>Flag and name</th>\n",
       "      <th>Capital</th>\n",
       "      <th>Largest city</th>\n",
       "      <th>Area(km2)[20]</th>\n",
       "      <th>Population(2019)[21]</th>\n",
       "      <th>Density (perkm2, 2019)</th>\n",
       "      <th>GDP (R$millions, 2016)[22]</th>\n",
       "      <th>HDI(2017)[23]</th>\n",
       "    </tr>\n",
       "    <tr>\n",
       "      <th>Code</th>\n",
       "      <th></th>\n",
       "      <th></th>\n",
       "      <th></th>\n",
       "      <th></th>\n",
       "      <th></th>\n",
       "      <th></th>\n",
       "      <th></th>\n",
       "      <th></th>\n",
       "    </tr>\n",
       "  </thead>\n",
       "  <tbody>\n",
       "    <tr>\n",
       "      <th>AC</th>\n",
       "      <td>Acre</td>\n",
       "      <td>Rio Branco</td>\n",
       "      <td>Rio Branco</td>\n",
       "      <td>164123</td>\n",
       "      <td>880000</td>\n",
       "      <td>6.34</td>\n",
       "      <td>15000</td>\n",
       "      <td>0.719</td>\n",
       "    </tr>\n",
       "    <tr>\n",
       "      <th>AL</th>\n",
       "      <td>Alagoas</td>\n",
       "      <td>Maceió</td>\n",
       "      <td>Maceió</td>\n",
       "      <td>27779</td>\n",
       "      <td>3334000</td>\n",
       "      <td>125.52</td>\n",
       "      <td>50000</td>\n",
       "      <td>0.683</td>\n",
       "    </tr>\n",
       "    <tr>\n",
       "      <th>AP</th>\n",
       "      <td>Amapá</td>\n",
       "      <td>Macapá</td>\n",
       "      <td>Macapá</td>\n",
       "      <td>142829</td>\n",
       "      <td>838000</td>\n",
       "      <td>2.63</td>\n",
       "      <td>12000</td>\n",
       "      <td>0.740</td>\n",
       "    </tr>\n",
       "    <tr>\n",
       "      <th>AM</th>\n",
       "      <td>Amazonas</td>\n",
       "      <td>Manaus</td>\n",
       "      <td>Manaus</td>\n",
       "      <td>1559159</td>\n",
       "      <td>4147000</td>\n",
       "      <td>2.58</td>\n",
       "      <td>94000</td>\n",
       "      <td>0.733</td>\n",
       "    </tr>\n",
       "    <tr>\n",
       "      <th>BA</th>\n",
       "      <td>Bahia</td>\n",
       "      <td>Salvador</td>\n",
       "      <td>Salvador</td>\n",
       "      <td>564733</td>\n",
       "      <td>14897000</td>\n",
       "      <td>30.52</td>\n",
       "      <td>262000</td>\n",
       "      <td>0.714</td>\n",
       "    </tr>\n",
       "    <tr>\n",
       "      <th>CE</th>\n",
       "      <td>Ceará</td>\n",
       "      <td>Fortaleza</td>\n",
       "      <td>Fortaleza</td>\n",
       "      <td>148921</td>\n",
       "      <td>8843000</td>\n",
       "      <td>60.33</td>\n",
       "      <td>143000</td>\n",
       "      <td>0.735</td>\n",
       "    </tr>\n",
       "  </tbody>\n",
       "</table>\n",
       "</div>"
      ],
      "text/plain": [
       "     Flag and name     Capital Largest city  Area(km2)[20]  \\\n",
       "Code                                                         \n",
       "AC            Acre  Rio Branco   Rio Branco         164123   \n",
       "AL         Alagoas      Maceió       Maceió          27779   \n",
       "AP           Amapá      Macapá       Macapá         142829   \n",
       "AM        Amazonas      Manaus       Manaus        1559159   \n",
       "BA           Bahia    Salvador     Salvador         564733   \n",
       "CE           Ceará   Fortaleza    Fortaleza         148921   \n",
       "\n",
       "      Population(2019)[21]  Density (perkm2, 2019)  \\\n",
       "Code                                                 \n",
       "AC                  880000                    6.34   \n",
       "AL                 3334000                  125.52   \n",
       "AP                  838000                    2.63   \n",
       "AM                 4147000                    2.58   \n",
       "BA                14897000                   30.52   \n",
       "CE                 8843000                   60.33   \n",
       "\n",
       "      GDP (R$millions, 2016)[22]  HDI(2017)[23]  \n",
       "Code                                             \n",
       "AC                         15000          0.719  \n",
       "AL                         50000          0.683  \n",
       "AP                         12000          0.740  \n",
       "AM                         94000          0.733  \n",
       "BA                        262000          0.714  \n",
       "CE                        143000          0.735  "
      ]
     },
     "execution_count": 103,
     "metadata": {},
     "output_type": "execute_result"
    }
   ],
   "source": [
    "wiki_url = \"https://en.wikipedia.org/wiki/Federative_units_of_Brazil\"\n",
    "states_table = pd.read_html(wiki_url)[3].set_index(\"Code\")\n",
    "states_table.head(6)\n",
    "\n",
    "# print(pd.read_html(wiki_url)[3])\n"
   ]
  },
  {
   "cell_type": "code",
   "execution_count": 104,
   "id": "c14cbe3e",
   "metadata": {
    "ExecuteTime": {
     "end_time": "2022-08-29T22:58:24.267349Z",
     "start_time": "2022-08-29T22:58:24.252874Z"
    }
   },
   "outputs": [],
   "source": [
    " states_table['Capital']  = states_table['Capital'].str.lower()"
   ]
  },
  {
   "cell_type": "code",
   "execution_count": 105,
   "id": "bed14cb7",
   "metadata": {
    "ExecuteTime": {
     "end_time": "2022-08-29T22:58:25.563917Z",
     "start_time": "2022-08-29T22:58:25.552892Z"
    }
   },
   "outputs": [],
   "source": [
    "df_state = states_table.merge(df_geolocation_unique, how='left', left_on='Capital', right_on='geolocation_city')"
   ]
  },
  {
   "cell_type": "code",
   "execution_count": 106,
   "id": "822e0b31",
   "metadata": {
    "ExecuteTime": {
     "end_time": "2022-08-29T22:58:26.165687Z",
     "start_time": "2022-08-29T22:58:26.150612Z"
    }
   },
   "outputs": [],
   "source": [
    "df_state_geo = df_state.drop(columns=['Flag and name', 'Capital','Largest city','Area(km2)[20]','Population(2019)[21]','Density (perkm2, 2019)','GDP (R$millions, 2016)[22]','HDI(2017)[23]','index','geolocation_zip_code_prefix','geolocation_city'])"
   ]
  },
  {
   "cell_type": "code",
   "execution_count": 107,
   "id": "b0ecd9c7",
   "metadata": {
    "ExecuteTime": {
     "end_time": "2022-08-29T22:58:26.640339Z",
     "start_time": "2022-08-29T22:58:26.617332Z"
    }
   },
   "outputs": [
    {
     "data": {
      "text/html": [
       "<div>\n",
       "<style scoped>\n",
       "    .dataframe tbody tr th:only-of-type {\n",
       "        vertical-align: middle;\n",
       "    }\n",
       "\n",
       "    .dataframe tbody tr th {\n",
       "        vertical-align: top;\n",
       "    }\n",
       "\n",
       "    .dataframe thead th {\n",
       "        text-align: right;\n",
       "    }\n",
       "</style>\n",
       "<table border=\"1\" class=\"dataframe\">\n",
       "  <thead>\n",
       "    <tr style=\"text-align: right;\">\n",
       "      <th></th>\n",
       "      <th>geolocation_lat</th>\n",
       "      <th>geolocation_lng</th>\n",
       "      <th>geolocation_state</th>\n",
       "    </tr>\n",
       "  </thead>\n",
       "  <tbody>\n",
       "    <tr>\n",
       "      <th>0</th>\n",
       "      <td>-9.926145</td>\n",
       "      <td>-67.835117</td>\n",
       "      <td>AC</td>\n",
       "    </tr>\n",
       "    <tr>\n",
       "      <th>1</th>\n",
       "      <td>-9.673523</td>\n",
       "      <td>-35.759550</td>\n",
       "      <td>AL</td>\n",
       "    </tr>\n",
       "    <tr>\n",
       "      <th>2</th>\n",
       "      <td>0.052674</td>\n",
       "      <td>-51.061010</td>\n",
       "      <td>AP</td>\n",
       "    </tr>\n",
       "    <tr>\n",
       "      <th>3</th>\n",
       "      <td>-3.098469</td>\n",
       "      <td>-59.999784</td>\n",
       "      <td>AM</td>\n",
       "    </tr>\n",
       "    <tr>\n",
       "      <th>4</th>\n",
       "      <td>-12.987172</td>\n",
       "      <td>-38.522682</td>\n",
       "      <td>BA</td>\n",
       "    </tr>\n",
       "    <tr>\n",
       "      <th>5</th>\n",
       "      <td>-3.725240</td>\n",
       "      <td>-38.545775</td>\n",
       "      <td>CE</td>\n",
       "    </tr>\n",
       "    <tr>\n",
       "      <th>6</th>\n",
       "      <td>-15.801476</td>\n",
       "      <td>-47.882896</td>\n",
       "      <td>DF</td>\n",
       "    </tr>\n",
       "    <tr>\n",
       "      <th>7</th>\n",
       "      <td>-20.319586</td>\n",
       "      <td>-40.329319</td>\n",
       "      <td>ES</td>\n",
       "    </tr>\n",
       "    <tr>\n",
       "      <th>8</th>\n",
       "      <td>-16.697334</td>\n",
       "      <td>-49.254888</td>\n",
       "      <td>GO</td>\n",
       "    </tr>\n",
       "    <tr>\n",
       "      <th>9</th>\n",
       "      <td>-2.546079</td>\n",
       "      <td>-44.308986</td>\n",
       "      <td>MA</td>\n",
       "    </tr>\n",
       "    <tr>\n",
       "      <th>10</th>\n",
       "      <td>-15.629664</td>\n",
       "      <td>-56.017254</td>\n",
       "      <td>MT</td>\n",
       "    </tr>\n",
       "    <tr>\n",
       "      <th>11</th>\n",
       "      <td>-22.885008</td>\n",
       "      <td>-43.616130</td>\n",
       "      <td>RJ</td>\n",
       "    </tr>\n",
       "    <tr>\n",
       "      <th>12</th>\n",
       "      <td>-19.923989</td>\n",
       "      <td>-43.935706</td>\n",
       "      <td>MG</td>\n",
       "    </tr>\n",
       "    <tr>\n",
       "      <th>13</th>\n",
       "      <td>-6.695727</td>\n",
       "      <td>-35.539798</td>\n",
       "      <td>PB</td>\n",
       "    </tr>\n",
       "    <tr>\n",
       "      <th>14</th>\n",
       "      <td>-7.101960</td>\n",
       "      <td>-34.842360</td>\n",
       "      <td>PB</td>\n",
       "    </tr>\n",
       "    <tr>\n",
       "      <th>15</th>\n",
       "      <td>-25.435488</td>\n",
       "      <td>-49.270214</td>\n",
       "      <td>PR</td>\n",
       "    </tr>\n",
       "    <tr>\n",
       "      <th>16</th>\n",
       "      <td>-8.061695</td>\n",
       "      <td>-34.882393</td>\n",
       "      <td>PE</td>\n",
       "    </tr>\n",
       "    <tr>\n",
       "      <th>17</th>\n",
       "      <td>-5.070946</td>\n",
       "      <td>-42.788482</td>\n",
       "      <td>PI</td>\n",
       "    </tr>\n",
       "    <tr>\n",
       "      <th>18</th>\n",
       "      <td>-22.902472</td>\n",
       "      <td>-43.174059</td>\n",
       "      <td>RJ</td>\n",
       "    </tr>\n",
       "    <tr>\n",
       "      <th>19</th>\n",
       "      <td>-5.783671</td>\n",
       "      <td>-35.196947</td>\n",
       "      <td>RN</td>\n",
       "    </tr>\n",
       "    <tr>\n",
       "      <th>20</th>\n",
       "      <td>-30.032150</td>\n",
       "      <td>-51.232552</td>\n",
       "      <td>RS</td>\n",
       "    </tr>\n",
       "    <tr>\n",
       "      <th>21</th>\n",
       "      <td>-8.758144</td>\n",
       "      <td>-63.887973</td>\n",
       "      <td>RO</td>\n",
       "    </tr>\n",
       "    <tr>\n",
       "      <th>22</th>\n",
       "      <td>-7.260943</td>\n",
       "      <td>-36.242493</td>\n",
       "      <td>PB</td>\n",
       "    </tr>\n",
       "    <tr>\n",
       "      <th>23</th>\n",
       "      <td>-27.591860</td>\n",
       "      <td>-48.549025</td>\n",
       "      <td>SC</td>\n",
       "    </tr>\n",
       "    <tr>\n",
       "      <th>24</th>\n",
       "      <td>-23.547762</td>\n",
       "      <td>-46.635361</td>\n",
       "      <td>SP</td>\n",
       "    </tr>\n",
       "    <tr>\n",
       "      <th>25</th>\n",
       "      <td>-10.910515</td>\n",
       "      <td>-37.052401</td>\n",
       "      <td>SE</td>\n",
       "    </tr>\n",
       "    <tr>\n",
       "      <th>26</th>\n",
       "      <td>-10.342336</td>\n",
       "      <td>-48.295596</td>\n",
       "      <td>TO</td>\n",
       "    </tr>\n",
       "  </tbody>\n",
       "</table>\n",
       "</div>"
      ],
      "text/plain": [
       "    geolocation_lat  geolocation_lng geolocation_state\n",
       "0         -9.926145       -67.835117                AC\n",
       "1         -9.673523       -35.759550                AL\n",
       "2          0.052674       -51.061010                AP\n",
       "3         -3.098469       -59.999784                AM\n",
       "4        -12.987172       -38.522682                BA\n",
       "5         -3.725240       -38.545775                CE\n",
       "6        -15.801476       -47.882896                DF\n",
       "7        -20.319586       -40.329319                ES\n",
       "8        -16.697334       -49.254888                GO\n",
       "9         -2.546079       -44.308986                MA\n",
       "10       -15.629664       -56.017254                MT\n",
       "11       -22.885008       -43.616130                RJ\n",
       "12       -19.923989       -43.935706                MG\n",
       "13        -6.695727       -35.539798                PB\n",
       "14        -7.101960       -34.842360                PB\n",
       "15       -25.435488       -49.270214                PR\n",
       "16        -8.061695       -34.882393                PE\n",
       "17        -5.070946       -42.788482                PI\n",
       "18       -22.902472       -43.174059                RJ\n",
       "19        -5.783671       -35.196947                RN\n",
       "20       -30.032150       -51.232552                RS\n",
       "21        -8.758144       -63.887973                RO\n",
       "22        -7.260943       -36.242493                PB\n",
       "23       -27.591860       -48.549025                SC\n",
       "24       -23.547762       -46.635361                SP\n",
       "25       -10.910515       -37.052401                SE\n",
       "26       -10.342336       -48.295596                TO"
      ]
     },
     "execution_count": 107,
     "metadata": {},
     "output_type": "execute_result"
    }
   ],
   "source": [
    "df_state_geo"
   ]
  },
  {
   "cell_type": "code",
   "execution_count": 108,
   "id": "19bbe7aa",
   "metadata": {
    "ExecuteTime": {
     "end_time": "2022-08-29T22:58:27.433512Z",
     "start_time": "2022-08-29T22:58:27.420519Z"
    }
   },
   "outputs": [],
   "source": [
    "from sklearn.metrics.pairwise import haversine_distances\n",
    "from math import radians\n",
    "import math\n",
    "from math import sin\n",
    "from math import cos\n",
    "from math import sqrt\n",
    "from math import asin\n",
    "# Olist location\n",
    "olist_lat = -25.43045\n",
    "olist_lon = -49.29207\n",
    "def haversine_distance(lat1, lng1, lat2, lng2, degrees=True):\n",
    "    r = 3956 # rayon de la Terre en miles\n",
    "    \n",
    "    if degrees:\n",
    "        lat1, lng1, lat2, lng2 = map(radians, [lat1, lng1, lat2, lng2])\n",
    "    \n",
    "    # Formule Haversine\n",
    "    dlng = lng2 - lng1 \n",
    "    dlat = lat2 - lat1 \n",
    "    a = sin(dlat/2)**2 + cos(lat1) * cos(lat2) * sin(dlng/2)**2\n",
    "    d = 2 * r * asin(sqrt(a))  \n",
    "\n",
    "    return d\n"
   ]
  },
  {
   "cell_type": "code",
   "execution_count": 109,
   "id": "84bc24aa",
   "metadata": {
    "ExecuteTime": {
     "end_time": "2022-08-29T22:58:29.776096Z",
     "start_time": "2022-08-29T22:58:29.761097Z"
    }
   },
   "outputs": [],
   "source": [
    "df_state_geo['distance_from_olist']=[haversine_distance(olist_lat, olist_lon, x, y) \n",
    "                              for x, y in zip(df_state_geo.geolocation_lat, \n",
    "                                              df_state_geo.geolocation_lng)]"
   ]
  },
  {
   "cell_type": "code",
   "execution_count": 110,
   "id": "0f56d68a",
   "metadata": {
    "ExecuteTime": {
     "end_time": "2022-08-29T22:58:33.306360Z",
     "start_time": "2022-08-29T22:58:33.285721Z"
    }
   },
   "outputs": [
    {
     "data": {
      "text/html": [
       "<div>\n",
       "<style scoped>\n",
       "    .dataframe tbody tr th:only-of-type {\n",
       "        vertical-align: middle;\n",
       "    }\n",
       "\n",
       "    .dataframe tbody tr th {\n",
       "        vertical-align: top;\n",
       "    }\n",
       "\n",
       "    .dataframe thead th {\n",
       "        text-align: right;\n",
       "    }\n",
       "</style>\n",
       "<table border=\"1\" class=\"dataframe\">\n",
       "  <thead>\n",
       "    <tr style=\"text-align: right;\">\n",
       "      <th></th>\n",
       "      <th>geolocation_lat</th>\n",
       "      <th>geolocation_lng</th>\n",
       "      <th>geolocation_state</th>\n",
       "      <th>distance_from_olist</th>\n",
       "    </tr>\n",
       "  </thead>\n",
       "  <tbody>\n",
       "    <tr>\n",
       "      <th>0</th>\n",
       "      <td>-9.926145</td>\n",
       "      <td>-67.835117</td>\n",
       "      <td>AC</td>\n",
       "      <td>1618.914851</td>\n",
       "    </tr>\n",
       "    <tr>\n",
       "      <th>1</th>\n",
       "      <td>-9.673523</td>\n",
       "      <td>-35.759550</td>\n",
       "      <td>AL</td>\n",
       "      <td>1403.700377</td>\n",
       "    </tr>\n",
       "    <tr>\n",
       "      <th>2</th>\n",
       "      <td>0.052674</td>\n",
       "      <td>-51.061010</td>\n",
       "      <td>AP</td>\n",
       "      <td>1763.441197</td>\n",
       "    </tr>\n",
       "    <tr>\n",
       "      <th>3</th>\n",
       "      <td>-3.098469</td>\n",
       "      <td>-59.999784</td>\n",
       "      <td>AM</td>\n",
       "      <td>1697.946434</td>\n",
       "    </tr>\n",
       "    <tr>\n",
       "      <th>4</th>\n",
       "      <td>-12.987172</td>\n",
       "      <td>-38.522682</td>\n",
       "      <td>BA</td>\n",
       "      <td>1108.323821</td>\n",
       "    </tr>\n",
       "    <tr>\n",
       "      <th>5</th>\n",
       "      <td>-3.725240</td>\n",
       "      <td>-38.545775</td>\n",
       "      <td>CE</td>\n",
       "      <td>1659.528170</td>\n",
       "    </tr>\n",
       "    <tr>\n",
       "      <th>6</th>\n",
       "      <td>-15.801476</td>\n",
       "      <td>-47.882896</td>\n",
       "      <td>DF</td>\n",
       "      <td>671.021833</td>\n",
       "    </tr>\n",
       "    <tr>\n",
       "      <th>7</th>\n",
       "      <td>-20.319586</td>\n",
       "      <td>-40.329319</td>\n",
       "      <td>ES</td>\n",
       "      <td>670.211726</td>\n",
       "    </tr>\n",
       "    <tr>\n",
       "      <th>8</th>\n",
       "      <td>-16.697334</td>\n",
       "      <td>-49.254888</td>\n",
       "      <td>GO</td>\n",
       "      <td>602.984707</td>\n",
       "    </tr>\n",
       "    <tr>\n",
       "      <th>9</th>\n",
       "      <td>-2.546079</td>\n",
       "      <td>-44.308986</td>\n",
       "      <td>MA</td>\n",
       "      <td>1614.394093</td>\n",
       "    </tr>\n",
       "    <tr>\n",
       "      <th>10</th>\n",
       "      <td>-15.629664</td>\n",
       "      <td>-56.017254</td>\n",
       "      <td>MT</td>\n",
       "      <td>803.947757</td>\n",
       "    </tr>\n",
       "    <tr>\n",
       "      <th>11</th>\n",
       "      <td>-22.885008</td>\n",
       "      <td>-43.616130</td>\n",
       "      <td>RJ</td>\n",
       "      <td>398.367940</td>\n",
       "    </tr>\n",
       "    <tr>\n",
       "      <th>12</th>\n",
       "      <td>-19.923989</td>\n",
       "      <td>-43.935706</td>\n",
       "      <td>MG</td>\n",
       "      <td>510.728650</td>\n",
       "    </tr>\n",
       "    <tr>\n",
       "      <th>13</th>\n",
       "      <td>-6.695727</td>\n",
       "      <td>-35.539798</td>\n",
       "      <td>PB</td>\n",
       "      <td>1579.942843</td>\n",
       "    </tr>\n",
       "    <tr>\n",
       "      <th>14</th>\n",
       "      <td>-7.101960</td>\n",
       "      <td>-34.842360</td>\n",
       "      <td>PB</td>\n",
       "      <td>1583.827117</td>\n",
       "    </tr>\n",
       "    <tr>\n",
       "      <th>15</th>\n",
       "      <td>-25.435488</td>\n",
       "      <td>-49.270214</td>\n",
       "      <td>PR</td>\n",
       "      <td>1.406512</td>\n",
       "    </tr>\n",
       "    <tr>\n",
       "      <th>16</th>\n",
       "      <td>-8.061695</td>\n",
       "      <td>-34.882393</td>\n",
       "      <td>PE</td>\n",
       "      <td>1528.581982</td>\n",
       "    </tr>\n",
       "    <tr>\n",
       "      <th>17</th>\n",
       "      <td>-5.070946</td>\n",
       "      <td>-42.788482</td>\n",
       "      <td>PI</td>\n",
       "      <td>1470.141153</td>\n",
       "    </tr>\n",
       "    <tr>\n",
       "      <th>18</th>\n",
       "      <td>-22.902472</td>\n",
       "      <td>-43.174059</td>\n",
       "      <td>RJ</td>\n",
       "      <td>423.007813</td>\n",
       "    </tr>\n",
       "    <tr>\n",
       "      <th>19</th>\n",
       "      <td>-5.783671</td>\n",
       "      <td>-35.196947</td>\n",
       "      <td>RN</td>\n",
       "      <td>1645.510755</td>\n",
       "    </tr>\n",
       "    <tr>\n",
       "      <th>20</th>\n",
       "      <td>-30.032150</td>\n",
       "      <td>-51.232552</td>\n",
       "      <td>RS</td>\n",
       "      <td>339.115564</td>\n",
       "    </tr>\n",
       "    <tr>\n",
       "      <th>21</th>\n",
       "      <td>-8.758144</td>\n",
       "      <td>-63.887973</td>\n",
       "      <td>RO</td>\n",
       "      <td>1498.037991</td>\n",
       "    </tr>\n",
       "    <tr>\n",
       "      <th>22</th>\n",
       "      <td>-7.260943</td>\n",
       "      <td>-36.242493</td>\n",
       "      <td>PB</td>\n",
       "      <td>1520.909232</td>\n",
       "    </tr>\n",
       "    <tr>\n",
       "      <th>23</th>\n",
       "      <td>-27.591860</td>\n",
       "      <td>-48.549025</td>\n",
       "      <td>SC</td>\n",
       "      <td>156.135500</td>\n",
       "    </tr>\n",
       "    <tr>\n",
       "      <th>24</th>\n",
       "      <td>-23.547762</td>\n",
       "      <td>-46.635361</td>\n",
       "      <td>SP</td>\n",
       "      <td>211.562633</td>\n",
       "    </tr>\n",
       "    <tr>\n",
       "      <th>25</th>\n",
       "      <td>-10.910515</td>\n",
       "      <td>-37.052401</td>\n",
       "      <td>SE</td>\n",
       "      <td>1282.566911</td>\n",
       "    </tr>\n",
       "    <tr>\n",
       "      <th>26</th>\n",
       "      <td>-10.342336</td>\n",
       "      <td>-48.295596</td>\n",
       "      <td>TO</td>\n",
       "      <td>1043.802229</td>\n",
       "    </tr>\n",
       "  </tbody>\n",
       "</table>\n",
       "</div>"
      ],
      "text/plain": [
       "    geolocation_lat  geolocation_lng geolocation_state  distance_from_olist\n",
       "0         -9.926145       -67.835117                AC          1618.914851\n",
       "1         -9.673523       -35.759550                AL          1403.700377\n",
       "2          0.052674       -51.061010                AP          1763.441197\n",
       "3         -3.098469       -59.999784                AM          1697.946434\n",
       "4        -12.987172       -38.522682                BA          1108.323821\n",
       "5         -3.725240       -38.545775                CE          1659.528170\n",
       "6        -15.801476       -47.882896                DF           671.021833\n",
       "7        -20.319586       -40.329319                ES           670.211726\n",
       "8        -16.697334       -49.254888                GO           602.984707\n",
       "9         -2.546079       -44.308986                MA          1614.394093\n",
       "10       -15.629664       -56.017254                MT           803.947757\n",
       "11       -22.885008       -43.616130                RJ           398.367940\n",
       "12       -19.923989       -43.935706                MG           510.728650\n",
       "13        -6.695727       -35.539798                PB          1579.942843\n",
       "14        -7.101960       -34.842360                PB          1583.827117\n",
       "15       -25.435488       -49.270214                PR             1.406512\n",
       "16        -8.061695       -34.882393                PE          1528.581982\n",
       "17        -5.070946       -42.788482                PI          1470.141153\n",
       "18       -22.902472       -43.174059                RJ           423.007813\n",
       "19        -5.783671       -35.196947                RN          1645.510755\n",
       "20       -30.032150       -51.232552                RS           339.115564\n",
       "21        -8.758144       -63.887973                RO          1498.037991\n",
       "22        -7.260943       -36.242493                PB          1520.909232\n",
       "23       -27.591860       -48.549025                SC           156.135500\n",
       "24       -23.547762       -46.635361                SP           211.562633\n",
       "25       -10.910515       -37.052401                SE          1282.566911\n",
       "26       -10.342336       -48.295596                TO          1043.802229"
      ]
     },
     "execution_count": 110,
     "metadata": {},
     "output_type": "execute_result"
    }
   ],
   "source": [
    "df_state_geo"
   ]
  },
  {
   "cell_type": "code",
   "execution_count": null,
   "id": "8e4bf8e7",
   "metadata": {
    "ExecuteTime": {
     "end_time": "2022-08-29T22:52:48.213881Z",
     "start_time": "2022-08-29T22:52:48.213881Z"
    }
   },
   "outputs": [],
   "source": [
    "# 2 ème méthode"
   ]
  },
  {
   "cell_type": "code",
   "execution_count": null,
   "id": "632b48a0",
   "metadata": {
    "ExecuteTime": {
     "end_time": "2022-08-29T22:52:48.214880Z",
     "start_time": "2022-08-29T22:52:48.214880Z"
    }
   },
   "outputs": [],
   "source": [
    "# from sklearn.metrics.pairwise import haversine_distances\n",
    "# from math import radians"
   ]
  },
  {
   "cell_type": "code",
   "execution_count": null,
   "id": "e9f737f6",
   "metadata": {
    "ExecuteTime": {
     "end_time": "2022-08-29T22:52:48.215881Z",
     "start_time": "2022-08-29T22:52:48.215881Z"
    }
   },
   "outputs": [],
   "source": [
    "# olist = [-25.422910, -49.304970]\n",
    "# olist_in_radians = [radians(_) for _ in olist]\n",
    "# all_distances = []\n",
    "# for index, row in df_state_geo.iterrows() : \n",
    "#      geo_lat_lng= [row['geolocation_lat'],row['geolocation_lng']]\n",
    "#      geo_in_radians = [radians(_) for _ in geo_lat_lng]\n",
    "#      result = haversine_distances([olist_in_radians, geo_in_radians])\n",
    "#      all_distances.append(result)\n",
    "#      print(result * 6371000/1000)\n",
    "     \n",
    "    \n",
    "# df_state_geo['distance_from_olist'] = all_distances"
   ]
  },
  {
   "cell_type": "markdown",
   "id": "8b3288c4",
   "metadata": {},
   "source": [
    "#### Montant total depensé dans chaque State"
   ]
  },
  {
   "cell_type": "code",
   "execution_count": 111,
   "id": "ab4ae3b3",
   "metadata": {
    "ExecuteTime": {
     "end_time": "2022-08-29T22:58:44.033420Z",
     "start_time": "2022-08-29T22:58:44.013718Z"
    }
   },
   "outputs": [],
   "source": [
    "d = data_costumers.groupby(['customer_state'])['payment_value'].agg('sum').reset_index()"
   ]
  },
  {
   "cell_type": "code",
   "execution_count": 112,
   "id": "288bb187",
   "metadata": {
    "ExecuteTime": {
     "end_time": "2022-08-29T22:58:44.605109Z",
     "start_time": "2022-08-29T22:58:44.432111Z"
    }
   },
   "outputs": [
    {
     "data": {
      "text/plain": [
       "<AxesSubplot:xlabel='customer_state', ylabel='payment_value'>"
      ]
     },
     "execution_count": 112,
     "metadata": {},
     "output_type": "execute_result"
    },
    {
     "data": {
      "image/png": "[encoded data removed]",
      "text/plain": [
       "<Figure size 792x576 with 1 Axes>"
      ]
     },
     "metadata": {
      "needs_background": "light"
     },
     "output_type": "display_data"
    }
   ],
   "source": [
    "plt.figure(figsize=(11,8))\n",
    "sns.barplot(x= d['customer_state'], y= d['payment_value'], palette= 'Blues_r')"
   ]
  },
  {
   "cell_type": "code",
   "execution_count": 113,
   "id": "a5017f30",
   "metadata": {
    "ExecuteTime": {
     "end_time": "2022-08-29T22:58:45.729092Z",
     "start_time": "2022-08-29T22:58:45.674457Z"
    }
   },
   "outputs": [],
   "source": [
    "data_costumers3 = df_state_geo.merge(data_costumers, how='left', left_on='geolocation_state', right_on='customer_state')"
   ]
  },
  {
   "cell_type": "markdown",
   "id": "f844b566",
   "metadata": {},
   "source": [
    "### Corrélations"
   ]
  },
  {
   "cell_type": "code",
   "execution_count": 114,
   "id": "de6e4d87",
   "metadata": {
    "ExecuteTime": {
     "end_time": "2022-08-29T22:58:51.024607Z",
     "start_time": "2022-08-29T22:58:50.302204Z"
    }
   },
   "outputs": [
    {
     "data": {
      "image/png": "[encoded data removed]",
      "text/plain": [
       "<Figure size 1080x1080 with 2 Axes>"
      ]
     },
     "metadata": {
      "needs_background": "light"
     },
     "output_type": "display_data"
    }
   ],
   "source": [
    "corr = data_costumers3.corr()\n",
    "mask = np.zeros_like(corr)\n",
    "mask[np.triu_indices_from(mask)] = True\n",
    "fig, ax = plt.subplots(figsize=(15,15))\n",
    "ax = sns.heatmap(corr, annot=True, fmt=\".2f\", annot_kws={'size':8}, \n",
    "                 mask=mask, center=0, cmap=\"coolwarm\")\n",
    "plt.title(f\"Heatmap des corrélations linéaires\\n\")\n",
    "plt.show()"
   ]
  },
  {
   "cell_type": "markdown",
   "id": "c37903c7",
   "metadata": {},
   "source": [
    "### Création du dataset clients :"
   ]
  },
  {
   "cell_type": "code",
   "execution_count": 133,
   "id": "52957318",
   "metadata": {
    "ExecuteTime": {
     "end_time": "2022-08-30T00:59:22.415484Z",
     "start_time": "2022-08-30T00:59:22.278253Z"
    }
   },
   "outputs": [],
   "source": [
    "d1 = data_costumers3.groupby(['customer_unique_id'])['payment_installments'].aggregate('sum').reset_index()"
   ]
  },
  {
   "cell_type": "code",
   "execution_count": 134,
   "id": "dc23bb02",
   "metadata": {
    "ExecuteTime": {
     "end_time": "2022-08-30T00:59:23.299055Z",
     "start_time": "2022-08-30T00:59:23.168730Z"
    }
   },
   "outputs": [],
   "source": [
    "d2 = data_costumers3.groupby(['customer_unique_id'])['freight_value'].aggregate('sum').reset_index()"
   ]
  },
  {
   "cell_type": "code",
   "execution_count": 135,
   "id": "3997bbc9",
   "metadata": {
    "ExecuteTime": {
     "end_time": "2022-08-30T00:59:24.513666Z",
     "start_time": "2022-08-30T00:59:24.434915Z"
    }
   },
   "outputs": [],
   "source": [
    "d3 = d1.merge(d2, how='left', on='customer_unique_id')"
   ]
  },
  {
   "cell_type": "code",
   "execution_count": 136,
   "id": "cc22e45d",
   "metadata": {
    "ExecuteTime": {
     "end_time": "2022-08-30T00:59:25.163479Z",
     "start_time": "2022-08-30T00:59:25.033164Z"
    }
   },
   "outputs": [],
   "source": [
    "d4 = data_costumers3.groupby(['customer_unique_id'])['payment_sequential'].aggregate('sum').reset_index()"
   ]
  },
  {
   "cell_type": "code",
   "execution_count": 137,
   "id": "69825982",
   "metadata": {
    "ExecuteTime": {
     "end_time": "2022-08-30T00:59:25.612828Z",
     "start_time": "2022-08-30T00:59:25.551790Z"
    }
   },
   "outputs": [],
   "source": [
    "d5 = d3.merge(d4, how='left', on='customer_unique_id')"
   ]
  },
  {
   "cell_type": "code",
   "execution_count": 138,
   "id": "ec3d563e",
   "metadata": {
    "ExecuteTime": {
     "end_time": "2022-08-30T00:59:26.250987Z",
     "start_time": "2022-08-30T00:59:26.129870Z"
    }
   },
   "outputs": [],
   "source": [
    "d6 = data_costumers3.groupby(['customer_unique_id'])['payment_value'].aggregate('sum').reset_index()"
   ]
  },
  {
   "cell_type": "code",
   "execution_count": 139,
   "id": "980ceb0c",
   "metadata": {
    "ExecuteTime": {
     "end_time": "2022-08-30T00:59:26.729961Z",
     "start_time": "2022-08-30T00:59:26.725957Z"
    }
   },
   "outputs": [],
   "source": [
    "col = ['customer_unique_id','product_category_name_english','distance_from_olist','order_purchase_hour','delais_de_livraison']"
   ]
  },
  {
   "cell_type": "code",
   "execution_count": 140,
   "id": "a5ccd6f6",
   "metadata": {
    "ExecuteTime": {
     "end_time": "2022-08-30T00:59:27.931119Z",
     "start_time": "2022-08-30T00:59:27.911168Z"
    }
   },
   "outputs": [],
   "source": [
    "data_to_merge = data_costumers3[col]"
   ]
  },
  {
   "cell_type": "code",
   "execution_count": 141,
   "id": "d4168c2d",
   "metadata": {
    "ExecuteTime": {
     "end_time": "2022-08-30T00:59:28.470225Z",
     "start_time": "2022-08-30T00:59:28.387258Z"
    }
   },
   "outputs": [],
   "source": [
    "data_to_merge = data_to_merge.drop_duplicates()"
   ]
  },
  {
   "cell_type": "code",
   "execution_count": 142,
   "id": "af695575",
   "metadata": {
    "ExecuteTime": {
     "end_time": "2022-08-30T00:59:28.934156Z",
     "start_time": "2022-08-30T00:59:28.859205Z"
    }
   },
   "outputs": [],
   "source": [
    "d7 = d5.merge(data_to_merge, how='left', on='customer_unique_id')"
   ]
  },
  {
   "cell_type": "code",
   "execution_count": 143,
   "id": "768c7ba5",
   "metadata": {
    "ExecuteTime": {
     "end_time": "2022-08-30T00:59:29.648438Z",
     "start_time": "2022-08-30T00:59:29.565629Z"
    }
   },
   "outputs": [],
   "source": [
    "data_costumers_final = d6.merge(d7, how='left', on='customer_unique_id')"
   ]
  },
  {
   "cell_type": "code",
   "execution_count": 144,
   "id": "a6dd2623",
   "metadata": {
    "ExecuteTime": {
     "end_time": "2022-08-30T00:59:30.311015Z",
     "start_time": "2022-08-30T00:59:30.196308Z"
    }
   },
   "outputs": [],
   "source": [
    "d8 = data_costumers3.groupby(['customer_unique_id'])['payment_value'].aggregate('sum').reset_index()"
   ]
  },
  {
   "cell_type": "code",
   "execution_count": 145,
   "id": "33eeef26",
   "metadata": {
    "ExecuteTime": {
     "end_time": "2022-08-30T00:59:30.869338Z",
     "start_time": "2022-08-30T00:59:30.751707Z"
    }
   },
   "outputs": [],
   "source": [
    "d8 = data_costumers3.groupby(['customer_unique_id'])['review_score'].aggregate('mean').reset_index()"
   ]
  },
  {
   "cell_type": "code",
   "execution_count": 146,
   "id": "6cc7da69",
   "metadata": {
    "ExecuteTime": {
     "end_time": "2022-08-30T00:59:31.384207Z",
     "start_time": "2022-08-30T00:59:31.292567Z"
    }
   },
   "outputs": [],
   "source": [
    "data_costumers_final = d8.merge(data_costumers_final, how='left', on='customer_unique_id')"
   ]
  },
  {
   "cell_type": "code",
   "execution_count": 147,
   "id": "7049a41b",
   "metadata": {
    "ExecuteTime": {
     "end_time": "2022-08-30T00:59:32.373555Z",
     "start_time": "2022-08-30T00:59:32.353160Z"
    }
   },
   "outputs": [
    {
     "data": {
      "text/plain": [
       "customer_unique_id                        object\n",
       "review_score                             float64\n",
       "payment_value                            float64\n",
       "payment_installments                     float64\n",
       "freight_value                            float64\n",
       "payment_sequential                       float64\n",
       "product_category_name_english             object\n",
       "distance_from_olist                      float64\n",
       "order_purchase_hour                        int64\n",
       "delais_de_livraison              timedelta64[ns]\n",
       "dtype: object"
      ]
     },
     "execution_count": 147,
     "metadata": {},
     "output_type": "execute_result"
    }
   ],
   "source": [
    "data_costumers_final.dtypes"
   ]
  },
  {
   "cell_type": "code",
   "execution_count": 148,
   "id": "169438b9",
   "metadata": {
    "ExecuteTime": {
     "end_time": "2022-08-30T00:59:35.551302Z",
     "start_time": "2022-08-30T00:59:35.531729Z"
    }
   },
   "outputs": [],
   "source": [
    "data_costumers_final['delais_de_livraison'] = data_costumers_final['delais_de_livraison'].astype('timedelta64[D]')"
   ]
  },
  {
   "cell_type": "code",
   "execution_count": 149,
   "id": "b9803f14",
   "metadata": {
    "ExecuteTime": {
     "end_time": "2022-08-30T00:59:36.110819Z",
     "start_time": "2022-08-30T00:59:36.104820Z"
    }
   },
   "outputs": [
    {
     "data": {
      "text/plain": [
       "customer_unique_id                object\n",
       "review_score                     float64\n",
       "payment_value                    float64\n",
       "payment_installments             float64\n",
       "freight_value                    float64\n",
       "payment_sequential               float64\n",
       "product_category_name_english     object\n",
       "distance_from_olist              float64\n",
       "order_purchase_hour                int64\n",
       "delais_de_livraison              float64\n",
       "dtype: object"
      ]
     },
     "execution_count": 149,
     "metadata": {},
     "output_type": "execute_result"
    }
   ],
   "source": [
    "data_costumers_final.dtypes"
   ]
  },
  {
   "cell_type": "code",
   "execution_count": 150,
   "id": "fd1cc7b1",
   "metadata": {
    "ExecuteTime": {
     "end_time": "2022-08-30T00:59:42.022255Z",
     "start_time": "2022-08-30T00:59:41.853494Z"
    }
   },
   "outputs": [],
   "source": [
    "import pickle\n",
    "path = r'C:/Users/chouc/openclassrooms/projet 5/model/data_costumers.pickle'\n",
    "data_costumers.to_pickle(path)"
   ]
  },
  {
   "cell_type": "code",
   "execution_count": 151,
   "id": "459613ae",
   "metadata": {
    "ExecuteTime": {
     "end_time": "2022-08-30T00:59:42.656780Z",
     "start_time": "2022-08-30T00:59:42.612778Z"
    }
   },
   "outputs": [],
   "source": [
    "import pickle\n",
    "path = r'C:/Users/chouc/openclassrooms/projet 5/model/data_costumers_final.pickle'\n",
    "data_costumers_final.to_pickle(path)"
   ]
  },
  {
   "cell_type": "code",
   "execution_count": null,
   "id": "e7a6e891",
   "metadata": {},
   "outputs": [],
   "source": []
  },
  {
   "cell_type": "code",
   "execution_count": null,
   "id": "eb5a93af",
   "metadata": {},
   "outputs": [],
   "source": []
  },
  {
   "cell_type": "code",
   "execution_count": null,
   "id": "fdaa17b1",
   "metadata": {},
   "outputs": [],
   "source": []
  },
  {
   "cell_type": "code",
   "execution_count": null,
   "id": "2c1212a2",
   "metadata": {},
   "outputs": [],
   "source": []
  }
 ],
 "metadata": {
  "kernelspec": {
   "display_name": "Python 3 (ipykernel)",
   "language": "python",
   "name": "python3"
  },
  "language_info": {
   "codemirror_mode": {
    "name": "ipython",
    "version": 3
   },
   "file_extension": ".py",
   "mimetype": "text/x-python",
   "name": "python",
   "nbconvert_exporter": "python",
   "pygments_lexer": "ipython3",
   "version": "3.9.12"
  }
 },
 "nbformat": 4,
 "nbformat_minor": 5
}
