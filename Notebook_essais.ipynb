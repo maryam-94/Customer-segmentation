{
 "cells": [
  {
   "cell_type": "code",
   "execution_count": 200,
   "id": "eee07284",
   "metadata": {
    "ExecuteTime": {
     "end_time": "2022-08-30T00:50:37.708070Z",
     "start_time": "2022-08-30T00:50:37.700010Z"
    }
   },
   "outputs": [],
   "source": [
    "import numpy as np\n",
    "import pandas as pd \n",
    "import matplotlib.pyplot as plt\n",
    "import seaborn as sns "
   ]
  },
  {
   "cell_type": "code",
   "execution_count": 201,
   "id": "c78692e6",
   "metadata": {
    "ExecuteTime": {
     "end_time": "2022-08-30T00:50:39.948373Z",
     "start_time": "2022-08-30T00:50:38.382480Z"
    }
   },
   "outputs": [],
   "source": [
    "df_customers = pd.read_csv (\"./archive/olist_customers_dataset.csv\")\n",
    "df_geolocation = pd.read_csv (\"./archive/olist_geolocation_dataset.csv\")\n",
    "df_order_items = pd.read_csv (\"./archive/olist_order_items_dataset.csv\")\n",
    "df_order_payments = pd.read_csv (\"./archive/olist_order_payments_dataset.csv\") \n",
    "df_order_reviews = pd.read_csv (\"./archive/olist_order_reviews_dataset.csv\") \n",
    "df_orders = pd.read_csv (\"./archive/olist_orders_dataset.csv\")\n",
    "df_products = pd.read_csv (\"./archive/olist_products_dataset.csv\")\n",
    "df_sellers = pd.read_csv (\"./archive/olist_sellers_dataset.csv\") \n",
    "df_category_name_translation = pd.read_csv (\"./archive/product_category_name_translation.csv\")"
   ]
  },
  {
   "cell_type": "code",
   "execution_count": 202,
   "id": "ca86f056",
   "metadata": {
    "ExecuteTime": {
     "end_time": "2022-08-30T00:50:40.075766Z",
     "start_time": "2022-08-30T00:50:39.949766Z"
    }
   },
   "outputs": [],
   "source": [
    "import pickle\n",
    "data_costumers = pd.read_pickle(r'C:\\Users\\chouc\\openclassrooms\\projet 5\\model\\data_costumers.pickle')"
   ]
  },
  {
   "cell_type": "code",
   "execution_count": 210,
   "id": "5858163d",
   "metadata": {
    "ExecuteTime": {
     "end_time": "2022-08-30T01:00:04.573176Z",
     "start_time": "2022-08-30T01:00:04.542174Z"
    }
   },
   "outputs": [],
   "source": [
    "data_costumers_final = pd.read_pickle(r'C:\\Users\\chouc\\openclassrooms\\projet 5\\model\\data_costumers_final.pickle')"
   ]
  },
  {
   "cell_type": "markdown",
   "id": "d09c6708",
   "metadata": {},
   "source": [
    "\n",
    "<h3><center><font color='green'>RFM Modelling</font></center></h3>"
   ]
  },
  {
   "cell_type": "markdown",
   "id": "5ed0822a",
   "metadata": {},
   "source": [
    "- Recency = Date depuis la derniére Date d'achat \n",
    "- Frequency = Nombre d'achats efféctués par chaque client \n",
    "- Monetary = La somme totale que chaque client a payé"
   ]
  },
  {
   "cell_type": "code",
   "execution_count": 137,
   "id": "61b7caa7",
   "metadata": {
    "ExecuteTime": {
     "end_time": "2022-08-29T23:29:07.756071Z",
     "start_time": "2022-08-29T23:29:07.744058Z"
    }
   },
   "outputs": [],
   "source": [
    "import datetime as dt"
   ]
  },
  {
   "cell_type": "code",
   "execution_count": 138,
   "id": "3c0ff4b0",
   "metadata": {
    "ExecuteTime": {
     "end_time": "2022-08-29T23:29:08.207592Z",
     "start_time": "2022-08-29T23:29:08.192592Z"
    }
   },
   "outputs": [],
   "source": [
    "#Définir la date de la derniére commande .Il s'agit de calculer le nombre de jours depuis l'achat récent\n",
    "Latest_Date = dt.datetime(2022,8,10) "
   ]
  },
  {
   "cell_type": "code",
   "execution_count": 139,
   "id": "5bbfb3df",
   "metadata": {
    "ExecuteTime": {
     "end_time": "2022-08-29T23:29:21.684608Z",
     "start_time": "2022-08-29T23:29:08.610058Z"
    }
   },
   "outputs": [],
   "source": [
    "#Creer RFM scores pour chaque  client\n",
    "RFMScores = data_costumers.groupby('customer_unique_id').agg({'order_purchase_timestamp': lambda x: (Latest_Date - x.max()).days, 'order_id': lambda x: len(x), 'payment_value': lambda x: x.sum()})"
   ]
  },
  {
   "cell_type": "code",
   "execution_count": 140,
   "id": "15e42d68",
   "metadata": {
    "ExecuteTime": {
     "end_time": "2022-08-29T23:29:21.700322Z",
     "start_time": "2022-08-29T23:29:21.685689Z"
    }
   },
   "outputs": [],
   "source": [
    "#Convertir la date de la commande au type int\n",
    "RFMScores['order_purchase_timestamp'] = RFMScores['order_purchase_timestamp'].astype(int)"
   ]
  },
  {
   "cell_type": "code",
   "execution_count": 141,
   "id": "1befda0a",
   "metadata": {
    "ExecuteTime": {
     "end_time": "2022-08-29T23:29:21.715402Z",
     "start_time": "2022-08-29T23:29:21.702292Z"
    }
   },
   "outputs": [],
   "source": [
    "#Renomer les colonnes :  Recency, Frequency and Monetary\n",
    "RFMScores.rename(columns={'order_purchase_timestamp': 'Recency', \n",
    "                         'order_id': 'Frequency', \n",
    "                         'payment_value': 'Monetary'}, inplace=True)"
   ]
  },
  {
   "cell_type": "code",
   "execution_count": 142,
   "id": "07e78819",
   "metadata": {
    "ExecuteTime": {
     "end_time": "2022-08-29T23:29:21.731328Z",
     "start_time": "2022-08-29T23:29:21.717328Z"
    }
   },
   "outputs": [
    {
     "data": {
      "text/html": [
       "<div>\n",
       "<style scoped>\n",
       "    .dataframe tbody tr th:only-of-type {\n",
       "        vertical-align: middle;\n",
       "    }\n",
       "\n",
       "    .dataframe tbody tr th {\n",
       "        vertical-align: top;\n",
       "    }\n",
       "\n",
       "    .dataframe thead th {\n",
       "        text-align: right;\n",
       "    }\n",
       "</style>\n",
       "<table border=\"1\" class=\"dataframe\">\n",
       "  <thead>\n",
       "    <tr style=\"text-align: right;\">\n",
       "      <th></th>\n",
       "      <th>customer_unique_id</th>\n",
       "      <th>Recency</th>\n",
       "      <th>Frequency</th>\n",
       "      <th>Monetary</th>\n",
       "    </tr>\n",
       "  </thead>\n",
       "  <tbody>\n",
       "    <tr>\n",
       "      <th>0</th>\n",
       "      <td>0000366f3b9a7992bf8c76cfdf3221e2</td>\n",
       "      <td>1552</td>\n",
       "      <td>1</td>\n",
       "      <td>141.90</td>\n",
       "    </tr>\n",
       "    <tr>\n",
       "      <th>1</th>\n",
       "      <td>0000b849f77a49e4a4ce2b2a4ca5be3f</td>\n",
       "      <td>1555</td>\n",
       "      <td>1</td>\n",
       "      <td>27.19</td>\n",
       "    </tr>\n",
       "    <tr>\n",
       "      <th>2</th>\n",
       "      <td>0000f46a3911fa3c0805444483337064</td>\n",
       "      <td>1978</td>\n",
       "      <td>1</td>\n",
       "      <td>86.22</td>\n",
       "    </tr>\n",
       "    <tr>\n",
       "      <th>3</th>\n",
       "      <td>0000f6ccb0745a6a4b88665a16c9f078</td>\n",
       "      <td>1762</td>\n",
       "      <td>1</td>\n",
       "      <td>43.62</td>\n",
       "    </tr>\n",
       "    <tr>\n",
       "      <th>4</th>\n",
       "      <td>0004aac84e0df4da2b147fca70cf8255</td>\n",
       "      <td>1729</td>\n",
       "      <td>1</td>\n",
       "      <td>196.89</td>\n",
       "    </tr>\n",
       "  </tbody>\n",
       "</table>\n",
       "</div>"
      ],
      "text/plain": [
       "                 customer_unique_id  Recency  Frequency  Monetary\n",
       "0  0000366f3b9a7992bf8c76cfdf3221e2     1552          1    141.90\n",
       "1  0000b849f77a49e4a4ce2b2a4ca5be3f     1555          1     27.19\n",
       "2  0000f46a3911fa3c0805444483337064     1978          1     86.22\n",
       "3  0000f6ccb0745a6a4b88665a16c9f078     1762          1     43.62\n",
       "4  0004aac84e0df4da2b147fca70cf8255     1729          1    196.89"
      ]
     },
     "execution_count": 142,
     "metadata": {},
     "output_type": "execute_result"
    }
   ],
   "source": [
    "RFMScores.reset_index().head()"
   ]
  },
  {
   "cell_type": "code",
   "execution_count": 143,
   "id": "14ae9beb",
   "metadata": {
    "ExecuteTime": {
     "end_time": "2022-08-29T23:29:22.386343Z",
     "start_time": "2022-08-29T23:29:21.732328Z"
    }
   },
   "outputs": [
    {
     "data": {
      "text/plain": [
       "count    94707.000000\n",
       "mean      1679.305363\n",
       "std        153.146624\n",
       "min       1436.000000\n",
       "25%       1555.000000\n",
       "50%       1660.000000\n",
       "75%       1788.000000\n",
       "max       2165.000000\n",
       "Name: Recency, dtype: float64"
      ]
     },
     "execution_count": 143,
     "metadata": {},
     "output_type": "execute_result"
    }
   ],
   "source": [
    "#Descriptive Statistique (Recency)\n",
    "RFMScores.Recency.describe()"
   ]
  },
  {
   "cell_type": "code",
   "execution_count": 144,
   "id": "77a2b9c8",
   "metadata": {
    "ExecuteTime": {
     "end_time": "2022-08-29T23:29:22.898541Z",
     "start_time": "2022-08-29T23:29:22.388252Z"
    }
   },
   "outputs": [
    {
     "name": "stderr",
     "output_type": "stream",
     "text": [
      "C:\\Users\\chouc\\anaconda3\\lib\\site-packages\\seaborn\\distributions.py:2619: FutureWarning:\n",
      "\n",
      "`distplot` is a deprecated function and will be removed in a future version. Please adapt your code to use either `displot` (a figure-level function with similar flexibility) or `histplot` (an axes-level function for histograms).\n",
      "\n"
     ]
    },
    {
     "data": {
      "image/png": "[encoded data removed]",
      "text/plain": [
       "<Figure size 576x396 with 1 Axes>"
      ]
     },
     "metadata": {},
     "output_type": "display_data"
    }
   ],
   "source": [
    "#Recency distribution plot\n",
    "import seaborn as sns\n",
    "x = RFMScores['Recency']\n",
    "\n",
    "ax = sns.distplot(x)"
   ]
  },
  {
   "cell_type": "code",
   "execution_count": 145,
   "id": "80b497f3",
   "metadata": {
    "ExecuteTime": {
     "end_time": "2022-08-29T23:29:22.913543Z",
     "start_time": "2022-08-29T23:29:22.899468Z"
    }
   },
   "outputs": [
    {
     "data": {
      "text/plain": [
       "count    94707.000000\n",
       "mean         1.234228\n",
       "std          0.833644\n",
       "min          1.000000\n",
       "25%          1.000000\n",
       "50%          1.000000\n",
       "75%          1.000000\n",
       "max         75.000000\n",
       "Name: Frequency, dtype: float64"
      ]
     },
     "execution_count": 145,
     "metadata": {},
     "output_type": "execute_result"
    }
   ],
   "source": [
    "#Descriptive Statistique (Frequency)\n",
    "RFMScores.Frequency.describe()\n"
   ]
  },
  {
   "cell_type": "code",
   "execution_count": 146,
   "id": "5f069425",
   "metadata": {
    "ExecuteTime": {
     "end_time": "2022-08-29T23:29:23.867665Z",
     "start_time": "2022-08-29T23:29:22.914467Z"
    }
   },
   "outputs": [
    {
     "name": "stderr",
     "output_type": "stream",
     "text": [
      "C:\\Users\\chouc\\anaconda3\\lib\\site-packages\\seaborn\\distributions.py:2619: FutureWarning:\n",
      "\n",
      "`distplot` is a deprecated function and will be removed in a future version. Please adapt your code to use either `displot` (a figure-level function with similar flexibility) or `histplot` (an axes-level function for histograms).\n",
      "\n"
     ]
    },
    {
     "data": {
      "image/png": "[encoded data removed]",
      "text/plain": [
       "<Figure size 864x576 with 1 Axes>"
      ]
     },
     "metadata": {},
     "output_type": "display_data"
    }
   ],
   "source": [
    "#Frequency distribution plot, \n",
    "fig = plt.figure(figsize=(12,8))\n",
    "x = RFMScores.query('Frequency < 20')['Frequency']\n",
    "\n",
    "ax = sns.distplot(x)"
   ]
  },
  {
   "cell_type": "code",
   "execution_count": 147,
   "id": "611c4ad4",
   "metadata": {
    "ExecuteTime": {
     "end_time": "2022-08-29T23:29:23.883663Z",
     "start_time": "2022-08-29T23:29:23.868652Z"
    }
   },
   "outputs": [
    {
     "data": {
      "text/plain": [
       "count     94707.000000\n",
       "mean        212.481051\n",
       "std         627.386092\n",
       "min           9.590000\n",
       "25%          63.880000\n",
       "50%         113.110000\n",
       "75%         202.220000\n",
       "max      109312.640000\n",
       "Name: Monetary, dtype: float64"
      ]
     },
     "execution_count": 147,
     "metadata": {},
     "output_type": "execute_result"
    }
   ],
   "source": [
    "#Descriptive Statistique (Monetary)\n",
    "RFMScores.Monetary.describe()"
   ]
  },
  {
   "cell_type": "code",
   "execution_count": 148,
   "id": "5132a0c1",
   "metadata": {
    "ExecuteTime": {
     "end_time": "2022-08-29T23:29:24.533818Z",
     "start_time": "2022-08-29T23:29:23.885652Z"
    }
   },
   "outputs": [
    {
     "name": "stderr",
     "output_type": "stream",
     "text": [
      "C:\\Users\\chouc\\anaconda3\\lib\\site-packages\\seaborn\\distributions.py:2619: FutureWarning:\n",
      "\n",
      "`distplot` is a deprecated function and will be removed in a future version. Please adapt your code to use either `displot` (a figure-level function with similar flexibility) or `histplot` (an axes-level function for histograms).\n",
      "\n"
     ]
    },
    {
     "data": {
      "image/png": "[encoded data removed]",
      "text/plain": [
       "<Figure size 864x576 with 1 Axes>"
      ]
     },
     "metadata": {},
     "output_type": "display_data"
    }
   ],
   "source": [
    "#Monateray distribution plot,\n",
    "fig = plt.figure(figsize=(12,8))\n",
    "x = RFMScores.query('Monetary < 1000')['Monetary']\n",
    "ax = sns.distplot(x)"
   ]
  },
  {
   "cell_type": "code",
   "execution_count": 149,
   "id": "9e657c2f",
   "metadata": {
    "ExecuteTime": {
     "end_time": "2022-08-29T23:29:24.549820Z",
     "start_time": "2022-08-29T23:29:24.535809Z"
    }
   },
   "outputs": [],
   "source": [
    "#diviser sur 4 segments en quantiles\n",
    "quantiles = RFMScores.quantile(q=[0.25,0.5,0.75])\n",
    "quantiles = quantiles.to_dict()"
   ]
  },
  {
   "cell_type": "code",
   "execution_count": 150,
   "id": "ccdd367a",
   "metadata": {
    "ExecuteTime": {
     "end_time": "2022-08-29T23:29:24.565810Z",
     "start_time": "2022-08-29T23:29:24.550808Z"
    }
   },
   "outputs": [
    {
     "data": {
      "text/plain": [
       "{'Recency': {0.25: 1555.0, 0.5: 1660.0, 0.75: 1788.0},\n",
       " 'Frequency': {0.25: 1.0, 0.5: 1.0, 0.75: 1.0},\n",
       " 'Monetary': {0.25: 63.88, 0.5: 113.11, 0.75: 202.22}}"
      ]
     },
     "execution_count": 150,
     "metadata": {},
     "output_type": "execute_result"
    }
   ],
   "source": [
    "quantiles"
   ]
  },
  {
   "cell_type": "code",
   "execution_count": 151,
   "id": "d4686252",
   "metadata": {
    "ExecuteTime": {
     "end_time": "2022-08-29T23:29:24.581860Z",
     "start_time": "2022-08-29T23:29:24.567814Z"
    }
   },
   "outputs": [],
   "source": [
    "#Functions pour créer R, F et M segments\n",
    "def RScoring(x,p,d):\n",
    "    if x <= d[p][0.25]:\n",
    "        return 1\n",
    "    elif x <= d[p][0.50]:\n",
    "        return 2\n",
    "    elif x <= d[p][0.75]: \n",
    "        return 3\n",
    "    else:\n",
    "        return 4\n",
    "    \n",
    "def FnMScoring(x,p,d):\n",
    "    if x <= d[p][0.25]:\n",
    "        return 4\n",
    "    elif x <= d[p][0.50]:\n",
    "        return 3\n",
    "    elif x <= d[p][0.75]: \n",
    "        return 2\n",
    "    else:\n",
    "        return 1"
   ]
  },
  {
   "cell_type": "code",
   "execution_count": 152,
   "id": "b0d910b4",
   "metadata": {
    "ExecuteTime": {
     "end_time": "2022-08-29T23:29:24.811627Z",
     "start_time": "2022-08-29T23:29:24.582810Z"
    }
   },
   "outputs": [
    {
     "data": {
      "text/html": [
       "<div>\n",
       "<style scoped>\n",
       "    .dataframe tbody tr th:only-of-type {\n",
       "        vertical-align: middle;\n",
       "    }\n",
       "\n",
       "    .dataframe tbody tr th {\n",
       "        vertical-align: top;\n",
       "    }\n",
       "\n",
       "    .dataframe thead th {\n",
       "        text-align: right;\n",
       "    }\n",
       "</style>\n",
       "<table border=\"1\" class=\"dataframe\">\n",
       "  <thead>\n",
       "    <tr style=\"text-align: right;\">\n",
       "      <th></th>\n",
       "      <th>Recency</th>\n",
       "      <th>Frequency</th>\n",
       "      <th>Monetary</th>\n",
       "      <th>R</th>\n",
       "      <th>F</th>\n",
       "      <th>M</th>\n",
       "    </tr>\n",
       "    <tr>\n",
       "      <th>customer_unique_id</th>\n",
       "      <th></th>\n",
       "      <th></th>\n",
       "      <th></th>\n",
       "      <th></th>\n",
       "      <th></th>\n",
       "      <th></th>\n",
       "    </tr>\n",
       "  </thead>\n",
       "  <tbody>\n",
       "    <tr>\n",
       "      <th>0000366f3b9a7992bf8c76cfdf3221e2</th>\n",
       "      <td>1552</td>\n",
       "      <td>1</td>\n",
       "      <td>141.90</td>\n",
       "      <td>1</td>\n",
       "      <td>4</td>\n",
       "      <td>2</td>\n",
       "    </tr>\n",
       "    <tr>\n",
       "      <th>0000b849f77a49e4a4ce2b2a4ca5be3f</th>\n",
       "      <td>1555</td>\n",
       "      <td>1</td>\n",
       "      <td>27.19</td>\n",
       "      <td>1</td>\n",
       "      <td>4</td>\n",
       "      <td>4</td>\n",
       "    </tr>\n",
       "    <tr>\n",
       "      <th>0000f46a3911fa3c0805444483337064</th>\n",
       "      <td>1978</td>\n",
       "      <td>1</td>\n",
       "      <td>86.22</td>\n",
       "      <td>4</td>\n",
       "      <td>4</td>\n",
       "      <td>3</td>\n",
       "    </tr>\n",
       "    <tr>\n",
       "      <th>0000f6ccb0745a6a4b88665a16c9f078</th>\n",
       "      <td>1762</td>\n",
       "      <td>1</td>\n",
       "      <td>43.62</td>\n",
       "      <td>3</td>\n",
       "      <td>4</td>\n",
       "      <td>4</td>\n",
       "    </tr>\n",
       "    <tr>\n",
       "      <th>0004aac84e0df4da2b147fca70cf8255</th>\n",
       "      <td>1729</td>\n",
       "      <td>1</td>\n",
       "      <td>196.89</td>\n",
       "      <td>3</td>\n",
       "      <td>4</td>\n",
       "      <td>2</td>\n",
       "    </tr>\n",
       "  </tbody>\n",
       "</table>\n",
       "</div>"
      ],
      "text/plain": [
       "                                  Recency  Frequency  Monetary  R  F  M\n",
       "customer_unique_id                                                     \n",
       "0000366f3b9a7992bf8c76cfdf3221e2     1552          1    141.90  1  4  2\n",
       "0000b849f77a49e4a4ce2b2a4ca5be3f     1555          1     27.19  1  4  4\n",
       "0000f46a3911fa3c0805444483337064     1978          1     86.22  4  4  3\n",
       "0000f6ccb0745a6a4b88665a16c9f078     1762          1     43.62  3  4  4\n",
       "0004aac84e0df4da2b147fca70cf8255     1729          1    196.89  3  4  2"
      ]
     },
     "execution_count": 152,
     "metadata": {},
     "output_type": "execute_result"
    }
   ],
   "source": [
    "#Ajouter des colonnes de valeur de segment R, F et M dans l'ensemble de données existant pour afficher les valeurs de segment R, F et M\n",
    "RFMScores['R'] = RFMScores['Recency'].apply(RScoring, args=('Recency',quantiles,))\n",
    "RFMScores['F'] = RFMScores['Frequency'].apply(FnMScoring, args=('Frequency',quantiles,))\n",
    "RFMScores['M'] = RFMScores['Monetary'].apply(FnMScoring, args=('Monetary',quantiles,))\n",
    "RFMScores.head()"
   ]
  },
  {
   "cell_type": "code",
   "execution_count": 153,
   "id": "07b9fe91",
   "metadata": {
    "ExecuteTime": {
     "end_time": "2022-08-29T23:29:24.891215Z",
     "start_time": "2022-08-29T23:29:24.813549Z"
    }
   },
   "outputs": [
    {
     "data": {
      "text/html": [
       "<div>\n",
       "<style scoped>\n",
       "    .dataframe tbody tr th:only-of-type {\n",
       "        vertical-align: middle;\n",
       "    }\n",
       "\n",
       "    .dataframe tbody tr th {\n",
       "        vertical-align: top;\n",
       "    }\n",
       "\n",
       "    .dataframe thead th {\n",
       "        text-align: right;\n",
       "    }\n",
       "</style>\n",
       "<table border=\"1\" class=\"dataframe\">\n",
       "  <thead>\n",
       "    <tr style=\"text-align: right;\">\n",
       "      <th></th>\n",
       "      <th>Recency</th>\n",
       "      <th>Frequency</th>\n",
       "      <th>Monetary</th>\n",
       "      <th>R</th>\n",
       "      <th>F</th>\n",
       "      <th>M</th>\n",
       "      <th>RFMGroup</th>\n",
       "      <th>RFMScore</th>\n",
       "    </tr>\n",
       "    <tr>\n",
       "      <th>customer_unique_id</th>\n",
       "      <th></th>\n",
       "      <th></th>\n",
       "      <th></th>\n",
       "      <th></th>\n",
       "      <th></th>\n",
       "      <th></th>\n",
       "      <th></th>\n",
       "      <th></th>\n",
       "    </tr>\n",
       "  </thead>\n",
       "  <tbody>\n",
       "    <tr>\n",
       "      <th>0000366f3b9a7992bf8c76cfdf3221e2</th>\n",
       "      <td>1552</td>\n",
       "      <td>1</td>\n",
       "      <td>141.90</td>\n",
       "      <td>1</td>\n",
       "      <td>4</td>\n",
       "      <td>2</td>\n",
       "      <td>142</td>\n",
       "      <td>7</td>\n",
       "    </tr>\n",
       "    <tr>\n",
       "      <th>0000b849f77a49e4a4ce2b2a4ca5be3f</th>\n",
       "      <td>1555</td>\n",
       "      <td>1</td>\n",
       "      <td>27.19</td>\n",
       "      <td>1</td>\n",
       "      <td>4</td>\n",
       "      <td>4</td>\n",
       "      <td>144</td>\n",
       "      <td>9</td>\n",
       "    </tr>\n",
       "    <tr>\n",
       "      <th>0000f46a3911fa3c0805444483337064</th>\n",
       "      <td>1978</td>\n",
       "      <td>1</td>\n",
       "      <td>86.22</td>\n",
       "      <td>4</td>\n",
       "      <td>4</td>\n",
       "      <td>3</td>\n",
       "      <td>443</td>\n",
       "      <td>11</td>\n",
       "    </tr>\n",
       "    <tr>\n",
       "      <th>0000f6ccb0745a6a4b88665a16c9f078</th>\n",
       "      <td>1762</td>\n",
       "      <td>1</td>\n",
       "      <td>43.62</td>\n",
       "      <td>3</td>\n",
       "      <td>4</td>\n",
       "      <td>4</td>\n",
       "      <td>344</td>\n",
       "      <td>11</td>\n",
       "    </tr>\n",
       "    <tr>\n",
       "      <th>0004aac84e0df4da2b147fca70cf8255</th>\n",
       "      <td>1729</td>\n",
       "      <td>1</td>\n",
       "      <td>196.89</td>\n",
       "      <td>3</td>\n",
       "      <td>4</td>\n",
       "      <td>2</td>\n",
       "      <td>342</td>\n",
       "      <td>9</td>\n",
       "    </tr>\n",
       "  </tbody>\n",
       "</table>\n",
       "</div>"
      ],
      "text/plain": [
       "                                  Recency  Frequency  Monetary  R  F  M  \\\n",
       "customer_unique_id                                                        \n",
       "0000366f3b9a7992bf8c76cfdf3221e2     1552          1    141.90  1  4  2   \n",
       "0000b849f77a49e4a4ce2b2a4ca5be3f     1555          1     27.19  1  4  4   \n",
       "0000f46a3911fa3c0805444483337064     1978          1     86.22  4  4  3   \n",
       "0000f6ccb0745a6a4b88665a16c9f078     1762          1     43.62  3  4  4   \n",
       "0004aac84e0df4da2b147fca70cf8255     1729          1    196.89  3  4  2   \n",
       "\n",
       "                                 RFMGroup  RFMScore  \n",
       "customer_unique_id                                   \n",
       "0000366f3b9a7992bf8c76cfdf3221e2      142         7  \n",
       "0000b849f77a49e4a4ce2b2a4ca5be3f      144         9  \n",
       "0000f46a3911fa3c0805444483337064      443        11  \n",
       "0000f6ccb0745a6a4b88665a16c9f078      344        11  \n",
       "0004aac84e0df4da2b147fca70cf8255      342         9  "
      ]
     },
     "execution_count": 153,
     "metadata": {},
     "output_type": "execute_result"
    }
   ],
   "source": [
    "# Calculer et ajouter une colonne de valeurs RFMGroup indiquant le score concaténé combiné de RFM\n",
    "RFMScores['RFMGroup'] = RFMScores.R.map(str) + RFMScores.F.map(str) + RFMScores.M.map(str)\n",
    "\n",
    "#Calculer et ajouter une colonne de valeurs RFMScore indiquant la somme totale des valeurs RFMGroup\n",
    "RFMScores['RFMScore'] = RFMScores[['R', 'F', 'M']].sum(axis = 1)\n",
    "RFMScores.head()"
   ]
  },
  {
   "cell_type": "code",
   "execution_count": 154,
   "id": "72b8fe8c",
   "metadata": {
    "ExecuteTime": {
     "end_time": "2022-08-29T23:29:24.922274Z",
     "start_time": "2022-08-29T23:29:24.892265Z"
    }
   },
   "outputs": [
    {
     "data": {
      "text/html": [
       "<div>\n",
       "<style scoped>\n",
       "    .dataframe tbody tr th:only-of-type {\n",
       "        vertical-align: middle;\n",
       "    }\n",
       "\n",
       "    .dataframe tbody tr th {\n",
       "        vertical-align: top;\n",
       "    }\n",
       "\n",
       "    .dataframe thead th {\n",
       "        text-align: right;\n",
       "    }\n",
       "</style>\n",
       "<table border=\"1\" class=\"dataframe\">\n",
       "  <thead>\n",
       "    <tr style=\"text-align: right;\">\n",
       "      <th></th>\n",
       "      <th>customer_unique_id</th>\n",
       "      <th>Recency</th>\n",
       "      <th>Frequency</th>\n",
       "      <th>Monetary</th>\n",
       "      <th>R</th>\n",
       "      <th>F</th>\n",
       "      <th>M</th>\n",
       "      <th>RFMGroup</th>\n",
       "      <th>RFMScore</th>\n",
       "      <th>RFM_Loyalty_Level</th>\n",
       "    </tr>\n",
       "  </thead>\n",
       "  <tbody>\n",
       "    <tr>\n",
       "      <th>0</th>\n",
       "      <td>0000366f3b9a7992bf8c76cfdf3221e2</td>\n",
       "      <td>1552</td>\n",
       "      <td>1</td>\n",
       "      <td>141.90</td>\n",
       "      <td>1</td>\n",
       "      <td>4</td>\n",
       "      <td>2</td>\n",
       "      <td>142</td>\n",
       "      <td>7</td>\n",
       "      <td>Platinum</td>\n",
       "    </tr>\n",
       "    <tr>\n",
       "      <th>1</th>\n",
       "      <td>0000b849f77a49e4a4ce2b2a4ca5be3f</td>\n",
       "      <td>1555</td>\n",
       "      <td>1</td>\n",
       "      <td>27.19</td>\n",
       "      <td>1</td>\n",
       "      <td>4</td>\n",
       "      <td>4</td>\n",
       "      <td>144</td>\n",
       "      <td>9</td>\n",
       "      <td>Gold</td>\n",
       "    </tr>\n",
       "    <tr>\n",
       "      <th>2</th>\n",
       "      <td>0000f46a3911fa3c0805444483337064</td>\n",
       "      <td>1978</td>\n",
       "      <td>1</td>\n",
       "      <td>86.22</td>\n",
       "      <td>4</td>\n",
       "      <td>4</td>\n",
       "      <td>3</td>\n",
       "      <td>443</td>\n",
       "      <td>11</td>\n",
       "      <td>Bronze</td>\n",
       "    </tr>\n",
       "    <tr>\n",
       "      <th>3</th>\n",
       "      <td>0000f6ccb0745a6a4b88665a16c9f078</td>\n",
       "      <td>1762</td>\n",
       "      <td>1</td>\n",
       "      <td>43.62</td>\n",
       "      <td>3</td>\n",
       "      <td>4</td>\n",
       "      <td>4</td>\n",
       "      <td>344</td>\n",
       "      <td>11</td>\n",
       "      <td>Bronze</td>\n",
       "    </tr>\n",
       "    <tr>\n",
       "      <th>4</th>\n",
       "      <td>0004aac84e0df4da2b147fca70cf8255</td>\n",
       "      <td>1729</td>\n",
       "      <td>1</td>\n",
       "      <td>196.89</td>\n",
       "      <td>3</td>\n",
       "      <td>4</td>\n",
       "      <td>2</td>\n",
       "      <td>342</td>\n",
       "      <td>9</td>\n",
       "      <td>Gold</td>\n",
       "    </tr>\n",
       "  </tbody>\n",
       "</table>\n",
       "</div>"
      ],
      "text/plain": [
       "                 customer_unique_id  Recency  Frequency  Monetary  R  F  M  \\\n",
       "0  0000366f3b9a7992bf8c76cfdf3221e2     1552          1    141.90  1  4  2   \n",
       "1  0000b849f77a49e4a4ce2b2a4ca5be3f     1555          1     27.19  1  4  4   \n",
       "2  0000f46a3911fa3c0805444483337064     1978          1     86.22  4  4  3   \n",
       "3  0000f6ccb0745a6a4b88665a16c9f078     1762          1     43.62  3  4  4   \n",
       "4  0004aac84e0df4da2b147fca70cf8255     1729          1    196.89  3  4  2   \n",
       "\n",
       "  RFMGroup  RFMScore RFM_Loyalty_Level  \n",
       "0      142         7          Platinum  \n",
       "1      144         9              Gold  \n",
       "2      443        11            Bronze  \n",
       "3      344        11            Bronze  \n",
       "4      342         9              Gold  "
      ]
     },
     "execution_count": 154,
     "metadata": {},
     "output_type": "execute_result"
    }
   ],
   "source": [
    "#Attribuer un niveau de fidélité à chaque client\n",
    "Loyalty_Level = ['Platinum', 'Gold', 'Silver', 'Bronze']\n",
    "Score_cuts = pd.qcut(RFMScores.RFMScore, q = 4, labels = Loyalty_Level)\n",
    "RFMScores['RFM_Loyalty_Level'] = Score_cuts.values\n",
    "RFMScores.reset_index().head()"
   ]
  },
  {
   "cell_type": "markdown",
   "id": "abab3946",
   "metadata": {},
   "source": [
    "#### RFM : K-Means Clustering"
   ]
  },
  {
   "cell_type": "code",
   "execution_count": 155,
   "id": "5c2faea1",
   "metadata": {
    "ExecuteTime": {
     "end_time": "2022-08-29T23:29:24.985347Z",
     "start_time": "2022-08-29T23:29:24.923263Z"
    }
   },
   "outputs": [],
   "source": [
    "#ramener les données dans une distribution normale\n",
    "Log_Tfd_Data = RFMScores[['Recency', 'Frequency', 'Monetary']].apply(np.log, axis = 1).round(3)"
   ]
  },
  {
   "cell_type": "code",
   "execution_count": 156,
   "id": "8032a6da",
   "metadata": {
    "ExecuteTime": {
     "end_time": "2022-08-29T23:29:25.491229Z",
     "start_time": "2022-08-29T23:29:24.986269Z"
    }
   },
   "outputs": [
    {
     "name": "stderr",
     "output_type": "stream",
     "text": [
      "C:\\Users\\chouc\\anaconda3\\lib\\site-packages\\seaborn\\distributions.py:2619: FutureWarning:\n",
      "\n",
      "`distplot` is a deprecated function and will be removed in a future version. Please adapt your code to use either `displot` (a figure-level function with similar flexibility) or `histplot` (an axes-level function for histograms).\n",
      "\n"
     ]
    },
    {
     "data": {
      "image/png": "[encoded data removed]",
      "text/plain": [
       "<Figure size 576x396 with 1 Axes>"
      ]
     },
     "metadata": {},
     "output_type": "display_data"
    }
   ],
   "source": [
    "# Distribution des données après normalisation des données pour : Recency\n",
    "Recency_Plot = Log_Tfd_Data['Recency']\n",
    "ax = sns.distplot(Recency_Plot)"
   ]
  },
  {
   "cell_type": "code",
   "execution_count": 157,
   "id": "34af09ad",
   "metadata": {
    "ExecuteTime": {
     "end_time": "2022-08-29T23:29:26.307609Z",
     "start_time": "2022-08-29T23:29:25.492237Z"
    }
   },
   "outputs": [
    {
     "name": "stderr",
     "output_type": "stream",
     "text": [
      "C:\\Users\\chouc\\anaconda3\\lib\\site-packages\\seaborn\\distributions.py:2619: FutureWarning:\n",
      "\n",
      "`distplot` is a deprecated function and will be removed in a future version. Please adapt your code to use either `displot` (a figure-level function with similar flexibility) or `histplot` (an axes-level function for histograms).\n",
      "\n"
     ]
    },
    {
     "data": {
      "image/png": "[encoded data removed]",
      "text/plain": [
       "<Figure size 576x396 with 1 Axes>"
      ]
     },
     "metadata": {},
     "output_type": "display_data"
    }
   ],
   "source": [
    "#Distribution des données après normalisation des données pour : 'Frequency'\n",
    "Frequency_Plot = Log_Tfd_Data.query('Frequency < 1000')['Frequency']\n",
    "ax = sns.distplot(Frequency_Plot)"
   ]
  },
  {
   "cell_type": "code",
   "execution_count": 158,
   "id": "a2353f4e",
   "metadata": {
    "ExecuteTime": {
     "end_time": "2022-08-29T23:29:26.992533Z",
     "start_time": "2022-08-29T23:29:26.309610Z"
    }
   },
   "outputs": [
    {
     "name": "stderr",
     "output_type": "stream",
     "text": [
      "C:\\Users\\chouc\\anaconda3\\lib\\site-packages\\seaborn\\distributions.py:2619: FutureWarning:\n",
      "\n",
      "`distplot` is a deprecated function and will be removed in a future version. Please adapt your code to use either `displot` (a figure-level function with similar flexibility) or `histplot` (an axes-level function for histograms).\n",
      "\n"
     ]
    },
    {
     "data": {
      "image/png": "[encoded data removed]",
      "text/plain": [
       "<Figure size 576x396 with 1 Axes>"
      ]
     },
     "metadata": {},
     "output_type": "display_data"
    }
   ],
   "source": [
    "#Distribution des données après normalisation des données pour : Monetary\n",
    "Monetary_Plot = Log_Tfd_Data.query('Monetary < 10000')['Monetary']\n",
    "ax = sns.distplot(Monetary_Plot)"
   ]
  },
  {
   "cell_type": "code",
   "execution_count": 159,
   "id": "d8e94522",
   "metadata": {
    "ExecuteTime": {
     "end_time": "2022-08-29T23:29:27.007496Z",
     "start_time": "2022-08-29T23:29:26.993497Z"
    }
   },
   "outputs": [],
   "source": [
    "numerical_features = ['Recency','Frequency','Monetary']"
   ]
  },
  {
   "cell_type": "code",
   "execution_count": 160,
   "id": "cb850f1c",
   "metadata": {
    "ExecuteTime": {
     "end_time": "2022-08-29T23:29:27.022496Z",
     "start_time": "2022-08-29T23:29:27.009497Z"
    }
   },
   "outputs": [],
   "source": [
    "from sklearn.preprocessing import StandardScaler\n",
    "\n",
    "#Amenez les données à la même échelle\n",
    "scaleobj = StandardScaler()\n",
    "Scaled_Data = scaleobj.fit_transform(Log_Tfd_Data)\n",
    "\n",
    "#Transformez-les en dataframe\n",
    "Scaled_Data = pd.DataFrame(Scaled_Data, index = RFMScores.index, columns = Log_Tfd_Data.columns)"
   ]
  },
  {
   "cell_type": "code",
   "execution_count": 161,
   "id": "ad87d34e",
   "metadata": {
    "ExecuteTime": {
     "end_time": "2022-08-29T23:29:27.037419Z",
     "start_time": "2022-08-29T23:29:27.023497Z"
    }
   },
   "outputs": [],
   "source": [
    "from sklearn.pipeline import Pipeline, make_pipeline\n",
    "from sklearn import preprocessing\n",
    "from sklearn.preprocessing import StandardScaler, MinMaxScaler\n",
    "from sklearn.compose import ColumnTransformer, make_column_transformer\n",
    "from yellowbrick.cluster import KElbowVisualizer, SilhouetteVisualizer, InterclusterDistance\n",
    "from sklearn.cluster import KMeans"
   ]
  },
  {
   "cell_type": "code",
   "execution_count": 162,
   "id": "a3416eb3",
   "metadata": {
    "ExecuteTime": {
     "end_time": "2022-08-29T23:29:27.052493Z",
     "start_time": "2022-08-29T23:29:27.038432Z"
    }
   },
   "outputs": [],
   "source": [
    "# scaler = MinMaxScaler()\n",
    "\n",
    "# preprocessor = ColumnTransformer([\n",
    "#     ('scaler', scaler, numerical_features)])"
   ]
  },
  {
   "cell_type": "code",
   "execution_count": 163,
   "id": "f66f03bc",
   "metadata": {
    "ExecuteTime": {
     "end_time": "2022-08-29T23:29:27.067728Z",
     "start_time": "2022-08-29T23:29:27.054418Z"
    }
   },
   "outputs": [],
   "source": [
    "# # X = Scaled_Data.copy()\n",
    "\n",
    "# # # Elbow method\n",
    "# # kmeans_visualizer = Pipeline([\n",
    "# #     (\"preprocessor\", preprocessor),\n",
    "# #     (\"kelbowvisualizer\", KElbowVisualizer(KMeans(),K=(1,12)))])\n",
    "# # kmeans_visualizer.fit(X)\n",
    "# kmeans_visualizer.named_steps['kelbowvisualizer'].show()"
   ]
  },
  {
   "cell_type": "code",
   "execution_count": 164,
   "id": "20b78f3d",
   "metadata": {
    "ExecuteTime": {
     "end_time": "2022-08-29T23:30:03.710028Z",
     "start_time": "2022-08-29T23:29:27.069652Z"
    }
   },
   "outputs": [
    {
     "data": {
      "image/png": "[encoded data removed]",
      "text/plain": [
       "<Figure size 576x396 with 1 Axes>"
      ]
     },
     "metadata": {},
     "output_type": "display_data"
    }
   ],
   "source": [
    "\n",
    "sum_of_sq_dist = {}\n",
    "for k in range(1,15):\n",
    "    km = KMeans(n_clusters= k, init= 'k-means++', max_iter= 1000)\n",
    "    km = km.fit(Scaled_Data)\n",
    "    sum_of_sq_dist[k] = km.inertia_\n",
    "    \n",
    "#Plot the graph for the sum of square distance values and Number of Clusters\n",
    "\n",
    "sns.pointplot(x = list(sum_of_sq_dist.keys()), y = list(sum_of_sq_dist.values()))\n",
    "plt.xlabel('Number of Clusters(k)')\n",
    "plt.ylabel('Sum of Square Distances')\n",
    "plt.title('Elbow Method For Optimal k')\n",
    "plt.show()"
   ]
  },
  {
   "cell_type": "code",
   "execution_count": 169,
   "id": "9af175b4",
   "metadata": {
    "ExecuteTime": {
     "end_time": "2022-08-29T23:44:05.511537Z",
     "start_time": "2022-08-29T23:44:05.141431Z"
    }
   },
   "outputs": [
    {
     "data": {
      "text/html": [
       "<div>\n",
       "<style scoped>\n",
       "    .dataframe tbody tr th:only-of-type {\n",
       "        vertical-align: middle;\n",
       "    }\n",
       "\n",
       "    .dataframe tbody tr th {\n",
       "        vertical-align: top;\n",
       "    }\n",
       "\n",
       "    .dataframe thead th {\n",
       "        text-align: right;\n",
       "    }\n",
       "</style>\n",
       "<table border=\"1\" class=\"dataframe\">\n",
       "  <thead>\n",
       "    <tr style=\"text-align: right;\">\n",
       "      <th></th>\n",
       "      <th>Recency</th>\n",
       "      <th>Frequency</th>\n",
       "      <th>Monetary</th>\n",
       "      <th>R</th>\n",
       "      <th>F</th>\n",
       "      <th>M</th>\n",
       "      <th>RFMGroup</th>\n",
       "      <th>RFMScore</th>\n",
       "      <th>RFM_Loyalty_Level</th>\n",
       "      <th>Cluster</th>\n",
       "    </tr>\n",
       "    <tr>\n",
       "      <th>customer_unique_id</th>\n",
       "      <th></th>\n",
       "      <th></th>\n",
       "      <th></th>\n",
       "      <th></th>\n",
       "      <th></th>\n",
       "      <th></th>\n",
       "      <th></th>\n",
       "      <th></th>\n",
       "      <th></th>\n",
       "      <th></th>\n",
       "    </tr>\n",
       "  </thead>\n",
       "  <tbody>\n",
       "    <tr>\n",
       "      <th>0000366f3b9a7992bf8c76cfdf3221e2</th>\n",
       "      <td>1552</td>\n",
       "      <td>1</td>\n",
       "      <td>141.90</td>\n",
       "      <td>1</td>\n",
       "      <td>4</td>\n",
       "      <td>2</td>\n",
       "      <td>142</td>\n",
       "      <td>7</td>\n",
       "      <td>Platinum</td>\n",
       "      <td>2</td>\n",
       "    </tr>\n",
       "    <tr>\n",
       "      <th>0000b849f77a49e4a4ce2b2a4ca5be3f</th>\n",
       "      <td>1555</td>\n",
       "      <td>1</td>\n",
       "      <td>27.19</td>\n",
       "      <td>1</td>\n",
       "      <td>4</td>\n",
       "      <td>4</td>\n",
       "      <td>144</td>\n",
       "      <td>9</td>\n",
       "      <td>Gold</td>\n",
       "      <td>0</td>\n",
       "    </tr>\n",
       "    <tr>\n",
       "      <th>0000f46a3911fa3c0805444483337064</th>\n",
       "      <td>1978</td>\n",
       "      <td>1</td>\n",
       "      <td>86.22</td>\n",
       "      <td>4</td>\n",
       "      <td>4</td>\n",
       "      <td>3</td>\n",
       "      <td>443</td>\n",
       "      <td>11</td>\n",
       "      <td>Bronze</td>\n",
       "      <td>1</td>\n",
       "    </tr>\n",
       "    <tr>\n",
       "      <th>0000f6ccb0745a6a4b88665a16c9f078</th>\n",
       "      <td>1762</td>\n",
       "      <td>1</td>\n",
       "      <td>43.62</td>\n",
       "      <td>3</td>\n",
       "      <td>4</td>\n",
       "      <td>4</td>\n",
       "      <td>344</td>\n",
       "      <td>11</td>\n",
       "      <td>Bronze</td>\n",
       "      <td>1</td>\n",
       "    </tr>\n",
       "    <tr>\n",
       "      <th>0004aac84e0df4da2b147fca70cf8255</th>\n",
       "      <td>1729</td>\n",
       "      <td>1</td>\n",
       "      <td>196.89</td>\n",
       "      <td>3</td>\n",
       "      <td>4</td>\n",
       "      <td>2</td>\n",
       "      <td>342</td>\n",
       "      <td>9</td>\n",
       "      <td>Gold</td>\n",
       "      <td>2</td>\n",
       "    </tr>\n",
       "  </tbody>\n",
       "</table>\n",
       "</div>"
      ],
      "text/plain": [
       "                                  Recency  Frequency  Monetary  R  F  M  \\\n",
       "customer_unique_id                                                        \n",
       "0000366f3b9a7992bf8c76cfdf3221e2     1552          1    141.90  1  4  2   \n",
       "0000b849f77a49e4a4ce2b2a4ca5be3f     1555          1     27.19  1  4  4   \n",
       "0000f46a3911fa3c0805444483337064     1978          1     86.22  4  4  3   \n",
       "0000f6ccb0745a6a4b88665a16c9f078     1762          1     43.62  3  4  4   \n",
       "0004aac84e0df4da2b147fca70cf8255     1729          1    196.89  3  4  2   \n",
       "\n",
       "                                 RFMGroup  RFMScore RFM_Loyalty_Level  Cluster  \n",
       "customer_unique_id                                                              \n",
       "0000366f3b9a7992bf8c76cfdf3221e2      142         7          Platinum        2  \n",
       "0000b849f77a49e4a4ce2b2a4ca5be3f      144         9              Gold        0  \n",
       "0000f46a3911fa3c0805444483337064      443        11            Bronze        1  \n",
       "0000f6ccb0745a6a4b88665a16c9f078      344        11            Bronze        1  \n",
       "0004aac84e0df4da2b147fca70cf8255      342         9              Gold        2  "
      ]
     },
     "execution_count": 169,
     "metadata": {},
     "output_type": "execute_result"
    }
   ],
   "source": [
    "#construire le modèle de clustering K-Means\n",
    "KMean_clust = KMeans(n_clusters= 4, init= 'k-means++', max_iter= 1000)\n",
    "KMean_clust.fit(Scaled_Data)\n",
    "\n",
    "\n",
    "# Trouver les clusters pour l'ensemble de données\n",
    "RFMScores['Cluster'] = KMean_clust.labels_\n",
    "RFMScores.head()\n"
   ]
  },
  {
   "cell_type": "code",
   "execution_count": 181,
   "id": "1053f1af",
   "metadata": {
    "ExecuteTime": {
     "end_time": "2022-08-29T23:55:23.381850Z",
     "start_time": "2022-08-29T23:55:23.370849Z"
    }
   },
   "outputs": [
    {
     "data": {
      "text/plain": [
       "109312.64"
      ]
     },
     "execution_count": 181,
     "metadata": {},
     "output_type": "execute_result"
    }
   ],
   "source": [
    "RFMScores['Monetary'].max()"
   ]
  },
  {
   "cell_type": "code",
   "execution_count": 182,
   "id": "a483b7d2",
   "metadata": {
    "ExecuteTime": {
     "end_time": "2022-08-29T23:55:23.863081Z",
     "start_time": "2022-08-29T23:55:23.855081Z"
    }
   },
   "outputs": [
    {
     "data": {
      "text/plain": [
       "113.11"
      ]
     },
     "execution_count": 182,
     "metadata": {},
     "output_type": "execute_result"
    }
   ],
   "source": [
    "RFMScores['Monetary'].median()"
   ]
  },
  {
   "cell_type": "code",
   "execution_count": 183,
   "id": "19c0e7c3",
   "metadata": {
    "ExecuteTime": {
     "end_time": "2022-08-29T23:56:36.450401Z",
     "start_time": "2022-08-29T23:56:36.446400Z"
    }
   },
   "outputs": [
    {
     "data": {
      "text/plain": [
       "2165"
      ]
     },
     "execution_count": 183,
     "metadata": {},
     "output_type": "execute_result"
    }
   ],
   "source": [
    "RFMScores['Recency'].max()"
   ]
  },
  {
   "cell_type": "code",
   "execution_count": 184,
   "id": "95809fbd",
   "metadata": {
    "ExecuteTime": {
     "end_time": "2022-08-29T23:56:37.008939Z",
     "start_time": "2022-08-29T23:56:36.994865Z"
    }
   },
   "outputs": [
    {
     "data": {
      "text/plain": [
       "1660.0"
      ]
     },
     "execution_count": 184,
     "metadata": {},
     "output_type": "execute_result"
    }
   ],
   "source": [
    "RFMScores['Recency'].median()"
   ]
  },
  {
   "cell_type": "code",
   "execution_count": 195,
   "id": "4e856f25",
   "metadata": {
    "ExecuteTime": {
     "end_time": "2022-08-30T00:04:39.945832Z",
     "start_time": "2022-08-30T00:04:39.919504Z"
    }
   },
   "outputs": [
    {
     "data": {
      "text/plain": [
       "Recency                 2165\n",
       "Frequency                  3\n",
       "Monetary             1438.23\n",
       "R                          4\n",
       "F                          4\n",
       "M                          4\n",
       "RFMGroup                 444\n",
       "RFMScore                  12\n",
       "RFM_Loyalty_Level     Bronze\n",
       "Cluster                    1\n",
       "dtype: object"
      ]
     },
     "execution_count": 195,
     "metadata": {},
     "output_type": "execute_result"
    }
   ],
   "source": [
    "RFMScores[RFMScores['Cluster']==1].max()"
   ]
  },
  {
   "cell_type": "code",
   "execution_count": 196,
   "id": "dbaa386d",
   "metadata": {
    "ExecuteTime": {
     "end_time": "2022-08-30T00:04:41.991095Z",
     "start_time": "2022-08-30T00:04:41.954095Z"
    }
   },
   "outputs": [
    {
     "name": "stderr",
     "output_type": "stream",
     "text": [
      "C:\\Users\\Public\\Documents\\Wondershare\\CreatorTemp\\ipykernel_19852\\1221286600.py:1: FutureWarning:\n",
      "\n",
      "Dropping of nuisance columns in DataFrame reductions (with 'numeric_only=None') is deprecated; in a future version this will raise TypeError.  Select only valid columns before calling the reduction.\n",
      "\n"
     ]
    },
    {
     "data": {
      "text/plain": [
       "Recency      1845.000\n",
       "Frequency       1.000\n",
       "Monetary       91.515\n",
       "R               4.000\n",
       "F               4.000\n",
       "M               3.000\n",
       "RFMGroup      442.000\n",
       "RFMScore       10.000\n",
       "Cluster         1.000\n",
       "dtype: float64"
      ]
     },
     "execution_count": 196,
     "metadata": {},
     "output_type": "execute_result"
    }
   ],
   "source": [
    "RFMScores[RFMScores['Cluster']==1].median()"
   ]
  },
  {
   "cell_type": "markdown",
   "id": "ecef555c",
   "metadata": {},
   "source": [
    "                                                          "
   ]
  },
  {
   "cell_type": "markdown",
   "id": "631c90d0",
   "metadata": {
    "ExecuteTime": {
     "end_time": "2022-08-29T23:54:32.407418Z",
     "start_time": "2022-08-29T23:54:32.388344Z"
    }
   },
   "source": [
    "Les clients du cluster 0 : Sont des mauvais clients : Ils ont effectués un trés petit nombre d'achats, avec des petits budgets et ils ne sont pas des clients fidéles.\n",
    "\n",
    "Les clients du cluster 1 : Des clients passagers : Ils ont effectués maximum 3 achats avec des budgets trés variés. \n",
    "\n",
    "Les clients du cluster 2 :  sont des clients dépenseurs : qui n'achétent pas fréquement mais qui dépensent des grands montants lors de leurs achats effectués sur le site OLIST.\n",
    "\n",
    "Les clients du cluster 3 : Sont des clients potentiels: Il achétent trés fréquements, avec des grands budgets et ont acheté récement"
   ]
  },
  {
   "cell_type": "markdown",
   "id": "a7b4ad24",
   "metadata": {
    "ExecuteTime": {
     "end_time": "2022-08-30T00:30:08.395146Z",
     "start_time": "2022-08-30T00:30:08.386115Z"
    }
   },
   "source": [
    "                                                      =============\n",
    "                                                      ============="
   ]
  },
  {
   "cell_type": "markdown",
   "id": "6dc7a122",
   "metadata": {
    "ExecuteTime": {
     "end_time": "2022-08-30T00:29:25.074883Z",
     "start_time": "2022-08-30T00:29:25.065887Z"
    }
   },
   "source": [
    "<h3><center><font color='green'>Clustering avec l'algorithme du K-Means</font></center></h3>"
   ]
  },
  {
   "cell_type": "markdown",
   "id": "11670e17",
   "metadata": {},
   "source": [
    "#### Preprocessing"
   ]
  },
  {
   "cell_type": "code",
   "execution_count": 206,
   "id": "4a9afee6",
   "metadata": {
    "ExecuteTime": {
     "end_time": "2022-08-30T00:54:26.457497Z",
     "start_time": "2022-08-30T00:54:26.432420Z"
    }
   },
   "outputs": [],
   "source": [
    "data_costumers_final.drop(columns= 'customer_unique_id', inplace= True)"
   ]
  },
  {
   "cell_type": "markdown",
   "id": "4a73ece5",
   "metadata": {},
   "source": [
    "- Convertir les variable catégorielles en variables indicatrices (numériques) :"
   ]
  },
  {
   "cell_type": "code",
   "execution_count": 207,
   "id": "3ff0f329",
   "metadata": {
    "ExecuteTime": {
     "end_time": "2022-08-30T00:54:28.860365Z",
     "start_time": "2022-08-30T00:54:28.832365Z"
    }
   },
   "outputs": [],
   "source": [
    "df1 = pd.get_dummies(data_costumers_final['product_category_name_english'], prefix='pc')\n",
    "df1.reset_index(drop=True, inplace=True)"
   ]
  },
  {
   "cell_type": "code",
   "execution_count": 208,
   "id": "e2ff19ed",
   "metadata": {
    "ExecuteTime": {
     "end_time": "2022-08-30T00:54:29.631977Z",
     "start_time": "2022-08-30T00:54:29.616894Z"
    }
   },
   "outputs": [],
   "source": [
    "numerical_features = ['payment_value','review_score','payment_installments','order_purchase_hour','freight_value','payment_sequential','distance_from_olist','delais_de_livraison']"
   ]
  },
  {
   "cell_type": "code",
   "execution_count": 211,
   "id": "ab5482d5",
   "metadata": {
    "ExecuteTime": {
     "end_time": "2022-08-30T01:01:15.380710Z",
     "start_time": "2022-08-30T01:01:15.360638Z"
    }
   },
   "outputs": [],
   "source": [
    "data_costumers_final[numerical_features].reset_index(drop=True, inplace=True)"
   ]
  },
  {
   "cell_type": "code",
   "execution_count": 212,
   "id": "585c7309",
   "metadata": {
    "ExecuteTime": {
     "end_time": "2022-08-30T01:01:34.989560Z",
     "start_time": "2022-08-30T01:01:34.982516Z"
    }
   },
   "outputs": [],
   "source": [
    "data_costumers_final.reset_index(drop=True, inplace=True)"
   ]
  },
  {
   "cell_type": "code",
   "execution_count": 213,
   "id": "24dc86d3",
   "metadata": {
    "ExecuteTime": {
     "end_time": "2022-08-30T01:01:35.858133Z",
     "start_time": "2022-08-30T01:01:35.840126Z"
    }
   },
   "outputs": [],
   "source": [
    "data_costumers_final2 = pd.concat([data_costumers_final[numerical_features],df1], axis=1, join=\"outer\")"
   ]
  },
  {
   "cell_type": "markdown",
   "id": "dd9024fa",
   "metadata": {},
   "source": [
    "- KMeans"
   ]
  },
  {
   "cell_type": "code",
   "execution_count": 214,
   "id": "93acfa86",
   "metadata": {
    "ExecuteTime": {
     "end_time": "2022-08-30T01:01:38.722625Z",
     "start_time": "2022-08-30T01:01:38.716625Z"
    }
   },
   "outputs": [],
   "source": [
    "from sklearn.cluster import KMeans"
   ]
  },
  {
   "cell_type": "code",
   "execution_count": 215,
   "id": "191d3b6a",
   "metadata": {
    "ExecuteTime": {
     "end_time": "2022-08-30T01:01:39.309371Z",
     "start_time": "2022-08-30T01:01:39.300383Z"
    }
   },
   "outputs": [],
   "source": [
    "from sklearn.pipeline import Pipeline, make_pipeline\n",
    "from sklearn import preprocessing\n",
    "from sklearn.preprocessing import StandardScaler, MinMaxScaler\n",
    "from sklearn.compose import ColumnTransformer, make_column_transformer\n",
    "from yellowbrick.cluster import KElbowVisualizer, SilhouetteVisualizer, InterclusterDistance"
   ]
  },
  {
   "cell_type": "code",
   "execution_count": 216,
   "id": "bcc56936",
   "metadata": {
    "ExecuteTime": {
     "end_time": "2022-08-30T01:01:40.962691Z",
     "start_time": "2022-08-30T01:01:40.958690Z"
    }
   },
   "outputs": [],
   "source": [
    "numerical_features = list(data_costumers_final2.select_dtypes(include=['int64','float64', 'uint8']).columns)"
   ]
  },
  {
   "cell_type": "code",
   "execution_count": 217,
   "id": "65b2d37a",
   "metadata": {
    "ExecuteTime": {
     "end_time": "2022-08-30T01:01:41.575346Z",
     "start_time": "2022-08-30T01:01:41.561364Z"
    }
   },
   "outputs": [],
   "source": [
    "scaler = MinMaxScaler()\n",
    "\n",
    "preprocessor = ColumnTransformer([\n",
    "    ('scaler', scaler, numerical_features)])"
   ]
  },
  {
   "cell_type": "markdown",
   "id": "86dc7097",
   "metadata": {},
   "source": [
    "#### Méthode du coude : détermination du meilleur K :\n",
    "\n",
    "- Un pipeline SKLearn est créé pour y inclure le preprocessing et la visualisation de la méthode du coude de notre KMeans."
   ]
  },
  {
   "cell_type": "code",
   "execution_count": 218,
   "id": "ad191869",
   "metadata": {
    "ExecuteTime": {
     "end_time": "2022-08-30T01:01:50.297516Z",
     "start_time": "2022-08-30T01:01:43.625634Z"
    }
   },
   "outputs": [
    {
     "data": {
      "image/png": "[encoded data removed]",
      "text/plain": [
       "<Figure size 576x396 with 2 Axes>"
      ]
     },
     "metadata": {},
     "output_type": "display_data"
    },
    {
     "data": {
      "text/plain": [
       "<AxesSubplot:title={'center':'Distortion Score Elbow for KMeans Clustering'}, xlabel='k', ylabel='distortion score'>"
      ]
     },
     "execution_count": 218,
     "metadata": {},
     "output_type": "execute_result"
    }
   ],
   "source": [
    "X = data_costumers_final2.copy()\n",
    "\n",
    "# Elbow method\n",
    "kmeans_visualizer = Pipeline([\n",
    "    (\"preprocessor\", preprocessor),\n",
    "    (\"kelbowvisualizer\", KElbowVisualizer(KMeans(),K=(1,12)))])\n",
    "kmeans_visualizer.fit(X)\n",
    "kmeans_visualizer.named_steps['kelbowvisualizer'].show()"
   ]
  },
  {
   "cell_type": "markdown",
   "id": "2553ef2b",
   "metadata": {},
   "source": [
    "Grâce à la méthode du coude basée sur le score de distortion (somme moyenne des carrés des distances aux centres), une segementation en K= 6 clusters serait la meilleure option."
   ]
  },
  {
   "cell_type": "markdown",
   "id": "4f9aac71",
   "metadata": {},
   "source": [
    "#### Coefficient de silhouette"
   ]
  },
  {
   "cell_type": "markdown",
   "id": "196b03c7",
   "metadata": {},
   "source": [
    "Pour vérifier si ce clustering fonctionne, nous allons utiliser SilhouetteVisualizer pour afficher le coefficient de silhouette pour un échantillonage de chaque cluster. Cela permet de visualiser la densité et la séparation des clusters."
   ]
  },
  {
   "cell_type": "code",
   "execution_count": 219,
   "id": "70de211f",
   "metadata": {
    "ExecuteTime": {
     "end_time": "2022-08-30T01:05:53.964515Z",
     "start_time": "2022-08-30T01:01:50.299527Z"
    }
   },
   "outputs": [
    {
     "data": {
      "image/png": "[encoded data removed]",
      "text/plain": [
       "<Figure size 576x396 with 1 Axes>"
      ]
     },
     "metadata": {},
     "output_type": "display_data"
    },
    {
     "data": {
      "text/plain": [
       "<AxesSubplot:title={'center':'Silhouette Plot of KMeans Clustering for 110374 Samples in 6 Centers'}, xlabel='silhouette coefficient values', ylabel='cluster label'>"
      ]
     },
     "execution_count": 219,
     "metadata": {},
     "output_type": "execute_result"
    }
   ],
   "source": [
    "# Best K in Elbow\n",
    "K = kmeans_visualizer.named_steps['kelbowvisualizer'].elbow_value_\n",
    "\n",
    "# Silhouette Visualizer\n",
    "silhouette_visualizer = Pipeline([\n",
    "    (\"preprocessor\", preprocessor),\n",
    "    (\"silhouettevisualizer\", SilhouetteVisualizer(KMeans(K)))])\n",
    "silhouette_visualizer.fit(X)\n",
    "silhouette_visualizer.named_steps['silhouettevisualizer'].show()"
   ]
  },
  {
   "cell_type": "markdown",
   "id": "b0d9e54f",
   "metadata": {},
   "source": [
    "Le score de chaque échantillon est calculé en faisant la moyenne du coefficient de silhouette (différence entre la distance moyenne intra-cluster et la distance moyenne du cluster le plus proche pour chaque échantillon), normalisée par la valeur maximale. Cela nous donne un score entre -1 et 1, qui nous permet de déterminer si la séparation est efficace ou si les points sont assignés au mauvais cluster.\n",
    "\n",
    "Ici, les clusters semblent relativement bien répartis et les séparations sont claires avec cependant quelques erreurs sur l'un des clusters.\n",
    "\n",
    "A présent, nous allons tester d'autres types de métriques pour trouver le meilleur K :\n",
    "\n",
    "Silouhette : rapport moyen entre la distance intra-cluster et la distance du cluster le plus proche, Calinski Harabasz : rapport entre la dispersion des grappes dans et entre les groupes."
   ]
  },
  {
   "cell_type": "code",
   "execution_count": 220,
   "id": "75e9fd8d",
   "metadata": {
    "ExecuteTime": {
     "end_time": "2022-08-30T01:26:21.049020Z",
     "start_time": "2022-08-30T01:05:53.966483Z"
    }
   },
   "outputs": [
    {
     "data": {
      "image/png": "[encoded data removed]",
      "text/plain": [
       "<Figure size 1728x576 with 4 Axes>"
      ]
     },
     "metadata": {},
     "output_type": "display_data"
    }
   ],
   "source": [
    "# Elbow method with differents metrics\n",
    "metrics = [\"silhouette\", \"calinski_harabasz\"]\n",
    "i = 0\n",
    "\n",
    "fig, axes = plt.subplots(nrows=1, ncols=2, sharex=False, sharey=False, figsize=(24,8))\n",
    "for m in metrics:\n",
    "    kmeans_visualizer = Pipeline([\n",
    "        (\"preprocessor\", preprocessor),\n",
    "        (\"kelbowvisualizer\", KElbowVisualizer(KMeans(),\n",
    "                                              K=(4,10),\n",
    "                                              metric=m,\n",
    "                                              ax=axes[i]))])\n",
    "    kmeans_visualizer.fit(X)\n",
    "    kmeans_visualizer.named_steps['kelbowvisualizer'].finalize()\n",
    "    i+=1\n",
    "\n",
    "plt.show()"
   ]
  },
  {
   "cell_type": "markdown",
   "id": "084244cd",
   "metadata": {},
   "source": [
    "On remarque ici que pour la métrique silhouette score, le nombre de K est également de 6. Pour le score Calinski Harabasz, le meilleur K est plus incertain. Les scores sur la répartition en 6 clusters semblent être meilleurs. Nous allons donc conserver ce clustering en 6 groupes."
   ]
  },
  {
   "cell_type": "markdown",
   "id": "ec3649fa",
   "metadata": {},
   "source": [
    "#### Distances intercluster"
   ]
  },
  {
   "cell_type": "code",
   "execution_count": 221,
   "id": "97337dc5",
   "metadata": {
    "ExecuteTime": {
     "end_time": "2022-08-30T01:26:22.421592Z",
     "start_time": "2022-08-30T01:26:21.054021Z"
    }
   },
   "outputs": [
    {
     "data": {
      "image/png": "[encoded data removed]",
      "text/plain": [
       "<Figure size 576x396 with 2 Axes>"
      ]
     },
     "metadata": {},
     "output_type": "display_data"
    },
    {
     "data": {
      "text/plain": [
       "<AxesSubplot:title={'center':'KMeans Intercluster Distance Map (via MDS)'}, xlabel='PC2', ylabel='PC1'>"
      ]
     },
     "execution_count": 221,
     "metadata": {},
     "output_type": "execute_result"
    }
   ],
   "source": [
    "# Intercluster distance Map with best k\n",
    "distance_visualizer = Pipeline([\n",
    "    (\"preprocessor\", preprocessor),\n",
    "    (\"distancevisualizer\", InterclusterDistance(KMeans(K)))])\n",
    "distance_visualizer.fit(X)\n",
    "distance_visualizer.named_steps['distancevisualizer'].show()"
   ]
  },
  {
   "cell_type": "markdown",
   "id": "453b2e19",
   "metadata": {},
   "source": [
    "Sur cette projection en 2D, on remarque que les différents clusters sont bien séparés sur les 2 premières composantes principales. Le clustering semble donc performant et il faut a présent identifier les composantes métier de chaque cluster."
   ]
  },
  {
   "cell_type": "markdown",
   "id": "279d5ca5",
   "metadata": {},
   "source": [
    "#### Analyse des différents clusters"
   ]
  },
  {
   "cell_type": "markdown",
   "id": "b92885f5",
   "metadata": {},
   "source": [
    "A présent, nous allons entrainer notre KMeans avec le K optimal sélectionné et affecter son cluster à chaque client. Ainsi, nous pourrons analyser les différences entre chaque cluster :"
   ]
  },
  {
   "cell_type": "code",
   "execution_count": 222,
   "id": "f5bfc30f",
   "metadata": {
    "ExecuteTime": {
     "end_time": "2022-08-30T01:26:23.529694Z",
     "start_time": "2022-08-30T01:26:22.424702Z"
    }
   },
   "outputs": [],
   "source": [
    "# KMeans Pipeline with best K\n",
    "kmeans_model = Pipeline([(\"preprocessor\", preprocessor),\n",
    "                         (\"kmeans\", KMeans(K))])\n",
    "kmeans_model.fit(X)\n",
    "\n",
    "# Kmeans labels\n",
    "kmeans_labels = kmeans_model.named_steps['kmeans'].labels_\n",
    "data_costumers_final2[\"kmeans_label\"] = kmeans_labels"
   ]
  },
  {
   "cell_type": "markdown",
   "id": "5bcb82e5",
   "metadata": {},
   "source": [
    "Nous allons dans un premier temps grouper les individus par cluster pour analyser les moyennes :"
   ]
  },
  {
   "cell_type": "code",
   "execution_count": 223,
   "id": "8bf9dc06",
   "metadata": {
    "ExecuteTime": {
     "end_time": "2022-08-30T01:26:23.634679Z",
     "start_time": "2022-08-30T01:26:23.532694Z"
    }
   },
   "outputs": [
    {
     "data": {
      "text/html": [
       "<div>\n",
       "<style scoped>\n",
       "    .dataframe tbody tr th:only-of-type {\n",
       "        vertical-align: middle;\n",
       "    }\n",
       "\n",
       "    .dataframe tbody tr th {\n",
       "        vertical-align: top;\n",
       "    }\n",
       "\n",
       "    .dataframe thead th {\n",
       "        text-align: right;\n",
       "    }\n",
       "</style>\n",
       "<table border=\"1\" class=\"dataframe\">\n",
       "  <thead>\n",
       "    <tr style=\"text-align: right;\">\n",
       "      <th></th>\n",
       "      <th>kmeans_label</th>\n",
       "      <th>payment_value</th>\n",
       "      <th>review_score</th>\n",
       "      <th>payment_installments</th>\n",
       "      <th>order_purchase_hour</th>\n",
       "      <th>freight_value</th>\n",
       "      <th>payment_sequential</th>\n",
       "      <th>distance_from_olist</th>\n",
       "      <th>delais_de_livraison</th>\n",
       "      <th>pc_Books, CDs and other physical media</th>\n",
       "      <th>pc_Fashion, clothing and accesories</th>\n",
       "      <th>pc_Flowres and gifts</th>\n",
       "      <th>pc_Groceries, food and drink</th>\n",
       "      <th>pc_Health and beauty</th>\n",
       "      <th>pc_Home and furniture</th>\n",
       "      <th>pc_Other</th>\n",
       "      <th>pc_Technology</th>\n",
       "      <th>pc_Toys and baby equipment</th>\n",
       "    </tr>\n",
       "  </thead>\n",
       "  <tbody>\n",
       "    <tr>\n",
       "      <th>0</th>\n",
       "      <td>0</td>\n",
       "      <td>343.932982</td>\n",
       "      <td>4.034052</td>\n",
       "      <td>4.412056</td>\n",
       "      <td>14.718426</td>\n",
       "      <td>37.791628</td>\n",
       "      <td>1.882613</td>\n",
       "      <td>439.251668</td>\n",
       "      <td>10.835503</td>\n",
       "      <td>0.000000</td>\n",
       "      <td>0.000000</td>\n",
       "      <td>0.000000</td>\n",
       "      <td>0.000000</td>\n",
       "      <td>0.0</td>\n",
       "      <td>0.0</td>\n",
       "      <td>0.0</td>\n",
       "      <td>0.0</td>\n",
       "      <td>1.0</td>\n",
       "    </tr>\n",
       "    <tr>\n",
       "      <th>1</th>\n",
       "      <td>1</td>\n",
       "      <td>283.204594</td>\n",
       "      <td>4.126073</td>\n",
       "      <td>4.543741</td>\n",
       "      <td>14.696301</td>\n",
       "      <td>34.206909</td>\n",
       "      <td>1.666414</td>\n",
       "      <td>436.009275</td>\n",
       "      <td>9.770142</td>\n",
       "      <td>0.000000</td>\n",
       "      <td>0.000000</td>\n",
       "      <td>0.000000</td>\n",
       "      <td>0.000000</td>\n",
       "      <td>0.0</td>\n",
       "      <td>0.0</td>\n",
       "      <td>1.0</td>\n",
       "      <td>0.0</td>\n",
       "      <td>0.0</td>\n",
       "    </tr>\n",
       "    <tr>\n",
       "      <th>2</th>\n",
       "      <td>2</td>\n",
       "      <td>298.431651</td>\n",
       "      <td>4.018073</td>\n",
       "      <td>5.926186</td>\n",
       "      <td>14.852046</td>\n",
       "      <td>39.004542</td>\n",
       "      <td>2.092067</td>\n",
       "      <td>398.341031</td>\n",
       "      <td>10.367020</td>\n",
       "      <td>0.000000</td>\n",
       "      <td>0.000000</td>\n",
       "      <td>0.000000</td>\n",
       "      <td>0.000000</td>\n",
       "      <td>0.0</td>\n",
       "      <td>1.0</td>\n",
       "      <td>0.0</td>\n",
       "      <td>0.0</td>\n",
       "      <td>0.0</td>\n",
       "    </tr>\n",
       "    <tr>\n",
       "      <th>3</th>\n",
       "      <td>3</td>\n",
       "      <td>283.439469</td>\n",
       "      <td>4.105894</td>\n",
       "      <td>4.969361</td>\n",
       "      <td>14.732964</td>\n",
       "      <td>30.595179</td>\n",
       "      <td>1.707818</td>\n",
       "      <td>449.039905</td>\n",
       "      <td>8.910829</td>\n",
       "      <td>0.396197</td>\n",
       "      <td>0.533809</td>\n",
       "      <td>0.001796</td>\n",
       "      <td>0.068199</td>\n",
       "      <td>0.0</td>\n",
       "      <td>0.0</td>\n",
       "      <td>0.0</td>\n",
       "      <td>0.0</td>\n",
       "      <td>0.0</td>\n",
       "    </tr>\n",
       "    <tr>\n",
       "      <th>4</th>\n",
       "      <td>4</td>\n",
       "      <td>245.565743</td>\n",
       "      <td>4.177951</td>\n",
       "      <td>4.838982</td>\n",
       "      <td>14.806447</td>\n",
       "      <td>28.261974</td>\n",
       "      <td>1.613345</td>\n",
       "      <td>462.438199</td>\n",
       "      <td>9.132475</td>\n",
       "      <td>0.000000</td>\n",
       "      <td>0.000000</td>\n",
       "      <td>0.000000</td>\n",
       "      <td>0.000000</td>\n",
       "      <td>1.0</td>\n",
       "      <td>0.0</td>\n",
       "      <td>0.0</td>\n",
       "      <td>0.0</td>\n",
       "      <td>0.0</td>\n",
       "    </tr>\n",
       "    <tr>\n",
       "      <th>5</th>\n",
       "      <td>5</td>\n",
       "      <td>301.781364</td>\n",
       "      <td>4.031808</td>\n",
       "      <td>3.773866</td>\n",
       "      <td>14.721925</td>\n",
       "      <td>28.092874</td>\n",
       "      <td>1.603501</td>\n",
       "      <td>471.579269</td>\n",
       "      <td>10.194375</td>\n",
       "      <td>0.000000</td>\n",
       "      <td>0.000000</td>\n",
       "      <td>0.000000</td>\n",
       "      <td>0.000000</td>\n",
       "      <td>0.0</td>\n",
       "      <td>0.0</td>\n",
       "      <td>0.0</td>\n",
       "      <td>1.0</td>\n",
       "      <td>0.0</td>\n",
       "    </tr>\n",
       "  </tbody>\n",
       "</table>\n",
       "</div>"
      ],
      "text/plain": [
       "   kmeans_label  payment_value  review_score  payment_installments  \\\n",
       "0             0     343.932982      4.034052              4.412056   \n",
       "1             1     283.204594      4.126073              4.543741   \n",
       "2             2     298.431651      4.018073              5.926186   \n",
       "3             3     283.439469      4.105894              4.969361   \n",
       "4             4     245.565743      4.177951              4.838982   \n",
       "5             5     301.781364      4.031808              3.773866   \n",
       "\n",
       "   order_purchase_hour  freight_value  payment_sequential  \\\n",
       "0            14.718426      37.791628            1.882613   \n",
       "1            14.696301      34.206909            1.666414   \n",
       "2            14.852046      39.004542            2.092067   \n",
       "3            14.732964      30.595179            1.707818   \n",
       "4            14.806447      28.261974            1.613345   \n",
       "5            14.721925      28.092874            1.603501   \n",
       "\n",
       "   distance_from_olist  delais_de_livraison  \\\n",
       "0           439.251668            10.835503   \n",
       "1           436.009275             9.770142   \n",
       "2           398.341031            10.367020   \n",
       "3           449.039905             8.910829   \n",
       "4           462.438199             9.132475   \n",
       "5           471.579269            10.194375   \n",
       "\n",
       "   pc_Books, CDs and other physical media  \\\n",
       "0                                0.000000   \n",
       "1                                0.000000   \n",
       "2                                0.000000   \n",
       "3                                0.396197   \n",
       "4                                0.000000   \n",
       "5                                0.000000   \n",
       "\n",
       "   pc_Fashion, clothing and accesories  pc_Flowres and gifts  \\\n",
       "0                             0.000000              0.000000   \n",
       "1                             0.000000              0.000000   \n",
       "2                             0.000000              0.000000   \n",
       "3                             0.533809              0.001796   \n",
       "4                             0.000000              0.000000   \n",
       "5                             0.000000              0.000000   \n",
       "\n",
       "   pc_Groceries, food and drink  pc_Health and beauty  pc_Home and furniture  \\\n",
       "0                      0.000000                   0.0                    0.0   \n",
       "1                      0.000000                   0.0                    0.0   \n",
       "2                      0.000000                   0.0                    1.0   \n",
       "3                      0.068199                   0.0                    0.0   \n",
       "4                      0.000000                   1.0                    0.0   \n",
       "5                      0.000000                   0.0                    0.0   \n",
       "\n",
       "   pc_Other  pc_Technology  pc_Toys and baby equipment  \n",
       "0       0.0            0.0                         1.0  \n",
       "1       1.0            0.0                         0.0  \n",
       "2       0.0            0.0                         0.0  \n",
       "3       0.0            0.0                         0.0  \n",
       "4       0.0            0.0                         0.0  \n",
       "5       0.0            1.0                         0.0  "
      ]
     },
     "execution_count": 223,
     "metadata": {},
     "output_type": "execute_result"
    }
   ],
   "source": [
    "kmeans_clusters_means = data_costumers_final2.groupby(\"kmeans_label\").mean().reset_index()\n",
    "kmeans_clusters_means"
   ]
  },
  {
   "cell_type": "code",
   "execution_count": null,
   "id": "fed79471",
   "metadata": {},
   "outputs": [],
   "source": [
    "X_scaled = preprocessor.fit_transform(X)\n",
    "X_scaled = pd.DataFrame(X_scaled, index=X.index, columns=X.columns)\n",
    "X_scaled[\"kmeans_label\"] = kmeans_labels\n",
    "X_scaled_clusters = X_scaled.groupby(\"kmeans_label\").mean()\n",
    "X_scaled_clusters"
   ]
  },
  {
   "cell_type": "markdown",
   "id": "0b0477c5",
   "metadata": {},
   "source": [
    "Projetons à présent ces différentes moyennes sur un Radar plot avec la librairie Ploty pour visualiser les différences entre cluster :"
   ]
  },
  {
   "cell_type": "code",
   "execution_count": 224,
   "id": "35595c09",
   "metadata": {
    "ExecuteTime": {
     "end_time": "2022-08-30T01:33:01.472290Z",
     "start_time": "2022-08-30T01:33:01.460290Z"
    }
   },
   "outputs": [],
   "source": [
    "import plotly.graph_objs as go"
   ]
  },
  {
   "cell_type": "code",
   "execution_count": 225,
   "id": "33212553",
   "metadata": {
    "ExecuteTime": {
     "end_time": "2022-08-30T01:33:02.218283Z",
     "start_time": "2022-08-30T01:33:02.198283Z"
    }
   },
   "outputs": [],
   "source": [
    "def plot_radars(data, group):\n",
    "\n",
    "    scaler = MinMaxScaler()\n",
    "    data = pd.DataFrame(scaler.fit_transform(data), \n",
    "                        index=data.index,\n",
    "                        columns=data.columns).reset_index()\n",
    "    \n",
    "    fig = go.Figure()\n",
    "\n",
    "    for k in data[group]:\n",
    "        fig.add_trace(go.Scatterpolar(\n",
    "            r=data[data[group]==k].iloc[:,1:].values.reshape(-1),\n",
    "            theta=data.columns[1:],\n",
    "            fill='toself',\n",
    "            name='Cluster '+str(k)\n",
    "        ))\n",
    "\n",
    "    fig.update_layout(\n",
    "        polar=dict(\n",
    "        radialaxis=dict(\n",
    "          visible=True,\n",
    "          range=[0, 1]\n",
    "        )),\n",
    "        showlegend=True,\n",
    "        title={\n",
    "            'text': \"Comparaison des moyennes par variable des clusters\",\n",
    "            'y':0.95,\n",
    "            'x':0.5,\n",
    "            'xanchor': 'center',\n",
    "            'yanchor': 'top'},\n",
    "        title_font_color=\"blue\",\n",
    "        title_font_size=18)\n",
    "\n",
    "    fig.show()"
   ]
  },
  {
   "cell_type": "code",
   "execution_count": 226,
   "id": "9bcb5a69",
   "metadata": {
    "ExecuteTime": {
     "end_time": "2022-08-30T01:33:04.505315Z",
     "start_time": "2022-08-30T01:33:04.464242Z"
    }
   },
   "outputs": [
    {
     "data": {
      "application/vnd.plotly.v1+json": {
       "config": {
        "plotlyServerURL": "https://plot.ly"
       },
       "data": [
        {
         "fill": "toself",
         "name": "Cluster 0",
         "r": [
          0,
          1,
          0.49486847628558417,
          0.7072169211894987,
          0.015497209022389491,
          0.020149458203373216,
          0.8751871985572652,
          0.11515999957654799,
          0,
          0,
          0,
          0,
          1,
          0,
          0,
          0,
          0
         ],
         "theta": [
          "payment_value",
          "review_score",
          "payment_installments",
          "order_purchase_hour",
          "freight_value",
          "payment_sequential",
          "distance_from_olist",
          "delais_de_livraison",
          "pc_Books, CDs and other physical media",
          "pc_Fashion, clothing and accesories",
          "pc_Flowres and gifts",
          "pc_Groceries, food and drink",
          "pc_Health and beauty",
          "pc_Home and furniture",
          "pc_Other",
          "pc_Technology",
          "pc_Toys and baby equipment"
         ],
         "type": "scatterpolar"
        },
        {
         "fill": "toself",
         "name": "Cluster 1",
         "r": [
          0.5374340947732881,
          0,
          1,
          1,
          1,
          1.0000000000000002,
          0,
          0.7565909167353198,
          0,
          0,
          0,
          0,
          0,
          1,
          0,
          0,
          0
         ],
         "theta": [
          "payment_value",
          "review_score",
          "payment_installments",
          "order_purchase_hour",
          "freight_value",
          "payment_sequential",
          "distance_from_olist",
          "delais_de_livraison",
          "pc_Books, CDs and other physical media",
          "pc_Fashion, clothing and accesories",
          "pc_Flowres and gifts",
          "pc_Groceries, food and drink",
          "pc_Health and beauty",
          "pc_Home and furniture",
          "pc_Other",
          "pc_Technology",
          "pc_Toys and baby equipment"
         ],
         "type": "scatterpolar"
        },
        {
         "fill": "toself",
         "name": "Cluster 2",
         "r": [
          0.38263603716363237,
          0.6755148541907943,
          0.35769512234848966,
          0,
          0.5603208823240178,
          0.1287708590407124,
          0.5143248283800848,
          0.44647170002696157,
          0,
          0,
          0,
          0,
          0,
          0,
          1,
          0,
          0
         ],
         "theta": [
          "payment_value",
          "review_score",
          "payment_installments",
          "order_purchase_hour",
          "freight_value",
          "payment_sequential",
          "distance_from_olist",
          "delais_de_livraison",
          "pc_Books, CDs and other physical media",
          "pc_Fashion, clothing and accesories",
          "pc_Flowres and gifts",
          "pc_Groceries, food and drink",
          "pc_Health and beauty",
          "pc_Home and furniture",
          "pc_Other",
          "pc_Technology",
          "pc_Toys and baby equipment"
         ],
         "type": "scatterpolar"
        },
        {
         "fill": "toself",
         "name": "Cluster 3",
         "r": [
          1,
          0.09994612928839786,
          0.2965125769107031,
          0.14205657583624998,
          0.8888425064735177,
          0.5712881035562225,
          0.5585966864031651,
          1,
          0,
          0,
          0,
          0,
          0,
          0,
          0,
          0,
          1
         ],
         "theta": [
          "payment_value",
          "review_score",
          "payment_installments",
          "order_purchase_hour",
          "freight_value",
          "payment_sequential",
          "distance_from_olist",
          "delais_de_livraison",
          "pc_Books, CDs and other physical media",
          "pc_Fashion, clothing and accesories",
          "pc_Flowres and gifts",
          "pc_Groceries, food and drink",
          "pc_Health and beauty",
          "pc_Home and furniture",
          "pc_Other",
          "pc_Technology",
          "pc_Toys and baby equipment"
         ],
         "type": "scatterpolar"
        },
        {
         "fill": "toself",
         "name": "Cluster 4",
         "r": [
          0.5714872279471472,
          0.0859119295231423,
          0,
          0.16452324264530205,
          0,
          0,
          1,
          0.6668902493523774,
          0,
          0,
          0,
          0,
          0,
          0,
          0,
          1,
          0
         ],
         "theta": [
          "payment_value",
          "review_score",
          "payment_installments",
          "order_purchase_hour",
          "freight_value",
          "payment_sequential",
          "distance_from_olist",
          "delais_de_livraison",
          "pc_Books, CDs and other physical media",
          "pc_Fashion, clothing and accesories",
          "pc_Flowres and gifts",
          "pc_Groceries, food and drink",
          "pc_Health and beauty",
          "pc_Home and furniture",
          "pc_Other",
          "pc_Technology",
          "pc_Toys and baby equipment"
         ],
         "type": "scatterpolar"
        },
        {
         "fill": "toself",
         "name": "Cluster 5",
         "r": [
          0.3850237703019328,
          0.5492986179371684,
          0.5554445195623283,
          0.23540120305545997,
          0.22932378429518918,
          0.21351735876613387,
          0.6922459602133255,
          0,
          1,
          1,
          1,
          1,
          0,
          0,
          0,
          0,
          0
         ],
         "theta": [
          "payment_value",
          "review_score",
          "payment_installments",
          "order_purchase_hour",
          "freight_value",
          "payment_sequential",
          "distance_from_olist",
          "delais_de_livraison",
          "pc_Books, CDs and other physical media",
          "pc_Fashion, clothing and accesories",
          "pc_Flowres and gifts",
          "pc_Groceries, food and drink",
          "pc_Health and beauty",
          "pc_Home and furniture",
          "pc_Other",
          "pc_Technology",
          "pc_Toys and baby equipment"
         ],
         "type": "scatterpolar"
        }
       ],
       "layout": {
        "polar": {
         "radialaxis": {
          "range": [
           0,
           1
          ],
          "visible": true
         }
        },
        "showlegend": true,
        "template": {
         "data": {
          "bar": [
           {
            "error_x": {
             "color": "#2a3f5f"
            },
            "error_y": {
             "color": "#2a3f5f"
            },
            "marker": {
             "line": {
              "color": "#E5ECF6",
              "width": 0.5
             },
             "pattern": {
              "fillmode": "overlay",
              "size": 10,
              "solidity": 0.2
             }
            },
            "type": "bar"
           }
          ],
          "barpolar": [
           {
            "marker": {
             "line": {
              "color": "#E5ECF6",
              "width": 0.5
             },
             "pattern": {
              "fillmode": "overlay",
              "size": 10,
              "solidity": 0.2
             }
            },
            "type": "barpolar"
           }
          ],
          "carpet": [
           {
            "aaxis": {
             "endlinecolor": "#2a3f5f",
             "gridcolor": "white",
             "linecolor": "white",
             "minorgridcolor": "white",
             "startlinecolor": "#2a3f5f"
            },
            "baxis": {
             "endlinecolor": "#2a3f5f",
             "gridcolor": "white",
             "linecolor": "white",
             "minorgridcolor": "white",
             "startlinecolor": "#2a3f5f"
            },
            "type": "carpet"
           }
          ],
          "choropleth": [
           {
            "colorbar": {
             "outlinewidth": 0,
             "ticks": ""
            },
            "type": "choropleth"
           }
          ],
          "contour": [
           {
            "colorbar": {
             "outlinewidth": 0,
             "ticks": ""
            },
            "colorscale": [
             [
              0,
              "#0d0887"
             ],
             [
              0.1111111111111111,
              "#46039f"
             ],
             [
              0.2222222222222222,
              "#7201a8"
             ],
             [
              0.3333333333333333,
              "#9c179e"
             ],
             [
              0.4444444444444444,
              "#bd3786"
             ],
             [
              0.5555555555555556,
              "#d8576b"
             ],
             [
              0.6666666666666666,
              "#ed7953"
             ],
             [
              0.7777777777777778,
              "#fb9f3a"
             ],
             [
              0.8888888888888888,
              "#fdca26"
             ],
             [
              1,
              "#f0f921"
             ]
            ],
            "type": "contour"
           }
          ],
          "contourcarpet": [
           {
            "colorbar": {
             "outlinewidth": 0,
             "ticks": ""
            },
            "type": "contourcarpet"
           }
          ],
          "heatmap": [
           {
            "colorbar": {
             "outlinewidth": 0,
             "ticks": ""
            },
            "colorscale": [
             [
              0,
              "#0d0887"
             ],
             [
              0.1111111111111111,
              "#46039f"
             ],
             [
              0.2222222222222222,
              "#7201a8"
             ],
             [
              0.3333333333333333,
              "#9c179e"
             ],
             [
              0.4444444444444444,
              "#bd3786"
             ],
             [
              0.5555555555555556,
              "#d8576b"
             ],
             [
              0.6666666666666666,
              "#ed7953"
             ],
             [
              0.7777777777777778,
              "#fb9f3a"
             ],
             [
              0.8888888888888888,
              "#fdca26"
             ],
             [
              1,
              "#f0f921"
             ]
            ],
            "type": "heatmap"
           }
          ],
          "heatmapgl": [
           {
            "colorbar": {
             "outlinewidth": 0,
             "ticks": ""
            },
            "colorscale": [
             [
              0,
              "#0d0887"
             ],
             [
              0.1111111111111111,
              "#46039f"
             ],
             [
              0.2222222222222222,
              "#7201a8"
             ],
             [
              0.3333333333333333,
              "#9c179e"
             ],
             [
              0.4444444444444444,
              "#bd3786"
             ],
             [
              0.5555555555555556,
              "#d8576b"
             ],
             [
              0.6666666666666666,
              "#ed7953"
             ],
             [
              0.7777777777777778,
              "#fb9f3a"
             ],
             [
              0.8888888888888888,
              "#fdca26"
             ],
             [
              1,
              "#f0f921"
             ]
            ],
            "type": "heatmapgl"
           }
          ],
          "histogram": [
           {
            "marker": {
             "pattern": {
              "fillmode": "overlay",
              "size": 10,
              "solidity": 0.2
             }
            },
            "type": "histogram"
           }
          ],
          "histogram2d": [
           {
            "colorbar": {
             "outlinewidth": 0,
             "ticks": ""
            },
            "colorscale": [
             [
              0,
              "#0d0887"
             ],
             [
              0.1111111111111111,
              "#46039f"
             ],
             [
              0.2222222222222222,
              "#7201a8"
             ],
             [
              0.3333333333333333,
              "#9c179e"
             ],
             [
              0.4444444444444444,
              "#bd3786"
             ],
             [
              0.5555555555555556,
              "#d8576b"
             ],
             [
              0.6666666666666666,
              "#ed7953"
             ],
             [
              0.7777777777777778,
              "#fb9f3a"
             ],
             [
              0.8888888888888888,
              "#fdca26"
             ],
             [
              1,
              "#f0f921"
             ]
            ],
            "type": "histogram2d"
           }
          ],
          "histogram2dcontour": [
           {
            "colorbar": {
             "outlinewidth": 0,
             "ticks": ""
            },
            "colorscale": [
             [
              0,
              "#0d0887"
             ],
             [
              0.1111111111111111,
              "#46039f"
             ],
             [
              0.2222222222222222,
              "#7201a8"
             ],
             [
              0.3333333333333333,
              "#9c179e"
             ],
             [
              0.4444444444444444,
              "#bd3786"
             ],
             [
              0.5555555555555556,
              "#d8576b"
             ],
             [
              0.6666666666666666,
              "#ed7953"
             ],
             [
              0.7777777777777778,
              "#fb9f3a"
             ],
             [
              0.8888888888888888,
              "#fdca26"
             ],
             [
              1,
              "#f0f921"
             ]
            ],
            "type": "histogram2dcontour"
           }
          ],
          "mesh3d": [
           {
            "colorbar": {
             "outlinewidth": 0,
             "ticks": ""
            },
            "type": "mesh3d"
           }
          ],
          "parcoords": [
           {
            "line": {
             "colorbar": {
              "outlinewidth": 0,
              "ticks": ""
             }
            },
            "type": "parcoords"
           }
          ],
          "pie": [
           {
            "automargin": true,
            "type": "pie"
           }
          ],
          "scatter": [
           {
            "marker": {
             "colorbar": {
              "outlinewidth": 0,
              "ticks": ""
             }
            },
            "type": "scatter"
           }
          ],
          "scatter3d": [
           {
            "line": {
             "colorbar": {
              "outlinewidth": 0,
              "ticks": ""
             }
            },
            "marker": {
             "colorbar": {
              "outlinewidth": 0,
              "ticks": ""
             }
            },
            "type": "scatter3d"
           }
          ],
          "scattercarpet": [
           {
            "marker": {
             "colorbar": {
              "outlinewidth": 0,
              "ticks": ""
             }
            },
            "type": "scattercarpet"
           }
          ],
          "scattergeo": [
           {
            "marker": {
             "colorbar": {
              "outlinewidth": 0,
              "ticks": ""
             }
            },
            "type": "scattergeo"
           }
          ],
          "scattergl": [
           {
            "marker": {
             "colorbar": {
              "outlinewidth": 0,
              "ticks": ""
             }
            },
            "type": "scattergl"
           }
          ],
          "scattermapbox": [
           {
            "marker": {
             "colorbar": {
              "outlinewidth": 0,
              "ticks": ""
             }
            },
            "type": "scattermapbox"
           }
          ],
          "scatterpolar": [
           {
            "marker": {
             "colorbar": {
              "outlinewidth": 0,
              "ticks": ""
             }
            },
            "type": "scatterpolar"
           }
          ],
          "scatterpolargl": [
           {
            "marker": {
             "colorbar": {
              "outlinewidth": 0,
              "ticks": ""
             }
            },
            "type": "scatterpolargl"
           }
          ],
          "scatterternary": [
           {
            "marker": {
             "colorbar": {
              "outlinewidth": 0,
              "ticks": ""
             }
            },
            "type": "scatterternary"
           }
          ],
          "surface": [
           {
            "colorbar": {
             "outlinewidth": 0,
             "ticks": ""
            },
            "colorscale": [
             [
              0,
              "#0d0887"
             ],
             [
              0.1111111111111111,
              "#46039f"
             ],
             [
              0.2222222222222222,
              "#7201a8"
             ],
             [
              0.3333333333333333,
              "#9c179e"
             ],
             [
              0.4444444444444444,
              "#bd3786"
             ],
             [
              0.5555555555555556,
              "#d8576b"
             ],
             [
              0.6666666666666666,
              "#ed7953"
             ],
             [
              0.7777777777777778,
              "#fb9f3a"
             ],
             [
              0.8888888888888888,
              "#fdca26"
             ],
             [
              1,
              "#f0f921"
             ]
            ],
            "type": "surface"
           }
          ],
          "table": [
           {
            "cells": {
             "fill": {
              "color": "#EBF0F8"
             },
             "line": {
              "color": "white"
             }
            },
            "header": {
             "fill": {
              "color": "#C8D4E3"
             },
             "line": {
              "color": "white"
             }
            },
            "type": "table"
           }
          ]
         },
         "layout": {
          "annotationdefaults": {
           "arrowcolor": "#2a3f5f",
           "arrowhead": 0,
           "arrowwidth": 1
          },
          "autotypenumbers": "strict",
          "coloraxis": {
           "colorbar": {
            "outlinewidth": 0,
            "ticks": ""
           }
          },
          "colorscale": {
           "diverging": [
            [
             0,
             "#8e0152"
            ],
            [
             0.1,
             "#c51b7d"
            ],
            [
             0.2,
             "#de77ae"
            ],
            [
             0.3,
             "#f1b6da"
            ],
            [
             0.4,
             "#fde0ef"
            ],
            [
             0.5,
             "#f7f7f7"
            ],
            [
             0.6,
             "#e6f5d0"
            ],
            [
             0.7,
             "#b8e186"
            ],
            [
             0.8,
             "#7fbc41"
            ],
            [
             0.9,
             "#4d9221"
            ],
            [
             1,
             "#276419"
            ]
           ],
           "sequential": [
            [
             0,
             "#0d0887"
            ],
            [
             0.1111111111111111,
             "#46039f"
            ],
            [
             0.2222222222222222,
             "#7201a8"
            ],
            [
             0.3333333333333333,
             "#9c179e"
            ],
            [
             0.4444444444444444,
             "#bd3786"
            ],
            [
             0.5555555555555556,
             "#d8576b"
            ],
            [
             0.6666666666666666,
             "#ed7953"
            ],
            [
             0.7777777777777778,
             "#fb9f3a"
            ],
            [
             0.8888888888888888,
             "#fdca26"
            ],
            [
             1,
             "#f0f921"
            ]
           ],
           "sequentialminus": [
            [
             0,
             "#0d0887"
            ],
            [
             0.1111111111111111,
             "#46039f"
            ],
            [
             0.2222222222222222,
             "#7201a8"
            ],
            [
             0.3333333333333333,
             "#9c179e"
            ],
            [
             0.4444444444444444,
             "#bd3786"
            ],
            [
             0.5555555555555556,
             "#d8576b"
            ],
            [
             0.6666666666666666,
             "#ed7953"
            ],
            [
             0.7777777777777778,
             "#fb9f3a"
            ],
            [
             0.8888888888888888,
             "#fdca26"
            ],
            [
             1,
             "#f0f921"
            ]
           ]
          },
          "colorway": [
           "#636efa",
           "#EF553B",
           "#00cc96",
           "#ab63fa",
           "#FFA15A",
           "#19d3f3",
           "#FF6692",
           "#B6E880",
           "#FF97FF",
           "#FECB52"
          ],
          "font": {
           "color": "#2a3f5f"
          },
          "geo": {
           "bgcolor": "white",
           "lakecolor": "white",
           "landcolor": "#E5ECF6",
           "showlakes": true,
           "showland": true,
           "subunitcolor": "white"
          },
          "hoverlabel": {
           "align": "left"
          },
          "hovermode": "closest",
          "mapbox": {
           "style": "light"
          },
          "paper_bgcolor": "white",
          "plot_bgcolor": "#E5ECF6",
          "polar": {
           "angularaxis": {
            "gridcolor": "white",
            "linecolor": "white",
            "ticks": ""
           },
           "bgcolor": "#E5ECF6",
           "radialaxis": {
            "gridcolor": "white",
            "linecolor": "white",
            "ticks": ""
           }
          },
          "scene": {
           "xaxis": {
            "backgroundcolor": "#E5ECF6",
            "gridcolor": "white",
            "gridwidth": 2,
            "linecolor": "white",
            "showbackground": true,
            "ticks": "",
            "zerolinecolor": "white"
           },
           "yaxis": {
            "backgroundcolor": "#E5ECF6",
            "gridcolor": "white",
            "gridwidth": 2,
            "linecolor": "white",
            "showbackground": true,
            "ticks": "",
            "zerolinecolor": "white"
           },
           "zaxis": {
            "backgroundcolor": "#E5ECF6",
            "gridcolor": "white",
            "gridwidth": 2,
            "linecolor": "white",
            "showbackground": true,
            "ticks": "",
            "zerolinecolor": "white"
           }
          },
          "shapedefaults": {
           "line": {
            "color": "#2a3f5f"
           }
          },
          "ternary": {
           "aaxis": {
            "gridcolor": "white",
            "linecolor": "white",
            "ticks": ""
           },
           "baxis": {
            "gridcolor": "white",
            "linecolor": "white",
            "ticks": ""
           },
           "bgcolor": "#E5ECF6",
           "caxis": {
            "gridcolor": "white",
            "linecolor": "white",
            "ticks": ""
           }
          },
          "title": {
           "x": 0.05
          },
          "xaxis": {
           "automargin": true,
           "gridcolor": "white",
           "linecolor": "white",
           "ticks": "",
           "title": {
            "standoff": 15
           },
           "zerolinecolor": "white",
           "zerolinewidth": 2
          },
          "yaxis": {
           "automargin": true,
           "gridcolor": "white",
           "linecolor": "white",
           "ticks": "",
           "title": {
            "standoff": 15
           },
           "zerolinecolor": "white",
           "zerolinewidth": 2
          }
         }
        },
        "title": {
         "font": {
          "color": "blue",
          "size": 18
         },
         "text": "Comparaison des moyennes par variable des clusters",
         "x": 0.5,
         "xanchor": "center",
         "y": 0.95,
         "yanchor": "top"
        }
       }
      },
      "text/html": [
       "<div>                            <div id=\"7c204e57-0979-4276-a468-b08782d38adf\" class=\"plotly-graph-div\" style=\"height:525px; width:100%;\"></div>            <script type=\"text/javascript\">                require([\"plotly\"], function(Plotly) {                    window.PLOTLYENV=window.PLOTLYENV || {};                                    if (document.getElementById(\"7c204e57-0979-4276-a468-b08782d38adf\")) {                    Plotly.newPlot(                        \"7c204e57-0979-4276-a468-b08782d38adf\",                        [{\"fill\":\"toself\",\"name\":\"Cluster 0\",\"r\":[0.0,1.0,0.49486847628558417,0.7072169211894987,0.015497209022389491,0.020149458203373216,0.8751871985572652,0.11515999957654799,0.0,0.0,0.0,0.0,1.0,0.0,0.0,0.0,0.0],\"theta\":[\"payment_value\",\"review_score\",\"payment_installments\",\"order_purchase_hour\",\"freight_value\",\"payment_sequential\",\"distance_from_olist\",\"delais_de_livraison\",\"pc_Books, CDs and other physical media\",\"pc_Fashion, clothing and accesories\",\"pc_Flowres and gifts\",\"pc_Groceries, food and drink\",\"pc_Health and beauty\",\"pc_Home and furniture\",\"pc_Other\",\"pc_Technology\",\"pc_Toys and baby equipment\"],\"type\":\"scatterpolar\"},{\"fill\":\"toself\",\"name\":\"Cluster 1\",\"r\":[0.5374340947732881,0.0,1.0,1.0,1.0,1.0000000000000002,0.0,0.7565909167353198,0.0,0.0,0.0,0.0,0.0,1.0,0.0,0.0,0.0],\"theta\":[\"payment_value\",\"review_score\",\"payment_installments\",\"order_purchase_hour\",\"freight_value\",\"payment_sequential\",\"distance_from_olist\",\"delais_de_livraison\",\"pc_Books, CDs and other physical media\",\"pc_Fashion, clothing and accesories\",\"pc_Flowres and gifts\",\"pc_Groceries, food and drink\",\"pc_Health and beauty\",\"pc_Home and furniture\",\"pc_Other\",\"pc_Technology\",\"pc_Toys and baby equipment\"],\"type\":\"scatterpolar\"},{\"fill\":\"toself\",\"name\":\"Cluster 2\",\"r\":[0.38263603716363237,0.6755148541907943,0.35769512234848966,0.0,0.5603208823240178,0.1287708590407124,0.5143248283800848,0.44647170002696157,0.0,0.0,0.0,0.0,0.0,0.0,1.0,0.0,0.0],\"theta\":[\"payment_value\",\"review_score\",\"payment_installments\",\"order_purchase_hour\",\"freight_value\",\"payment_sequential\",\"distance_from_olist\",\"delais_de_livraison\",\"pc_Books, CDs and other physical media\",\"pc_Fashion, clothing and accesories\",\"pc_Flowres and gifts\",\"pc_Groceries, food and drink\",\"pc_Health and beauty\",\"pc_Home and furniture\",\"pc_Other\",\"pc_Technology\",\"pc_Toys and baby equipment\"],\"type\":\"scatterpolar\"},{\"fill\":\"toself\",\"name\":\"Cluster 3\",\"r\":[1.0,0.09994612928839786,0.2965125769107031,0.14205657583624998,0.8888425064735177,0.5712881035562225,0.5585966864031651,1.0,0.0,0.0,0.0,0.0,0.0,0.0,0.0,0.0,1.0],\"theta\":[\"payment_value\",\"review_score\",\"payment_installments\",\"order_purchase_hour\",\"freight_value\",\"payment_sequential\",\"distance_from_olist\",\"delais_de_livraison\",\"pc_Books, CDs and other physical media\",\"pc_Fashion, clothing and accesories\",\"pc_Flowres and gifts\",\"pc_Groceries, food and drink\",\"pc_Health and beauty\",\"pc_Home and furniture\",\"pc_Other\",\"pc_Technology\",\"pc_Toys and baby equipment\"],\"type\":\"scatterpolar\"},{\"fill\":\"toself\",\"name\":\"Cluster 4\",\"r\":[0.5714872279471472,0.0859119295231423,0.0,0.16452324264530205,0.0,0.0,1.0,0.6668902493523774,0.0,0.0,0.0,0.0,0.0,0.0,0.0,1.0,0.0],\"theta\":[\"payment_value\",\"review_score\",\"payment_installments\",\"order_purchase_hour\",\"freight_value\",\"payment_sequential\",\"distance_from_olist\",\"delais_de_livraison\",\"pc_Books, CDs and other physical media\",\"pc_Fashion, clothing and accesories\",\"pc_Flowres and gifts\",\"pc_Groceries, food and drink\",\"pc_Health and beauty\",\"pc_Home and furniture\",\"pc_Other\",\"pc_Technology\",\"pc_Toys and baby equipment\"],\"type\":\"scatterpolar\"},{\"fill\":\"toself\",\"name\":\"Cluster 5\",\"r\":[0.3850237703019328,0.5492986179371684,0.5554445195623283,0.23540120305545997,0.22932378429518918,0.21351735876613387,0.6922459602133255,0.0,1.0,1.0,1.0,1.0,0.0,0.0,0.0,0.0,0.0],\"theta\":[\"payment_value\",\"review_score\",\"payment_installments\",\"order_purchase_hour\",\"freight_value\",\"payment_sequential\",\"distance_from_olist\",\"delais_de_livraison\",\"pc_Books, CDs and other physical media\",\"pc_Fashion, clothing and accesories\",\"pc_Flowres and gifts\",\"pc_Groceries, food and drink\",\"pc_Health and beauty\",\"pc_Home and furniture\",\"pc_Other\",\"pc_Technology\",\"pc_Toys and baby equipment\"],\"type\":\"scatterpolar\"}],                        {\"template\":{\"data\":{\"bar\":[{\"error_x\":{\"color\":\"#2a3f5f\"},\"error_y\":{\"color\":\"#2a3f5f\"},\"marker\":{\"line\":{\"color\":\"#E5ECF6\",\"width\":0.5},\"pattern\":{\"fillmode\":\"overlay\",\"size\":10,\"solidity\":0.2}},\"type\":\"bar\"}],\"barpolar\":[{\"marker\":{\"line\":{\"color\":\"#E5ECF6\",\"width\":0.5},\"pattern\":{\"fillmode\":\"overlay\",\"size\":10,\"solidity\":0.2}},\"type\":\"barpolar\"}],\"carpet\":[{\"aaxis\":{\"endlinecolor\":\"#2a3f5f\",\"gridcolor\":\"white\",\"linecolor\":\"white\",\"minorgridcolor\":\"white\",\"startlinecolor\":\"#2a3f5f\"},\"baxis\":{\"endlinecolor\":\"#2a3f5f\",\"gridcolor\":\"white\",\"linecolor\":\"white\",\"minorgridcolor\":\"white\",\"startlinecolor\":\"#2a3f5f\"},\"type\":\"carpet\"}],\"choropleth\":[{\"colorbar\":{\"outlinewidth\":0,\"ticks\":\"\"},\"type\":\"choropleth\"}],\"contour\":[{\"colorbar\":{\"outlinewidth\":0,\"ticks\":\"\"},\"colorscale\":[[0.0,\"#0d0887\"],[0.1111111111111111,\"#46039f\"],[0.2222222222222222,\"#7201a8\"],[0.3333333333333333,\"#9c179e\"],[0.4444444444444444,\"#bd3786\"],[0.5555555555555556,\"#d8576b\"],[0.6666666666666666,\"#ed7953\"],[0.7777777777777778,\"#fb9f3a\"],[0.8888888888888888,\"#fdca26\"],[1.0,\"#f0f921\"]],\"type\":\"contour\"}],\"contourcarpet\":[{\"colorbar\":{\"outlinewidth\":0,\"ticks\":\"\"},\"type\":\"contourcarpet\"}],\"heatmap\":[{\"colorbar\":{\"outlinewidth\":0,\"ticks\":\"\"},\"colorscale\":[[0.0,\"#0d0887\"],[0.1111111111111111,\"#46039f\"],[0.2222222222222222,\"#7201a8\"],[0.3333333333333333,\"#9c179e\"],[0.4444444444444444,\"#bd3786\"],[0.5555555555555556,\"#d8576b\"],[0.6666666666666666,\"#ed7953\"],[0.7777777777777778,\"#fb9f3a\"],[0.8888888888888888,\"#fdca26\"],[1.0,\"#f0f921\"]],\"type\":\"heatmap\"}],\"heatmapgl\":[{\"colorbar\":{\"outlinewidth\":0,\"ticks\":\"\"},\"colorscale\":[[0.0,\"#0d0887\"],[0.1111111111111111,\"#46039f\"],[0.2222222222222222,\"#7201a8\"],[0.3333333333333333,\"#9c179e\"],[0.4444444444444444,\"#bd3786\"],[0.5555555555555556,\"#d8576b\"],[0.6666666666666666,\"#ed7953\"],[0.7777777777777778,\"#fb9f3a\"],[0.8888888888888888,\"#fdca26\"],[1.0,\"#f0f921\"]],\"type\":\"heatmapgl\"}],\"histogram\":[{\"marker\":{\"pattern\":{\"fillmode\":\"overlay\",\"size\":10,\"solidity\":0.2}},\"type\":\"histogram\"}],\"histogram2d\":[{\"colorbar\":{\"outlinewidth\":0,\"ticks\":\"\"},\"colorscale\":[[0.0,\"#0d0887\"],[0.1111111111111111,\"#46039f\"],[0.2222222222222222,\"#7201a8\"],[0.3333333333333333,\"#9c179e\"],[0.4444444444444444,\"#bd3786\"],[0.5555555555555556,\"#d8576b\"],[0.6666666666666666,\"#ed7953\"],[0.7777777777777778,\"#fb9f3a\"],[0.8888888888888888,\"#fdca26\"],[1.0,\"#f0f921\"]],\"type\":\"histogram2d\"}],\"histogram2dcontour\":[{\"colorbar\":{\"outlinewidth\":0,\"ticks\":\"\"},\"colorscale\":[[0.0,\"#0d0887\"],[0.1111111111111111,\"#46039f\"],[0.2222222222222222,\"#7201a8\"],[0.3333333333333333,\"#9c179e\"],[0.4444444444444444,\"#bd3786\"],[0.5555555555555556,\"#d8576b\"],[0.6666666666666666,\"#ed7953\"],[0.7777777777777778,\"#fb9f3a\"],[0.8888888888888888,\"#fdca26\"],[1.0,\"#f0f921\"]],\"type\":\"histogram2dcontour\"}],\"mesh3d\":[{\"colorbar\":{\"outlinewidth\":0,\"ticks\":\"\"},\"type\":\"mesh3d\"}],\"parcoords\":[{\"line\":{\"colorbar\":{\"outlinewidth\":0,\"ticks\":\"\"}},\"type\":\"parcoords\"}],\"pie\":[{\"automargin\":true,\"type\":\"pie\"}],\"scatter\":[{\"marker\":{\"colorbar\":{\"outlinewidth\":0,\"ticks\":\"\"}},\"type\":\"scatter\"}],\"scatter3d\":[{\"line\":{\"colorbar\":{\"outlinewidth\":0,\"ticks\":\"\"}},\"marker\":{\"colorbar\":{\"outlinewidth\":0,\"ticks\":\"\"}},\"type\":\"scatter3d\"}],\"scattercarpet\":[{\"marker\":{\"colorbar\":{\"outlinewidth\":0,\"ticks\":\"\"}},\"type\":\"scattercarpet\"}],\"scattergeo\":[{\"marker\":{\"colorbar\":{\"outlinewidth\":0,\"ticks\":\"\"}},\"type\":\"scattergeo\"}],\"scattergl\":[{\"marker\":{\"colorbar\":{\"outlinewidth\":0,\"ticks\":\"\"}},\"type\":\"scattergl\"}],\"scattermapbox\":[{\"marker\":{\"colorbar\":{\"outlinewidth\":0,\"ticks\":\"\"}},\"type\":\"scattermapbox\"}],\"scatterpolar\":[{\"marker\":{\"colorbar\":{\"outlinewidth\":0,\"ticks\":\"\"}},\"type\":\"scatterpolar\"}],\"scatterpolargl\":[{\"marker\":{\"colorbar\":{\"outlinewidth\":0,\"ticks\":\"\"}},\"type\":\"scatterpolargl\"}],\"scatterternary\":[{\"marker\":{\"colorbar\":{\"outlinewidth\":0,\"ticks\":\"\"}},\"type\":\"scatterternary\"}],\"surface\":[{\"colorbar\":{\"outlinewidth\":0,\"ticks\":\"\"},\"colorscale\":[[0.0,\"#0d0887\"],[0.1111111111111111,\"#46039f\"],[0.2222222222222222,\"#7201a8\"],[0.3333333333333333,\"#9c179e\"],[0.4444444444444444,\"#bd3786\"],[0.5555555555555556,\"#d8576b\"],[0.6666666666666666,\"#ed7953\"],[0.7777777777777778,\"#fb9f3a\"],[0.8888888888888888,\"#fdca26\"],[1.0,\"#f0f921\"]],\"type\":\"surface\"}],\"table\":[{\"cells\":{\"fill\":{\"color\":\"#EBF0F8\"},\"line\":{\"color\":\"white\"}},\"header\":{\"fill\":{\"color\":\"#C8D4E3\"},\"line\":{\"color\":\"white\"}},\"type\":\"table\"}]},\"layout\":{\"annotationdefaults\":{\"arrowcolor\":\"#2a3f5f\",\"arrowhead\":0,\"arrowwidth\":1},\"autotypenumbers\":\"strict\",\"coloraxis\":{\"colorbar\":{\"outlinewidth\":0,\"ticks\":\"\"}},\"colorscale\":{\"diverging\":[[0,\"#8e0152\"],[0.1,\"#c51b7d\"],[0.2,\"#de77ae\"],[0.3,\"#f1b6da\"],[0.4,\"#fde0ef\"],[0.5,\"#f7f7f7\"],[0.6,\"#e6f5d0\"],[0.7,\"#b8e186\"],[0.8,\"#7fbc41\"],[0.9,\"#4d9221\"],[1,\"#276419\"]],\"sequential\":[[0.0,\"#0d0887\"],[0.1111111111111111,\"#46039f\"],[0.2222222222222222,\"#7201a8\"],[0.3333333333333333,\"#9c179e\"],[0.4444444444444444,\"#bd3786\"],[0.5555555555555556,\"#d8576b\"],[0.6666666666666666,\"#ed7953\"],[0.7777777777777778,\"#fb9f3a\"],[0.8888888888888888,\"#fdca26\"],[1.0,\"#f0f921\"]],\"sequentialminus\":[[0.0,\"#0d0887\"],[0.1111111111111111,\"#46039f\"],[0.2222222222222222,\"#7201a8\"],[0.3333333333333333,\"#9c179e\"],[0.4444444444444444,\"#bd3786\"],[0.5555555555555556,\"#d8576b\"],[0.6666666666666666,\"#ed7953\"],[0.7777777777777778,\"#fb9f3a\"],[0.8888888888888888,\"#fdca26\"],[1.0,\"#f0f921\"]]},\"colorway\":[\"#636efa\",\"#EF553B\",\"#00cc96\",\"#ab63fa\",\"#FFA15A\",\"#19d3f3\",\"#FF6692\",\"#B6E880\",\"#FF97FF\",\"#FECB52\"],\"font\":{\"color\":\"#2a3f5f\"},\"geo\":{\"bgcolor\":\"white\",\"lakecolor\":\"white\",\"landcolor\":\"#E5ECF6\",\"showlakes\":true,\"showland\":true,\"subunitcolor\":\"white\"},\"hoverlabel\":{\"align\":\"left\"},\"hovermode\":\"closest\",\"mapbox\":{\"style\":\"light\"},\"paper_bgcolor\":\"white\",\"plot_bgcolor\":\"#E5ECF6\",\"polar\":{\"angularaxis\":{\"gridcolor\":\"white\",\"linecolor\":\"white\",\"ticks\":\"\"},\"bgcolor\":\"#E5ECF6\",\"radialaxis\":{\"gridcolor\":\"white\",\"linecolor\":\"white\",\"ticks\":\"\"}},\"scene\":{\"xaxis\":{\"backgroundcolor\":\"#E5ECF6\",\"gridcolor\":\"white\",\"gridwidth\":2,\"linecolor\":\"white\",\"showbackground\":true,\"ticks\":\"\",\"zerolinecolor\":\"white\"},\"yaxis\":{\"backgroundcolor\":\"#E5ECF6\",\"gridcolor\":\"white\",\"gridwidth\":2,\"linecolor\":\"white\",\"showbackground\":true,\"ticks\":\"\",\"zerolinecolor\":\"white\"},\"zaxis\":{\"backgroundcolor\":\"#E5ECF6\",\"gridcolor\":\"white\",\"gridwidth\":2,\"linecolor\":\"white\",\"showbackground\":true,\"ticks\":\"\",\"zerolinecolor\":\"white\"}},\"shapedefaults\":{\"line\":{\"color\":\"#2a3f5f\"}},\"ternary\":{\"aaxis\":{\"gridcolor\":\"white\",\"linecolor\":\"white\",\"ticks\":\"\"},\"baxis\":{\"gridcolor\":\"white\",\"linecolor\":\"white\",\"ticks\":\"\"},\"bgcolor\":\"#E5ECF6\",\"caxis\":{\"gridcolor\":\"white\",\"linecolor\":\"white\",\"ticks\":\"\"}},\"title\":{\"x\":0.05},\"xaxis\":{\"automargin\":true,\"gridcolor\":\"white\",\"linecolor\":\"white\",\"ticks\":\"\",\"title\":{\"standoff\":15},\"zerolinecolor\":\"white\",\"zerolinewidth\":2},\"yaxis\":{\"automargin\":true,\"gridcolor\":\"white\",\"linecolor\":\"white\",\"ticks\":\"\",\"title\":{\"standoff\":15},\"zerolinecolor\":\"white\",\"zerolinewidth\":2}}},\"polar\":{\"radialaxis\":{\"visible\":true,\"range\":[0,1]}},\"title\":{\"font\":{\"color\":\"blue\",\"size\":18},\"text\":\"Comparaison des moyennes par variable des clusters\",\"y\":0.95,\"x\":0.5,\"xanchor\":\"center\",\"yanchor\":\"top\"},\"showlegend\":true},                        {\"responsive\": true}                    ).then(function(){\n",
       "                            \n",
       "var gd = document.getElementById('7c204e57-0979-4276-a468-b08782d38adf');\n",
       "var x = new MutationObserver(function (mutations, observer) {{\n",
       "        var display = window.getComputedStyle(gd).display;\n",
       "        if (!display || display === 'none') {{\n",
       "            console.log([gd, 'removed!']);\n",
       "            Plotly.purge(gd);\n",
       "            observer.disconnect();\n",
       "        }}\n",
       "}});\n",
       "\n",
       "// Listen for the removal of the full notebook cells\n",
       "var notebookContainer = gd.closest('#notebook-container');\n",
       "if (notebookContainer) {{\n",
       "    x.observe(notebookContainer, {childList: true});\n",
       "}}\n",
       "\n",
       "// Listen for the clearing of the current output cell\n",
       "var outputEl = gd.closest('.output');\n",
       "if (outputEl) {{\n",
       "    x.observe(outputEl, {childList: true});\n",
       "}}\n",
       "\n",
       "                        })                };                });            </script>        </div>"
      ]
     },
     "metadata": {},
     "output_type": "display_data"
    }
   ],
   "source": [
    "plot_radars(data=X_scaled_clusters,\n",
    "            group=\"kmeans_label\")"
   ]
  },
  {
   "cell_type": "markdown",
   "id": "011fe8f0",
   "metadata": {},
   "source": [
    "- Malheureusement ici, la segmentation se base principalement sur les catégories de produit achetées. Le poids de ces features masque les autres axes de catégorisation, nous allons donc réaliser un nouveau K-Means en supprimant ces variables."
   ]
  },
  {
   "cell_type": "markdown",
   "id": "3d0517e2",
   "metadata": {},
   "source": [
    "#### Clustering sans les catégories produits"
   ]
  },
  {
   "cell_type": "code",
   "execution_count": 227,
   "id": "01a9f8ee",
   "metadata": {
    "ExecuteTime": {
     "end_time": "2022-08-30T01:34:20.108491Z",
     "start_time": "2022-08-30T01:34:20.096495Z"
    }
   },
   "outputs": [
    {
     "data": {
      "text/plain": [
       "Index(['payment_value', 'review_score', 'payment_installments',\n",
       "       'order_purchase_hour', 'freight_value', 'payment_sequential',\n",
       "       'distance_from_olist', 'delais_de_livraison',\n",
       "       'pc_Books, CDs and other physical media',\n",
       "       'pc_Fashion, clothing and accesories', 'pc_Flowres and gifts',\n",
       "       'pc_Groceries, food and drink', 'pc_Health and beauty',\n",
       "       'pc_Home and furniture', 'pc_Other', 'pc_Technology',\n",
       "       'pc_Toys and baby equipment'],\n",
       "      dtype='object')"
      ]
     },
     "execution_count": 227,
     "metadata": {},
     "output_type": "execute_result"
    }
   ],
   "source": [
    "X_scaled_clusters.columns"
   ]
  },
  {
   "cell_type": "code",
   "execution_count": 229,
   "id": "813340a0",
   "metadata": {
    "ExecuteTime": {
     "end_time": "2022-08-30T01:38:07.198072Z",
     "start_time": "2022-08-30T01:38:07.185073Z"
    }
   },
   "outputs": [
    {
     "data": {
      "text/html": [
       "<div>\n",
       "<style scoped>\n",
       "    .dataframe tbody tr th:only-of-type {\n",
       "        vertical-align: middle;\n",
       "    }\n",
       "\n",
       "    .dataframe tbody tr th {\n",
       "        vertical-align: top;\n",
       "    }\n",
       "\n",
       "    .dataframe thead th {\n",
       "        text-align: right;\n",
       "    }\n",
       "</style>\n",
       "<table border=\"1\" class=\"dataframe\">\n",
       "  <thead>\n",
       "    <tr style=\"text-align: right;\">\n",
       "      <th></th>\n",
       "      <th>payment_value</th>\n",
       "      <th>review_score</th>\n",
       "      <th>payment_installments</th>\n",
       "      <th>order_purchase_hour</th>\n",
       "      <th>freight_value</th>\n",
       "      <th>payment_sequential</th>\n",
       "      <th>distance_from_olist</th>\n",
       "      <th>delais_de_livraison</th>\n",
       "    </tr>\n",
       "  </thead>\n",
       "  <tbody>\n",
       "    <tr>\n",
       "      <th>0</th>\n",
       "      <td>141.90</td>\n",
       "      <td>5.0</td>\n",
       "      <td>8.0</td>\n",
       "      <td>10</td>\n",
       "      <td>12.00</td>\n",
       "      <td>1.0</td>\n",
       "      <td>211.562633</td>\n",
       "      <td>6.0</td>\n",
       "    </tr>\n",
       "    <tr>\n",
       "      <th>1</th>\n",
       "      <td>27.19</td>\n",
       "      <td>4.0</td>\n",
       "      <td>1.0</td>\n",
       "      <td>11</td>\n",
       "      <td>8.29</td>\n",
       "      <td>1.0</td>\n",
       "      <td>211.562633</td>\n",
       "      <td>3.0</td>\n",
       "    </tr>\n",
       "    <tr>\n",
       "      <th>2</th>\n",
       "      <td>86.22</td>\n",
       "      <td>3.0</td>\n",
       "      <td>8.0</td>\n",
       "      <td>21</td>\n",
       "      <td>17.22</td>\n",
       "      <td>1.0</td>\n",
       "      <td>156.135500</td>\n",
       "      <td>25.0</td>\n",
       "    </tr>\n",
       "  </tbody>\n",
       "</table>\n",
       "</div>"
      ],
      "text/plain": [
       "   payment_value  review_score  payment_installments  order_purchase_hour  \\\n",
       "0         141.90           5.0                   8.0                   10   \n",
       "1          27.19           4.0                   1.0                   11   \n",
       "2          86.22           3.0                   8.0                   21   \n",
       "\n",
       "   freight_value  payment_sequential  distance_from_olist  delais_de_livraison  \n",
       "0          12.00                 1.0           211.562633                  6.0  \n",
       "1           8.29                 1.0           211.562633                  3.0  \n",
       "2          17.22                 1.0           156.135500                 25.0  "
      ]
     },
     "execution_count": 229,
     "metadata": {},
     "output_type": "execute_result"
    }
   ],
   "source": [
    "categories_col = ['pc_Books, CDs and other physical media',\n",
    "                  \n",
    "                 'pc_Fashion, clothing and accesories',\n",
    "                  'pc_Flowres and gifts',\n",
    "                  'pc_Groceries, food and drink',\n",
    "                  'pc_Health and beauty',\n",
    "                  'pc_Home and furniture',\n",
    "                  'pc_Other',\n",
    "                  'pc_Technology',\n",
    "                  'pc_Toys and baby equipment']\n",
    "X_bis = X.drop(categories_col, axis=1)\n",
    "X_bis.head(3)"
   ]
  },
  {
   "cell_type": "code",
   "execution_count": 230,
   "id": "0684a553",
   "metadata": {
    "ExecuteTime": {
     "end_time": "2022-08-30T01:43:06.710198Z",
     "start_time": "2022-08-30T01:43:06.692162Z"
    }
   },
   "outputs": [],
   "source": [
    "def clustering_eval(preprocessor, model, data, metric, elbow=True, mds=False, KBest=None):\n",
    "    \n",
    "    if((elbow==True) & (mds==True)):\n",
    "        ncols=3\n",
    "    elif((elbow==False) | (mds==False)):\n",
    "        ncols=2\n",
    "    else:\n",
    "        ncols=1\n",
    "        \n",
    "    fig, axes = plt.subplots(nrows=1, ncols=ncols, sharex=False, sharey=False, figsize=(24,8))\n",
    "    \n",
    "    ax=0\n",
    "    if(elbow==True):\n",
    "        # Elbow visualizer\n",
    "        kmeans_visualizer = Pipeline([\n",
    "            (\"preprocessor\", preprocessor),\n",
    "            (\"kelbowvisualizer\", KElbowVisualizer(model,K=(4,12), metric=metric, ax=axes[ax]))])\n",
    "        kmeans_visualizer.fit(data)\n",
    "        KBest = kmeans_visualizer.named_steps['kelbowvisualizer'].elbow_value_\n",
    "        kmeans_visualizer.named_steps['kelbowvisualizer'].finalize()\n",
    "        ax+=1\n",
    "    \n",
    "    # Set best K\n",
    "    K = KBest\n",
    "    model.set_params(n_clusters=K)\n",
    "\n",
    "    # Silhouette Visualizer\n",
    "    silhouette_visualizer = Pipeline([\n",
    "        (\"preprocessor\", preprocessor),\n",
    "        (\"silhouettevisualizer\", SilhouetteVisualizer(model, ax=axes[ax]))])\n",
    "    silhouette_visualizer.fit(data)\n",
    "    silhouette_visualizer.named_steps['silhouettevisualizer'].finalize()\n",
    "    ax+=1\n",
    "    \n",
    "    # Intercluster distance Map with best k\n",
    "    if(mds==True):\n",
    "        distance_visualizer = Pipeline([\n",
    "            (\"preprocessor\", preprocessor),\n",
    "            (\"distancevisualizer\", InterclusterDistance(model, ax=axes[ax]))])\n",
    "        distance_visualizer.fit(data)\n",
    "        distance_visualizer.named_steps['distancevisualizer'].finalize()\n",
    "    \n",
    "    return K\n",
    "    plt.show()"
   ]
  },
  {
   "cell_type": "code",
   "execution_count": 231,
   "id": "89a38304",
   "metadata": {
    "ExecuteTime": {
     "end_time": "2022-08-30T01:46:57.434217Z",
     "start_time": "2022-08-30T01:43:07.920796Z"
    }
   },
   "outputs": [
    {
     "data": {
      "image/png": "[encoded data removed]",
      "text/plain": [
       "<Figure size 1728x576 with 3 Axes>"
      ]
     },
     "metadata": {},
     "output_type": "display_data"
    }
   ],
   "source": [
    "K = clustering_eval(preprocessor=MinMaxScaler(), \n",
    "                model=KMeans(), \n",
    "                data=X_bis, \n",
    "                metric=\"distortion\",\n",
    "                elbow=True,\n",
    "                mds=False,\n",
    "                KBest=None)"
   ]
  },
  {
   "cell_type": "code",
   "execution_count": 232,
   "id": "24b6886a",
   "metadata": {
    "ExecuteTime": {
     "end_time": "2022-08-30T01:46:58.396206Z",
     "start_time": "2022-08-30T01:46:57.436207Z"
    }
   },
   "outputs": [
    {
     "data": {
      "application/vnd.plotly.v1+json": {
       "config": {
        "plotlyServerURL": "https://plot.ly"
       },
       "data": [
        {
         "fill": "toself",
         "name": "Cluster 0",
         "r": [
          0.1312928489125429,
          0.6381336160491773,
          0.18778873058673629,
          0.8211647990610949,
          0.06505683775719673,
          0.13304845828216805,
          0.006134856922955567,
          0.3441456968322285
         ],
         "theta": [
          "payment_value",
          "review_score",
          "payment_installments",
          "order_purchase_hour",
          "freight_value",
          "payment_sequential",
          "distance_from_olist",
          "delais_de_livraison"
         ],
         "type": "scatterpolar"
        },
        {
         "fill": "toself",
         "name": "Cluster 1",
         "r": [
          0,
          0.9999999999999999,
          0.053508817758295635,
          1,
          0.007280060395759125,
          0.09154338614607549,
          0,
          0.2503658092855403
         ],
         "theta": [
          "payment_value",
          "review_score",
          "payment_installments",
          "order_purchase_hour",
          "freight_value",
          "payment_sequential",
          "distance_from_olist",
          "delais_de_livraison"
         ],
         "type": "scatterpolar"
        },
        {
         "fill": "toself",
         "name": "Cluster 2",
         "r": [
          0.9999999999999998,
          0,
          1,
          0.6088447028971156,
          0.40512375130641054,
          0.9999999999999998,
          0.12080119286467272,
          0
         ],
         "theta": [
          "payment_value",
          "review_score",
          "payment_installments",
          "order_purchase_hour",
          "freight_value",
          "payment_sequential",
          "distance_from_olist",
          "delais_de_livraison"
         ],
         "type": "scatterpolar"
        },
        {
         "fill": "toself",
         "name": "Cluster 3",
         "r": [
          0.7427940500464139,
          0.8538825167680576,
          0.7648552622604976,
          0.6277200625670194,
          1,
          0.12676895498516427,
          1,
          1
         ],
         "theta": [
          "payment_value",
          "review_score",
          "payment_installments",
          "order_purchase_hour",
          "freight_value",
          "payment_sequential",
          "distance_from_olist",
          "delais_de_livraison"
         ],
         "type": "scatterpolar"
        },
        {
         "fill": "toself",
         "name": "Cluster 4",
         "r": [
          0.0012341443765293558,
          0.9449029148384632,
          0,
          0,
          0,
          0,
          0.005218351606353533,
          0.267525892891058
         ],
         "theta": [
          "payment_value",
          "review_score",
          "payment_installments",
          "order_purchase_hour",
          "freight_value",
          "payment_sequential",
          "distance_from_olist",
          "delais_de_livraison"
         ],
         "type": "scatterpolar"
        }
       ],
       "layout": {
        "polar": {
         "radialaxis": {
          "range": [
           0,
           1
          ],
          "visible": true
         }
        },
        "showlegend": true,
        "template": {
         "data": {
          "bar": [
           {
            "error_x": {
             "color": "#2a3f5f"
            },
            "error_y": {
             "color": "#2a3f5f"
            },
            "marker": {
             "line": {
              "color": "#E5ECF6",
              "width": 0.5
             },
             "pattern": {
              "fillmode": "overlay",
              "size": 10,
              "solidity": 0.2
             }
            },
            "type": "bar"
           }
          ],
          "barpolar": [
           {
            "marker": {
             "line": {
              "color": "#E5ECF6",
              "width": 0.5
             },
             "pattern": {
              "fillmode": "overlay",
              "size": 10,
              "solidity": 0.2
             }
            },
            "type": "barpolar"
           }
          ],
          "carpet": [
           {
            "aaxis": {
             "endlinecolor": "#2a3f5f",
             "gridcolor": "white",
             "linecolor": "white",
             "minorgridcolor": "white",
             "startlinecolor": "#2a3f5f"
            },
            "baxis": {
             "endlinecolor": "#2a3f5f",
             "gridcolor": "white",
             "linecolor": "white",
             "minorgridcolor": "white",
             "startlinecolor": "#2a3f5f"
            },
            "type": "carpet"
           }
          ],
          "choropleth": [
           {
            "colorbar": {
             "outlinewidth": 0,
             "ticks": ""
            },
            "type": "choropleth"
           }
          ],
          "contour": [
           {
            "colorbar": {
             "outlinewidth": 0,
             "ticks": ""
            },
            "colorscale": [
             [
              0,
              "#0d0887"
             ],
             [
              0.1111111111111111,
              "#46039f"
             ],
             [
              0.2222222222222222,
              "#7201a8"
             ],
             [
              0.3333333333333333,
              "#9c179e"
             ],
             [
              0.4444444444444444,
              "#bd3786"
             ],
             [
              0.5555555555555556,
              "#d8576b"
             ],
             [
              0.6666666666666666,
              "#ed7953"
             ],
             [
              0.7777777777777778,
              "#fb9f3a"
             ],
             [
              0.8888888888888888,
              "#fdca26"
             ],
             [
              1,
              "#f0f921"
             ]
            ],
            "type": "contour"
           }
          ],
          "contourcarpet": [
           {
            "colorbar": {
             "outlinewidth": 0,
             "ticks": ""
            },
            "type": "contourcarpet"
           }
          ],
          "heatmap": [
           {
            "colorbar": {
             "outlinewidth": 0,
             "ticks": ""
            },
            "colorscale": [
             [
              0,
              "#0d0887"
             ],
             [
              0.1111111111111111,
              "#46039f"
             ],
             [
              0.2222222222222222,
              "#7201a8"
             ],
             [
              0.3333333333333333,
              "#9c179e"
             ],
             [
              0.4444444444444444,
              "#bd3786"
             ],
             [
              0.5555555555555556,
              "#d8576b"
             ],
             [
              0.6666666666666666,
              "#ed7953"
             ],
             [
              0.7777777777777778,
              "#fb9f3a"
             ],
             [
              0.8888888888888888,
              "#fdca26"
             ],
             [
              1,
              "#f0f921"
             ]
            ],
            "type": "heatmap"
           }
          ],
          "heatmapgl": [
           {
            "colorbar": {
             "outlinewidth": 0,
             "ticks": ""
            },
            "colorscale": [
             [
              0,
              "#0d0887"
             ],
             [
              0.1111111111111111,
              "#46039f"
             ],
             [
              0.2222222222222222,
              "#7201a8"
             ],
             [
              0.3333333333333333,
              "#9c179e"
             ],
             [
              0.4444444444444444,
              "#bd3786"
             ],
             [
              0.5555555555555556,
              "#d8576b"
             ],
             [
              0.6666666666666666,
              "#ed7953"
             ],
             [
              0.7777777777777778,
              "#fb9f3a"
             ],
             [
              0.8888888888888888,
              "#fdca26"
             ],
             [
              1,
              "#f0f921"
             ]
            ],
            "type": "heatmapgl"
           }
          ],
          "histogram": [
           {
            "marker": {
             "pattern": {
              "fillmode": "overlay",
              "size": 10,
              "solidity": 0.2
             }
            },
            "type": "histogram"
           }
          ],
          "histogram2d": [
           {
            "colorbar": {
             "outlinewidth": 0,
             "ticks": ""
            },
            "colorscale": [
             [
              0,
              "#0d0887"
             ],
             [
              0.1111111111111111,
              "#46039f"
             ],
             [
              0.2222222222222222,
              "#7201a8"
             ],
             [
              0.3333333333333333,
              "#9c179e"
             ],
             [
              0.4444444444444444,
              "#bd3786"
             ],
             [
              0.5555555555555556,
              "#d8576b"
             ],
             [
              0.6666666666666666,
              "#ed7953"
             ],
             [
              0.7777777777777778,
              "#fb9f3a"
             ],
             [
              0.8888888888888888,
              "#fdca26"
             ],
             [
              1,
              "#f0f921"
             ]
            ],
            "type": "histogram2d"
           }
          ],
          "histogram2dcontour": [
           {
            "colorbar": {
             "outlinewidth": 0,
             "ticks": ""
            },
            "colorscale": [
             [
              0,
              "#0d0887"
             ],
             [
              0.1111111111111111,
              "#46039f"
             ],
             [
              0.2222222222222222,
              "#7201a8"
             ],
             [
              0.3333333333333333,
              "#9c179e"
             ],
             [
              0.4444444444444444,
              "#bd3786"
             ],
             [
              0.5555555555555556,
              "#d8576b"
             ],
             [
              0.6666666666666666,
              "#ed7953"
             ],
             [
              0.7777777777777778,
              "#fb9f3a"
             ],
             [
              0.8888888888888888,
              "#fdca26"
             ],
             [
              1,
              "#f0f921"
             ]
            ],
            "type": "histogram2dcontour"
           }
          ],
          "mesh3d": [
           {
            "colorbar": {
             "outlinewidth": 0,
             "ticks": ""
            },
            "type": "mesh3d"
           }
          ],
          "parcoords": [
           {
            "line": {
             "colorbar": {
              "outlinewidth": 0,
              "ticks": ""
             }
            },
            "type": "parcoords"
           }
          ],
          "pie": [
           {
            "automargin": true,
            "type": "pie"
           }
          ],
          "scatter": [
           {
            "marker": {
             "colorbar": {
              "outlinewidth": 0,
              "ticks": ""
             }
            },
            "type": "scatter"
           }
          ],
          "scatter3d": [
           {
            "line": {
             "colorbar": {
              "outlinewidth": 0,
              "ticks": ""
             }
            },
            "marker": {
             "colorbar": {
              "outlinewidth": 0,
              "ticks": ""
             }
            },
            "type": "scatter3d"
           }
          ],
          "scattercarpet": [
           {
            "marker": {
             "colorbar": {
              "outlinewidth": 0,
              "ticks": ""
             }
            },
            "type": "scattercarpet"
           }
          ],
          "scattergeo": [
           {
            "marker": {
             "colorbar": {
              "outlinewidth": 0,
              "ticks": ""
             }
            },
            "type": "scattergeo"
           }
          ],
          "scattergl": [
           {
            "marker": {
             "colorbar": {
              "outlinewidth": 0,
              "ticks": ""
             }
            },
            "type": "scattergl"
           }
          ],
          "scattermapbox": [
           {
            "marker": {
             "colorbar": {
              "outlinewidth": 0,
              "ticks": ""
             }
            },
            "type": "scattermapbox"
           }
          ],
          "scatterpolar": [
           {
            "marker": {
             "colorbar": {
              "outlinewidth": 0,
              "ticks": ""
             }
            },
            "type": "scatterpolar"
           }
          ],
          "scatterpolargl": [
           {
            "marker": {
             "colorbar": {
              "outlinewidth": 0,
              "ticks": ""
             }
            },
            "type": "scatterpolargl"
           }
          ],
          "scatterternary": [
           {
            "marker": {
             "colorbar": {
              "outlinewidth": 0,
              "ticks": ""
             }
            },
            "type": "scatterternary"
           }
          ],
          "surface": [
           {
            "colorbar": {
             "outlinewidth": 0,
             "ticks": ""
            },
            "colorscale": [
             [
              0,
              "#0d0887"
             ],
             [
              0.1111111111111111,
              "#46039f"
             ],
             [
              0.2222222222222222,
              "#7201a8"
             ],
             [
              0.3333333333333333,
              "#9c179e"
             ],
             [
              0.4444444444444444,
              "#bd3786"
             ],
             [
              0.5555555555555556,
              "#d8576b"
             ],
             [
              0.6666666666666666,
              "#ed7953"
             ],
             [
              0.7777777777777778,
              "#fb9f3a"
             ],
             [
              0.8888888888888888,
              "#fdca26"
             ],
             [
              1,
              "#f0f921"
             ]
            ],
            "type": "surface"
           }
          ],
          "table": [
           {
            "cells": {
             "fill": {
              "color": "#EBF0F8"
             },
             "line": {
              "color": "white"
             }
            },
            "header": {
             "fill": {
              "color": "#C8D4E3"
             },
             "line": {
              "color": "white"
             }
            },
            "type": "table"
           }
          ]
         },
         "layout": {
          "annotationdefaults": {
           "arrowcolor": "#2a3f5f",
           "arrowhead": 0,
           "arrowwidth": 1
          },
          "autotypenumbers": "strict",
          "coloraxis": {
           "colorbar": {
            "outlinewidth": 0,
            "ticks": ""
           }
          },
          "colorscale": {
           "diverging": [
            [
             0,
             "#8e0152"
            ],
            [
             0.1,
             "#c51b7d"
            ],
            [
             0.2,
             "#de77ae"
            ],
            [
             0.3,
             "#f1b6da"
            ],
            [
             0.4,
             "#fde0ef"
            ],
            [
             0.5,
             "#f7f7f7"
            ],
            [
             0.6,
             "#e6f5d0"
            ],
            [
             0.7,
             "#b8e186"
            ],
            [
             0.8,
             "#7fbc41"
            ],
            [
             0.9,
             "#4d9221"
            ],
            [
             1,
             "#276419"
            ]
           ],
           "sequential": [
            [
             0,
             "#0d0887"
            ],
            [
             0.1111111111111111,
             "#46039f"
            ],
            [
             0.2222222222222222,
             "#7201a8"
            ],
            [
             0.3333333333333333,
             "#9c179e"
            ],
            [
             0.4444444444444444,
             "#bd3786"
            ],
            [
             0.5555555555555556,
             "#d8576b"
            ],
            [
             0.6666666666666666,
             "#ed7953"
            ],
            [
             0.7777777777777778,
             "#fb9f3a"
            ],
            [
             0.8888888888888888,
             "#fdca26"
            ],
            [
             1,
             "#f0f921"
            ]
           ],
           "sequentialminus": [
            [
             0,
             "#0d0887"
            ],
            [
             0.1111111111111111,
             "#46039f"
            ],
            [
             0.2222222222222222,
             "#7201a8"
            ],
            [
             0.3333333333333333,
             "#9c179e"
            ],
            [
             0.4444444444444444,
             "#bd3786"
            ],
            [
             0.5555555555555556,
             "#d8576b"
            ],
            [
             0.6666666666666666,
             "#ed7953"
            ],
            [
             0.7777777777777778,
             "#fb9f3a"
            ],
            [
             0.8888888888888888,
             "#fdca26"
            ],
            [
             1,
             "#f0f921"
            ]
           ]
          },
          "colorway": [
           "#636efa",
           "#EF553B",
           "#00cc96",
           "#ab63fa",
           "#FFA15A",
           "#19d3f3",
           "#FF6692",
           "#B6E880",
           "#FF97FF",
           "#FECB52"
          ],
          "font": {
           "color": "#2a3f5f"
          },
          "geo": {
           "bgcolor": "white",
           "lakecolor": "white",
           "landcolor": "#E5ECF6",
           "showlakes": true,
           "showland": true,
           "subunitcolor": "white"
          },
          "hoverlabel": {
           "align": "left"
          },
          "hovermode": "closest",
          "mapbox": {
           "style": "light"
          },
          "paper_bgcolor": "white",
          "plot_bgcolor": "#E5ECF6",
          "polar": {
           "angularaxis": {
            "gridcolor": "white",
            "linecolor": "white",
            "ticks": ""
           },
           "bgcolor": "#E5ECF6",
           "radialaxis": {
            "gridcolor": "white",
            "linecolor": "white",
            "ticks": ""
           }
          },
          "scene": {
           "xaxis": {
            "backgroundcolor": "#E5ECF6",
            "gridcolor": "white",
            "gridwidth": 2,
            "linecolor": "white",
            "showbackground": true,
            "ticks": "",
            "zerolinecolor": "white"
           },
           "yaxis": {
            "backgroundcolor": "#E5ECF6",
            "gridcolor": "white",
            "gridwidth": 2,
            "linecolor": "white",
            "showbackground": true,
            "ticks": "",
            "zerolinecolor": "white"
           },
           "zaxis": {
            "backgroundcolor": "#E5ECF6",
            "gridcolor": "white",
            "gridwidth": 2,
            "linecolor": "white",
            "showbackground": true,
            "ticks": "",
            "zerolinecolor": "white"
           }
          },
          "shapedefaults": {
           "line": {
            "color": "#2a3f5f"
           }
          },
          "ternary": {
           "aaxis": {
            "gridcolor": "white",
            "linecolor": "white",
            "ticks": ""
           },
           "baxis": {
            "gridcolor": "white",
            "linecolor": "white",
            "ticks": ""
           },
           "bgcolor": "#E5ECF6",
           "caxis": {
            "gridcolor": "white",
            "linecolor": "white",
            "ticks": ""
           }
          },
          "title": {
           "x": 0.05
          },
          "xaxis": {
           "automargin": true,
           "gridcolor": "white",
           "linecolor": "white",
           "ticks": "",
           "title": {
            "standoff": 15
           },
           "zerolinecolor": "white",
           "zerolinewidth": 2
          },
          "yaxis": {
           "automargin": true,
           "gridcolor": "white",
           "linecolor": "white",
           "ticks": "",
           "title": {
            "standoff": 15
           },
           "zerolinecolor": "white",
           "zerolinewidth": 2
          }
         }
        },
        "title": {
         "font": {
          "color": "blue",
          "size": 18
         },
         "text": "Comparaison des moyennes par variable des clusters",
         "x": 0.5,
         "xanchor": "center",
         "y": 0.95,
         "yanchor": "top"
        }
       }
      },
      "text/html": [
       "<div>                            <div id=\"e702ae9c-21c1-4431-84e8-608c0bd16871\" class=\"plotly-graph-div\" style=\"height:525px; width:100%;\"></div>            <script type=\"text/javascript\">                require([\"plotly\"], function(Plotly) {                    window.PLOTLYENV=window.PLOTLYENV || {};                                    if (document.getElementById(\"e702ae9c-21c1-4431-84e8-608c0bd16871\")) {                    Plotly.newPlot(                        \"e702ae9c-21c1-4431-84e8-608c0bd16871\",                        [{\"fill\":\"toself\",\"name\":\"Cluster 0\",\"r\":[0.1312928489125429,0.6381336160491773,0.18778873058673629,0.8211647990610949,0.06505683775719673,0.13304845828216805,0.006134856922955567,0.3441456968322285],\"theta\":[\"payment_value\",\"review_score\",\"payment_installments\",\"order_purchase_hour\",\"freight_value\",\"payment_sequential\",\"distance_from_olist\",\"delais_de_livraison\"],\"type\":\"scatterpolar\"},{\"fill\":\"toself\",\"name\":\"Cluster 1\",\"r\":[0.0,0.9999999999999999,0.053508817758295635,1.0,0.007280060395759125,0.09154338614607549,0.0,0.2503658092855403],\"theta\":[\"payment_value\",\"review_score\",\"payment_installments\",\"order_purchase_hour\",\"freight_value\",\"payment_sequential\",\"distance_from_olist\",\"delais_de_livraison\"],\"type\":\"scatterpolar\"},{\"fill\":\"toself\",\"name\":\"Cluster 2\",\"r\":[0.9999999999999998,0.0,1.0,0.6088447028971156,0.40512375130641054,0.9999999999999998,0.12080119286467272,0.0],\"theta\":[\"payment_value\",\"review_score\",\"payment_installments\",\"order_purchase_hour\",\"freight_value\",\"payment_sequential\",\"distance_from_olist\",\"delais_de_livraison\"],\"type\":\"scatterpolar\"},{\"fill\":\"toself\",\"name\":\"Cluster 3\",\"r\":[0.7427940500464139,0.8538825167680576,0.7648552622604976,0.6277200625670194,1.0,0.12676895498516427,1.0,1.0],\"theta\":[\"payment_value\",\"review_score\",\"payment_installments\",\"order_purchase_hour\",\"freight_value\",\"payment_sequential\",\"distance_from_olist\",\"delais_de_livraison\"],\"type\":\"scatterpolar\"},{\"fill\":\"toself\",\"name\":\"Cluster 4\",\"r\":[0.0012341443765293558,0.9449029148384632,0.0,0.0,0.0,0.0,0.005218351606353533,0.267525892891058],\"theta\":[\"payment_value\",\"review_score\",\"payment_installments\",\"order_purchase_hour\",\"freight_value\",\"payment_sequential\",\"distance_from_olist\",\"delais_de_livraison\"],\"type\":\"scatterpolar\"}],                        {\"template\":{\"data\":{\"bar\":[{\"error_x\":{\"color\":\"#2a3f5f\"},\"error_y\":{\"color\":\"#2a3f5f\"},\"marker\":{\"line\":{\"color\":\"#E5ECF6\",\"width\":0.5},\"pattern\":{\"fillmode\":\"overlay\",\"size\":10,\"solidity\":0.2}},\"type\":\"bar\"}],\"barpolar\":[{\"marker\":{\"line\":{\"color\":\"#E5ECF6\",\"width\":0.5},\"pattern\":{\"fillmode\":\"overlay\",\"size\":10,\"solidity\":0.2}},\"type\":\"barpolar\"}],\"carpet\":[{\"aaxis\":{\"endlinecolor\":\"#2a3f5f\",\"gridcolor\":\"white\",\"linecolor\":\"white\",\"minorgridcolor\":\"white\",\"startlinecolor\":\"#2a3f5f\"},\"baxis\":{\"endlinecolor\":\"#2a3f5f\",\"gridcolor\":\"white\",\"linecolor\":\"white\",\"minorgridcolor\":\"white\",\"startlinecolor\":\"#2a3f5f\"},\"type\":\"carpet\"}],\"choropleth\":[{\"colorbar\":{\"outlinewidth\":0,\"ticks\":\"\"},\"type\":\"choropleth\"}],\"contour\":[{\"colorbar\":{\"outlinewidth\":0,\"ticks\":\"\"},\"colorscale\":[[0.0,\"#0d0887\"],[0.1111111111111111,\"#46039f\"],[0.2222222222222222,\"#7201a8\"],[0.3333333333333333,\"#9c179e\"],[0.4444444444444444,\"#bd3786\"],[0.5555555555555556,\"#d8576b\"],[0.6666666666666666,\"#ed7953\"],[0.7777777777777778,\"#fb9f3a\"],[0.8888888888888888,\"#fdca26\"],[1.0,\"#f0f921\"]],\"type\":\"contour\"}],\"contourcarpet\":[{\"colorbar\":{\"outlinewidth\":0,\"ticks\":\"\"},\"type\":\"contourcarpet\"}],\"heatmap\":[{\"colorbar\":{\"outlinewidth\":0,\"ticks\":\"\"},\"colorscale\":[[0.0,\"#0d0887\"],[0.1111111111111111,\"#46039f\"],[0.2222222222222222,\"#7201a8\"],[0.3333333333333333,\"#9c179e\"],[0.4444444444444444,\"#bd3786\"],[0.5555555555555556,\"#d8576b\"],[0.6666666666666666,\"#ed7953\"],[0.7777777777777778,\"#fb9f3a\"],[0.8888888888888888,\"#fdca26\"],[1.0,\"#f0f921\"]],\"type\":\"heatmap\"}],\"heatmapgl\":[{\"colorbar\":{\"outlinewidth\":0,\"ticks\":\"\"},\"colorscale\":[[0.0,\"#0d0887\"],[0.1111111111111111,\"#46039f\"],[0.2222222222222222,\"#7201a8\"],[0.3333333333333333,\"#9c179e\"],[0.4444444444444444,\"#bd3786\"],[0.5555555555555556,\"#d8576b\"],[0.6666666666666666,\"#ed7953\"],[0.7777777777777778,\"#fb9f3a\"],[0.8888888888888888,\"#fdca26\"],[1.0,\"#f0f921\"]],\"type\":\"heatmapgl\"}],\"histogram\":[{\"marker\":{\"pattern\":{\"fillmode\":\"overlay\",\"size\":10,\"solidity\":0.2}},\"type\":\"histogram\"}],\"histogram2d\":[{\"colorbar\":{\"outlinewidth\":0,\"ticks\":\"\"},\"colorscale\":[[0.0,\"#0d0887\"],[0.1111111111111111,\"#46039f\"],[0.2222222222222222,\"#7201a8\"],[0.3333333333333333,\"#9c179e\"],[0.4444444444444444,\"#bd3786\"],[0.5555555555555556,\"#d8576b\"],[0.6666666666666666,\"#ed7953\"],[0.7777777777777778,\"#fb9f3a\"],[0.8888888888888888,\"#fdca26\"],[1.0,\"#f0f921\"]],\"type\":\"histogram2d\"}],\"histogram2dcontour\":[{\"colorbar\":{\"outlinewidth\":0,\"ticks\":\"\"},\"colorscale\":[[0.0,\"#0d0887\"],[0.1111111111111111,\"#46039f\"],[0.2222222222222222,\"#7201a8\"],[0.3333333333333333,\"#9c179e\"],[0.4444444444444444,\"#bd3786\"],[0.5555555555555556,\"#d8576b\"],[0.6666666666666666,\"#ed7953\"],[0.7777777777777778,\"#fb9f3a\"],[0.8888888888888888,\"#fdca26\"],[1.0,\"#f0f921\"]],\"type\":\"histogram2dcontour\"}],\"mesh3d\":[{\"colorbar\":{\"outlinewidth\":0,\"ticks\":\"\"},\"type\":\"mesh3d\"}],\"parcoords\":[{\"line\":{\"colorbar\":{\"outlinewidth\":0,\"ticks\":\"\"}},\"type\":\"parcoords\"}],\"pie\":[{\"automargin\":true,\"type\":\"pie\"}],\"scatter\":[{\"marker\":{\"colorbar\":{\"outlinewidth\":0,\"ticks\":\"\"}},\"type\":\"scatter\"}],\"scatter3d\":[{\"line\":{\"colorbar\":{\"outlinewidth\":0,\"ticks\":\"\"}},\"marker\":{\"colorbar\":{\"outlinewidth\":0,\"ticks\":\"\"}},\"type\":\"scatter3d\"}],\"scattercarpet\":[{\"marker\":{\"colorbar\":{\"outlinewidth\":0,\"ticks\":\"\"}},\"type\":\"scattercarpet\"}],\"scattergeo\":[{\"marker\":{\"colorbar\":{\"outlinewidth\":0,\"ticks\":\"\"}},\"type\":\"scattergeo\"}],\"scattergl\":[{\"marker\":{\"colorbar\":{\"outlinewidth\":0,\"ticks\":\"\"}},\"type\":\"scattergl\"}],\"scattermapbox\":[{\"marker\":{\"colorbar\":{\"outlinewidth\":0,\"ticks\":\"\"}},\"type\":\"scattermapbox\"}],\"scatterpolar\":[{\"marker\":{\"colorbar\":{\"outlinewidth\":0,\"ticks\":\"\"}},\"type\":\"scatterpolar\"}],\"scatterpolargl\":[{\"marker\":{\"colorbar\":{\"outlinewidth\":0,\"ticks\":\"\"}},\"type\":\"scatterpolargl\"}],\"scatterternary\":[{\"marker\":{\"colorbar\":{\"outlinewidth\":0,\"ticks\":\"\"}},\"type\":\"scatterternary\"}],\"surface\":[{\"colorbar\":{\"outlinewidth\":0,\"ticks\":\"\"},\"colorscale\":[[0.0,\"#0d0887\"],[0.1111111111111111,\"#46039f\"],[0.2222222222222222,\"#7201a8\"],[0.3333333333333333,\"#9c179e\"],[0.4444444444444444,\"#bd3786\"],[0.5555555555555556,\"#d8576b\"],[0.6666666666666666,\"#ed7953\"],[0.7777777777777778,\"#fb9f3a\"],[0.8888888888888888,\"#fdca26\"],[1.0,\"#f0f921\"]],\"type\":\"surface\"}],\"table\":[{\"cells\":{\"fill\":{\"color\":\"#EBF0F8\"},\"line\":{\"color\":\"white\"}},\"header\":{\"fill\":{\"color\":\"#C8D4E3\"},\"line\":{\"color\":\"white\"}},\"type\":\"table\"}]},\"layout\":{\"annotationdefaults\":{\"arrowcolor\":\"#2a3f5f\",\"arrowhead\":0,\"arrowwidth\":1},\"autotypenumbers\":\"strict\",\"coloraxis\":{\"colorbar\":{\"outlinewidth\":0,\"ticks\":\"\"}},\"colorscale\":{\"diverging\":[[0,\"#8e0152\"],[0.1,\"#c51b7d\"],[0.2,\"#de77ae\"],[0.3,\"#f1b6da\"],[0.4,\"#fde0ef\"],[0.5,\"#f7f7f7\"],[0.6,\"#e6f5d0\"],[0.7,\"#b8e186\"],[0.8,\"#7fbc41\"],[0.9,\"#4d9221\"],[1,\"#276419\"]],\"sequential\":[[0.0,\"#0d0887\"],[0.1111111111111111,\"#46039f\"],[0.2222222222222222,\"#7201a8\"],[0.3333333333333333,\"#9c179e\"],[0.4444444444444444,\"#bd3786\"],[0.5555555555555556,\"#d8576b\"],[0.6666666666666666,\"#ed7953\"],[0.7777777777777778,\"#fb9f3a\"],[0.8888888888888888,\"#fdca26\"],[1.0,\"#f0f921\"]],\"sequentialminus\":[[0.0,\"#0d0887\"],[0.1111111111111111,\"#46039f\"],[0.2222222222222222,\"#7201a8\"],[0.3333333333333333,\"#9c179e\"],[0.4444444444444444,\"#bd3786\"],[0.5555555555555556,\"#d8576b\"],[0.6666666666666666,\"#ed7953\"],[0.7777777777777778,\"#fb9f3a\"],[0.8888888888888888,\"#fdca26\"],[1.0,\"#f0f921\"]]},\"colorway\":[\"#636efa\",\"#EF553B\",\"#00cc96\",\"#ab63fa\",\"#FFA15A\",\"#19d3f3\",\"#FF6692\",\"#B6E880\",\"#FF97FF\",\"#FECB52\"],\"font\":{\"color\":\"#2a3f5f\"},\"geo\":{\"bgcolor\":\"white\",\"lakecolor\":\"white\",\"landcolor\":\"#E5ECF6\",\"showlakes\":true,\"showland\":true,\"subunitcolor\":\"white\"},\"hoverlabel\":{\"align\":\"left\"},\"hovermode\":\"closest\",\"mapbox\":{\"style\":\"light\"},\"paper_bgcolor\":\"white\",\"plot_bgcolor\":\"#E5ECF6\",\"polar\":{\"angularaxis\":{\"gridcolor\":\"white\",\"linecolor\":\"white\",\"ticks\":\"\"},\"bgcolor\":\"#E5ECF6\",\"radialaxis\":{\"gridcolor\":\"white\",\"linecolor\":\"white\",\"ticks\":\"\"}},\"scene\":{\"xaxis\":{\"backgroundcolor\":\"#E5ECF6\",\"gridcolor\":\"white\",\"gridwidth\":2,\"linecolor\":\"white\",\"showbackground\":true,\"ticks\":\"\",\"zerolinecolor\":\"white\"},\"yaxis\":{\"backgroundcolor\":\"#E5ECF6\",\"gridcolor\":\"white\",\"gridwidth\":2,\"linecolor\":\"white\",\"showbackground\":true,\"ticks\":\"\",\"zerolinecolor\":\"white\"},\"zaxis\":{\"backgroundcolor\":\"#E5ECF6\",\"gridcolor\":\"white\",\"gridwidth\":2,\"linecolor\":\"white\",\"showbackground\":true,\"ticks\":\"\",\"zerolinecolor\":\"white\"}},\"shapedefaults\":{\"line\":{\"color\":\"#2a3f5f\"}},\"ternary\":{\"aaxis\":{\"gridcolor\":\"white\",\"linecolor\":\"white\",\"ticks\":\"\"},\"baxis\":{\"gridcolor\":\"white\",\"linecolor\":\"white\",\"ticks\":\"\"},\"bgcolor\":\"#E5ECF6\",\"caxis\":{\"gridcolor\":\"white\",\"linecolor\":\"white\",\"ticks\":\"\"}},\"title\":{\"x\":0.05},\"xaxis\":{\"automargin\":true,\"gridcolor\":\"white\",\"linecolor\":\"white\",\"ticks\":\"\",\"title\":{\"standoff\":15},\"zerolinecolor\":\"white\",\"zerolinewidth\":2},\"yaxis\":{\"automargin\":true,\"gridcolor\":\"white\",\"linecolor\":\"white\",\"ticks\":\"\",\"title\":{\"standoff\":15},\"zerolinecolor\":\"white\",\"zerolinewidth\":2}}},\"polar\":{\"radialaxis\":{\"visible\":true,\"range\":[0,1]}},\"title\":{\"font\":{\"color\":\"blue\",\"size\":18},\"text\":\"Comparaison des moyennes par variable des clusters\",\"y\":0.95,\"x\":0.5,\"xanchor\":\"center\",\"yanchor\":\"top\"},\"showlegend\":true},                        {\"responsive\": true}                    ).then(function(){\n",
       "                            \n",
       "var gd = document.getElementById('e702ae9c-21c1-4431-84e8-608c0bd16871');\n",
       "var x = new MutationObserver(function (mutations, observer) {{\n",
       "        var display = window.getComputedStyle(gd).display;\n",
       "        if (!display || display === 'none') {{\n",
       "            console.log([gd, 'removed!']);\n",
       "            Plotly.purge(gd);\n",
       "            observer.disconnect();\n",
       "        }}\n",
       "}});\n",
       "\n",
       "// Listen for the removal of the full notebook cells\n",
       "var notebookContainer = gd.closest('#notebook-container');\n",
       "if (notebookContainer) {{\n",
       "    x.observe(notebookContainer, {childList: true});\n",
       "}}\n",
       "\n",
       "// Listen for the clearing of the current output cell\n",
       "var outputEl = gd.closest('.output');\n",
       "if (outputEl) {{\n",
       "    x.observe(outputEl, {childList: true});\n",
       "}}\n",
       "\n",
       "                        })                };                });            </script>        </div>"
      ]
     },
     "metadata": {},
     "output_type": "display_data"
    }
   ],
   "source": [
    "# KMeans Pipeline with best K\n",
    "kmeans_model_bis = Pipeline([(\"preprocessor\", MinMaxScaler()),\n",
    "                             (\"kmeans\", KMeans(K))])\n",
    "kmeans_model_bis.fit(X_bis)\n",
    "\n",
    "# Kmeans labels\n",
    "kmeans_labels_bis = kmeans_model_bis.named_steps['kmeans'].labels_\n",
    "\n",
    "# Scale X\n",
    "scaler = MinMaxScaler()\n",
    "X_scaled_bis = scaler.fit_transform(X_bis)\n",
    "X_scaled_bis = pd.DataFrame(X_scaled_bis, index=X_bis.index, columns=X_bis.columns)\n",
    "X_scaled_bis[\"kmeans_label\"] = kmeans_labels_bis\n",
    "\n",
    "# Group by cluster\n",
    "X_scaled_clusters_bis = X_scaled_bis.groupby(\"kmeans_label\").mean()\n",
    "\n",
    "# Plot Radar chart\n",
    "plot_radars(data=X_scaled_clusters_bis,\n",
    "            group=\"kmeans_label\")"
   ]
  },
  {
   "cell_type": "markdown",
   "id": "0066439f",
   "metadata": {},
   "source": [
    "- GROUPE1 : cluster 0 : Sont des clients qui passent des commandes tard dans la journée. Ces clients sont géographiquement peu éloignés et les délais de livraison sont courts. Leurs niveau de satisfaction est moyen. \n",
    "\n",
    "\n",
    "\n",
    "\n",
    "- GROUPE2 : cluster 1 : Sont des client trés satisfaits, mais qui ont trés peu dépensé sur le site. Géographiquement, ils sont trés proches du siége de OLIST.\n",
    "\n",
    "\n",
    "\n",
    "\n",
    "- Groupe3 : cluster 2 : Ce sont des clients mécontants (les avis sont mauvais). Ce sont cependant les clients qui ont le plus dépensé et qui utilisent plusieurs moyens de paiement et un nombre important d'échéances. \n",
    "\n",
    "\n",
    "\n",
    "\n",
    "\n",
    "- Groupe4 : cluster 3 : Ce sont des clients potentiels, leurs avis sont trés bons, ils ont dépensés des sommes importantes sur le site et avec un nombre important d'échéances. Ces clients sont géographiquement très éloignés donc les délais de livraison et les frais de port sont importants.  \n",
    "\n",
    "\n",
    "\n",
    "\n",
    "\n",
    "\n",
    "\n",
    "- Groupe5 : cluster 4 : Ce sont des client infidéles mais qui ont bien appréciés leur expérience avec l'achat sur le site de OLIST."
   ]
  },
  {
   "cell_type": "code",
   "execution_count": null,
   "id": "a0c606ed",
   "metadata": {},
   "outputs": [],
   "source": []
  },
  {
   "cell_type": "markdown",
   "id": "4bbbdda7",
   "metadata": {},
   "source": [
    "### Analyse en composantes principales (ACP) :"
   ]
  },
  {
   "cell_type": "markdown",
   "id": "5fe5b6d5",
   "metadata": {},
   "source": [
    "- Standarisation des données:"
   ]
  },
  {
   "cell_type": "code",
   "execution_count": 233,
   "id": "997b2838",
   "metadata": {
    "ExecuteTime": {
     "end_time": "2022-08-30T01:58:38.243483Z",
     "start_time": "2022-08-30T01:58:38.226415Z"
    }
   },
   "outputs": [],
   "source": [
    "from sklearn.preprocessing import StandardScaler"
   ]
  },
  {
   "cell_type": "code",
   "execution_count": 234,
   "id": "91e8c281",
   "metadata": {
    "ExecuteTime": {
     "end_time": "2022-08-30T01:58:38.843709Z",
     "start_time": "2022-08-30T01:58:38.828707Z"
    }
   },
   "outputs": [],
   "source": [
    "import pandas as pd\n",
    "import numpy as np\n",
    "from sklearn import decomposition\n",
    "from sklearn import preprocessing\n",
    "from sklearn.decomposition import PCA"
   ]
  },
  {
   "cell_type": "code",
   "execution_count": 235,
   "id": "a5f67437",
   "metadata": {
    "ExecuteTime": {
     "end_time": "2022-08-30T01:58:39.983033Z",
     "start_time": "2022-08-30T01:58:39.909961Z"
    }
   },
   "outputs": [],
   "source": [
    "# PCA Pipeline\n",
    "pca = Pipeline([(\"preprocessor\", MinMaxScaler()),\n",
    "                (\"pca\", PCA(svd_solver='full'))])\n",
    "pca.fit(X_bis)\n",
    "X_projected = pca.transform(X_bis)"
   ]
  },
  {
   "cell_type": "markdown",
   "id": "c5c8b586",
   "metadata": {},
   "source": [
    "- Eboulis des valeurs propres"
   ]
  },
  {
   "cell_type": "code",
   "execution_count": 236,
   "id": "8d1b110a",
   "metadata": {
    "ExecuteTime": {
     "end_time": "2022-08-30T01:58:41.650642Z",
     "start_time": "2022-08-30T01:58:41.543569Z"
    }
   },
   "outputs": [
    {
     "data": {
      "image/png": "[encoded data removed]",
      "text/plain": [
       "<Figure size 864x576 with 1 Axes>"
      ]
     },
     "metadata": {},
     "output_type": "display_data"
    }
   ],
   "source": [
    "# Explained variance\n",
    "varexpl = pca.named_steps['pca'].explained_variance_ratio_*100\n",
    "\n",
    "# Plot of cumulated variance\n",
    "plt.figure(figsize=(12,8))\n",
    "plt.bar(np.arange(len(varexpl))+1, varexpl)\n",
    "\n",
    "cumSumVar = varexpl.cumsum()\n",
    "plt.plot(np.arange(len(varexpl))+1, cumSumVar,c=\"red\",marker='o')\n",
    "plt.axhline(y=95, linestyle=\"--\", \n",
    "            color=\"green\",\n",
    "            linewidth=1)\n",
    "\n",
    "limit = 95\n",
    "valid_idx = np.where(cumSumVar >= limit)[0]\n",
    "min_plans = valid_idx[cumSumVar[valid_idx].argmin()]+1\n",
    "plt.axvline(x=min_plans, linestyle=\"--\", \n",
    "            color=\"green\",\n",
    "            linewidth=1)\n",
    "\n",
    "plt.xlabel(\"rang de l'axe d'inertie\")\n",
    "plt.xticks(np.arange(len(varexpl))+1)\n",
    "plt.ylabel(\"pourcentage d'inertie\")\n",
    "plt.title(\"{}% de la variance totale est expliquée\"\\\n",
    "          \" par les {} premiers axes\".format(limit,\n",
    "                                            min_plans))\n",
    "plt.show(block=False)"
   ]
  },
  {
   "cell_type": "markdown",
   "id": "7f616e24",
   "metadata": {},
   "source": [
    "- Il faut donc conserver 3 axes principaux pour expliquer la variance à 95%"
   ]
  },
  {
   "cell_type": "markdown",
   "id": "b1b7b0db",
   "metadata": {},
   "source": [
    "#### Cercle des corrélations"
   ]
  },
  {
   "cell_type": "code",
   "execution_count": 238,
   "id": "dd01a2e2",
   "metadata": {
    "ExecuteTime": {
     "end_time": "2022-08-30T02:01:31.908422Z",
     "start_time": "2022-08-30T02:01:31.895432Z"
    }
   },
   "outputs": [],
   "source": [
    "def cerle_corr(pcs, n_comp, pca, axis_ranks, \n",
    "               labels=None, label_rotation=0):\n",
    "    \n",
    "    fig=plt.figure(figsize=(20,n_comp*5))\n",
    "    count=1\n",
    "    for d1, d2 in axis_ranks:\n",
    "        if d2 < n_comp:\n",
    "            \n",
    "            # initialisation de la figure\n",
    "            #fig.subplots_adjust(left=0.1,right=0.9,bottom=0.1,top=0.9)\n",
    "            ax=plt.subplot(int(n_comp/2),2,count)\n",
    "            ax.set_aspect('equal', adjustable='box') \n",
    "            \n",
    "            #détermination des limites du graphique\n",
    "            ax.set_xlim(-1,1) \n",
    "            ax.set_ylim(-1,1) \n",
    "\n",
    "            #affichage des flèches \n",
    "            ax.quiver(np.zeros(pcs.shape[1]), np.zeros(pcs.shape[1]),\n",
    "                       pcs[d1,:],pcs[d2,:], \n",
    "                       angles='xy', scale_units='xy', scale=1, \n",
    "                       color=\"grey\", alpha=0.5)\n",
    "            # et noms de variables\n",
    "            for i,(x,y) in enumerate(pcs[[d1,d2]].T):\n",
    "                ax.annotate(labels[i],(x,y),\n",
    "                             ha='center', va='center',\n",
    "                             fontsize='14',color=\"#17aafa\", alpha=0.8) \n",
    "\n",
    "            #ajouter les axes \n",
    "            ax.plot([-1,1],[0,0],linewidth=1, color='grey', ls='--') \n",
    "            ax.plot([0,0],[-1,1],linewidth=1, color='grey', ls='--')\n",
    "\n",
    "            #ajouter un cercle \n",
    "            cercle = plt.Circle((0,0),1,color='#17aafa',fill=False) \n",
    "            ax.add_artist(cercle) \n",
    "\n",
    "            # nom des axes, avec le pourcentage d'inertie expliqué\n",
    "            ax.set_xlabel('F{} ({}%)'.format(d1+1, \n",
    "                                          round(100*pca.explained_variance_ratio_[d1],1)))\n",
    "            ax.set_ylabel('F{} ({}%)'.format(d2+1, \n",
    "                                          round(100*pca.explained_variance_ratio_[d2],1)))\n",
    "\n",
    "            ax.set_title(\"Cercle des corrélations (F{} et F{})\".format(d1+1, d2+1))\n",
    "            count+=1\n",
    "            \n",
    "    plt.suptitle(\"Cercles des corrélations sur les {} premiers axes\".format(n_comp),\n",
    "                 y=.9, color=\"blue\", fontsize=18)        \n",
    "    plt.show(block=False)"
   ]
  },
  {
   "cell_type": "code",
   "execution_count": 239,
   "id": "9df8afb3",
   "metadata": {
    "ExecuteTime": {
     "end_time": "2022-08-30T02:03:21.068162Z",
     "start_time": "2022-08-30T02:03:20.830163Z"
    }
   },
   "outputs": [
    {
     "data": {
      "image/png": "[encoded data removed]",
      "text/plain": [
       "<Figure size 1440x1440 with 2 Axes>"
      ]
     },
     "metadata": {},
     "output_type": "display_data"
    }
   ],
   "source": [
    "# Principal component space\n",
    "pcs = pca.named_steps['pca'].components_\n",
    "\n",
    "# Plot correlation circle\n",
    "cerle_corr(pcs,\n",
    "           4,\n",
    "           pca.named_steps['pca'],\n",
    "           [(0,1),(2,3)],\n",
    "           labels = np.array(X_bis.columns))"
   ]
  },
  {
   "cell_type": "markdown",
   "id": "83a9ba49",
   "metadata": {},
   "source": [
    "- Nous allons donc intégrer à notre pipeline Kmeans une PCA sur 3 composantes pour vérifier si la réduction dimensionnelle réduit la qualité de la segmentation :"
   ]
  },
  {
   "cell_type": "markdown",
   "id": "e5d5c334",
   "metadata": {},
   "source": [
    "#### K-Means après réduction de dimenssions"
   ]
  },
  {
   "cell_type": "code",
   "execution_count": 243,
   "id": "99d36f58",
   "metadata": {
    "ExecuteTime": {
     "end_time": "2022-08-30T02:11:51.758011Z",
     "start_time": "2022-08-30T02:11:50.957013Z"
    }
   },
   "outputs": [
    {
     "data": {
      "text/html": [
       "<div>\n",
       "<style scoped>\n",
       "    .dataframe tbody tr th:only-of-type {\n",
       "        vertical-align: middle;\n",
       "    }\n",
       "\n",
       "    .dataframe tbody tr th {\n",
       "        vertical-align: top;\n",
       "    }\n",
       "\n",
       "    .dataframe thead th {\n",
       "        text-align: right;\n",
       "    }\n",
       "</style>\n",
       "<table border=\"1\" class=\"dataframe\">\n",
       "  <thead>\n",
       "    <tr style=\"text-align: right;\">\n",
       "      <th></th>\n",
       "      <th>payment_value</th>\n",
       "      <th>review_score</th>\n",
       "      <th>payment_installments</th>\n",
       "      <th>order_purchase_hour</th>\n",
       "      <th>freight_value</th>\n",
       "      <th>payment_sequential</th>\n",
       "      <th>distance_from_olist</th>\n",
       "      <th>delais_de_livraison</th>\n",
       "    </tr>\n",
       "    <tr>\n",
       "      <th>kmeans_label_pca</th>\n",
       "      <th></th>\n",
       "      <th></th>\n",
       "      <th></th>\n",
       "      <th></th>\n",
       "      <th></th>\n",
       "      <th></th>\n",
       "      <th></th>\n",
       "      <th></th>\n",
       "    </tr>\n",
       "  </thead>\n",
       "  <tbody>\n",
       "    <tr>\n",
       "      <th>0</th>\n",
       "      <td>0.001173</td>\n",
       "      <td>0.955733</td>\n",
       "      <td>0.019184</td>\n",
       "      <td>0.483758</td>\n",
       "      <td>0.006019</td>\n",
       "      <td>0.001007</td>\n",
       "      <td>0.246139</td>\n",
       "      <td>0.543052</td>\n",
       "    </tr>\n",
       "    <tr>\n",
       "      <th>1</th>\n",
       "      <td>0.001961</td>\n",
       "      <td>0.056663</td>\n",
       "      <td>0.026324</td>\n",
       "      <td>0.643292</td>\n",
       "      <td>0.007845</td>\n",
       "      <td>0.001460</td>\n",
       "      <td>0.266684</td>\n",
       "      <td>0.538390</td>\n",
       "    </tr>\n",
       "    <tr>\n",
       "      <th>2</th>\n",
       "      <td>0.001138</td>\n",
       "      <td>0.998565</td>\n",
       "      <td>0.019399</td>\n",
       "      <td>0.822974</td>\n",
       "      <td>0.005900</td>\n",
       "      <td>0.000920</td>\n",
       "      <td>0.227974</td>\n",
       "      <td>0.542392</td>\n",
       "    </tr>\n",
       "    <tr>\n",
       "      <th>3</th>\n",
       "      <td>0.001174</td>\n",
       "      <td>0.857870</td>\n",
       "      <td>0.022608</td>\n",
       "      <td>0.064892</td>\n",
       "      <td>0.006448</td>\n",
       "      <td>0.001229</td>\n",
       "      <td>0.260812</td>\n",
       "      <td>0.543598</td>\n",
       "    </tr>\n",
       "    <tr>\n",
       "      <th>4</th>\n",
       "      <td>0.001244</td>\n",
       "      <td>0.652826</td>\n",
       "      <td>0.020738</td>\n",
       "      <td>0.736457</td>\n",
       "      <td>0.006384</td>\n",
       "      <td>0.001020</td>\n",
       "      <td>0.250577</td>\n",
       "      <td>0.544198</td>\n",
       "    </tr>\n",
       "  </tbody>\n",
       "</table>\n",
       "</div>"
      ],
      "text/plain": [
       "                  payment_value  review_score  payment_installments  \\\n",
       "kmeans_label_pca                                                      \n",
       "0                      0.001173      0.955733              0.019184   \n",
       "1                      0.001961      0.056663              0.026324   \n",
       "2                      0.001138      0.998565              0.019399   \n",
       "3                      0.001174      0.857870              0.022608   \n",
       "4                      0.001244      0.652826              0.020738   \n",
       "\n",
       "                  order_purchase_hour  freight_value  payment_sequential  \\\n",
       "kmeans_label_pca                                                           \n",
       "0                            0.483758       0.006019            0.001007   \n",
       "1                            0.643292       0.007845            0.001460   \n",
       "2                            0.822974       0.005900            0.000920   \n",
       "3                            0.064892       0.006448            0.001229   \n",
       "4                            0.736457       0.006384            0.001020   \n",
       "\n",
       "                  distance_from_olist  delais_de_livraison  \n",
       "kmeans_label_pca                                            \n",
       "0                            0.246139             0.543052  \n",
       "1                            0.266684             0.538390  \n",
       "2                            0.227974             0.542392  \n",
       "3                            0.260812             0.543598  \n",
       "4                            0.250577             0.544198  "
      ]
     },
     "execution_count": 243,
     "metadata": {},
     "output_type": "execute_result"
    }
   ],
   "source": [
    "# KMeans Pipeline with best K for PCA results\n",
    "kmeans_model_pca = Pipeline([(\"preprocessor\", MinMaxScaler()),\n",
    "                             (\"kmeans\", KMeans(K))])\n",
    "kmeans_model_pca.fit(X_projected[:,:2])\n",
    "\n",
    "# Kmeans labels\n",
    "pca_kmeans_labels = kmeans_model_pca.named_steps['kmeans'].labels_\n",
    "X_scaled_bis[\"kmeans_label_pca\"] = pca_kmeans_labels\n",
    "X_scaled_clusters_pca = X_scaled_bis.groupby(\"kmeans_label_pca\").mean()\n",
    "X_scaled_clusters_pca.iloc[:,:-1]"
   ]
  },
  {
   "cell_type": "code",
   "execution_count": 244,
   "id": "168c4b91",
   "metadata": {
    "ExecuteTime": {
     "end_time": "2022-08-30T02:11:55.264057Z",
     "start_time": "2022-08-30T02:11:55.243023Z"
    }
   },
   "outputs": [
    {
     "data": {
      "application/vnd.plotly.v1+json": {
       "config": {
        "plotlyServerURL": "https://plot.ly"
       },
       "data": [
        {
         "fill": "toself",
         "name": "Cluster 0",
         "r": [
          0.04187432437492511,
          0.9545258710571196,
          0,
          0.5525337986291128,
          0.06091176043541413,
          0.15993524854653485,
          0.4692628887039527,
          0.8026445781259781
         ],
         "theta": [
          "payment_value",
          "review_score",
          "payment_installments",
          "order_purchase_hour",
          "freight_value",
          "payment_sequential",
          "distance_from_olist",
          "delais_de_livraison"
         ],
         "type": "scatterpolar"
        },
        {
         "fill": "toself",
         "name": "Cluster 1",
         "r": [
          0.9999999999999998,
          0,
          1,
          0.7629779013991502,
          1,
          1,
          1,
          0
         ],
         "theta": [
          "payment_value",
          "review_score",
          "payment_installments",
          "order_purchase_hour",
          "freight_value",
          "payment_sequential",
          "distance_from_olist",
          "delais_de_livraison"
         ],
         "type": "scatterpolar"
        },
        {
         "fill": "toself",
         "name": "Cluster 2",
         "r": [
          0,
          1,
          0.030110763309533883,
          1,
          0,
          0,
          0,
          0.6890645330046397
         ],
         "theta": [
          "payment_value",
          "review_score",
          "payment_installments",
          "order_purchase_hour",
          "freight_value",
          "payment_sequential",
          "distance_from_olist",
          "delais_de_livraison"
         ],
         "type": "scatterpolar"
        },
        {
         "fill": "toself",
         "name": "Cluster 3",
         "r": [
          0.043930490883955065,
          0.8506269646689214,
          0.4795803632004345,
          0,
          0.2817306322845803,
          0.572672364543036,
          0.8483162499124202,
          0.8966327191399586
         ],
         "theta": [
          "payment_value",
          "review_score",
          "payment_installments",
          "order_purchase_hour",
          "freight_value",
          "payment_sequential",
          "distance_from_olist",
          "delais_de_livraison"
         ],
         "type": "scatterpolar"
        },
        {
         "fill": "toself",
         "name": "Cluster 4",
         "r": [
          0.1289475283852508,
          0.6329347890904528,
          0.217668187003341,
          0.8858741371525307,
          0.24880469919168569,
          0.18520037850501403,
          0.5838952938351678,
          1
         ],
         "theta": [
          "payment_value",
          "review_score",
          "payment_installments",
          "order_purchase_hour",
          "freight_value",
          "payment_sequential",
          "distance_from_olist",
          "delais_de_livraison"
         ],
         "type": "scatterpolar"
        }
       ],
       "layout": {
        "polar": {
         "radialaxis": {
          "range": [
           0,
           1
          ],
          "visible": true
         }
        },
        "showlegend": true,
        "template": {
         "data": {
          "bar": [
           {
            "error_x": {
             "color": "#2a3f5f"
            },
            "error_y": {
             "color": "#2a3f5f"
            },
            "marker": {
             "line": {
              "color": "#E5ECF6",
              "width": 0.5
             },
             "pattern": {
              "fillmode": "overlay",
              "size": 10,
              "solidity": 0.2
             }
            },
            "type": "bar"
           }
          ],
          "barpolar": [
           {
            "marker": {
             "line": {
              "color": "#E5ECF6",
              "width": 0.5
             },
             "pattern": {
              "fillmode": "overlay",
              "size": 10,
              "solidity": 0.2
             }
            },
            "type": "barpolar"
           }
          ],
          "carpet": [
           {
            "aaxis": {
             "endlinecolor": "#2a3f5f",
             "gridcolor": "white",
             "linecolor": "white",
             "minorgridcolor": "white",
             "startlinecolor": "#2a3f5f"
            },
            "baxis": {
             "endlinecolor": "#2a3f5f",
             "gridcolor": "white",
             "linecolor": "white",
             "minorgridcolor": "white",
             "startlinecolor": "#2a3f5f"
            },
            "type": "carpet"
           }
          ],
          "choropleth": [
           {
            "colorbar": {
             "outlinewidth": 0,
             "ticks": ""
            },
            "type": "choropleth"
           }
          ],
          "contour": [
           {
            "colorbar": {
             "outlinewidth": 0,
             "ticks": ""
            },
            "colorscale": [
             [
              0,
              "#0d0887"
             ],
             [
              0.1111111111111111,
              "#46039f"
             ],
             [
              0.2222222222222222,
              "#7201a8"
             ],
             [
              0.3333333333333333,
              "#9c179e"
             ],
             [
              0.4444444444444444,
              "#bd3786"
             ],
             [
              0.5555555555555556,
              "#d8576b"
             ],
             [
              0.6666666666666666,
              "#ed7953"
             ],
             [
              0.7777777777777778,
              "#fb9f3a"
             ],
             [
              0.8888888888888888,
              "#fdca26"
             ],
             [
              1,
              "#f0f921"
             ]
            ],
            "type": "contour"
           }
          ],
          "contourcarpet": [
           {
            "colorbar": {
             "outlinewidth": 0,
             "ticks": ""
            },
            "type": "contourcarpet"
           }
          ],
          "heatmap": [
           {
            "colorbar": {
             "outlinewidth": 0,
             "ticks": ""
            },
            "colorscale": [
             [
              0,
              "#0d0887"
             ],
             [
              0.1111111111111111,
              "#46039f"
             ],
             [
              0.2222222222222222,
              "#7201a8"
             ],
             [
              0.3333333333333333,
              "#9c179e"
             ],
             [
              0.4444444444444444,
              "#bd3786"
             ],
             [
              0.5555555555555556,
              "#d8576b"
             ],
             [
              0.6666666666666666,
              "#ed7953"
             ],
             [
              0.7777777777777778,
              "#fb9f3a"
             ],
             [
              0.8888888888888888,
              "#fdca26"
             ],
             [
              1,
              "#f0f921"
             ]
            ],
            "type": "heatmap"
           }
          ],
          "heatmapgl": [
           {
            "colorbar": {
             "outlinewidth": 0,
             "ticks": ""
            },
            "colorscale": [
             [
              0,
              "#0d0887"
             ],
             [
              0.1111111111111111,
              "#46039f"
             ],
             [
              0.2222222222222222,
              "#7201a8"
             ],
             [
              0.3333333333333333,
              "#9c179e"
             ],
             [
              0.4444444444444444,
              "#bd3786"
             ],
             [
              0.5555555555555556,
              "#d8576b"
             ],
             [
              0.6666666666666666,
              "#ed7953"
             ],
             [
              0.7777777777777778,
              "#fb9f3a"
             ],
             [
              0.8888888888888888,
              "#fdca26"
             ],
             [
              1,
              "#f0f921"
             ]
            ],
            "type": "heatmapgl"
           }
          ],
          "histogram": [
           {
            "marker": {
             "pattern": {
              "fillmode": "overlay",
              "size": 10,
              "solidity": 0.2
             }
            },
            "type": "histogram"
           }
          ],
          "histogram2d": [
           {
            "colorbar": {
             "outlinewidth": 0,
             "ticks": ""
            },
            "colorscale": [
             [
              0,
              "#0d0887"
             ],
             [
              0.1111111111111111,
              "#46039f"
             ],
             [
              0.2222222222222222,
              "#7201a8"
             ],
             [
              0.3333333333333333,
              "#9c179e"
             ],
             [
              0.4444444444444444,
              "#bd3786"
             ],
             [
              0.5555555555555556,
              "#d8576b"
             ],
             [
              0.6666666666666666,
              "#ed7953"
             ],
             [
              0.7777777777777778,
              "#fb9f3a"
             ],
             [
              0.8888888888888888,
              "#fdca26"
             ],
             [
              1,
              "#f0f921"
             ]
            ],
            "type": "histogram2d"
           }
          ],
          "histogram2dcontour": [
           {
            "colorbar": {
             "outlinewidth": 0,
             "ticks": ""
            },
            "colorscale": [
             [
              0,
              "#0d0887"
             ],
             [
              0.1111111111111111,
              "#46039f"
             ],
             [
              0.2222222222222222,
              "#7201a8"
             ],
             [
              0.3333333333333333,
              "#9c179e"
             ],
             [
              0.4444444444444444,
              "#bd3786"
             ],
             [
              0.5555555555555556,
              "#d8576b"
             ],
             [
              0.6666666666666666,
              "#ed7953"
             ],
             [
              0.7777777777777778,
              "#fb9f3a"
             ],
             [
              0.8888888888888888,
              "#fdca26"
             ],
             [
              1,
              "#f0f921"
             ]
            ],
            "type": "histogram2dcontour"
           }
          ],
          "mesh3d": [
           {
            "colorbar": {
             "outlinewidth": 0,
             "ticks": ""
            },
            "type": "mesh3d"
           }
          ],
          "parcoords": [
           {
            "line": {
             "colorbar": {
              "outlinewidth": 0,
              "ticks": ""
             }
            },
            "type": "parcoords"
           }
          ],
          "pie": [
           {
            "automargin": true,
            "type": "pie"
           }
          ],
          "scatter": [
           {
            "marker": {
             "colorbar": {
              "outlinewidth": 0,
              "ticks": ""
             }
            },
            "type": "scatter"
           }
          ],
          "scatter3d": [
           {
            "line": {
             "colorbar": {
              "outlinewidth": 0,
              "ticks": ""
             }
            },
            "marker": {
             "colorbar": {
              "outlinewidth": 0,
              "ticks": ""
             }
            },
            "type": "scatter3d"
           }
          ],
          "scattercarpet": [
           {
            "marker": {
             "colorbar": {
              "outlinewidth": 0,
              "ticks": ""
             }
            },
            "type": "scattercarpet"
           }
          ],
          "scattergeo": [
           {
            "marker": {
             "colorbar": {
              "outlinewidth": 0,
              "ticks": ""
             }
            },
            "type": "scattergeo"
           }
          ],
          "scattergl": [
           {
            "marker": {
             "colorbar": {
              "outlinewidth": 0,
              "ticks": ""
             }
            },
            "type": "scattergl"
           }
          ],
          "scattermapbox": [
           {
            "marker": {
             "colorbar": {
              "outlinewidth": 0,
              "ticks": ""
             }
            },
            "type": "scattermapbox"
           }
          ],
          "scatterpolar": [
           {
            "marker": {
             "colorbar": {
              "outlinewidth": 0,
              "ticks": ""
             }
            },
            "type": "scatterpolar"
           }
          ],
          "scatterpolargl": [
           {
            "marker": {
             "colorbar": {
              "outlinewidth": 0,
              "ticks": ""
             }
            },
            "type": "scatterpolargl"
           }
          ],
          "scatterternary": [
           {
            "marker": {
             "colorbar": {
              "outlinewidth": 0,
              "ticks": ""
             }
            },
            "type": "scatterternary"
           }
          ],
          "surface": [
           {
            "colorbar": {
             "outlinewidth": 0,
             "ticks": ""
            },
            "colorscale": [
             [
              0,
              "#0d0887"
             ],
             [
              0.1111111111111111,
              "#46039f"
             ],
             [
              0.2222222222222222,
              "#7201a8"
             ],
             [
              0.3333333333333333,
              "#9c179e"
             ],
             [
              0.4444444444444444,
              "#bd3786"
             ],
             [
              0.5555555555555556,
              "#d8576b"
             ],
             [
              0.6666666666666666,
              "#ed7953"
             ],
             [
              0.7777777777777778,
              "#fb9f3a"
             ],
             [
              0.8888888888888888,
              "#fdca26"
             ],
             [
              1,
              "#f0f921"
             ]
            ],
            "type": "surface"
           }
          ],
          "table": [
           {
            "cells": {
             "fill": {
              "color": "#EBF0F8"
             },
             "line": {
              "color": "white"
             }
            },
            "header": {
             "fill": {
              "color": "#C8D4E3"
             },
             "line": {
              "color": "white"
             }
            },
            "type": "table"
           }
          ]
         },
         "layout": {
          "annotationdefaults": {
           "arrowcolor": "#2a3f5f",
           "arrowhead": 0,
           "arrowwidth": 1
          },
          "autotypenumbers": "strict",
          "coloraxis": {
           "colorbar": {
            "outlinewidth": 0,
            "ticks": ""
           }
          },
          "colorscale": {
           "diverging": [
            [
             0,
             "#8e0152"
            ],
            [
             0.1,
             "#c51b7d"
            ],
            [
             0.2,
             "#de77ae"
            ],
            [
             0.3,
             "#f1b6da"
            ],
            [
             0.4,
             "#fde0ef"
            ],
            [
             0.5,
             "#f7f7f7"
            ],
            [
             0.6,
             "#e6f5d0"
            ],
            [
             0.7,
             "#b8e186"
            ],
            [
             0.8,
             "#7fbc41"
            ],
            [
             0.9,
             "#4d9221"
            ],
            [
             1,
             "#276419"
            ]
           ],
           "sequential": [
            [
             0,
             "#0d0887"
            ],
            [
             0.1111111111111111,
             "#46039f"
            ],
            [
             0.2222222222222222,
             "#7201a8"
            ],
            [
             0.3333333333333333,
             "#9c179e"
            ],
            [
             0.4444444444444444,
             "#bd3786"
            ],
            [
             0.5555555555555556,
             "#d8576b"
            ],
            [
             0.6666666666666666,
             "#ed7953"
            ],
            [
             0.7777777777777778,
             "#fb9f3a"
            ],
            [
             0.8888888888888888,
             "#fdca26"
            ],
            [
             1,
             "#f0f921"
            ]
           ],
           "sequentialminus": [
            [
             0,
             "#0d0887"
            ],
            [
             0.1111111111111111,
             "#46039f"
            ],
            [
             0.2222222222222222,
             "#7201a8"
            ],
            [
             0.3333333333333333,
             "#9c179e"
            ],
            [
             0.4444444444444444,
             "#bd3786"
            ],
            [
             0.5555555555555556,
             "#d8576b"
            ],
            [
             0.6666666666666666,
             "#ed7953"
            ],
            [
             0.7777777777777778,
             "#fb9f3a"
            ],
            [
             0.8888888888888888,
             "#fdca26"
            ],
            [
             1,
             "#f0f921"
            ]
           ]
          },
          "colorway": [
           "#636efa",
           "#EF553B",
           "#00cc96",
           "#ab63fa",
           "#FFA15A",
           "#19d3f3",
           "#FF6692",
           "#B6E880",
           "#FF97FF",
           "#FECB52"
          ],
          "font": {
           "color": "#2a3f5f"
          },
          "geo": {
           "bgcolor": "white",
           "lakecolor": "white",
           "landcolor": "#E5ECF6",
           "showlakes": true,
           "showland": true,
           "subunitcolor": "white"
          },
          "hoverlabel": {
           "align": "left"
          },
          "hovermode": "closest",
          "mapbox": {
           "style": "light"
          },
          "paper_bgcolor": "white",
          "plot_bgcolor": "#E5ECF6",
          "polar": {
           "angularaxis": {
            "gridcolor": "white",
            "linecolor": "white",
            "ticks": ""
           },
           "bgcolor": "#E5ECF6",
           "radialaxis": {
            "gridcolor": "white",
            "linecolor": "white",
            "ticks": ""
           }
          },
          "scene": {
           "xaxis": {
            "backgroundcolor": "#E5ECF6",
            "gridcolor": "white",
            "gridwidth": 2,
            "linecolor": "white",
            "showbackground": true,
            "ticks": "",
            "zerolinecolor": "white"
           },
           "yaxis": {
            "backgroundcolor": "#E5ECF6",
            "gridcolor": "white",
            "gridwidth": 2,
            "linecolor": "white",
            "showbackground": true,
            "ticks": "",
            "zerolinecolor": "white"
           },
           "zaxis": {
            "backgroundcolor": "#E5ECF6",
            "gridcolor": "white",
            "gridwidth": 2,
            "linecolor": "white",
            "showbackground": true,
            "ticks": "",
            "zerolinecolor": "white"
           }
          },
          "shapedefaults": {
           "line": {
            "color": "#2a3f5f"
           }
          },
          "ternary": {
           "aaxis": {
            "gridcolor": "white",
            "linecolor": "white",
            "ticks": ""
           },
           "baxis": {
            "gridcolor": "white",
            "linecolor": "white",
            "ticks": ""
           },
           "bgcolor": "#E5ECF6",
           "caxis": {
            "gridcolor": "white",
            "linecolor": "white",
            "ticks": ""
           }
          },
          "title": {
           "x": 0.05
          },
          "xaxis": {
           "automargin": true,
           "gridcolor": "white",
           "linecolor": "white",
           "ticks": "",
           "title": {
            "standoff": 15
           },
           "zerolinecolor": "white",
           "zerolinewidth": 2
          },
          "yaxis": {
           "automargin": true,
           "gridcolor": "white",
           "linecolor": "white",
           "ticks": "",
           "title": {
            "standoff": 15
           },
           "zerolinecolor": "white",
           "zerolinewidth": 2
          }
         }
        },
        "title": {
         "font": {
          "color": "blue",
          "size": 18
         },
         "text": "Comparaison des moyennes par variable des clusters",
         "x": 0.5,
         "xanchor": "center",
         "y": 0.95,
         "yanchor": "top"
        }
       }
      },
      "text/html": [
       "<div>                            <div id=\"f6c69d32-7eb6-428f-b706-952f7b4ba63e\" class=\"plotly-graph-div\" style=\"height:525px; width:100%;\"></div>            <script type=\"text/javascript\">                require([\"plotly\"], function(Plotly) {                    window.PLOTLYENV=window.PLOTLYENV || {};                                    if (document.getElementById(\"f6c69d32-7eb6-428f-b706-952f7b4ba63e\")) {                    Plotly.newPlot(                        \"f6c69d32-7eb6-428f-b706-952f7b4ba63e\",                        [{\"fill\":\"toself\",\"name\":\"Cluster 0\",\"r\":[0.04187432437492511,0.9545258710571196,0.0,0.5525337986291128,0.06091176043541413,0.15993524854653485,0.4692628887039527,0.8026445781259781],\"theta\":[\"payment_value\",\"review_score\",\"payment_installments\",\"order_purchase_hour\",\"freight_value\",\"payment_sequential\",\"distance_from_olist\",\"delais_de_livraison\"],\"type\":\"scatterpolar\"},{\"fill\":\"toself\",\"name\":\"Cluster 1\",\"r\":[0.9999999999999998,0.0,1.0,0.7629779013991502,1.0,1.0,1.0,0.0],\"theta\":[\"payment_value\",\"review_score\",\"payment_installments\",\"order_purchase_hour\",\"freight_value\",\"payment_sequential\",\"distance_from_olist\",\"delais_de_livraison\"],\"type\":\"scatterpolar\"},{\"fill\":\"toself\",\"name\":\"Cluster 2\",\"r\":[0.0,1.0,0.030110763309533883,1.0,0.0,0.0,0.0,0.6890645330046397],\"theta\":[\"payment_value\",\"review_score\",\"payment_installments\",\"order_purchase_hour\",\"freight_value\",\"payment_sequential\",\"distance_from_olist\",\"delais_de_livraison\"],\"type\":\"scatterpolar\"},{\"fill\":\"toself\",\"name\":\"Cluster 3\",\"r\":[0.043930490883955065,0.8506269646689214,0.4795803632004345,0.0,0.2817306322845803,0.572672364543036,0.8483162499124202,0.8966327191399586],\"theta\":[\"payment_value\",\"review_score\",\"payment_installments\",\"order_purchase_hour\",\"freight_value\",\"payment_sequential\",\"distance_from_olist\",\"delais_de_livraison\"],\"type\":\"scatterpolar\"},{\"fill\":\"toself\",\"name\":\"Cluster 4\",\"r\":[0.1289475283852508,0.6329347890904528,0.217668187003341,0.8858741371525307,0.24880469919168569,0.18520037850501403,0.5838952938351678,1.0],\"theta\":[\"payment_value\",\"review_score\",\"payment_installments\",\"order_purchase_hour\",\"freight_value\",\"payment_sequential\",\"distance_from_olist\",\"delais_de_livraison\"],\"type\":\"scatterpolar\"}],                        {\"template\":{\"data\":{\"bar\":[{\"error_x\":{\"color\":\"#2a3f5f\"},\"error_y\":{\"color\":\"#2a3f5f\"},\"marker\":{\"line\":{\"color\":\"#E5ECF6\",\"width\":0.5},\"pattern\":{\"fillmode\":\"overlay\",\"size\":10,\"solidity\":0.2}},\"type\":\"bar\"}],\"barpolar\":[{\"marker\":{\"line\":{\"color\":\"#E5ECF6\",\"width\":0.5},\"pattern\":{\"fillmode\":\"overlay\",\"size\":10,\"solidity\":0.2}},\"type\":\"barpolar\"}],\"carpet\":[{\"aaxis\":{\"endlinecolor\":\"#2a3f5f\",\"gridcolor\":\"white\",\"linecolor\":\"white\",\"minorgridcolor\":\"white\",\"startlinecolor\":\"#2a3f5f\"},\"baxis\":{\"endlinecolor\":\"#2a3f5f\",\"gridcolor\":\"white\",\"linecolor\":\"white\",\"minorgridcolor\":\"white\",\"startlinecolor\":\"#2a3f5f\"},\"type\":\"carpet\"}],\"choropleth\":[{\"colorbar\":{\"outlinewidth\":0,\"ticks\":\"\"},\"type\":\"choropleth\"}],\"contour\":[{\"colorbar\":{\"outlinewidth\":0,\"ticks\":\"\"},\"colorscale\":[[0.0,\"#0d0887\"],[0.1111111111111111,\"#46039f\"],[0.2222222222222222,\"#7201a8\"],[0.3333333333333333,\"#9c179e\"],[0.4444444444444444,\"#bd3786\"],[0.5555555555555556,\"#d8576b\"],[0.6666666666666666,\"#ed7953\"],[0.7777777777777778,\"#fb9f3a\"],[0.8888888888888888,\"#fdca26\"],[1.0,\"#f0f921\"]],\"type\":\"contour\"}],\"contourcarpet\":[{\"colorbar\":{\"outlinewidth\":0,\"ticks\":\"\"},\"type\":\"contourcarpet\"}],\"heatmap\":[{\"colorbar\":{\"outlinewidth\":0,\"ticks\":\"\"},\"colorscale\":[[0.0,\"#0d0887\"],[0.1111111111111111,\"#46039f\"],[0.2222222222222222,\"#7201a8\"],[0.3333333333333333,\"#9c179e\"],[0.4444444444444444,\"#bd3786\"],[0.5555555555555556,\"#d8576b\"],[0.6666666666666666,\"#ed7953\"],[0.7777777777777778,\"#fb9f3a\"],[0.8888888888888888,\"#fdca26\"],[1.0,\"#f0f921\"]],\"type\":\"heatmap\"}],\"heatmapgl\":[{\"colorbar\":{\"outlinewidth\":0,\"ticks\":\"\"},\"colorscale\":[[0.0,\"#0d0887\"],[0.1111111111111111,\"#46039f\"],[0.2222222222222222,\"#7201a8\"],[0.3333333333333333,\"#9c179e\"],[0.4444444444444444,\"#bd3786\"],[0.5555555555555556,\"#d8576b\"],[0.6666666666666666,\"#ed7953\"],[0.7777777777777778,\"#fb9f3a\"],[0.8888888888888888,\"#fdca26\"],[1.0,\"#f0f921\"]],\"type\":\"heatmapgl\"}],\"histogram\":[{\"marker\":{\"pattern\":{\"fillmode\":\"overlay\",\"size\":10,\"solidity\":0.2}},\"type\":\"histogram\"}],\"histogram2d\":[{\"colorbar\":{\"outlinewidth\":0,\"ticks\":\"\"},\"colorscale\":[[0.0,\"#0d0887\"],[0.1111111111111111,\"#46039f\"],[0.2222222222222222,\"#7201a8\"],[0.3333333333333333,\"#9c179e\"],[0.4444444444444444,\"#bd3786\"],[0.5555555555555556,\"#d8576b\"],[0.6666666666666666,\"#ed7953\"],[0.7777777777777778,\"#fb9f3a\"],[0.8888888888888888,\"#fdca26\"],[1.0,\"#f0f921\"]],\"type\":\"histogram2d\"}],\"histogram2dcontour\":[{\"colorbar\":{\"outlinewidth\":0,\"ticks\":\"\"},\"colorscale\":[[0.0,\"#0d0887\"],[0.1111111111111111,\"#46039f\"],[0.2222222222222222,\"#7201a8\"],[0.3333333333333333,\"#9c179e\"],[0.4444444444444444,\"#bd3786\"],[0.5555555555555556,\"#d8576b\"],[0.6666666666666666,\"#ed7953\"],[0.7777777777777778,\"#fb9f3a\"],[0.8888888888888888,\"#fdca26\"],[1.0,\"#f0f921\"]],\"type\":\"histogram2dcontour\"}],\"mesh3d\":[{\"colorbar\":{\"outlinewidth\":0,\"ticks\":\"\"},\"type\":\"mesh3d\"}],\"parcoords\":[{\"line\":{\"colorbar\":{\"outlinewidth\":0,\"ticks\":\"\"}},\"type\":\"parcoords\"}],\"pie\":[{\"automargin\":true,\"type\":\"pie\"}],\"scatter\":[{\"marker\":{\"colorbar\":{\"outlinewidth\":0,\"ticks\":\"\"}},\"type\":\"scatter\"}],\"scatter3d\":[{\"line\":{\"colorbar\":{\"outlinewidth\":0,\"ticks\":\"\"}},\"marker\":{\"colorbar\":{\"outlinewidth\":0,\"ticks\":\"\"}},\"type\":\"scatter3d\"}],\"scattercarpet\":[{\"marker\":{\"colorbar\":{\"outlinewidth\":0,\"ticks\":\"\"}},\"type\":\"scattercarpet\"}],\"scattergeo\":[{\"marker\":{\"colorbar\":{\"outlinewidth\":0,\"ticks\":\"\"}},\"type\":\"scattergeo\"}],\"scattergl\":[{\"marker\":{\"colorbar\":{\"outlinewidth\":0,\"ticks\":\"\"}},\"type\":\"scattergl\"}],\"scattermapbox\":[{\"marker\":{\"colorbar\":{\"outlinewidth\":0,\"ticks\":\"\"}},\"type\":\"scattermapbox\"}],\"scatterpolar\":[{\"marker\":{\"colorbar\":{\"outlinewidth\":0,\"ticks\":\"\"}},\"type\":\"scatterpolar\"}],\"scatterpolargl\":[{\"marker\":{\"colorbar\":{\"outlinewidth\":0,\"ticks\":\"\"}},\"type\":\"scatterpolargl\"}],\"scatterternary\":[{\"marker\":{\"colorbar\":{\"outlinewidth\":0,\"ticks\":\"\"}},\"type\":\"scatterternary\"}],\"surface\":[{\"colorbar\":{\"outlinewidth\":0,\"ticks\":\"\"},\"colorscale\":[[0.0,\"#0d0887\"],[0.1111111111111111,\"#46039f\"],[0.2222222222222222,\"#7201a8\"],[0.3333333333333333,\"#9c179e\"],[0.4444444444444444,\"#bd3786\"],[0.5555555555555556,\"#d8576b\"],[0.6666666666666666,\"#ed7953\"],[0.7777777777777778,\"#fb9f3a\"],[0.8888888888888888,\"#fdca26\"],[1.0,\"#f0f921\"]],\"type\":\"surface\"}],\"table\":[{\"cells\":{\"fill\":{\"color\":\"#EBF0F8\"},\"line\":{\"color\":\"white\"}},\"header\":{\"fill\":{\"color\":\"#C8D4E3\"},\"line\":{\"color\":\"white\"}},\"type\":\"table\"}]},\"layout\":{\"annotationdefaults\":{\"arrowcolor\":\"#2a3f5f\",\"arrowhead\":0,\"arrowwidth\":1},\"autotypenumbers\":\"strict\",\"coloraxis\":{\"colorbar\":{\"outlinewidth\":0,\"ticks\":\"\"}},\"colorscale\":{\"diverging\":[[0,\"#8e0152\"],[0.1,\"#c51b7d\"],[0.2,\"#de77ae\"],[0.3,\"#f1b6da\"],[0.4,\"#fde0ef\"],[0.5,\"#f7f7f7\"],[0.6,\"#e6f5d0\"],[0.7,\"#b8e186\"],[0.8,\"#7fbc41\"],[0.9,\"#4d9221\"],[1,\"#276419\"]],\"sequential\":[[0.0,\"#0d0887\"],[0.1111111111111111,\"#46039f\"],[0.2222222222222222,\"#7201a8\"],[0.3333333333333333,\"#9c179e\"],[0.4444444444444444,\"#bd3786\"],[0.5555555555555556,\"#d8576b\"],[0.6666666666666666,\"#ed7953\"],[0.7777777777777778,\"#fb9f3a\"],[0.8888888888888888,\"#fdca26\"],[1.0,\"#f0f921\"]],\"sequentialminus\":[[0.0,\"#0d0887\"],[0.1111111111111111,\"#46039f\"],[0.2222222222222222,\"#7201a8\"],[0.3333333333333333,\"#9c179e\"],[0.4444444444444444,\"#bd3786\"],[0.5555555555555556,\"#d8576b\"],[0.6666666666666666,\"#ed7953\"],[0.7777777777777778,\"#fb9f3a\"],[0.8888888888888888,\"#fdca26\"],[1.0,\"#f0f921\"]]},\"colorway\":[\"#636efa\",\"#EF553B\",\"#00cc96\",\"#ab63fa\",\"#FFA15A\",\"#19d3f3\",\"#FF6692\",\"#B6E880\",\"#FF97FF\",\"#FECB52\"],\"font\":{\"color\":\"#2a3f5f\"},\"geo\":{\"bgcolor\":\"white\",\"lakecolor\":\"white\",\"landcolor\":\"#E5ECF6\",\"showlakes\":true,\"showland\":true,\"subunitcolor\":\"white\"},\"hoverlabel\":{\"align\":\"left\"},\"hovermode\":\"closest\",\"mapbox\":{\"style\":\"light\"},\"paper_bgcolor\":\"white\",\"plot_bgcolor\":\"#E5ECF6\",\"polar\":{\"angularaxis\":{\"gridcolor\":\"white\",\"linecolor\":\"white\",\"ticks\":\"\"},\"bgcolor\":\"#E5ECF6\",\"radialaxis\":{\"gridcolor\":\"white\",\"linecolor\":\"white\",\"ticks\":\"\"}},\"scene\":{\"xaxis\":{\"backgroundcolor\":\"#E5ECF6\",\"gridcolor\":\"white\",\"gridwidth\":2,\"linecolor\":\"white\",\"showbackground\":true,\"ticks\":\"\",\"zerolinecolor\":\"white\"},\"yaxis\":{\"backgroundcolor\":\"#E5ECF6\",\"gridcolor\":\"white\",\"gridwidth\":2,\"linecolor\":\"white\",\"showbackground\":true,\"ticks\":\"\",\"zerolinecolor\":\"white\"},\"zaxis\":{\"backgroundcolor\":\"#E5ECF6\",\"gridcolor\":\"white\",\"gridwidth\":2,\"linecolor\":\"white\",\"showbackground\":true,\"ticks\":\"\",\"zerolinecolor\":\"white\"}},\"shapedefaults\":{\"line\":{\"color\":\"#2a3f5f\"}},\"ternary\":{\"aaxis\":{\"gridcolor\":\"white\",\"linecolor\":\"white\",\"ticks\":\"\"},\"baxis\":{\"gridcolor\":\"white\",\"linecolor\":\"white\",\"ticks\":\"\"},\"bgcolor\":\"#E5ECF6\",\"caxis\":{\"gridcolor\":\"white\",\"linecolor\":\"white\",\"ticks\":\"\"}},\"title\":{\"x\":0.05},\"xaxis\":{\"automargin\":true,\"gridcolor\":\"white\",\"linecolor\":\"white\",\"ticks\":\"\",\"title\":{\"standoff\":15},\"zerolinecolor\":\"white\",\"zerolinewidth\":2},\"yaxis\":{\"automargin\":true,\"gridcolor\":\"white\",\"linecolor\":\"white\",\"ticks\":\"\",\"title\":{\"standoff\":15},\"zerolinecolor\":\"white\",\"zerolinewidth\":2}}},\"polar\":{\"radialaxis\":{\"visible\":true,\"range\":[0,1]}},\"title\":{\"font\":{\"color\":\"blue\",\"size\":18},\"text\":\"Comparaison des moyennes par variable des clusters\",\"y\":0.95,\"x\":0.5,\"xanchor\":\"center\",\"yanchor\":\"top\"},\"showlegend\":true},                        {\"responsive\": true}                    ).then(function(){\n",
       "                            \n",
       "var gd = document.getElementById('f6c69d32-7eb6-428f-b706-952f7b4ba63e');\n",
       "var x = new MutationObserver(function (mutations, observer) {{\n",
       "        var display = window.getComputedStyle(gd).display;\n",
       "        if (!display || display === 'none') {{\n",
       "            console.log([gd, 'removed!']);\n",
       "            Plotly.purge(gd);\n",
       "            observer.disconnect();\n",
       "        }}\n",
       "}});\n",
       "\n",
       "// Listen for the removal of the full notebook cells\n",
       "var notebookContainer = gd.closest('#notebook-container');\n",
       "if (notebookContainer) {{\n",
       "    x.observe(notebookContainer, {childList: true});\n",
       "}}\n",
       "\n",
       "// Listen for the clearing of the current output cell\n",
       "var outputEl = gd.closest('.output');\n",
       "if (outputEl) {{\n",
       "    x.observe(outputEl, {childList: true});\n",
       "}}\n",
       "\n",
       "                        })                };                });            </script>        </div>"
      ]
     },
     "metadata": {},
     "output_type": "display_data"
    }
   ],
   "source": [
    "plot_radars(data=X_scaled_clusters_pca.iloc[:,:-1],\n",
    "            group=\"kmeans_label_pca\")"
   ]
  },
  {
   "cell_type": "code",
   "execution_count": 246,
   "id": "4d9ee465",
   "metadata": {
    "ExecuteTime": {
     "end_time": "2022-08-30T02:21:46.067841Z",
     "start_time": "2022-08-30T02:16:26.937547Z"
    }
   },
   "outputs": [
    {
     "data": {
      "text/plain": [
       "5"
      ]
     },
     "execution_count": 246,
     "metadata": {},
     "output_type": "execute_result"
    },
    {
     "data": {
      "image/png": "[encoded data removed]",
      "text/plain": [
       "<Figure size 1728x576 with 3 Axes>"
      ]
     },
     "metadata": {},
     "output_type": "display_data"
    }
   ],
   "source": [
    "clustering_eval(preprocessor=MinMaxScaler(), \n",
    "                model=KMeans(), \n",
    "                data=X_projected[:,:2], \n",
    "                metric=\"distortion\",\n",
    "                elbow=False,\n",
    "                mds=True,\n",
    "                KBest=K)"
   ]
  },
  {
   "cell_type": "markdown",
   "id": "3fbd1359",
   "metadata": {},
   "source": [
    "On remarque donc ici que la réduction de dimenssion offre les mêmes axes de segmentation. Il est donc possible de réduire le nombre de features en entrée et d'utiliser les variables synthétiques de la PCA pour segmenter notre fichier client, ce d'autant que les scores silhouette sont ici meilleurs comparés au données brutes."
   ]
  },
  {
   "cell_type": "code",
   "execution_count": null,
   "id": "7ecd71db",
   "metadata": {},
   "outputs": [],
   "source": []
  },
  {
   "cell_type": "code",
   "execution_count": null,
   "id": "1e8127e8",
   "metadata": {},
   "outputs": [],
   "source": []
  },
  {
   "cell_type": "code",
   "execution_count": null,
   "id": "bb3e530d",
   "metadata": {},
   "outputs": [],
   "source": []
  },
  {
   "cell_type": "code",
   "execution_count": null,
   "id": "2034646b",
   "metadata": {},
   "outputs": [],
   "source": []
  },
  {
   "cell_type": "code",
   "execution_count": null,
   "id": "b1f0b3dc",
   "metadata": {},
   "outputs": [],
   "source": []
  }
 ],
 "metadata": {
  "kernelspec": {
   "display_name": "Python 3 (ipykernel)",
   "language": "python",
   "name": "python3"
  },
  "language_info": {
   "codemirror_mode": {
    "name": "ipython",
    "version": 3
   },
   "file_extension": ".py",
   "mimetype": "text/x-python",
   "name": "python",
   "nbconvert_exporter": "python",
   "pygments_lexer": "ipython3",
   "version": "3.9.12"
  }
 },
 "nbformat": 4,
 "nbformat_minor": 5
}
